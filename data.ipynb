{
 "cells": [
  {
   "cell_type": "code",
   "execution_count": 1,
   "metadata": {},
   "outputs": [],
   "source": [
    "import pandas as pd\n",
    "import plotly.express as px"
   ]
  },
  {
   "cell_type": "code",
   "execution_count": 2,
   "metadata": {},
   "outputs": [
    {
     "name": "stderr",
     "output_type": "stream",
     "text": [
      "c:\\Python\\Python311\\Lib\\site-packages\\openpyxl\\styles\\stylesheet.py:226: UserWarning: Workbook contains no default style, apply openpyxl's default\n",
      "  warn(\"Workbook contains no default style, apply openpyxl's default\")\n"
     ]
    }
   ],
   "source": [
    "AccIntFijXVelBajProv = pd.read_excel('AccesosaInternetfijoporvelocidadbajadayprovincia_2791741699033306777.xlsx')"
   ]
  },
  {
   "cell_type": "code",
   "execution_count": 3,
   "metadata": {},
   "outputs": [
    {
     "data": {
      "text/html": [
       "<div>\n",
       "<style scoped>\n",
       "    .dataframe tbody tr th:only-of-type {\n",
       "        vertical-align: middle;\n",
       "    }\n",
       "\n",
       "    .dataframe tbody tr th {\n",
       "        vertical-align: top;\n",
       "    }\n",
       "\n",
       "    .dataframe thead th {\n",
       "        text-align: right;\n",
       "    }\n",
       "</style>\n",
       "<table border=\"1\" class=\"dataframe\">\n",
       "  <thead>\n",
       "    <tr style=\"text-align: right;\">\n",
       "      <th></th>\n",
       "      <th>Año</th>\n",
       "      <th>Trimestre</th>\n",
       "      <th>Provincia</th>\n",
       "      <th>Otros</th>\n",
       "      <th>0,256 Mbps</th>\n",
       "      <th>0,375 Mbps</th>\n",
       "      <th>0,625 Mbps</th>\n",
       "      <th>0,5 Mbps</th>\n",
       "      <th>0,512 Mbps</th>\n",
       "      <th>0,75 Mbps</th>\n",
       "      <th>...</th>\n",
       "      <th>63 Mbps</th>\n",
       "      <th>64 Mbps</th>\n",
       "      <th>65 Mbps</th>\n",
       "      <th>66 Mbps</th>\n",
       "      <th>67 Mbps</th>\n",
       "      <th>68 Mbps</th>\n",
       "      <th>70 Mbps</th>\n",
       "      <th>71 Mbps</th>\n",
       "      <th>75 Mbps</th>\n",
       "      <th>77 Mbps</th>\n",
       "    </tr>\n",
       "  </thead>\n",
       "  <tbody>\n",
       "    <tr>\n",
       "      <th>0</th>\n",
       "      <td>2022.0</td>\n",
       "      <td>4.0</td>\n",
       "      <td>Buenos Aires</td>\n",
       "      <td>97.634</td>\n",
       "      <td>18</td>\n",
       "      <td>- 0</td>\n",
       "      <td>- 0</td>\n",
       "      <td>28.724</td>\n",
       "      <td>192</td>\n",
       "      <td>4.611</td>\n",
       "      <td>...</td>\n",
       "      <td>- 0</td>\n",
       "      <td>- 0</td>\n",
       "      <td>14</td>\n",
       "      <td>- 0</td>\n",
       "      <td>- 0</td>\n",
       "      <td>- 0</td>\n",
       "      <td>5.655</td>\n",
       "      <td>- 0</td>\n",
       "      <td>90.796</td>\n",
       "      <td>- 0</td>\n",
       "    </tr>\n",
       "    <tr>\n",
       "      <th>1</th>\n",
       "      <td>2022.0</td>\n",
       "      <td>4.0</td>\n",
       "      <td>Capital Federal</td>\n",
       "      <td>106.772</td>\n",
       "      <td>31</td>\n",
       "      <td>- 0</td>\n",
       "      <td>- 0</td>\n",
       "      <td>451.000</td>\n",
       "      <td>34</td>\n",
       "      <td>1.307</td>\n",
       "      <td>...</td>\n",
       "      <td>- 0</td>\n",
       "      <td>- 0</td>\n",
       "      <td>- 0</td>\n",
       "      <td>1</td>\n",
       "      <td>- 0</td>\n",
       "      <td>- 0</td>\n",
       "      <td>15</td>\n",
       "      <td>- 0</td>\n",
       "      <td>28.406</td>\n",
       "      <td>- 0</td>\n",
       "    </tr>\n",
       "    <tr>\n",
       "      <th>2</th>\n",
       "      <td>2022.0</td>\n",
       "      <td>4.0</td>\n",
       "      <td>Catamarca</td>\n",
       "      <td>2.280</td>\n",
       "      <td>- 0</td>\n",
       "      <td>- 0</td>\n",
       "      <td>- 0</td>\n",
       "      <td>34.000</td>\n",
       "      <td>37</td>\n",
       "      <td>- 0</td>\n",
       "      <td>...</td>\n",
       "      <td>- 0</td>\n",
       "      <td>- 0</td>\n",
       "      <td>- 0</td>\n",
       "      <td>- 0</td>\n",
       "      <td>- 0</td>\n",
       "      <td>- 0</td>\n",
       "      <td>- 0</td>\n",
       "      <td>- 0</td>\n",
       "      <td>- 0</td>\n",
       "      <td>- 0</td>\n",
       "    </tr>\n",
       "    <tr>\n",
       "      <th>3</th>\n",
       "      <td>2022.0</td>\n",
       "      <td>4.0</td>\n",
       "      <td>Chaco</td>\n",
       "      <td>3.909</td>\n",
       "      <td>- 0</td>\n",
       "      <td>225</td>\n",
       "      <td>111</td>\n",
       "      <td>234.000</td>\n",
       "      <td>2</td>\n",
       "      <td>- 0</td>\n",
       "      <td>...</td>\n",
       "      <td>- 0</td>\n",
       "      <td>- 0</td>\n",
       "      <td>- 0</td>\n",
       "      <td>- 0</td>\n",
       "      <td>- 0</td>\n",
       "      <td>- 0</td>\n",
       "      <td>- 0</td>\n",
       "      <td>- 0</td>\n",
       "      <td>- 0</td>\n",
       "      <td>- 0</td>\n",
       "    </tr>\n",
       "    <tr>\n",
       "      <th>4</th>\n",
       "      <td>2022.0</td>\n",
       "      <td>4.0</td>\n",
       "      <td>Chubut</td>\n",
       "      <td>20.026</td>\n",
       "      <td>8</td>\n",
       "      <td>- 0</td>\n",
       "      <td>- 0</td>\n",
       "      <td>69.000</td>\n",
       "      <td>32</td>\n",
       "      <td>836</td>\n",
       "      <td>...</td>\n",
       "      <td>- 0</td>\n",
       "      <td>- 0</td>\n",
       "      <td>- 0</td>\n",
       "      <td>- 0</td>\n",
       "      <td>- 0</td>\n",
       "      <td>- 0</td>\n",
       "      <td>- 0</td>\n",
       "      <td>- 0</td>\n",
       "      <td>- 0</td>\n",
       "      <td>- 0</td>\n",
       "    </tr>\n",
       "  </tbody>\n",
       "</table>\n",
       "<p>5 rows × 97 columns</p>\n",
       "</div>"
      ],
      "text/plain": [
       "      Año  Trimestre        Provincia    Otros 0,256 Mbps 0,375 Mbps  \\\n",
       "0  2022.0        4.0     Buenos Aires   97.634         18        - 0   \n",
       "1  2022.0        4.0  Capital Federal  106.772         31        - 0   \n",
       "2  2022.0        4.0        Catamarca    2.280        - 0        - 0   \n",
       "3  2022.0        4.0            Chaco    3.909        - 0        225   \n",
       "4  2022.0        4.0           Chubut   20.026          8        - 0   \n",
       "\n",
       "  0,625 Mbps  0,5 Mbps 0,512 Mbps 0,75 Mbps  ... 63 Mbps 64 Mbps 65 Mbps  \\\n",
       "0        - 0    28.724        192     4.611  ...     - 0     - 0      14   \n",
       "1        - 0   451.000         34     1.307  ...     - 0     - 0     - 0   \n",
       "2        - 0    34.000         37       - 0  ...     - 0     - 0     - 0   \n",
       "3        111   234.000          2       - 0  ...     - 0     - 0     - 0   \n",
       "4        - 0    69.000         32       836  ...     - 0     - 0     - 0   \n",
       "\n",
       "  66 Mbps 67 Mbps 68 Mbps 70 Mbps 71 Mbps  75 Mbps 77 Mbps  \n",
       "0     - 0     - 0     - 0   5.655     - 0   90.796     - 0  \n",
       "1       1     - 0     - 0      15     - 0   28.406     - 0  \n",
       "2     - 0     - 0     - 0     - 0     - 0      - 0     - 0  \n",
       "3     - 0     - 0     - 0     - 0     - 0      - 0     - 0  \n",
       "4     - 0     - 0     - 0     - 0     - 0      - 0     - 0  \n",
       "\n",
       "[5 rows x 97 columns]"
      ]
     },
     "execution_count": 3,
     "metadata": {},
     "output_type": "execute_result"
    }
   ],
   "source": [
    "AccIntFijXVelBajProv.head()"
   ]
  },
  {
   "cell_type": "code",
   "execution_count": 4,
   "metadata": {},
   "outputs": [],
   "source": [
    "AccIntFijXVelBajProv = AccIntFijXVelBajProv.drop_duplicates()"
   ]
  },
  {
   "cell_type": "code",
   "execution_count": 5,
   "metadata": {},
   "outputs": [],
   "source": [
    "AccIntFijXVelBajProv = AccIntFijXVelBajProv.drop(504)"
   ]
  },
  {
   "cell_type": "code",
   "execution_count": 6,
   "metadata": {},
   "outputs": [
    {
     "name": "stdout",
     "output_type": "stream",
     "text": [
      "<class 'pandas.core.frame.DataFrame'>\n",
      "RangeIndex: 504 entries, 0 to 503\n",
      "Data columns (total 97 columns):\n",
      " #   Column      Non-Null Count  Dtype  \n",
      "---  ------      --------------  -----  \n",
      " 0   Año         504 non-null    float64\n",
      " 1   Trimestre   504 non-null    float64\n",
      " 2   Provincia   504 non-null    object \n",
      " 3   Otros       504 non-null    object \n",
      " 4   0,256 Mbps  504 non-null    object \n",
      " 5   0,375 Mbps  504 non-null    object \n",
      " 6   0,625 Mbps  504 non-null    object \n",
      " 7   0,5 Mbps    504 non-null    float64\n",
      " 8   0,512 Mbps  504 non-null    object \n",
      " 9   0,75 Mbps   504 non-null    object \n",
      " 10  1 Mbps      504 non-null    object \n",
      " 11  1,2 Mbps    504 non-null    object \n",
      " 12  1,25 Mbps   504 non-null    object \n",
      " 13  1,5 Mbps    504 non-null    object \n",
      " 14  2 Mbps      504 non-null    object \n",
      " 15  2,2 Mbps    504 non-null    object \n",
      " 16  2,5 Mbps    504 non-null    object \n",
      " 17  6,7 Mbps    504 non-null    object \n",
      " 18  3 Mbps      504 non-null    float64\n",
      " 19  3,2 Mbps    504 non-null    object \n",
      " 20  3,3 Mbps    504 non-null    object \n",
      " 21  3,5 Mbps    504 non-null    object \n",
      " 22  4 Mbps      504 non-null    object \n",
      " 23  4,5 Mbps    504 non-null    object \n",
      " 24  5 Mbps      504 non-null    object \n",
      " 25  6 Mbps      504 non-null    object \n",
      " 26  6,4 Mbps    504 non-null    object \n",
      " 27  7 Mbps      504 non-null    object \n",
      " 28  7,5 Mbps    504 non-null    object \n",
      " 29  8 Mbps      504 non-null    object \n",
      " 30  9 Mbps      504 non-null    object \n",
      " 31  10 Mbps     504 non-null    float64\n",
      " 32  10,2 Mbps   504 non-null    object \n",
      " 33  10,6 Mbps   504 non-null    object \n",
      " 34  11 Mbps     504 non-null    object \n",
      " 35  12 Mbps     504 non-null    object \n",
      " 36  12,3 Mbps   504 non-null    object \n",
      " 37  13 Mbps     504 non-null    object \n",
      " 38  14 Mbps     504 non-null    object \n",
      " 39  15 Mbps     504 non-null    object \n",
      " 40  16 Mbps     504 non-null    object \n",
      " 41  17 Mbps     504 non-null    object \n",
      " 42  18 Mbps     504 non-null    object \n",
      " 43  19 Mbps     504 non-null    object \n",
      " 44  20 Mbps     504 non-null    object \n",
      " 45  20,5 Mbps   504 non-null    object \n",
      " 46  21 Mbps     504 non-null    object \n",
      " 47  22 Mbps     504 non-null    object \n",
      " 48  23 Mbps     504 non-null    object \n",
      " 49  24 Mbps     504 non-null    object \n",
      " 50  25 Mbps     504 non-null    object \n",
      " 51  25,1 Mbps   504 non-null    object \n",
      " 52  25,11 Mbps  504 non-null    object \n",
      " 53  25,5 Mbps   504 non-null    object \n",
      " 54  26 Mbps     504 non-null    object \n",
      " 55  27 Mbps     504 non-null    object \n",
      " 56  28 Mbps     504 non-null    object \n",
      " 57  29 Mbps     504 non-null    object \n",
      " 58  30 Mbps     504 non-null    object \n",
      " 59  31 Mbps     504 non-null    object \n",
      " 60  32 Mbps     504 non-null    object \n",
      " 61  34 Mbps     504 non-null    object \n",
      " 62  35 Mbps     504 non-null    object \n",
      " 63  36 Mbps     504 non-null    object \n",
      " 64  37 Mbps     504 non-null    object \n",
      " 65  38 Mbps     504 non-null    object \n",
      " 66  39 Mbps     504 non-null    object \n",
      " 67  40 Mbps     504 non-null    object \n",
      " 68  41 Mbps     504 non-null    object \n",
      " 69  45 Mbps     504 non-null    object \n",
      " 70  46 Mbps     504 non-null    object \n",
      " 71  47 Mbps     504 non-null    object \n",
      " 72  48 Mbps     504 non-null    object \n",
      " 73  49 Mbps     504 non-null    object \n",
      " 74  50 Mbps     504 non-null    object \n",
      " 75  50,1 Mbps   504 non-null    object \n",
      " 76  51 Mbps     504 non-null    object \n",
      " 77  50,25 Mbps  504 non-null    object \n",
      " 78  52 Mbps     504 non-null    object \n",
      " 79  54 Mbps     504 non-null    object \n",
      " 80  55 Mbps     504 non-null    object \n",
      " 81  56 Mbps     504 non-null    object \n",
      " 82  58 Mbps     504 non-null    object \n",
      " 83  59 Mbps     504 non-null    object \n",
      " 84  60 Mbps     504 non-null    object \n",
      " 85  61 Mbps     504 non-null    object \n",
      " 86  62 Mbps     504 non-null    object \n",
      " 87  63 Mbps     504 non-null    object \n",
      " 88  64 Mbps     504 non-null    object \n",
      " 89  65 Mbps     504 non-null    object \n",
      " 90  66 Mbps     504 non-null    object \n",
      " 91  67 Mbps     504 non-null    object \n",
      " 92  68 Mbps     504 non-null    object \n",
      " 93  70 Mbps     504 non-null    object \n",
      " 94  71 Mbps     504 non-null    object \n",
      " 95  75 Mbps     504 non-null    object \n",
      " 96  77 Mbps     504 non-null    object \n",
      "dtypes: float64(5), object(92)\n",
      "memory usage: 382.1+ KB\n"
     ]
    }
   ],
   "source": [
    "AccIntFijXVelBajProv.info()"
   ]
  },
  {
   "cell_type": "code",
   "execution_count": 7,
   "metadata": {},
   "outputs": [],
   "source": [
    "# Definir una función para reemplazar valores que comienzan con \"-\" por su equivalente sin el guion\n",
    "def replace_hyphen(cell):\n",
    "    if isinstance(cell, str) and cell.startswith('-'):\n",
    "        return cell[1:]\n",
    "    return cell\n",
    "\n",
    "# Aplicar la función a todas las columnas a partir de la tercera en adelante\n",
    "columns_to_check = AccIntFijXVelBajProv.columns[3:]  # Selecciona todas las columnas a partir de la tercera en adelante\n",
    "AccIntFijXVelBajProv[columns_to_check] = AccIntFijXVelBajProv[columns_to_check].applymap(replace_hyphen)\n"
   ]
  },
  {
   "cell_type": "code",
   "execution_count": 8,
   "metadata": {},
   "outputs": [],
   "source": [
    "# Obtén las columnas que deseas procesar\n",
    "columnas_a_procesar = AccIntFijXVelBajProv.columns[3:97]\n",
    "\n",
    "# Itera a través de las columnas y aplica la conversión a tipo float\n",
    "for columna in columnas_a_procesar:\n",
    "    AccIntFijXVelBajProv[columna] = AccIntFijXVelBajProv[columna].apply(lambda x: float(x.replace('.', '', 1)) if isinstance(x, str) and '.' in x and x.count('.') == 2 else float(x))\n"
   ]
  },
  {
   "cell_type": "code",
   "execution_count": 9,
   "metadata": {},
   "outputs": [
    {
     "name": "stdout",
     "output_type": "stream",
     "text": [
      "<class 'pandas.core.frame.DataFrame'>\n",
      "RangeIndex: 504 entries, 0 to 503\n",
      "Data columns (total 97 columns):\n",
      " #   Column      Non-Null Count  Dtype  \n",
      "---  ------      --------------  -----  \n",
      " 0   Año         504 non-null    float64\n",
      " 1   Trimestre   504 non-null    float64\n",
      " 2   Provincia   504 non-null    object \n",
      " 3   Otros       504 non-null    float64\n",
      " 4   0,256 Mbps  504 non-null    float64\n",
      " 5   0,375 Mbps  504 non-null    float64\n",
      " 6   0,625 Mbps  504 non-null    float64\n",
      " 7   0,5 Mbps    504 non-null    float64\n",
      " 8   0,512 Mbps  504 non-null    float64\n",
      " 9   0,75 Mbps   504 non-null    float64\n",
      " 10  1 Mbps      504 non-null    float64\n",
      " 11  1,2 Mbps    504 non-null    float64\n",
      " 12  1,25 Mbps   504 non-null    float64\n",
      " 13  1,5 Mbps    504 non-null    float64\n",
      " 14  2 Mbps      504 non-null    float64\n",
      " 15  2,2 Mbps    504 non-null    float64\n",
      " 16  2,5 Mbps    504 non-null    float64\n",
      " 17  6,7 Mbps    504 non-null    float64\n",
      " 18  3 Mbps      504 non-null    float64\n",
      " 19  3,2 Mbps    504 non-null    float64\n",
      " 20  3,3 Mbps    504 non-null    float64\n",
      " 21  3,5 Mbps    504 non-null    float64\n",
      " 22  4 Mbps      504 non-null    float64\n",
      " 23  4,5 Mbps    504 non-null    float64\n",
      " 24  5 Mbps      504 non-null    float64\n",
      " 25  6 Mbps      504 non-null    float64\n",
      " 26  6,4 Mbps    504 non-null    float64\n",
      " 27  7 Mbps      504 non-null    float64\n",
      " 28  7,5 Mbps    504 non-null    float64\n",
      " 29  8 Mbps      504 non-null    float64\n",
      " 30  9 Mbps      504 non-null    float64\n",
      " 31  10 Mbps     504 non-null    float64\n",
      " 32  10,2 Mbps   504 non-null    float64\n",
      " 33  10,6 Mbps   504 non-null    float64\n",
      " 34  11 Mbps     504 non-null    float64\n",
      " 35  12 Mbps     504 non-null    float64\n",
      " 36  12,3 Mbps   504 non-null    float64\n",
      " 37  13 Mbps     504 non-null    float64\n",
      " 38  14 Mbps     504 non-null    float64\n",
      " 39  15 Mbps     504 non-null    float64\n",
      " 40  16 Mbps     504 non-null    float64\n",
      " 41  17 Mbps     504 non-null    float64\n",
      " 42  18 Mbps     504 non-null    float64\n",
      " 43  19 Mbps     504 non-null    float64\n",
      " 44  20 Mbps     504 non-null    float64\n",
      " 45  20,5 Mbps   504 non-null    float64\n",
      " 46  21 Mbps     504 non-null    float64\n",
      " 47  22 Mbps     504 non-null    float64\n",
      " 48  23 Mbps     504 non-null    float64\n",
      " 49  24 Mbps     504 non-null    float64\n",
      " 50  25 Mbps     504 non-null    float64\n",
      " 51  25,1 Mbps   504 non-null    float64\n",
      " 52  25,11 Mbps  504 non-null    float64\n",
      " 53  25,5 Mbps   504 non-null    float64\n",
      " 54  26 Mbps     504 non-null    float64\n",
      " 55  27 Mbps     504 non-null    float64\n",
      " 56  28 Mbps     504 non-null    float64\n",
      " 57  29 Mbps     504 non-null    float64\n",
      " 58  30 Mbps     504 non-null    float64\n",
      " 59  31 Mbps     504 non-null    float64\n",
      " 60  32 Mbps     504 non-null    float64\n",
      " 61  34 Mbps     504 non-null    float64\n",
      " 62  35 Mbps     504 non-null    float64\n",
      " 63  36 Mbps     504 non-null    float64\n",
      " 64  37 Mbps     504 non-null    float64\n",
      " 65  38 Mbps     504 non-null    float64\n",
      " 66  39 Mbps     504 non-null    float64\n",
      " 67  40 Mbps     504 non-null    float64\n",
      " 68  41 Mbps     504 non-null    float64\n",
      " 69  45 Mbps     504 non-null    float64\n",
      " 70  46 Mbps     504 non-null    float64\n",
      " 71  47 Mbps     504 non-null    float64\n",
      " 72  48 Mbps     504 non-null    float64\n",
      " 73  49 Mbps     504 non-null    float64\n",
      " 74  50 Mbps     504 non-null    float64\n",
      " 75  50,1 Mbps   504 non-null    float64\n",
      " 76  51 Mbps     504 non-null    float64\n",
      " 77  50,25 Mbps  504 non-null    float64\n",
      " 78  52 Mbps     504 non-null    float64\n",
      " 79  54 Mbps     504 non-null    float64\n",
      " 80  55 Mbps     504 non-null    float64\n",
      " 81  56 Mbps     504 non-null    float64\n",
      " 82  58 Mbps     504 non-null    float64\n",
      " 83  59 Mbps     504 non-null    float64\n",
      " 84  60 Mbps     504 non-null    float64\n",
      " 85  61 Mbps     504 non-null    float64\n",
      " 86  62 Mbps     504 non-null    float64\n",
      " 87  63 Mbps     504 non-null    float64\n",
      " 88  64 Mbps     504 non-null    float64\n",
      " 89  65 Mbps     504 non-null    float64\n",
      " 90  66 Mbps     504 non-null    float64\n",
      " 91  67 Mbps     504 non-null    float64\n",
      " 92  68 Mbps     504 non-null    float64\n",
      " 93  70 Mbps     504 non-null    float64\n",
      " 94  71 Mbps     504 non-null    float64\n",
      " 95  75 Mbps     504 non-null    float64\n",
      " 96  77 Mbps     504 non-null    float64\n",
      "dtypes: float64(96), object(1)\n",
      "memory usage: 382.1+ KB\n"
     ]
    }
   ],
   "source": [
    "AccIntFijXVelBajProv.info()"
   ]
  },
  {
   "cell_type": "code",
   "execution_count": 10,
   "metadata": {},
   "outputs": [],
   "source": [
    "# Itera a través de las columnas y multiplica por 1000 solo si el valor es un número con decimales.\n",
    "for columna in columnas_a_procesar:\n",
    "    AccIntFijXVelBajProv[columna] = AccIntFijXVelBajProv[columna].apply(lambda x: x * 1000 if isinstance(x, float) and x % 1 != 0 else x)"
   ]
  },
  {
   "cell_type": "code",
   "execution_count": 11,
   "metadata": {},
   "outputs": [],
   "source": [
    "columnas_a_procesar = AccIntFijXVelBajProv.columns[3:97]\n",
    "# Convierte las columnas a tipo int64\n",
    "AccIntFijXVelBajProv[columnas_a_procesar] = AccIntFijXVelBajProv[columnas_a_procesar].astype('int64')"
   ]
  },
  {
   "cell_type": "code",
   "execution_count": 12,
   "metadata": {},
   "outputs": [],
   "source": [
    "columnas_a_procesar = AccIntFijXVelBajProv.columns[:2]\n",
    "# Convierte las columnas a tipo int64\n",
    "AccIntFijXVelBajProv[columnas_a_procesar] = AccIntFijXVelBajProv[columnas_a_procesar].astype('int64')"
   ]
  },
  {
   "cell_type": "code",
   "execution_count": 13,
   "metadata": {},
   "outputs": [],
   "source": [
    "# Suma las columnas desde la 3 hasta la 97 y crea una nueva columna llamada \"Total.\"\n",
    "AccIntFijXVelBajProv['total'] = AccIntFijXVelBajProv.iloc[:, 3:97].sum(axis=1)"
   ]
  },
  {
   "cell_type": "code",
   "execution_count": 14,
   "metadata": {},
   "outputs": [],
   "source": [
    "AccIntFijXVelBajProv = AccIntFijXVelBajProv[(AccIntFijXVelBajProv['Año'] != 2022) | (AccIntFijXVelBajProv['Trimestre'] != 4)]"
   ]
  },
  {
   "cell_type": "code",
   "execution_count": 15,
   "metadata": {},
   "outputs": [],
   "source": [
    "#AccIntFijXVelBajProv = AccIntFijXVelBajProv.drop(0)"
   ]
  },
  {
   "cell_type": "code",
   "execution_count": 16,
   "metadata": {},
   "outputs": [
    {
     "data": {
      "text/html": [
       "<div>\n",
       "<style scoped>\n",
       "    .dataframe tbody tr th:only-of-type {\n",
       "        vertical-align: middle;\n",
       "    }\n",
       "\n",
       "    .dataframe tbody tr th {\n",
       "        vertical-align: top;\n",
       "    }\n",
       "\n",
       "    .dataframe thead th {\n",
       "        text-align: right;\n",
       "    }\n",
       "</style>\n",
       "<table border=\"1\" class=\"dataframe\">\n",
       "  <thead>\n",
       "    <tr style=\"text-align: right;\">\n",
       "      <th></th>\n",
       "      <th>Año</th>\n",
       "      <th>Trimestre</th>\n",
       "      <th>Provincia</th>\n",
       "      <th>Otros</th>\n",
       "      <th>0,256 Mbps</th>\n",
       "      <th>0,375 Mbps</th>\n",
       "      <th>0,625 Mbps</th>\n",
       "      <th>0,5 Mbps</th>\n",
       "      <th>0,512 Mbps</th>\n",
       "      <th>0,75 Mbps</th>\n",
       "      <th>...</th>\n",
       "      <th>64 Mbps</th>\n",
       "      <th>65 Mbps</th>\n",
       "      <th>66 Mbps</th>\n",
       "      <th>67 Mbps</th>\n",
       "      <th>68 Mbps</th>\n",
       "      <th>70 Mbps</th>\n",
       "      <th>71 Mbps</th>\n",
       "      <th>75 Mbps</th>\n",
       "      <th>77 Mbps</th>\n",
       "      <th>total</th>\n",
       "    </tr>\n",
       "  </thead>\n",
       "  <tbody>\n",
       "    <tr>\n",
       "      <th>24</th>\n",
       "      <td>2022</td>\n",
       "      <td>3</td>\n",
       "      <td>Buenos Aires</td>\n",
       "      <td>97634</td>\n",
       "      <td>18</td>\n",
       "      <td>0</td>\n",
       "      <td>0</td>\n",
       "      <td>28724</td>\n",
       "      <td>192</td>\n",
       "      <td>4611</td>\n",
       "      <td>...</td>\n",
       "      <td>0</td>\n",
       "      <td>14</td>\n",
       "      <td>0</td>\n",
       "      <td>0</td>\n",
       "      <td>0</td>\n",
       "      <td>5655</td>\n",
       "      <td>0</td>\n",
       "      <td>90796</td>\n",
       "      <td>0</td>\n",
       "      <td>2757146</td>\n",
       "    </tr>\n",
       "    <tr>\n",
       "      <th>25</th>\n",
       "      <td>2022</td>\n",
       "      <td>3</td>\n",
       "      <td>Capital Federal</td>\n",
       "      <td>106772</td>\n",
       "      <td>31</td>\n",
       "      <td>0</td>\n",
       "      <td>0</td>\n",
       "      <td>451</td>\n",
       "      <td>34</td>\n",
       "      <td>1307</td>\n",
       "      <td>...</td>\n",
       "      <td>0</td>\n",
       "      <td>0</td>\n",
       "      <td>1</td>\n",
       "      <td>0</td>\n",
       "      <td>0</td>\n",
       "      <td>15</td>\n",
       "      <td>0</td>\n",
       "      <td>28406</td>\n",
       "      <td>0</td>\n",
       "      <td>516337</td>\n",
       "    </tr>\n",
       "    <tr>\n",
       "      <th>26</th>\n",
       "      <td>2022</td>\n",
       "      <td>3</td>\n",
       "      <td>Catamarca</td>\n",
       "      <td>2280</td>\n",
       "      <td>0</td>\n",
       "      <td>0</td>\n",
       "      <td>0</td>\n",
       "      <td>34</td>\n",
       "      <td>37</td>\n",
       "      <td>0</td>\n",
       "      <td>...</td>\n",
       "      <td>0</td>\n",
       "      <td>0</td>\n",
       "      <td>0</td>\n",
       "      <td>0</td>\n",
       "      <td>0</td>\n",
       "      <td>0</td>\n",
       "      <td>0</td>\n",
       "      <td>0</td>\n",
       "      <td>0</td>\n",
       "      <td>48558</td>\n",
       "    </tr>\n",
       "    <tr>\n",
       "      <th>27</th>\n",
       "      <td>2022</td>\n",
       "      <td>3</td>\n",
       "      <td>Chaco</td>\n",
       "      <td>3909</td>\n",
       "      <td>0</td>\n",
       "      <td>225</td>\n",
       "      <td>111</td>\n",
       "      <td>234</td>\n",
       "      <td>2</td>\n",
       "      <td>0</td>\n",
       "      <td>...</td>\n",
       "      <td>0</td>\n",
       "      <td>0</td>\n",
       "      <td>0</td>\n",
       "      <td>0</td>\n",
       "      <td>0</td>\n",
       "      <td>0</td>\n",
       "      <td>0</td>\n",
       "      <td>0</td>\n",
       "      <td>0</td>\n",
       "      <td>76365</td>\n",
       "    </tr>\n",
       "    <tr>\n",
       "      <th>28</th>\n",
       "      <td>2022</td>\n",
       "      <td>3</td>\n",
       "      <td>Chubut</td>\n",
       "      <td>20026</td>\n",
       "      <td>8</td>\n",
       "      <td>0</td>\n",
       "      <td>0</td>\n",
       "      <td>69</td>\n",
       "      <td>32</td>\n",
       "      <td>836</td>\n",
       "      <td>...</td>\n",
       "      <td>0</td>\n",
       "      <td>0</td>\n",
       "      <td>0</td>\n",
       "      <td>0</td>\n",
       "      <td>0</td>\n",
       "      <td>0</td>\n",
       "      <td>0</td>\n",
       "      <td>0</td>\n",
       "      <td>0</td>\n",
       "      <td>168208</td>\n",
       "    </tr>\n",
       "  </tbody>\n",
       "</table>\n",
       "<p>5 rows × 98 columns</p>\n",
       "</div>"
      ],
      "text/plain": [
       "     Año  Trimestre        Provincia   Otros  0,256 Mbps  0,375 Mbps  \\\n",
       "24  2022          3     Buenos Aires   97634          18           0   \n",
       "25  2022          3  Capital Federal  106772          31           0   \n",
       "26  2022          3        Catamarca    2280           0           0   \n",
       "27  2022          3            Chaco    3909           0         225   \n",
       "28  2022          3           Chubut   20026           8           0   \n",
       "\n",
       "    0,625 Mbps  0,5 Mbps  0,512 Mbps  0,75 Mbps  ...  64 Mbps  65 Mbps  \\\n",
       "24           0     28724         192       4611  ...        0       14   \n",
       "25           0       451          34       1307  ...        0        0   \n",
       "26           0        34          37          0  ...        0        0   \n",
       "27         111       234           2          0  ...        0        0   \n",
       "28           0        69          32        836  ...        0        0   \n",
       "\n",
       "    66 Mbps  67 Mbps  68 Mbps  70 Mbps  71 Mbps  75 Mbps  77 Mbps    total  \n",
       "24        0        0        0     5655        0    90796        0  2757146  \n",
       "25        1        0        0       15        0    28406        0   516337  \n",
       "26        0        0        0        0        0        0        0    48558  \n",
       "27        0        0        0        0        0        0        0    76365  \n",
       "28        0        0        0        0        0        0        0   168208  \n",
       "\n",
       "[5 rows x 98 columns]"
      ]
     },
     "execution_count": 16,
     "metadata": {},
     "output_type": "execute_result"
    }
   ],
   "source": [
    "AccIntFijXVelBajProv.head()"
   ]
  },
  {
   "cell_type": "code",
   "execution_count": 17,
   "metadata": {},
   "outputs": [],
   "source": [
    "AccIntFijXVelBajProv.to_csv('AccesosInternetFijoporVelocidaddeBajadayProvidenciaListo1', index=False)"
   ]
  },
  {
   "cell_type": "code",
   "execution_count": null,
   "metadata": {},
   "outputs": [],
   "source": []
  },
  {
   "cell_type": "code",
   "execution_count": null,
   "metadata": {},
   "outputs": [],
   "source": []
  },
  {
   "cell_type": "code",
   "execution_count": null,
   "metadata": {},
   "outputs": [],
   "source": []
  },
  {
   "cell_type": "code",
   "execution_count": 18,
   "metadata": {},
   "outputs": [
    {
     "name": "stderr",
     "output_type": "stream",
     "text": [
      "c:\\Python\\Python311\\Lib\\site-packages\\openpyxl\\styles\\stylesheet.py:226: UserWarning: Workbook contains no default style, apply openpyxl's default\n",
      "  warn(\"Workbook contains no default style, apply openpyxl's default\")\n"
     ]
    }
   ],
   "source": [
    "IntAccxVel1 = pd.read_excel('AccesoaInternetFijoporrangosdevelocidaddebajadayprovincia_2917901699033281154.xlsx')"
   ]
  },
  {
   "cell_type": "code",
   "execution_count": 19,
   "metadata": {},
   "outputs": [
    {
     "data": {
      "text/html": [
       "<div>\n",
       "<style scoped>\n",
       "    .dataframe tbody tr th:only-of-type {\n",
       "        vertical-align: middle;\n",
       "    }\n",
       "\n",
       "    .dataframe tbody tr th {\n",
       "        vertical-align: top;\n",
       "    }\n",
       "\n",
       "    .dataframe thead th {\n",
       "        text-align: right;\n",
       "    }\n",
       "</style>\n",
       "<table border=\"1\" class=\"dataframe\">\n",
       "  <thead>\n",
       "    <tr style=\"text-align: right;\">\n",
       "      <th></th>\n",
       "      <th>Año</th>\n",
       "      <th>Trimestre</th>\n",
       "      <th>Provincia</th>\n",
       "      <th>HASTA 512 kbps</th>\n",
       "      <th>+ 512 Kbps - 1 Mbps</th>\n",
       "      <th>+ 1 Mbps - 6 Mbps</th>\n",
       "      <th>+ 6 Mbps - 10 Mbps</th>\n",
       "      <th>+ 10 Mbps - 20 Mbps</th>\n",
       "      <th>+ 20 Mbps - 30 Mbps</th>\n",
       "      <th>+ 30 Mbps</th>\n",
       "      <th>OTROS</th>\n",
       "      <th>Total</th>\n",
       "    </tr>\n",
       "  </thead>\n",
       "  <tbody>\n",
       "    <tr>\n",
       "      <th>0</th>\n",
       "      <td>2022</td>\n",
       "      <td>4</td>\n",
       "      <td>Buenos Aires</td>\n",
       "      <td>28.934</td>\n",
       "      <td>23.347</td>\n",
       "      <td>259.866</td>\n",
       "      <td>281.550</td>\n",
       "      <td>244.555</td>\n",
       "      <td>98.670</td>\n",
       "      <td>3.760.109</td>\n",
       "      <td>97.634</td>\n",
       "      <td>4.794.665</td>\n",
       "    </tr>\n",
       "    <tr>\n",
       "      <th>1</th>\n",
       "      <td>2022</td>\n",
       "      <td>4</td>\n",
       "      <td>Capital Federal</td>\n",
       "      <td>516.000</td>\n",
       "      <td>5.096</td>\n",
       "      <td>31.320</td>\n",
       "      <td>64.653</td>\n",
       "      <td>36.336</td>\n",
       "      <td>8.116</td>\n",
       "      <td>1.299.117</td>\n",
       "      <td>106.772</td>\n",
       "      <td>1.551.926</td>\n",
       "    </tr>\n",
       "    <tr>\n",
       "      <th>2</th>\n",
       "      <td>2022</td>\n",
       "      <td>4</td>\n",
       "      <td>Catamarca</td>\n",
       "      <td>71.000</td>\n",
       "      <td>315.000</td>\n",
       "      <td>2.716</td>\n",
       "      <td>5.028</td>\n",
       "      <td>4.638</td>\n",
       "      <td>3.122</td>\n",
       "      <td>52.739</td>\n",
       "      <td>2.280</td>\n",
       "      <td>70.909</td>\n",
       "    </tr>\n",
       "    <tr>\n",
       "      <th>3</th>\n",
       "      <td>2022</td>\n",
       "      <td>4</td>\n",
       "      <td>Chaco</td>\n",
       "      <td>461.000</td>\n",
       "      <td>771.000</td>\n",
       "      <td>16.067</td>\n",
       "      <td>17.846</td>\n",
       "      <td>6.704</td>\n",
       "      <td>3.039</td>\n",
       "      <td>94.866</td>\n",
       "      <td>3.909</td>\n",
       "      <td>143.663</td>\n",
       "    </tr>\n",
       "    <tr>\n",
       "      <th>4</th>\n",
       "      <td>2022</td>\n",
       "      <td>4</td>\n",
       "      <td>Chubut</td>\n",
       "      <td>109.000</td>\n",
       "      <td>1.614</td>\n",
       "      <td>46.457</td>\n",
       "      <td>31.007</td>\n",
       "      <td>34.728</td>\n",
       "      <td>15.770</td>\n",
       "      <td>19.048</td>\n",
       "      <td>20.026</td>\n",
       "      <td>168.759</td>\n",
       "    </tr>\n",
       "  </tbody>\n",
       "</table>\n",
       "</div>"
      ],
      "text/plain": [
       "    Año  Trimestre        Provincia  HASTA 512 kbps  + 512 Kbps - 1 Mbps  \\\n",
       "0  2022          4     Buenos Aires          28.934               23.347   \n",
       "1  2022          4  Capital Federal         516.000                5.096   \n",
       "2  2022          4        Catamarca          71.000              315.000   \n",
       "3  2022          4            Chaco         461.000              771.000   \n",
       "4  2022          4           Chubut         109.000                1.614   \n",
       "\n",
       "  + 1 Mbps - 6 Mbps  + 6 Mbps - 10 Mbps  + 10 Mbps - 20 Mbps  \\\n",
       "0           259.866             281.550              244.555   \n",
       "1            31.320              64.653               36.336   \n",
       "2             2.716               5.028                4.638   \n",
       "3            16.067              17.846                6.704   \n",
       "4            46.457              31.007               34.728   \n",
       "\n",
       "   + 20 Mbps - 30 Mbps  + 30 Mbps    OTROS      Total  \n",
       "0               98.670  3.760.109   97.634  4.794.665  \n",
       "1                8.116  1.299.117  106.772  1.551.926  \n",
       "2                3.122     52.739    2.280     70.909  \n",
       "3                3.039     94.866    3.909    143.663  \n",
       "4               15.770     19.048   20.026    168.759  "
      ]
     },
     "execution_count": 19,
     "metadata": {},
     "output_type": "execute_result"
    }
   ],
   "source": [
    "IntAccxVel1.head()"
   ]
  },
  {
   "cell_type": "code",
   "execution_count": 20,
   "metadata": {},
   "outputs": [
    {
     "name": "stdout",
     "output_type": "stream",
     "text": [
      "<class 'pandas.core.frame.DataFrame'>\n",
      "RangeIndex: 864 entries, 0 to 863\n",
      "Data columns (total 12 columns):\n",
      " #   Column               Non-Null Count  Dtype  \n",
      "---  ------               --------------  -----  \n",
      " 0   Año                  864 non-null    int64  \n",
      " 1   Trimestre            864 non-null    int64  \n",
      " 2   Provincia            864 non-null    object \n",
      " 3   HASTA 512 kbps       864 non-null    float64\n",
      " 4   + 512 Kbps - 1 Mbps  864 non-null    float64\n",
      " 5   + 1 Mbps - 6 Mbps    864 non-null    object \n",
      " 6   + 6 Mbps - 10 Mbps   864 non-null    float64\n",
      " 7   + 10 Mbps - 20 Mbps  864 non-null    float64\n",
      " 8   + 20 Mbps - 30 Mbps  864 non-null    float64\n",
      " 9   + 30 Mbps            864 non-null    object \n",
      " 10  OTROS                858 non-null    float64\n",
      " 11  Total                864 non-null    object \n",
      "dtypes: float64(6), int64(2), object(4)\n",
      "memory usage: 81.1+ KB\n"
     ]
    }
   ],
   "source": [
    "IntAccxVel1.info()"
   ]
  },
  {
   "cell_type": "code",
   "execution_count": 21,
   "metadata": {},
   "outputs": [],
   "source": [
    "nan_indices = IntAccxVel1[IntAccxVel1['OTROS'].isna()].index"
   ]
  },
  {
   "cell_type": "code",
   "execution_count": 22,
   "metadata": {},
   "outputs": [
    {
     "data": {
      "text/plain": [
       "Index([337, 347, 348, 355, 358, 359], dtype='int64')"
      ]
     },
     "execution_count": 22,
     "metadata": {},
     "output_type": "execute_result"
    }
   ],
   "source": [
    "nan_indices"
   ]
  },
  {
   "cell_type": "code",
   "execution_count": 23,
   "metadata": {},
   "outputs": [],
   "source": [
    "# Obtén los valores de la columna OTROS en AccIntFijXVelBajProv\n",
    "otros_valores = AccIntFijXVelBajProv.loc[[337, 347, 348, 355, 358, 359], 'Otros']\n",
    "\n",
    "# Reemplaza los valores en IntAccxVel1 en los mismos índices\n",
    "IntAccxVel1.loc[[337, 347, 348, 355, 358, 359], 'OTROS'] = otros_valores"
   ]
  },
  {
   "cell_type": "code",
   "execution_count": 24,
   "metadata": {},
   "outputs": [],
   "source": [
    "# Obtén las columnas que deseas procesar\n",
    "columnas_a_procesar = IntAccxVel1.columns[3:12]\n",
    "\n",
    "# Itera a través de las columnas y aplica la conversión a tipo float\n",
    "for columna in columnas_a_procesar:\n",
    "    IntAccxVel1[columna] = IntAccxVel1[columna].apply(lambda x: float(x.replace('.', '', 1)) if isinstance(x, str) and '.' in x and x.count('.') == 2 else float(x))"
   ]
  },
  {
   "cell_type": "code",
   "execution_count": 25,
   "metadata": {},
   "outputs": [],
   "source": [
    "# Itera a través de las columnas y multiplica por 1000 solo si el valor es un número con decimales.\n",
    "for columna in columnas_a_procesar:\n",
    "    IntAccxVel1[columna] = IntAccxVel1[columna].apply(lambda x: x * 1000 if isinstance(x, float) and x % 1 != 0 else x)"
   ]
  },
  {
   "cell_type": "code",
   "execution_count": 26,
   "metadata": {},
   "outputs": [],
   "source": [
    "columnas_a_procesar = IntAccxVel1.columns[3:12]\n",
    "# Convierte las columnas a tipo int64\n",
    "IntAccxVel1[columnas_a_procesar] = IntAccxVel1[columnas_a_procesar].astype('int64')"
   ]
  },
  {
   "cell_type": "code",
   "execution_count": 27,
   "metadata": {},
   "outputs": [
    {
     "name": "stdout",
     "output_type": "stream",
     "text": [
      "<class 'pandas.core.frame.DataFrame'>\n",
      "RangeIndex: 864 entries, 0 to 863\n",
      "Data columns (total 12 columns):\n",
      " #   Column               Non-Null Count  Dtype \n",
      "---  ------               --------------  ----- \n",
      " 0   Año                  864 non-null    int64 \n",
      " 1   Trimestre            864 non-null    int64 \n",
      " 2   Provincia            864 non-null    object\n",
      " 3   HASTA 512 kbps       864 non-null    int64 \n",
      " 4   + 512 Kbps - 1 Mbps  864 non-null    int64 \n",
      " 5   + 1 Mbps - 6 Mbps    864 non-null    int64 \n",
      " 6   + 6 Mbps - 10 Mbps   864 non-null    int64 \n",
      " 7   + 10 Mbps - 20 Mbps  864 non-null    int64 \n",
      " 8   + 20 Mbps - 30 Mbps  864 non-null    int64 \n",
      " 9   + 30 Mbps            864 non-null    int64 \n",
      " 10  OTROS                864 non-null    int64 \n",
      " 11  Total                864 non-null    int64 \n",
      "dtypes: int64(11), object(1)\n",
      "memory usage: 81.1+ KB\n"
     ]
    }
   ],
   "source": [
    "IntAccxVel1.info()"
   ]
  },
  {
   "cell_type": "code",
   "execution_count": 28,
   "metadata": {},
   "outputs": [],
   "source": [
    "IntAccxVel1.to_csv('AccesosInternetFijoporVelocidaddeBajadayProvidenciaListoRangos', index=False)"
   ]
  },
  {
   "cell_type": "code",
   "execution_count": null,
   "metadata": {},
   "outputs": [],
   "source": []
  },
  {
   "cell_type": "code",
   "execution_count": null,
   "metadata": {},
   "outputs": [],
   "source": []
  },
  {
   "cell_type": "code",
   "execution_count": 29,
   "metadata": {},
   "outputs": [
    {
     "name": "stderr",
     "output_type": "stream",
     "text": [
      "c:\\Python\\Python311\\Lib\\site-packages\\openpyxl\\styles\\stylesheet.py:226: UserWarning: Workbook contains no default style, apply openpyxl's default\n",
      "  warn(\"Workbook contains no default style, apply openpyxl's default\")\n"
     ]
    }
   ],
   "source": [
    "IntPen100Hog = pd.read_excel('PenetraciondelInternetfijoporprovinciaaccesosporcada100hogares_2917941699032904574.xlsx')"
   ]
  },
  {
   "cell_type": "code",
   "execution_count": 30,
   "metadata": {},
   "outputs": [
    {
     "data": {
      "text/html": [
       "<div>\n",
       "<style scoped>\n",
       "    .dataframe tbody tr th:only-of-type {\n",
       "        vertical-align: middle;\n",
       "    }\n",
       "\n",
       "    .dataframe tbody tr th {\n",
       "        vertical-align: top;\n",
       "    }\n",
       "\n",
       "    .dataframe thead th {\n",
       "        text-align: right;\n",
       "    }\n",
       "</style>\n",
       "<table border=\"1\" class=\"dataframe\">\n",
       "  <thead>\n",
       "    <tr style=\"text-align: right;\">\n",
       "      <th></th>\n",
       "      <th>Año</th>\n",
       "      <th>Trimestre</th>\n",
       "      <th>Provincia</th>\n",
       "      <th>Accesos por cada 100 hogares</th>\n",
       "    </tr>\n",
       "  </thead>\n",
       "  <tbody>\n",
       "    <tr>\n",
       "      <th>0</th>\n",
       "      <td>2022</td>\n",
       "      <td>4</td>\n",
       "      <td>Buenos Aires</td>\n",
       "      <td>78,94</td>\n",
       "    </tr>\n",
       "    <tr>\n",
       "      <th>1</th>\n",
       "      <td>2022</td>\n",
       "      <td>4</td>\n",
       "      <td>Capital Federal</td>\n",
       "      <td>122,73</td>\n",
       "    </tr>\n",
       "    <tr>\n",
       "      <th>2</th>\n",
       "      <td>2022</td>\n",
       "      <td>4</td>\n",
       "      <td>Catamarca</td>\n",
       "      <td>65,77</td>\n",
       "    </tr>\n",
       "    <tr>\n",
       "      <th>3</th>\n",
       "      <td>2022</td>\n",
       "      <td>4</td>\n",
       "      <td>Chaco</td>\n",
       "      <td>43,62</td>\n",
       "    </tr>\n",
       "    <tr>\n",
       "      <th>4</th>\n",
       "      <td>2022</td>\n",
       "      <td>4</td>\n",
       "      <td>Chubut</td>\n",
       "      <td>85,57</td>\n",
       "    </tr>\n",
       "  </tbody>\n",
       "</table>\n",
       "</div>"
      ],
      "text/plain": [
       "    Año  Trimestre        Provincia Accesos por cada 100 hogares\n",
       "0  2022          4     Buenos Aires                        78,94\n",
       "1  2022          4  Capital Federal                       122,73\n",
       "2  2022          4        Catamarca                        65,77\n",
       "3  2022          4            Chaco                        43,62\n",
       "4  2022          4           Chubut                        85,57"
      ]
     },
     "execution_count": 30,
     "metadata": {},
     "output_type": "execute_result"
    }
   ],
   "source": [
    "IntPen100Hog.head()"
   ]
  },
  {
   "cell_type": "code",
   "execution_count": 31,
   "metadata": {},
   "outputs": [
    {
     "name": "stdout",
     "output_type": "stream",
     "text": [
      "<class 'pandas.core.frame.DataFrame'>\n",
      "RangeIndex: 864 entries, 0 to 863\n",
      "Data columns (total 4 columns):\n",
      " #   Column                        Non-Null Count  Dtype \n",
      "---  ------                        --------------  ----- \n",
      " 0   Año                           864 non-null    int64 \n",
      " 1   Trimestre                     864 non-null    int64 \n",
      " 2   Provincia                     864 non-null    object\n",
      " 3   Accesos por cada 100 hogares  864 non-null    object\n",
      "dtypes: int64(2), object(2)\n",
      "memory usage: 27.1+ KB\n"
     ]
    }
   ],
   "source": [
    "IntPen100Hog.info()"
   ]
  },
  {
   "cell_type": "code",
   "execution_count": 32,
   "metadata": {},
   "outputs": [],
   "source": [
    "IntPen100Hog.to_csv('InternetPenetracionXCienHogares.listo', index=False)"
   ]
  },
  {
   "cell_type": "code",
   "execution_count": null,
   "metadata": {},
   "outputs": [],
   "source": []
  },
  {
   "cell_type": "code",
   "execution_count": null,
   "metadata": {},
   "outputs": [],
   "source": []
  },
  {
   "cell_type": "code",
   "execution_count": 33,
   "metadata": {},
   "outputs": [
    {
     "name": "stderr",
     "output_type": "stream",
     "text": [
      "c:\\Python\\Python311\\Lib\\site-packages\\openpyxl\\styles\\stylesheet.py:226: UserWarning: Workbook contains no default style, apply openpyxl's default\n",
      "  warn(\"Workbook contains no default style, apply openpyxl's default\")\n"
     ]
    }
   ],
   "source": [
    "AccBanAnchAngoXProv = pd.read_excel('Accesosabandaanchaybandaangostaporprovincia_2750201699032952404.xlsx')"
   ]
  },
  {
   "cell_type": "code",
   "execution_count": 34,
   "metadata": {},
   "outputs": [
    {
     "data": {
      "text/html": [
       "<div>\n",
       "<style scoped>\n",
       "    .dataframe tbody tr th:only-of-type {\n",
       "        vertical-align: middle;\n",
       "    }\n",
       "\n",
       "    .dataframe tbody tr th {\n",
       "        vertical-align: top;\n",
       "    }\n",
       "\n",
       "    .dataframe thead th {\n",
       "        text-align: right;\n",
       "    }\n",
       "</style>\n",
       "<table border=\"1\" class=\"dataframe\">\n",
       "  <thead>\n",
       "    <tr style=\"text-align: right;\">\n",
       "      <th></th>\n",
       "      <th>Año</th>\n",
       "      <th>Trimestre</th>\n",
       "      <th>Provincia</th>\n",
       "      <th>Banda ancha fija</th>\n",
       "      <th>Dial up</th>\n",
       "      <th>Total</th>\n",
       "    </tr>\n",
       "  </thead>\n",
       "  <tbody>\n",
       "    <tr>\n",
       "      <th>0</th>\n",
       "      <td>2022</td>\n",
       "      <td>4</td>\n",
       "      <td>Buenos Aires</td>\n",
       "      <td>5</td>\n",
       "      <td>6.0</td>\n",
       "      <td>5</td>\n",
       "    </tr>\n",
       "    <tr>\n",
       "      <th>1</th>\n",
       "      <td>2022</td>\n",
       "      <td>4</td>\n",
       "      <td>Capital Federal</td>\n",
       "      <td>2</td>\n",
       "      <td>2.0</td>\n",
       "      <td>2</td>\n",
       "    </tr>\n",
       "    <tr>\n",
       "      <th>2</th>\n",
       "      <td>2022</td>\n",
       "      <td>4</td>\n",
       "      <td>Catamarca</td>\n",
       "      <td>71</td>\n",
       "      <td>1.0</td>\n",
       "      <td>71</td>\n",
       "    </tr>\n",
       "    <tr>\n",
       "      <th>3</th>\n",
       "      <td>2022</td>\n",
       "      <td>4</td>\n",
       "      <td>Chaco</td>\n",
       "      <td>144</td>\n",
       "      <td>5.0</td>\n",
       "      <td>144</td>\n",
       "    </tr>\n",
       "    <tr>\n",
       "      <th>4</th>\n",
       "      <td>2022</td>\n",
       "      <td>4</td>\n",
       "      <td>Chubut</td>\n",
       "      <td>168</td>\n",
       "      <td>904.0</td>\n",
       "      <td>169</td>\n",
       "    </tr>\n",
       "  </tbody>\n",
       "</table>\n",
       "</div>"
      ],
      "text/plain": [
       "    Año  Trimestre        Provincia  Banda ancha fija  Dial up  Total\n",
       "0  2022          4     Buenos Aires                 5      6.0      5\n",
       "1  2022          4  Capital Federal                 2      2.0      2\n",
       "2  2022          4        Catamarca                71      1.0     71\n",
       "3  2022          4            Chaco               144      5.0    144\n",
       "4  2022          4           Chubut               168    904.0    169"
      ]
     },
     "execution_count": 34,
     "metadata": {},
     "output_type": "execute_result"
    }
   ],
   "source": [
    "AccBanAnchAngoXProv.head()"
   ]
  },
  {
   "cell_type": "code",
   "execution_count": 35,
   "metadata": {},
   "outputs": [],
   "source": [
    "AccBanAnchAngoXProv = AccBanAnchAngoXProv.drop(\"Total\", axis=1)"
   ]
  },
  {
   "cell_type": "code",
   "execution_count": 36,
   "metadata": {},
   "outputs": [],
   "source": [
    "AccBanAnchAngoXProv_Cordoba = AccBanAnchAngoXProv[AccBanAnchAngoXProv['Provincia'] == 'Córdoba']"
   ]
  },
  {
   "cell_type": "code",
   "execution_count": 37,
   "metadata": {},
   "outputs": [
    {
     "data": {
      "text/html": [
       "<div>\n",
       "<style scoped>\n",
       "    .dataframe tbody tr th:only-of-type {\n",
       "        vertical-align: middle;\n",
       "    }\n",
       "\n",
       "    .dataframe tbody tr th {\n",
       "        vertical-align: top;\n",
       "    }\n",
       "\n",
       "    .dataframe thead th {\n",
       "        text-align: right;\n",
       "    }\n",
       "</style>\n",
       "<table border=\"1\" class=\"dataframe\">\n",
       "  <thead>\n",
       "    <tr style=\"text-align: right;\">\n",
       "      <th></th>\n",
       "      <th>Año</th>\n",
       "      <th>Trimestre</th>\n",
       "      <th>Provincia</th>\n",
       "      <th>Banda ancha fija</th>\n",
       "      <th>Dial up</th>\n",
       "    </tr>\n",
       "  </thead>\n",
       "  <tbody>\n",
       "    <tr>\n",
       "      <th>5</th>\n",
       "      <td>2022</td>\n",
       "      <td>4</td>\n",
       "      <td>Córdoba</td>\n",
       "      <td>1</td>\n",
       "      <td>68.0</td>\n",
       "    </tr>\n",
       "    <tr>\n",
       "      <th>29</th>\n",
       "      <td>2022</td>\n",
       "      <td>3</td>\n",
       "      <td>Córdoba</td>\n",
       "      <td>1</td>\n",
       "      <td>68.0</td>\n",
       "    </tr>\n",
       "    <tr>\n",
       "      <th>53</th>\n",
       "      <td>2022</td>\n",
       "      <td>2</td>\n",
       "      <td>Córdoba</td>\n",
       "      <td>1</td>\n",
       "      <td>68.0</td>\n",
       "    </tr>\n",
       "    <tr>\n",
       "      <th>77</th>\n",
       "      <td>2022</td>\n",
       "      <td>1</td>\n",
       "      <td>Córdoba</td>\n",
       "      <td>1</td>\n",
       "      <td>74.0</td>\n",
       "    </tr>\n",
       "    <tr>\n",
       "      <th>101</th>\n",
       "      <td>2021</td>\n",
       "      <td>4</td>\n",
       "      <td>Córdoba</td>\n",
       "      <td>987</td>\n",
       "      <td>77.0</td>\n",
       "    </tr>\n",
       "    <tr>\n",
       "      <th>125</th>\n",
       "      <td>2021</td>\n",
       "      <td>3</td>\n",
       "      <td>Córdoba</td>\n",
       "      <td>947</td>\n",
       "      <td>62.0</td>\n",
       "    </tr>\n",
       "    <tr>\n",
       "      <th>149</th>\n",
       "      <td>2021</td>\n",
       "      <td>2</td>\n",
       "      <td>Córdoba</td>\n",
       "      <td>931</td>\n",
       "      <td>62.0</td>\n",
       "    </tr>\n",
       "    <tr>\n",
       "      <th>173</th>\n",
       "      <td>2021</td>\n",
       "      <td>1</td>\n",
       "      <td>Córdoba</td>\n",
       "      <td>911</td>\n",
       "      <td>55.0</td>\n",
       "    </tr>\n",
       "    <tr>\n",
       "      <th>197</th>\n",
       "      <td>2020</td>\n",
       "      <td>4</td>\n",
       "      <td>Córdoba</td>\n",
       "      <td>903</td>\n",
       "      <td>55.0</td>\n",
       "    </tr>\n",
       "    <tr>\n",
       "      <th>221</th>\n",
       "      <td>2020</td>\n",
       "      <td>3</td>\n",
       "      <td>Córdoba</td>\n",
       "      <td>867</td>\n",
       "      <td>55.0</td>\n",
       "    </tr>\n",
       "    <tr>\n",
       "      <th>245</th>\n",
       "      <td>2020</td>\n",
       "      <td>2</td>\n",
       "      <td>Córdoba</td>\n",
       "      <td>836</td>\n",
       "      <td>55.0</td>\n",
       "    </tr>\n",
       "    <tr>\n",
       "      <th>269</th>\n",
       "      <td>2020</td>\n",
       "      <td>1</td>\n",
       "      <td>Córdoba</td>\n",
       "      <td>811</td>\n",
       "      <td>55.0</td>\n",
       "    </tr>\n",
       "    <tr>\n",
       "      <th>293</th>\n",
       "      <td>2019</td>\n",
       "      <td>4</td>\n",
       "      <td>Córdoba</td>\n",
       "      <td>807</td>\n",
       "      <td>55.0</td>\n",
       "    </tr>\n",
       "    <tr>\n",
       "      <th>317</th>\n",
       "      <td>2019</td>\n",
       "      <td>3</td>\n",
       "      <td>Córdoba</td>\n",
       "      <td>783</td>\n",
       "      <td>107.0</td>\n",
       "    </tr>\n",
       "    <tr>\n",
       "      <th>341</th>\n",
       "      <td>2019</td>\n",
       "      <td>2</td>\n",
       "      <td>Córdoba</td>\n",
       "      <td>775</td>\n",
       "      <td>105.0</td>\n",
       "    </tr>\n",
       "    <tr>\n",
       "      <th>365</th>\n",
       "      <td>2019</td>\n",
       "      <td>1</td>\n",
       "      <td>Córdoba</td>\n",
       "      <td>744</td>\n",
       "      <td>105.0</td>\n",
       "    </tr>\n",
       "    <tr>\n",
       "      <th>389</th>\n",
       "      <td>2018</td>\n",
       "      <td>4</td>\n",
       "      <td>Córdoba</td>\n",
       "      <td>737</td>\n",
       "      <td>105.0</td>\n",
       "    </tr>\n",
       "    <tr>\n",
       "      <th>413</th>\n",
       "      <td>2018</td>\n",
       "      <td>3</td>\n",
       "      <td>Córdoba</td>\n",
       "      <td>726</td>\n",
       "      <td>94.0</td>\n",
       "    </tr>\n",
       "    <tr>\n",
       "      <th>437</th>\n",
       "      <td>2018</td>\n",
       "      <td>2</td>\n",
       "      <td>Córdoba</td>\n",
       "      <td>713</td>\n",
       "      <td>94.0</td>\n",
       "    </tr>\n",
       "    <tr>\n",
       "      <th>461</th>\n",
       "      <td>2018</td>\n",
       "      <td>1</td>\n",
       "      <td>Córdoba</td>\n",
       "      <td>714</td>\n",
       "      <td>101.0</td>\n",
       "    </tr>\n",
       "    <tr>\n",
       "      <th>485</th>\n",
       "      <td>2017</td>\n",
       "      <td>4</td>\n",
       "      <td>Córdoba</td>\n",
       "      <td>710</td>\n",
       "      <td>105.0</td>\n",
       "    </tr>\n",
       "    <tr>\n",
       "      <th>509</th>\n",
       "      <td>2017</td>\n",
       "      <td>3</td>\n",
       "      <td>Córdoba</td>\n",
       "      <td>697</td>\n",
       "      <td>108.0</td>\n",
       "    </tr>\n",
       "    <tr>\n",
       "      <th>533</th>\n",
       "      <td>2017</td>\n",
       "      <td>2</td>\n",
       "      <td>Córdoba</td>\n",
       "      <td>658</td>\n",
       "      <td>133.0</td>\n",
       "    </tr>\n",
       "    <tr>\n",
       "      <th>557</th>\n",
       "      <td>2017</td>\n",
       "      <td>1</td>\n",
       "      <td>Córdoba</td>\n",
       "      <td>641</td>\n",
       "      <td>133.0</td>\n",
       "    </tr>\n",
       "    <tr>\n",
       "      <th>581</th>\n",
       "      <td>2016</td>\n",
       "      <td>4</td>\n",
       "      <td>Córdoba</td>\n",
       "      <td>636</td>\n",
       "      <td>133.0</td>\n",
       "    </tr>\n",
       "    <tr>\n",
       "      <th>605</th>\n",
       "      <td>2016</td>\n",
       "      <td>3</td>\n",
       "      <td>Córdoba</td>\n",
       "      <td>642</td>\n",
       "      <td>133.0</td>\n",
       "    </tr>\n",
       "    <tr>\n",
       "      <th>629</th>\n",
       "      <td>2016</td>\n",
       "      <td>2</td>\n",
       "      <td>Córdoba</td>\n",
       "      <td>635</td>\n",
       "      <td>234.0</td>\n",
       "    </tr>\n",
       "    <tr>\n",
       "      <th>653</th>\n",
       "      <td>2016</td>\n",
       "      <td>1</td>\n",
       "      <td>Córdoba</td>\n",
       "      <td>610</td>\n",
       "      <td>234.0</td>\n",
       "    </tr>\n",
       "    <tr>\n",
       "      <th>677</th>\n",
       "      <td>2015</td>\n",
       "      <td>4</td>\n",
       "      <td>Córdoba</td>\n",
       "      <td>626</td>\n",
       "      <td>235.0</td>\n",
       "    </tr>\n",
       "    <tr>\n",
       "      <th>701</th>\n",
       "      <td>2015</td>\n",
       "      <td>3</td>\n",
       "      <td>Córdoba</td>\n",
       "      <td>623</td>\n",
       "      <td>237.0</td>\n",
       "    </tr>\n",
       "    <tr>\n",
       "      <th>725</th>\n",
       "      <td>2015</td>\n",
       "      <td>2</td>\n",
       "      <td>Córdoba</td>\n",
       "      <td>610</td>\n",
       "      <td>236.0</td>\n",
       "    </tr>\n",
       "    <tr>\n",
       "      <th>749</th>\n",
       "      <td>2015</td>\n",
       "      <td>1</td>\n",
       "      <td>Córdoba</td>\n",
       "      <td>597</td>\n",
       "      <td>294.0</td>\n",
       "    </tr>\n",
       "    <tr>\n",
       "      <th>773</th>\n",
       "      <td>2014</td>\n",
       "      <td>4</td>\n",
       "      <td>Córdoba</td>\n",
       "      <td>590</td>\n",
       "      <td>319.0</td>\n",
       "    </tr>\n",
       "    <tr>\n",
       "      <th>797</th>\n",
       "      <td>2014</td>\n",
       "      <td>3</td>\n",
       "      <td>Córdoba</td>\n",
       "      <td>585</td>\n",
       "      <td>200.0</td>\n",
       "    </tr>\n",
       "    <tr>\n",
       "      <th>821</th>\n",
       "      <td>2014</td>\n",
       "      <td>2</td>\n",
       "      <td>Córdoba</td>\n",
       "      <td>577</td>\n",
       "      <td>205.0</td>\n",
       "    </tr>\n",
       "    <tr>\n",
       "      <th>845</th>\n",
       "      <td>2014</td>\n",
       "      <td>1</td>\n",
       "      <td>Córdoba</td>\n",
       "      <td>567</td>\n",
       "      <td>205.0</td>\n",
       "    </tr>\n",
       "  </tbody>\n",
       "</table>\n",
       "</div>"
      ],
      "text/plain": [
       "      Año  Trimestre Provincia  Banda ancha fija  Dial up\n",
       "5    2022          4   Córdoba                 1     68.0\n",
       "29   2022          3   Córdoba                 1     68.0\n",
       "53   2022          2   Córdoba                 1     68.0\n",
       "77   2022          1   Córdoba                 1     74.0\n",
       "101  2021          4   Córdoba               987     77.0\n",
       "125  2021          3   Córdoba               947     62.0\n",
       "149  2021          2   Córdoba               931     62.0\n",
       "173  2021          1   Córdoba               911     55.0\n",
       "197  2020          4   Córdoba               903     55.0\n",
       "221  2020          3   Córdoba               867     55.0\n",
       "245  2020          2   Córdoba               836     55.0\n",
       "269  2020          1   Córdoba               811     55.0\n",
       "293  2019          4   Córdoba               807     55.0\n",
       "317  2019          3   Córdoba               783    107.0\n",
       "341  2019          2   Córdoba               775    105.0\n",
       "365  2019          1   Córdoba               744    105.0\n",
       "389  2018          4   Córdoba               737    105.0\n",
       "413  2018          3   Córdoba               726     94.0\n",
       "437  2018          2   Córdoba               713     94.0\n",
       "461  2018          1   Córdoba               714    101.0\n",
       "485  2017          4   Córdoba               710    105.0\n",
       "509  2017          3   Córdoba               697    108.0\n",
       "533  2017          2   Córdoba               658    133.0\n",
       "557  2017          1   Córdoba               641    133.0\n",
       "581  2016          4   Córdoba               636    133.0\n",
       "605  2016          3   Córdoba               642    133.0\n",
       "629  2016          2   Córdoba               635    234.0\n",
       "653  2016          1   Córdoba               610    234.0\n",
       "677  2015          4   Córdoba               626    235.0\n",
       "701  2015          3   Córdoba               623    237.0\n",
       "725  2015          2   Córdoba               610    236.0\n",
       "749  2015          1   Córdoba               597    294.0\n",
       "773  2014          4   Córdoba               590    319.0\n",
       "797  2014          3   Córdoba               585    200.0\n",
       "821  2014          2   Córdoba               577    205.0\n",
       "845  2014          1   Córdoba               567    205.0"
      ]
     },
     "execution_count": 37,
     "metadata": {},
     "output_type": "execute_result"
    }
   ],
   "source": [
    "AccBanAnchAngoXProv_Cordoba"
   ]
  },
  {
   "cell_type": "code",
   "execution_count": 38,
   "metadata": {},
   "outputs": [],
   "source": [
    "AccBanAnchAngoXProv_Cordoba = AccBanAnchAngoXProv_Cordoba[AccBanAnchAngoXProv_Cordoba['Banda ancha fija'] != 1]"
   ]
  },
  {
   "cell_type": "code",
   "execution_count": 39,
   "metadata": {},
   "outputs": [
    {
     "data": {
      "text/html": [
       "<div>\n",
       "<style scoped>\n",
       "    .dataframe tbody tr th:only-of-type {\n",
       "        vertical-align: middle;\n",
       "    }\n",
       "\n",
       "    .dataframe tbody tr th {\n",
       "        vertical-align: top;\n",
       "    }\n",
       "\n",
       "    .dataframe thead th {\n",
       "        text-align: right;\n",
       "    }\n",
       "</style>\n",
       "<table border=\"1\" class=\"dataframe\">\n",
       "  <thead>\n",
       "    <tr style=\"text-align: right;\">\n",
       "      <th></th>\n",
       "      <th>Año</th>\n",
       "      <th>Trimestre</th>\n",
       "      <th>Provincia</th>\n",
       "      <th>Banda ancha fija</th>\n",
       "      <th>Dial up</th>\n",
       "    </tr>\n",
       "  </thead>\n",
       "  <tbody>\n",
       "    <tr>\n",
       "      <th>101</th>\n",
       "      <td>2021</td>\n",
       "      <td>4</td>\n",
       "      <td>Córdoba</td>\n",
       "      <td>987</td>\n",
       "      <td>77.0</td>\n",
       "    </tr>\n",
       "    <tr>\n",
       "      <th>125</th>\n",
       "      <td>2021</td>\n",
       "      <td>3</td>\n",
       "      <td>Córdoba</td>\n",
       "      <td>947</td>\n",
       "      <td>62.0</td>\n",
       "    </tr>\n",
       "    <tr>\n",
       "      <th>149</th>\n",
       "      <td>2021</td>\n",
       "      <td>2</td>\n",
       "      <td>Córdoba</td>\n",
       "      <td>931</td>\n",
       "      <td>62.0</td>\n",
       "    </tr>\n",
       "    <tr>\n",
       "      <th>173</th>\n",
       "      <td>2021</td>\n",
       "      <td>1</td>\n",
       "      <td>Córdoba</td>\n",
       "      <td>911</td>\n",
       "      <td>55.0</td>\n",
       "    </tr>\n",
       "    <tr>\n",
       "      <th>197</th>\n",
       "      <td>2020</td>\n",
       "      <td>4</td>\n",
       "      <td>Córdoba</td>\n",
       "      <td>903</td>\n",
       "      <td>55.0</td>\n",
       "    </tr>\n",
       "    <tr>\n",
       "      <th>221</th>\n",
       "      <td>2020</td>\n",
       "      <td>3</td>\n",
       "      <td>Córdoba</td>\n",
       "      <td>867</td>\n",
       "      <td>55.0</td>\n",
       "    </tr>\n",
       "    <tr>\n",
       "      <th>245</th>\n",
       "      <td>2020</td>\n",
       "      <td>2</td>\n",
       "      <td>Córdoba</td>\n",
       "      <td>836</td>\n",
       "      <td>55.0</td>\n",
       "    </tr>\n",
       "    <tr>\n",
       "      <th>269</th>\n",
       "      <td>2020</td>\n",
       "      <td>1</td>\n",
       "      <td>Córdoba</td>\n",
       "      <td>811</td>\n",
       "      <td>55.0</td>\n",
       "    </tr>\n",
       "    <tr>\n",
       "      <th>293</th>\n",
       "      <td>2019</td>\n",
       "      <td>4</td>\n",
       "      <td>Córdoba</td>\n",
       "      <td>807</td>\n",
       "      <td>55.0</td>\n",
       "    </tr>\n",
       "    <tr>\n",
       "      <th>317</th>\n",
       "      <td>2019</td>\n",
       "      <td>3</td>\n",
       "      <td>Córdoba</td>\n",
       "      <td>783</td>\n",
       "      <td>107.0</td>\n",
       "    </tr>\n",
       "    <tr>\n",
       "      <th>341</th>\n",
       "      <td>2019</td>\n",
       "      <td>2</td>\n",
       "      <td>Córdoba</td>\n",
       "      <td>775</td>\n",
       "      <td>105.0</td>\n",
       "    </tr>\n",
       "    <tr>\n",
       "      <th>365</th>\n",
       "      <td>2019</td>\n",
       "      <td>1</td>\n",
       "      <td>Córdoba</td>\n",
       "      <td>744</td>\n",
       "      <td>105.0</td>\n",
       "    </tr>\n",
       "    <tr>\n",
       "      <th>389</th>\n",
       "      <td>2018</td>\n",
       "      <td>4</td>\n",
       "      <td>Córdoba</td>\n",
       "      <td>737</td>\n",
       "      <td>105.0</td>\n",
       "    </tr>\n",
       "    <tr>\n",
       "      <th>413</th>\n",
       "      <td>2018</td>\n",
       "      <td>3</td>\n",
       "      <td>Córdoba</td>\n",
       "      <td>726</td>\n",
       "      <td>94.0</td>\n",
       "    </tr>\n",
       "    <tr>\n",
       "      <th>437</th>\n",
       "      <td>2018</td>\n",
       "      <td>2</td>\n",
       "      <td>Córdoba</td>\n",
       "      <td>713</td>\n",
       "      <td>94.0</td>\n",
       "    </tr>\n",
       "    <tr>\n",
       "      <th>461</th>\n",
       "      <td>2018</td>\n",
       "      <td>1</td>\n",
       "      <td>Córdoba</td>\n",
       "      <td>714</td>\n",
       "      <td>101.0</td>\n",
       "    </tr>\n",
       "    <tr>\n",
       "      <th>485</th>\n",
       "      <td>2017</td>\n",
       "      <td>4</td>\n",
       "      <td>Córdoba</td>\n",
       "      <td>710</td>\n",
       "      <td>105.0</td>\n",
       "    </tr>\n",
       "    <tr>\n",
       "      <th>509</th>\n",
       "      <td>2017</td>\n",
       "      <td>3</td>\n",
       "      <td>Córdoba</td>\n",
       "      <td>697</td>\n",
       "      <td>108.0</td>\n",
       "    </tr>\n",
       "    <tr>\n",
       "      <th>533</th>\n",
       "      <td>2017</td>\n",
       "      <td>2</td>\n",
       "      <td>Córdoba</td>\n",
       "      <td>658</td>\n",
       "      <td>133.0</td>\n",
       "    </tr>\n",
       "    <tr>\n",
       "      <th>557</th>\n",
       "      <td>2017</td>\n",
       "      <td>1</td>\n",
       "      <td>Córdoba</td>\n",
       "      <td>641</td>\n",
       "      <td>133.0</td>\n",
       "    </tr>\n",
       "    <tr>\n",
       "      <th>581</th>\n",
       "      <td>2016</td>\n",
       "      <td>4</td>\n",
       "      <td>Córdoba</td>\n",
       "      <td>636</td>\n",
       "      <td>133.0</td>\n",
       "    </tr>\n",
       "    <tr>\n",
       "      <th>605</th>\n",
       "      <td>2016</td>\n",
       "      <td>3</td>\n",
       "      <td>Córdoba</td>\n",
       "      <td>642</td>\n",
       "      <td>133.0</td>\n",
       "    </tr>\n",
       "    <tr>\n",
       "      <th>629</th>\n",
       "      <td>2016</td>\n",
       "      <td>2</td>\n",
       "      <td>Córdoba</td>\n",
       "      <td>635</td>\n",
       "      <td>234.0</td>\n",
       "    </tr>\n",
       "    <tr>\n",
       "      <th>653</th>\n",
       "      <td>2016</td>\n",
       "      <td>1</td>\n",
       "      <td>Córdoba</td>\n",
       "      <td>610</td>\n",
       "      <td>234.0</td>\n",
       "    </tr>\n",
       "    <tr>\n",
       "      <th>677</th>\n",
       "      <td>2015</td>\n",
       "      <td>4</td>\n",
       "      <td>Córdoba</td>\n",
       "      <td>626</td>\n",
       "      <td>235.0</td>\n",
       "    </tr>\n",
       "    <tr>\n",
       "      <th>701</th>\n",
       "      <td>2015</td>\n",
       "      <td>3</td>\n",
       "      <td>Córdoba</td>\n",
       "      <td>623</td>\n",
       "      <td>237.0</td>\n",
       "    </tr>\n",
       "    <tr>\n",
       "      <th>725</th>\n",
       "      <td>2015</td>\n",
       "      <td>2</td>\n",
       "      <td>Córdoba</td>\n",
       "      <td>610</td>\n",
       "      <td>236.0</td>\n",
       "    </tr>\n",
       "    <tr>\n",
       "      <th>749</th>\n",
       "      <td>2015</td>\n",
       "      <td>1</td>\n",
       "      <td>Córdoba</td>\n",
       "      <td>597</td>\n",
       "      <td>294.0</td>\n",
       "    </tr>\n",
       "    <tr>\n",
       "      <th>773</th>\n",
       "      <td>2014</td>\n",
       "      <td>4</td>\n",
       "      <td>Córdoba</td>\n",
       "      <td>590</td>\n",
       "      <td>319.0</td>\n",
       "    </tr>\n",
       "    <tr>\n",
       "      <th>797</th>\n",
       "      <td>2014</td>\n",
       "      <td>3</td>\n",
       "      <td>Córdoba</td>\n",
       "      <td>585</td>\n",
       "      <td>200.0</td>\n",
       "    </tr>\n",
       "    <tr>\n",
       "      <th>821</th>\n",
       "      <td>2014</td>\n",
       "      <td>2</td>\n",
       "      <td>Córdoba</td>\n",
       "      <td>577</td>\n",
       "      <td>205.0</td>\n",
       "    </tr>\n",
       "    <tr>\n",
       "      <th>845</th>\n",
       "      <td>2014</td>\n",
       "      <td>1</td>\n",
       "      <td>Córdoba</td>\n",
       "      <td>567</td>\n",
       "      <td>205.0</td>\n",
       "    </tr>\n",
       "  </tbody>\n",
       "</table>\n",
       "</div>"
      ],
      "text/plain": [
       "      Año  Trimestre Provincia  Banda ancha fija  Dial up\n",
       "101  2021          4   Córdoba               987     77.0\n",
       "125  2021          3   Córdoba               947     62.0\n",
       "149  2021          2   Córdoba               931     62.0\n",
       "173  2021          1   Córdoba               911     55.0\n",
       "197  2020          4   Córdoba               903     55.0\n",
       "221  2020          3   Córdoba               867     55.0\n",
       "245  2020          2   Córdoba               836     55.0\n",
       "269  2020          1   Córdoba               811     55.0\n",
       "293  2019          4   Córdoba               807     55.0\n",
       "317  2019          3   Córdoba               783    107.0\n",
       "341  2019          2   Córdoba               775    105.0\n",
       "365  2019          1   Córdoba               744    105.0\n",
       "389  2018          4   Córdoba               737    105.0\n",
       "413  2018          3   Córdoba               726     94.0\n",
       "437  2018          2   Córdoba               713     94.0\n",
       "461  2018          1   Córdoba               714    101.0\n",
       "485  2017          4   Córdoba               710    105.0\n",
       "509  2017          3   Córdoba               697    108.0\n",
       "533  2017          2   Córdoba               658    133.0\n",
       "557  2017          1   Córdoba               641    133.0\n",
       "581  2016          4   Córdoba               636    133.0\n",
       "605  2016          3   Córdoba               642    133.0\n",
       "629  2016          2   Córdoba               635    234.0\n",
       "653  2016          1   Córdoba               610    234.0\n",
       "677  2015          4   Córdoba               626    235.0\n",
       "701  2015          3   Córdoba               623    237.0\n",
       "725  2015          2   Córdoba               610    236.0\n",
       "749  2015          1   Córdoba               597    294.0\n",
       "773  2014          4   Córdoba               590    319.0\n",
       "797  2014          3   Córdoba               585    200.0\n",
       "821  2014          2   Córdoba               577    205.0\n",
       "845  2014          1   Córdoba               567    205.0"
      ]
     },
     "execution_count": 39,
     "metadata": {},
     "output_type": "execute_result"
    }
   ],
   "source": [
    "AccBanAnchAngoXProv_Cordoba"
   ]
  },
  {
   "cell_type": "code",
   "execution_count": 40,
   "metadata": {},
   "outputs": [
    {
     "name": "stderr",
     "output_type": "stream",
     "text": [
      "C:\\Users\\JAAJ\\AppData\\Local\\Temp\\ipykernel_13208\\4144518185.py:11: SettingWithCopyWarning: \n",
      "A value is trying to be set on a copy of a slice from a DataFrame.\n",
      "Try using .loc[row_indexer,col_indexer] = value instead\n",
      "\n",
      "See the caveats in the documentation: https://pandas.pydata.org/pandas-docs/stable/user_guide/indexing.html#returning-a-view-versus-a-copy\n",
      "  AccBanAnchAngoXProv_Cordoba['Incremento/Decremento'] = porcentaje_incremento_decremento\n"
     ]
    }
   ],
   "source": [
    "# Filtra solo la columna \"Fibra óptica\".\n",
    "fibra_optica = AccBanAnchAngoXProv_Cordoba['Banda ancha fija']\n",
    "\n",
    "# Calcula la diferencia entre cada dato y el dato anterior.\n",
    "diferencia = fibra_optica.diff()\n",
    "\n",
    "# Calcula el porcentaje de incremento o decremento.\n",
    "porcentaje_incremento_decremento = (diferencia / fibra_optica.shift(1)) * 100\n",
    "\n",
    "# Crea una nueva columna \"Incremento/Decremento\" en el DataFrame original.\n",
    "AccBanAnchAngoXProv_Cordoba['Incremento/Decremento'] = porcentaje_incremento_decremento"
   ]
  },
  {
   "cell_type": "code",
   "execution_count": 41,
   "metadata": {},
   "outputs": [
    {
     "data": {
      "text/plain": [
       "101         NaN\n",
       "125   -4.052685\n",
       "149   -1.689546\n",
       "173   -2.148228\n",
       "197   -0.878156\n",
       "221   -3.986711\n",
       "245   -3.575548\n",
       "269   -2.990431\n",
       "293   -0.493218\n",
       "317   -2.973978\n",
       "341   -1.021711\n",
       "365   -4.000000\n",
       "389   -0.940860\n",
       "413   -1.492537\n",
       "437   -1.790634\n",
       "461    0.140252\n",
       "485   -0.560224\n",
       "509   -1.830986\n",
       "533   -5.595409\n",
       "557   -2.583587\n",
       "581   -0.780031\n",
       "605    0.943396\n",
       "629   -1.090343\n",
       "653   -3.937008\n",
       "677    2.622951\n",
       "701   -0.479233\n",
       "725   -2.086677\n",
       "749   -2.131148\n",
       "773   -1.172529\n",
       "797   -0.847458\n",
       "821   -1.367521\n",
       "845   -1.733102\n",
       "Name: Incremento/Decremento, dtype: float64"
      ]
     },
     "execution_count": 41,
     "metadata": {},
     "output_type": "execute_result"
    }
   ],
   "source": [
    "AccBanAnchAngoXProv_Cordoba['Incremento/Decremento']"
   ]
  },
  {
   "cell_type": "code",
   "execution_count": 42,
   "metadata": {},
   "outputs": [
    {
     "name": "stdout",
     "output_type": "stream",
     "text": [
      "Suma de la columna 'Incremento/Decremento': -54.5228987995603\n",
      "Promedio de la columna 'Incremento/Decremento': -1.7588031870825904\n"
     ]
    }
   ],
   "source": [
    "# Elimina la primera fila de la columna 'Incremento/Decremento'.\n",
    "AccBanAnchAngoXProv_Cordoba = AccBanAnchAngoXProv_Cordoba.iloc[1:]\n",
    "\n",
    "# Calcula la suma de la columna 'Incremento/Decremento'.\n",
    "suma = AccBanAnchAngoXProv_Cordoba['Incremento/Decremento'].sum()\n",
    "\n",
    "# Calcula el promedio de la columna 'Incremento/Decremento'.\n",
    "promedio = AccBanAnchAngoXProv_Cordoba['Incremento/Decremento'].mean()\n",
    "\n",
    "# Imprime la suma y el promedio.\n",
    "print(f\"Suma de la columna 'Incremento/Decremento': {suma}\")\n",
    "print(f\"Promedio de la columna 'Incremento/Decremento': {promedio}\")"
   ]
  },
  {
   "cell_type": "code",
   "execution_count": 43,
   "metadata": {},
   "outputs": [],
   "source": [
    "# Filtra los datos solo para la provincia de Buenos Aires.\n",
    "AccBanAnchAngoXProv_Cordoba = AccBanAnchAngoXProv[AccBanAnchAngoXProv['Provincia'] == 'Córdoba']\n",
    "\n",
    "# Toma los primeros 5 datos de la columna 'Fibra óptica'.\n",
    "primeros_5_datos = AccBanAnchAngoXProv_Cordoba['Banda ancha fija'].head(5)\n",
    "\n",
    "# Luego, iteramos desde el penúltimo elemento hacia atrás hasta el primero\n",
    "for i in range(len(primeros_5_datos) - 2, -1, -1):\n",
    "    primeros_5_datos.iloc[i] = round(primeros_5_datos.iloc[i + 1] * 1.0175,2)\n",
    "\n",
    "primeros_5_datos = round(primeros_5_datos)"
   ]
  },
  {
   "cell_type": "code",
   "execution_count": 44,
   "metadata": {},
   "outputs": [
    {
     "data": {
      "text/plain": [
       "5      1058.0\n",
       "29     1040.0\n",
       "53     1022.0\n",
       "77     1004.0\n",
       "101     987.0\n",
       "Name: Banda ancha fija, dtype: float64"
      ]
     },
     "execution_count": 44,
     "metadata": {},
     "output_type": "execute_result"
    }
   ],
   "source": [
    "primeros_5_datos"
   ]
  },
  {
   "cell_type": "code",
   "execution_count": 45,
   "metadata": {},
   "outputs": [],
   "source": [
    "# Define los nuevos valores en el orden correspondiente\n",
    "nuevos_valores = [1058, 1040, 1022, 1004, 987]\n",
    "\n",
    "# Define las posiciones en las que deseas reemplazar los valores\n",
    "posiciones = [5, 29, 53, 77, 101]\n",
    "\n",
    "# Reemplaza los valores en la columna \"Banda ancha fija\" en las posiciones especificadas\n",
    "for i in range(len(posiciones)):\n",
    "    AccBanAnchAngoXProv.loc[posiciones[i], 'Banda ancha fija'] = nuevos_valores[i]"
   ]
  },
  {
   "cell_type": "code",
   "execution_count": 46,
   "metadata": {},
   "outputs": [],
   "source": [
    "# Selecciona las columnas que deseas convertir a entero\n",
    "columnas_a_convertir = ['Dial up', 'Banda ancha fija']\n",
    "\n",
    "# Utiliza la función astype para convertir las columnas a tipo int64\n",
    "AccBanAnchAngoXProv[columnas_a_convertir] = AccBanAnchAngoXProv[columnas_a_convertir].astype('Int64')"
   ]
  },
  {
   "cell_type": "code",
   "execution_count": 47,
   "metadata": {},
   "outputs": [],
   "source": [
    "# Cambiar los datos a enteros y reemplazar los NaN con ceros en las columnas 3 y 4.\n",
    "AccBanAnchAngoXProv['Banda ancha fija'] = pd.to_numeric(AccBanAnchAngoXProv['Banda ancha fija'], errors='coerce').fillna(0).astype(int)\n",
    "AccBanAnchAngoXProv['Dial up'] = pd.to_numeric(AccBanAnchAngoXProv['Dial up'], errors='coerce').fillna(0).astype(int)"
   ]
  },
  {
   "cell_type": "code",
   "execution_count": 48,
   "metadata": {},
   "outputs": [],
   "source": [
    "AccBanAnchAngoXProv_Formosa = AccBanAnchAngoXProv[AccBanAnchAngoXProv['Provincia'] == 'Formosa']\n",
    "AccBanAnchAngoXProv_Formosa = AccBanAnchAngoXProv_Formosa[AccBanAnchAngoXProv_Formosa['Dial up'] >= 2 ]"
   ]
  },
  {
   "cell_type": "code",
   "execution_count": 49,
   "metadata": {},
   "outputs": [
    {
     "name": "stdout",
     "output_type": "stream",
     "text": [
      "Suma de la columna 'Incremento/Decremento': 95.71971730359212\n",
      "Promedio de la columna 'Incremento/Decremento': 19.143943460718425\n"
     ]
    }
   ],
   "source": [
    "# Filtra solo la columna \"Fibra óptica\".\n",
    "fibra_optica = AccBanAnchAngoXProv_Formosa['Dial up']\n",
    "\n",
    "# Calcula la diferencia entre cada dato y el dato anterior.\n",
    "diferencia = fibra_optica.diff()\n",
    "\n",
    "# Calcula el porcentaje de incremento o decremento.\n",
    "porcentaje_incremento_decremento = (diferencia / fibra_optica.shift(1)) * 100\n",
    "\n",
    "# Crea una nueva columna \"Incremento/Decremento\" en el DataFrame original.\n",
    "AccBanAnchAngoXProv_Formosa['Incremento/Decremento'] = porcentaje_incremento_decremento\n",
    "\n",
    "# Elimina la primera fila de la columna 'Incremento/Decremento'.\n",
    "AccBanAnchAngoXProv_Formosa = AccBanAnchAngoXProv_Formosa.iloc[1:]\n",
    "\n",
    "# Calcula la suma de la columna 'Incremento/Decremento'.\n",
    "suma = AccBanAnchAngoXProv_Formosa['Incremento/Decremento'].sum()\n",
    "\n",
    "# Calcula el promedio de la columna 'Incremento/Decremento'.\n",
    "promedio = AccBanAnchAngoXProv_Formosa['Incremento/Decremento'].mean()\n",
    "\n",
    "# Imprime la suma y el promedio.\n",
    "print(f\"Suma de la columna 'Incremento/Decremento': {suma}\")\n",
    "print(f\"Promedio de la columna 'Incremento/Decremento': {promedio}\")"
   ]
  },
  {
   "cell_type": "code",
   "execution_count": 50,
   "metadata": {},
   "outputs": [],
   "source": [
    "AccBanAnchAngoXProv_Formosa = AccBanAnchAngoXProv[AccBanAnchAngoXProv['Provincia'] == 'Formosa']\n",
    "\n",
    "# Toma los primeros 31 datos de la columna 'Fibra óptica'.\n",
    "primeros_31_datos = AccBanAnchAngoXProv_Formosa['Dial up'].head(31)\n",
    "\n",
    "# Luego, iteramos desde el penúltimo elemento hacia atrás hasta el primero\n",
    "for i in range(len(primeros_31_datos) - 2, -1, -1):\n",
    "    primeros_31_datos.iloc[i] = round(primeros_31_datos.iloc[i + 1] * (1-0.19),2)\n",
    "\n",
    "primeros_31_datos = round(primeros_31_datos)"
   ]
  },
  {
   "cell_type": "code",
   "execution_count": 51,
   "metadata": {},
   "outputs": [],
   "source": [
    "# Define los nuevos valores en el orden correspondiente\n",
    "nuevos_valores = [0, 0, 0, 0, 0, 0, 0, 0, 0, 0, 0, 0, 0, 0, 1, 1, 1, 2, 2, 3, 4, 5, 6, 8, 10, 12, 15, 19, 24, 30, 37]\n",
    "\n",
    "# Define las posiciones en las que deseas reemplazar los valores\n",
    "posiciones = [8, 32, 56, 80, 104, 128, 152, 176, 200, 224, 248, 272, 296, 320, 344, 368, 392, 416, 440, 464, 488, 512, 536, 560, 584, 608, 632, 656, 680, 704, 728]\n",
    "\n",
    "# Reemplaza los valores en la columna \"Banda ancha fija\" en las posiciones especificadas\n",
    "for i in range(len(posiciones)):\n",
    "    AccBanAnchAngoXProv.loc[posiciones[i], 'Dial up'] = nuevos_valores[i]"
   ]
  },
  {
   "cell_type": "code",
   "execution_count": 52,
   "metadata": {},
   "outputs": [],
   "source": [
    "# Reemplazar 'Misiones' con 7 en la columna 'Dial Up' sin afectar los demás datos\n",
    "AccBanAnchAngoXProv['Dial up'] = AccBanAnchAngoXProv.apply(lambda row: 7 if row['Provincia'] == 'Misiones' else row['Dial up'], axis=1)"
   ]
  },
  {
   "cell_type": "code",
   "execution_count": 53,
   "metadata": {},
   "outputs": [
    {
     "name": "stdout",
     "output_type": "stream",
     "text": [
      "Suma de la columna 'Incremento/Decremento': 109.68309468309468\n",
      "Promedio de la columna 'Incremento/Decremento': 4.98559521286794\n"
     ]
    }
   ],
   "source": [
    "AccBanAnchAngoXProv_Catamarca = AccBanAnchAngoXProv[AccBanAnchAngoXProv['Provincia'] == 'Catamarca']\n",
    "AccBanAnchAngoXProv_Catamarca = AccBanAnchAngoXProv_Catamarca[AccBanAnchAngoXProv_Catamarca['Dial up'] >= 2 ]\n",
    "# Filtra solo la columna \"Fibra óptica\".\n",
    "fibra_optica = AccBanAnchAngoXProv_Catamarca['Dial up']\n",
    "\n",
    "# Calcula la diferencia entre cada dato y el dato anterior.\n",
    "diferencia = fibra_optica.diff()\n",
    "\n",
    "# Calcula el porcentaje de incremento o decremento.\n",
    "porcentaje_incremento_decremento = (diferencia / fibra_optica.shift(1)) * 100\n",
    "\n",
    "# Crea una nueva columna \"Incremento/Decremento\" en el DataFrame original.\n",
    "AccBanAnchAngoXProv_Catamarca['Incremento/Decremento'] = porcentaje_incremento_decremento\n",
    "\n",
    "# Elimina la primera fila de la columna 'Incremento/Decremento'.\n",
    "AccBanAnchAngoXProv_Catamarca = AccBanAnchAngoXProv_Catamarca.iloc[1:]\n",
    "\n",
    "# Calcula la suma de la columna 'Incremento/Decremento'.\n",
    "suma = AccBanAnchAngoXProv_Catamarca['Incremento/Decremento'].sum()\n",
    "\n",
    "# Calcula el promedio de la columna 'Incremento/Decremento'.\n",
    "promedio = AccBanAnchAngoXProv_Catamarca['Incremento/Decremento'].mean()\n",
    "\n",
    "# Imprime la suma y el promedio.\n",
    "print(f\"Suma de la columna 'Incremento/Decremento': {suma}\")\n",
    "print(f\"Promedio de la columna 'Incremento/Decremento': {promedio}\")"
   ]
  },
  {
   "cell_type": "code",
   "execution_count": 54,
   "metadata": {},
   "outputs": [],
   "source": [
    "AccBanAnchAngoXProv_Catamarca = AccBanAnchAngoXProv[AccBanAnchAngoXProv['Provincia'] == 'Catamarca']\n",
    "\n",
    "# Toma los primeros 15 datos de la columna 'Fibra óptica'.\n",
    "primeros_15_datos = AccBanAnchAngoXProv_Catamarca['Dial up'].head(15)\n",
    "\n",
    "# Luego, iteramos desde el penúltimo elemento hacia atrás hasta el primero\n",
    "for i in range(len(primeros_15_datos) - 2, -1, -1):\n",
    "    primeros_15_datos.iloc[i] = round(primeros_15_datos.iloc[i + 1] * (1-0.049),2)\n",
    "\n",
    "primeros_15_datos = round(primeros_15_datos,0)"
   ]
  },
  {
   "cell_type": "code",
   "execution_count": 55,
   "metadata": {},
   "outputs": [
    {
     "data": {
      "text/plain": [
       "2      4.0\n",
       "26     5.0\n",
       "50     5.0\n",
       "74     5.0\n",
       "98     5.0\n",
       "122    6.0\n",
       "146    6.0\n",
       "170    6.0\n",
       "194    7.0\n",
       "218    7.0\n",
       "242    7.0\n",
       "266    8.0\n",
       "290    8.0\n",
       "314    9.0\n",
       "338    9.0\n",
       "Name: Dial up, dtype: float64"
      ]
     },
     "execution_count": 55,
     "metadata": {},
     "output_type": "execute_result"
    }
   ],
   "source": [
    "primeros_15_datos"
   ]
  },
  {
   "cell_type": "code",
   "execution_count": 56,
   "metadata": {},
   "outputs": [],
   "source": [
    "# Define los nuevos valores en el orden correspondiente\n",
    "nuevos_valores = [4.0, 5.0, 5.0, 5.0, 5.0, 6.0, 6.0, 6.0, 7.0, 7.0, 7.0, 8.0, 8.0, 9.0, 9.0]\n",
    "\n",
    "# Define las posiciones en las que deseas reemplazar los valores\n",
    "posiciones = [2, 26, 50, 74, 98, 122, 146, 170, 194, 218, 242, 266, 290, 314, 338]\n",
    "\n",
    "# Reemplaza los valores en la columna \"Banda ancha fija\" en las posiciones especificadas\n",
    "for i in range(len(posiciones)):\n",
    "    AccBanAnchAngoXProv.loc[posiciones[i], 'Dial up'] = nuevos_valores[i]"
   ]
  },
  {
   "cell_type": "code",
   "execution_count": 57,
   "metadata": {},
   "outputs": [
    {
     "data": {
      "text/html": [
       "<div>\n",
       "<style scoped>\n",
       "    .dataframe tbody tr th:only-of-type {\n",
       "        vertical-align: middle;\n",
       "    }\n",
       "\n",
       "    .dataframe tbody tr th {\n",
       "        vertical-align: top;\n",
       "    }\n",
       "\n",
       "    .dataframe thead th {\n",
       "        text-align: right;\n",
       "    }\n",
       "</style>\n",
       "<table border=\"1\" class=\"dataframe\">\n",
       "  <thead>\n",
       "    <tr style=\"text-align: right;\">\n",
       "      <th></th>\n",
       "      <th>Año</th>\n",
       "      <th>Trimestre</th>\n",
       "      <th>Provincia</th>\n",
       "      <th>Banda ancha fija</th>\n",
       "      <th>Dial up</th>\n",
       "    </tr>\n",
       "  </thead>\n",
       "  <tbody>\n",
       "    <tr>\n",
       "      <th>0</th>\n",
       "      <td>2022</td>\n",
       "      <td>4</td>\n",
       "      <td>Buenos Aires</td>\n",
       "      <td>5</td>\n",
       "      <td>6</td>\n",
       "    </tr>\n",
       "    <tr>\n",
       "      <th>1</th>\n",
       "      <td>2022</td>\n",
       "      <td>4</td>\n",
       "      <td>Capital Federal</td>\n",
       "      <td>2</td>\n",
       "      <td>2</td>\n",
       "    </tr>\n",
       "    <tr>\n",
       "      <th>2</th>\n",
       "      <td>2022</td>\n",
       "      <td>4</td>\n",
       "      <td>Catamarca</td>\n",
       "      <td>71</td>\n",
       "      <td>4</td>\n",
       "    </tr>\n",
       "    <tr>\n",
       "      <th>3</th>\n",
       "      <td>2022</td>\n",
       "      <td>4</td>\n",
       "      <td>Chaco</td>\n",
       "      <td>144</td>\n",
       "      <td>5</td>\n",
       "    </tr>\n",
       "    <tr>\n",
       "      <th>4</th>\n",
       "      <td>2022</td>\n",
       "      <td>4</td>\n",
       "      <td>Chubut</td>\n",
       "      <td>168</td>\n",
       "      <td>904</td>\n",
       "    </tr>\n",
       "  </tbody>\n",
       "</table>\n",
       "</div>"
      ],
      "text/plain": [
       "    Año  Trimestre        Provincia  Banda ancha fija  Dial up\n",
       "0  2022          4     Buenos Aires                 5        6\n",
       "1  2022          4  Capital Federal                 2        2\n",
       "2  2022          4        Catamarca                71        4\n",
       "3  2022          4            Chaco               144        5\n",
       "4  2022          4           Chubut               168      904"
      ]
     },
     "execution_count": 57,
     "metadata": {},
     "output_type": "execute_result"
    }
   ],
   "source": [
    "AccBanAnchAngoXProv.head()"
   ]
  },
  {
   "cell_type": "code",
   "execution_count": 58,
   "metadata": {},
   "outputs": [
    {
     "name": "stdout",
     "output_type": "stream",
     "text": [
      "Suma de la columna 'Incremento/Decremento': 28.104575163398692\n",
      "Promedio de la columna 'Incremento/Decremento': 1.2774806892453952\n"
     ]
    }
   ],
   "source": [
    "AccBanAnchAngoXProv_La_Rioja = AccBanAnchAngoXProv[AccBanAnchAngoXProv['Provincia'] == 'La Rioja']\n",
    "AccBanAnchAngoXProv_La_Rioja = AccBanAnchAngoXProv_La_Rioja[AccBanAnchAngoXProv_La_Rioja['Dial up'] >= 5 ]\n",
    "# Filtra solo la columna \"Fibra óptica\".\n",
    "Dial_up = AccBanAnchAngoXProv_La_Rioja['Dial up']\n",
    "\n",
    "# Calcula la diferencia entre cada dato y el dato anterior.\n",
    "diferencia = Dial_up.diff()\n",
    "\n",
    "# Calcula el porcentaje de incremento o decremento.\n",
    "porcentaje_incremento_decremento = (diferencia / Dial_up.shift(1)) * 100\n",
    "\n",
    "# Crea una nueva columna \"Incremento/Decremento\" en el DataFrame original.\n",
    "AccBanAnchAngoXProv_La_Rioja['Incremento/Decremento'] = porcentaje_incremento_decremento\n",
    "\n",
    "# Elimina la primera fila de la columna 'Incremento/Decremento'.\n",
    "AccBanAnchAngoXProv_La_Rioja = AccBanAnchAngoXProv_La_Rioja.iloc[1:]\n",
    "\n",
    "# Calcula la suma de la columna 'Incremento/Decremento'.\n",
    "suma = AccBanAnchAngoXProv_La_Rioja['Incremento/Decremento'].sum()\n",
    "\n",
    "# Calcula el promedio de la columna 'Incremento/Decremento'.\n",
    "promedio = AccBanAnchAngoXProv_La_Rioja['Incremento/Decremento'].mean()\n",
    "\n",
    "# Imprime la suma y el promedio.\n",
    "print(f\"Suma de la columna 'Incremento/Decremento': {suma}\")\n",
    "print(f\"Promedio de la columna 'Incremento/Decremento': {promedio}\")"
   ]
  },
  {
   "cell_type": "code",
   "execution_count": 59,
   "metadata": {},
   "outputs": [
    {
     "data": {
      "text/html": [
       "<div>\n",
       "<style scoped>\n",
       "    .dataframe tbody tr th:only-of-type {\n",
       "        vertical-align: middle;\n",
       "    }\n",
       "\n",
       "    .dataframe tbody tr th {\n",
       "        vertical-align: top;\n",
       "    }\n",
       "\n",
       "    .dataframe thead th {\n",
       "        text-align: right;\n",
       "    }\n",
       "</style>\n",
       "<table border=\"1\" class=\"dataframe\">\n",
       "  <thead>\n",
       "    <tr style=\"text-align: right;\">\n",
       "      <th></th>\n",
       "      <th>Año</th>\n",
       "      <th>Trimestre</th>\n",
       "      <th>Provincia</th>\n",
       "      <th>Banda ancha fija</th>\n",
       "      <th>Dial up</th>\n",
       "      <th>Incremento/Decremento</th>\n",
       "    </tr>\n",
       "  </thead>\n",
       "  <tbody>\n",
       "    <tr>\n",
       "      <th>347</th>\n",
       "      <td>2019</td>\n",
       "      <td>2</td>\n",
       "      <td>La Rioja</td>\n",
       "      <td>50</td>\n",
       "      <td>18</td>\n",
       "      <td>0.000000</td>\n",
       "    </tr>\n",
       "    <tr>\n",
       "      <th>371</th>\n",
       "      <td>2019</td>\n",
       "      <td>1</td>\n",
       "      <td>La Rioja</td>\n",
       "      <td>52</td>\n",
       "      <td>18</td>\n",
       "      <td>0.000000</td>\n",
       "    </tr>\n",
       "    <tr>\n",
       "      <th>395</th>\n",
       "      <td>2018</td>\n",
       "      <td>4</td>\n",
       "      <td>La Rioja</td>\n",
       "      <td>52</td>\n",
       "      <td>18</td>\n",
       "      <td>0.000000</td>\n",
       "    </tr>\n",
       "    <tr>\n",
       "      <th>419</th>\n",
       "      <td>2018</td>\n",
       "      <td>3</td>\n",
       "      <td>La Rioja</td>\n",
       "      <td>52</td>\n",
       "      <td>17</td>\n",
       "      <td>-5.555556</td>\n",
       "    </tr>\n",
       "    <tr>\n",
       "      <th>443</th>\n",
       "      <td>2018</td>\n",
       "      <td>2</td>\n",
       "      <td>La Rioja</td>\n",
       "      <td>52</td>\n",
       "      <td>17</td>\n",
       "      <td>0.000000</td>\n",
       "    </tr>\n",
       "    <tr>\n",
       "      <th>467</th>\n",
       "      <td>2018</td>\n",
       "      <td>1</td>\n",
       "      <td>La Rioja</td>\n",
       "      <td>52</td>\n",
       "      <td>17</td>\n",
       "      <td>0.000000</td>\n",
       "    </tr>\n",
       "    <tr>\n",
       "      <th>491</th>\n",
       "      <td>2017</td>\n",
       "      <td>4</td>\n",
       "      <td>La Rioja</td>\n",
       "      <td>52</td>\n",
       "      <td>17</td>\n",
       "      <td>0.000000</td>\n",
       "    </tr>\n",
       "    <tr>\n",
       "      <th>515</th>\n",
       "      <td>2017</td>\n",
       "      <td>3</td>\n",
       "      <td>La Rioja</td>\n",
       "      <td>52</td>\n",
       "      <td>17</td>\n",
       "      <td>0.000000</td>\n",
       "    </tr>\n",
       "    <tr>\n",
       "      <th>539</th>\n",
       "      <td>2017</td>\n",
       "      <td>2</td>\n",
       "      <td>La Rioja</td>\n",
       "      <td>16</td>\n",
       "      <td>18</td>\n",
       "      <td>5.882353</td>\n",
       "    </tr>\n",
       "    <tr>\n",
       "      <th>563</th>\n",
       "      <td>2017</td>\n",
       "      <td>1</td>\n",
       "      <td>La Rioja</td>\n",
       "      <td>16</td>\n",
       "      <td>18</td>\n",
       "      <td>0.000000</td>\n",
       "    </tr>\n",
       "    <tr>\n",
       "      <th>587</th>\n",
       "      <td>2016</td>\n",
       "      <td>4</td>\n",
       "      <td>La Rioja</td>\n",
       "      <td>16</td>\n",
       "      <td>18</td>\n",
       "      <td>0.000000</td>\n",
       "    </tr>\n",
       "    <tr>\n",
       "      <th>611</th>\n",
       "      <td>2016</td>\n",
       "      <td>3</td>\n",
       "      <td>La Rioja</td>\n",
       "      <td>17</td>\n",
       "      <td>18</td>\n",
       "      <td>0.000000</td>\n",
       "    </tr>\n",
       "    <tr>\n",
       "      <th>635</th>\n",
       "      <td>2016</td>\n",
       "      <td>2</td>\n",
       "      <td>La Rioja</td>\n",
       "      <td>17</td>\n",
       "      <td>18</td>\n",
       "      <td>0.000000</td>\n",
       "    </tr>\n",
       "    <tr>\n",
       "      <th>659</th>\n",
       "      <td>2016</td>\n",
       "      <td>1</td>\n",
       "      <td>La Rioja</td>\n",
       "      <td>17</td>\n",
       "      <td>18</td>\n",
       "      <td>0.000000</td>\n",
       "    </tr>\n",
       "    <tr>\n",
       "      <th>683</th>\n",
       "      <td>2015</td>\n",
       "      <td>4</td>\n",
       "      <td>La Rioja</td>\n",
       "      <td>17</td>\n",
       "      <td>18</td>\n",
       "      <td>0.000000</td>\n",
       "    </tr>\n",
       "    <tr>\n",
       "      <th>707</th>\n",
       "      <td>2015</td>\n",
       "      <td>3</td>\n",
       "      <td>La Rioja</td>\n",
       "      <td>17</td>\n",
       "      <td>18</td>\n",
       "      <td>0.000000</td>\n",
       "    </tr>\n",
       "    <tr>\n",
       "      <th>731</th>\n",
       "      <td>2015</td>\n",
       "      <td>2</td>\n",
       "      <td>La Rioja</td>\n",
       "      <td>16</td>\n",
       "      <td>18</td>\n",
       "      <td>0.000000</td>\n",
       "    </tr>\n",
       "    <tr>\n",
       "      <th>755</th>\n",
       "      <td>2015</td>\n",
       "      <td>1</td>\n",
       "      <td>La Rioja</td>\n",
       "      <td>16</td>\n",
       "      <td>23</td>\n",
       "      <td>27.777778</td>\n",
       "    </tr>\n",
       "    <tr>\n",
       "      <th>779</th>\n",
       "      <td>2014</td>\n",
       "      <td>4</td>\n",
       "      <td>La Rioja</td>\n",
       "      <td>16</td>\n",
       "      <td>23</td>\n",
       "      <td>0.000000</td>\n",
       "    </tr>\n",
       "    <tr>\n",
       "      <th>803</th>\n",
       "      <td>2014</td>\n",
       "      <td>3</td>\n",
       "      <td>La Rioja</td>\n",
       "      <td>16</td>\n",
       "      <td>23</td>\n",
       "      <td>0.000000</td>\n",
       "    </tr>\n",
       "    <tr>\n",
       "      <th>827</th>\n",
       "      <td>2014</td>\n",
       "      <td>2</td>\n",
       "      <td>La Rioja</td>\n",
       "      <td>16</td>\n",
       "      <td>23</td>\n",
       "      <td>0.000000</td>\n",
       "    </tr>\n",
       "    <tr>\n",
       "      <th>851</th>\n",
       "      <td>2014</td>\n",
       "      <td>1</td>\n",
       "      <td>La Rioja</td>\n",
       "      <td>16</td>\n",
       "      <td>23</td>\n",
       "      <td>0.000000</td>\n",
       "    </tr>\n",
       "  </tbody>\n",
       "</table>\n",
       "</div>"
      ],
      "text/plain": [
       "      Año  Trimestre Provincia  Banda ancha fija  Dial up  \\\n",
       "347  2019          2  La Rioja                50       18   \n",
       "371  2019          1  La Rioja                52       18   \n",
       "395  2018          4  La Rioja                52       18   \n",
       "419  2018          3  La Rioja                52       17   \n",
       "443  2018          2  La Rioja                52       17   \n",
       "467  2018          1  La Rioja                52       17   \n",
       "491  2017          4  La Rioja                52       17   \n",
       "515  2017          3  La Rioja                52       17   \n",
       "539  2017          2  La Rioja                16       18   \n",
       "563  2017          1  La Rioja                16       18   \n",
       "587  2016          4  La Rioja                16       18   \n",
       "611  2016          3  La Rioja                17       18   \n",
       "635  2016          2  La Rioja                17       18   \n",
       "659  2016          1  La Rioja                17       18   \n",
       "683  2015          4  La Rioja                17       18   \n",
       "707  2015          3  La Rioja                17       18   \n",
       "731  2015          2  La Rioja                16       18   \n",
       "755  2015          1  La Rioja                16       23   \n",
       "779  2014          4  La Rioja                16       23   \n",
       "803  2014          3  La Rioja                16       23   \n",
       "827  2014          2  La Rioja                16       23   \n",
       "851  2014          1  La Rioja                16       23   \n",
       "\n",
       "     Incremento/Decremento  \n",
       "347               0.000000  \n",
       "371               0.000000  \n",
       "395               0.000000  \n",
       "419              -5.555556  \n",
       "443               0.000000  \n",
       "467               0.000000  \n",
       "491               0.000000  \n",
       "515               0.000000  \n",
       "539               5.882353  \n",
       "563               0.000000  \n",
       "587               0.000000  \n",
       "611               0.000000  \n",
       "635               0.000000  \n",
       "659               0.000000  \n",
       "683               0.000000  \n",
       "707               0.000000  \n",
       "731               0.000000  \n",
       "755              27.777778  \n",
       "779               0.000000  \n",
       "803               0.000000  \n",
       "827               0.000000  \n",
       "851               0.000000  "
      ]
     },
     "execution_count": 59,
     "metadata": {},
     "output_type": "execute_result"
    }
   ],
   "source": [
    "AccBanAnchAngoXProv_La_Rioja"
   ]
  },
  {
   "cell_type": "code",
   "execution_count": 60,
   "metadata": {},
   "outputs": [
    {
     "data": {
      "text/plain": [
       "11     15.0\n",
       "35     15.0\n",
       "59     16.0\n",
       "83     16.0\n",
       "107    16.0\n",
       "131    16.0\n",
       "155    16.0\n",
       "179    17.0\n",
       "203    17.0\n",
       "227    17.0\n",
       "251    17.0\n",
       "275    18.0\n",
       "299    18.0\n",
       "323    18.0\n",
       "Name: Dial up, dtype: float64"
      ]
     },
     "execution_count": 60,
     "metadata": {},
     "output_type": "execute_result"
    }
   ],
   "source": [
    "AccBanAnchAngoXProv_La_Rioja = AccBanAnchAngoXProv[AccBanAnchAngoXProv['Provincia'] == 'La Rioja']\n",
    "\n",
    "# Toma los primeros 14 datos de la columna 'Fibra óptica'.\n",
    "primeros_14_datos = AccBanAnchAngoXProv_La_Rioja['Dial up'].head(14)\n",
    "\n",
    "# Luego, iteramos desde el penúltimo elemento hacia atrás hasta el primero\n",
    "for i in range(len(primeros_14_datos) - 2, -1, -1):\n",
    "    primeros_14_datos.iloc[i] = round(primeros_14_datos.iloc[i + 1] * (1-0.0127),2)\n",
    "\n",
    "primeros_14_datos = round(primeros_14_datos,0)\n",
    "primeros_14_datos"
   ]
  },
  {
   "cell_type": "code",
   "execution_count": 61,
   "metadata": {},
   "outputs": [],
   "source": [
    "# Define los nuevos valores en el orden correspondiente\n",
    "nuevos_valores = [15.0, 15.0, 16.0, 16.0, 16.0, 16.0, 16.0, 17.0, 17.0, 17.0, 17.0, 18.0, 18.0, 18.0]\n",
    "\n",
    "# Define las posiciones en las que deseas reemplazar los valores\n",
    "posiciones = [11, 35, 59, 83, 107, 131, 155, 179, 203, 227, 251, 275, 299, 323]\n",
    "\n",
    "# Reemplaza los valores en la columna \"Banda ancha fija\" en las posiciones especificadas\n",
    "for i in range(len(posiciones)):\n",
    "    AccBanAnchAngoXProv.loc[posiciones[i], 'Dial up'] = nuevos_valores[i]"
   ]
  },
  {
   "cell_type": "code",
   "execution_count": 62,
   "metadata": {},
   "outputs": [
    {
     "name": "stdout",
     "output_type": "stream",
     "text": [
      "Suma de la columna 'Incremento/Decremento': 109.64943088245394\n",
      "Promedio de la columna 'Incremento/Decremento': 6.449966522497291\n"
     ]
    }
   ],
   "source": [
    "AccBanAnchAngoXProv_La_Pampa = AccBanAnchAngoXProv[AccBanAnchAngoXProv['Provincia'] == 'La Pampa']\n",
    "AccBanAnchAngoXProv_La_Pampa = AccBanAnchAngoXProv_La_Pampa[AccBanAnchAngoXProv_La_Pampa['Dial up'] >= 269 ]\n",
    "# Filtra solo la columna \"Fibra óptica\".\n",
    "Dial_up = AccBanAnchAngoXProv_La_Pampa['Dial up']\n",
    "\n",
    "# Calcula la diferencia entre cada dato y el dato anterior.\n",
    "diferencia = Dial_up.diff()\n",
    "\n",
    "# Calcula el porcentaje de incremento o decremento.\n",
    "porcentaje_incremento_decremento = (diferencia / Dial_up.shift(1)) * 100\n",
    "\n",
    "# Crea una nueva columna \"Incremento/Decremento\" en el DataFrame original.\n",
    "AccBanAnchAngoXProv_La_Pampa['Incremento/Decremento'] = porcentaje_incremento_decremento\n",
    "\n",
    "# Elimina la primera fila de la columna 'Incremento/Decremento'.\n",
    "AccBanAnchAngoXProv_La_Pampa = AccBanAnchAngoXProv_La_Pampa.iloc[1:]\n",
    "\n",
    "# Calcula la suma de la columna 'Incremento/Decremento'.\n",
    "suma = AccBanAnchAngoXProv_La_Pampa['Incremento/Decremento'].sum()\n",
    "\n",
    "# Calcula el promedio de la columna 'Incremento/Decremento'.\n",
    "promedio = AccBanAnchAngoXProv_La_Pampa['Incremento/Decremento'].mean()\n",
    "\n",
    "# Imprime la suma y el promedio.\n",
    "print(f\"Suma de la columna 'Incremento/Decremento': {suma}\")\n",
    "print(f\"Promedio de la columna 'Incremento/Decremento': {promedio}\")"
   ]
  },
  {
   "cell_type": "code",
   "execution_count": 63,
   "metadata": {},
   "outputs": [
    {
     "data": {
      "text/plain": [
       "10     113.0\n",
       "34     121.0\n",
       "58     129.0\n",
       "82     138.0\n",
       "106    148.0\n",
       "130    158.0\n",
       "154    169.0\n",
       "178    180.0\n",
       "202    193.0\n",
       "226    206.0\n",
       "250    220.0\n",
       "274    235.0\n",
       "298    252.0\n",
       "322    269.0\n",
       "Name: Dial up, dtype: float64"
      ]
     },
     "execution_count": 63,
     "metadata": {},
     "output_type": "execute_result"
    }
   ],
   "source": [
    "AccBanAnchAngoXProv_La_Pampa = AccBanAnchAngoXProv[AccBanAnchAngoXProv['Provincia'] == 'La Pampa']\n",
    "\n",
    "# Toma los primeros 14 datos de la columna 'Fibra óptica'.\n",
    "primeros_14_datos = AccBanAnchAngoXProv_La_Pampa['Dial up'].head(14)\n",
    "\n",
    "# Luego, iteramos desde el penúltimo elemento hacia atrás hasta el primero\n",
    "for i in range(len(primeros_14_datos) - 2, -1, -1):\n",
    "    primeros_14_datos.iloc[i] = round(primeros_14_datos.iloc[i + 1] * (1-0.0644),2)\n",
    "\n",
    "primeros_14_datos = round(primeros_14_datos,0)\n",
    "primeros_14_datos"
   ]
  },
  {
   "cell_type": "code",
   "execution_count": 64,
   "metadata": {},
   "outputs": [],
   "source": [
    "# Define los nuevos valores en el orden correspondiente\n",
    "nuevos_valores = [113.0, 121.0, 129.0, 138.0, 148.0, 158.0, 169.0, 180.0, 193.0, 206.0, 220.0, 235.0, 252.0, 269.0]\n",
    "\n",
    "# Define las posiciones en las que deseas reemplazar los valores\n",
    "posiciones = [10, 34, 58, 82, 106, 130, 154, 178, 202, 226, 250, 274, 298, 322]\n",
    "\n",
    "# Reemplaza los valores en la columna \"Banda ancha fija\" en las posiciones especificadas\n",
    "for i in range(len(posiciones)):\n",
    "    AccBanAnchAngoXProv.loc[posiciones[i], 'Dial up'] = nuevos_valores[i]"
   ]
  },
  {
   "cell_type": "code",
   "execution_count": 65,
   "metadata": {},
   "outputs": [
    {
     "name": "stdout",
     "output_type": "stream",
     "text": [
      "Suma de la columna 'Incremento/Decremento': -18.906963300566666\n",
      "Promedio de la columna 'Incremento/Decremento': -1.575580275047222\n"
     ]
    }
   ],
   "source": [
    "AccBanAnchAngoXProvMendoza = AccBanAnchAngoXProv[AccBanAnchAngoXProv['Provincia'] == 'Mendoza']\n",
    "AccBanAnchAngoXProvMendoza = AccBanAnchAngoXProvMendoza[AccBanAnchAngoXProvMendoza['Dial up'] >= 615 ]\n",
    "# Filtra solo la columna \"Fibra óptica\".\n",
    "Dial_up = AccBanAnchAngoXProvMendoza['Dial up']\n",
    "\n",
    "# Calcula la diferencia entre cada dato y el dato anterior.\n",
    "diferencia = Dial_up.diff()\n",
    "\n",
    "# Calcula el porcentaje de incremento o decremento.\n",
    "porcentaje_incremento_decremento = (diferencia / Dial_up.shift(1)) * 100\n",
    "\n",
    "# Crea una nueva columna \"Incremento/Decremento\" en el DataFrame original.\n",
    "AccBanAnchAngoXProvMendoza['Incremento/Decremento'] = porcentaje_incremento_decremento\n",
    "\n",
    "# Elimina la primera fila de la columna 'Incremento/Decremento'.\n",
    "AccBanAnchAngoXProvMendoza = AccBanAnchAngoXProvMendoza.iloc[1:]\n",
    "\n",
    "# Calcula la suma de la columna 'Incremento/Decremento'.\n",
    "suma = AccBanAnchAngoXProvMendoza['Incremento/Decremento'].sum()\n",
    "\n",
    "# Calcula el promedio de la columna 'Incremento/Decremento'.\n",
    "promedio = AccBanAnchAngoXProvMendoza['Incremento/Decremento'].mean()\n",
    "\n",
    "# Imprime la suma y el promedio.\n",
    "print(f\"Suma de la columna 'Incremento/Decremento': {suma}\")\n",
    "print(f\"Promedio de la columna 'Incremento/Decremento': {promedio}\")"
   ]
  },
  {
   "cell_type": "code",
   "execution_count": 66,
   "metadata": {},
   "outputs": [
    {
     "data": {
      "text/html": [
       "<div>\n",
       "<style scoped>\n",
       "    .dataframe tbody tr th:only-of-type {\n",
       "        vertical-align: middle;\n",
       "    }\n",
       "\n",
       "    .dataframe tbody tr th {\n",
       "        vertical-align: top;\n",
       "    }\n",
       "\n",
       "    .dataframe thead th {\n",
       "        text-align: right;\n",
       "    }\n",
       "</style>\n",
       "<table border=\"1\" class=\"dataframe\">\n",
       "  <thead>\n",
       "    <tr style=\"text-align: right;\">\n",
       "      <th></th>\n",
       "      <th>Año</th>\n",
       "      <th>Trimestre</th>\n",
       "      <th>Provincia</th>\n",
       "      <th>Banda ancha fija</th>\n",
       "      <th>Dial up</th>\n",
       "    </tr>\n",
       "  </thead>\n",
       "  <tbody>\n",
       "    <tr>\n",
       "      <th>300</th>\n",
       "      <td>2019</td>\n",
       "      <td>4</td>\n",
       "      <td>Mendoza</td>\n",
       "      <td>185</td>\n",
       "      <td>623</td>\n",
       "    </tr>\n",
       "    <tr>\n",
       "      <th>324</th>\n",
       "      <td>2019</td>\n",
       "      <td>3</td>\n",
       "      <td>Mendoza</td>\n",
       "      <td>223</td>\n",
       "      <td>1</td>\n",
       "    </tr>\n",
       "    <tr>\n",
       "      <th>348</th>\n",
       "      <td>2019</td>\n",
       "      <td>2</td>\n",
       "      <td>Mendoza</td>\n",
       "      <td>223</td>\n",
       "      <td>1</td>\n",
       "    </tr>\n",
       "    <tr>\n",
       "      <th>372</th>\n",
       "      <td>2019</td>\n",
       "      <td>1</td>\n",
       "      <td>Mendoza</td>\n",
       "      <td>205</td>\n",
       "      <td>1</td>\n",
       "    </tr>\n",
       "    <tr>\n",
       "      <th>396</th>\n",
       "      <td>2018</td>\n",
       "      <td>4</td>\n",
       "      <td>Mendoza</td>\n",
       "      <td>205</td>\n",
       "      <td>1</td>\n",
       "    </tr>\n",
       "    <tr>\n",
       "      <th>420</th>\n",
       "      <td>2018</td>\n",
       "      <td>3</td>\n",
       "      <td>Mendoza</td>\n",
       "      <td>206</td>\n",
       "      <td>1</td>\n",
       "    </tr>\n",
       "    <tr>\n",
       "      <th>444</th>\n",
       "      <td>2018</td>\n",
       "      <td>2</td>\n",
       "      <td>Mendoza</td>\n",
       "      <td>199</td>\n",
       "      <td>1</td>\n",
       "    </tr>\n",
       "    <tr>\n",
       "      <th>468</th>\n",
       "      <td>2018</td>\n",
       "      <td>1</td>\n",
       "      <td>Mendoza</td>\n",
       "      <td>199</td>\n",
       "      <td>1</td>\n",
       "    </tr>\n",
       "    <tr>\n",
       "      <th>492</th>\n",
       "      <td>2017</td>\n",
       "      <td>4</td>\n",
       "      <td>Mendoza</td>\n",
       "      <td>179</td>\n",
       "      <td>1</td>\n",
       "    </tr>\n",
       "    <tr>\n",
       "      <th>516</th>\n",
       "      <td>2017</td>\n",
       "      <td>3</td>\n",
       "      <td>Mendoza</td>\n",
       "      <td>191</td>\n",
       "      <td>2</td>\n",
       "    </tr>\n",
       "    <tr>\n",
       "      <th>540</th>\n",
       "      <td>2017</td>\n",
       "      <td>2</td>\n",
       "      <td>Mendoza</td>\n",
       "      <td>169</td>\n",
       "      <td>1</td>\n",
       "    </tr>\n",
       "    <tr>\n",
       "      <th>564</th>\n",
       "      <td>2017</td>\n",
       "      <td>1</td>\n",
       "      <td>Mendoza</td>\n",
       "      <td>169</td>\n",
       "      <td>1</td>\n",
       "    </tr>\n",
       "    <tr>\n",
       "      <th>588</th>\n",
       "      <td>2016</td>\n",
       "      <td>4</td>\n",
       "      <td>Mendoza</td>\n",
       "      <td>169</td>\n",
       "      <td>1</td>\n",
       "    </tr>\n",
       "    <tr>\n",
       "      <th>612</th>\n",
       "      <td>2016</td>\n",
       "      <td>3</td>\n",
       "      <td>Mendoza</td>\n",
       "      <td>169</td>\n",
       "      <td>1</td>\n",
       "    </tr>\n",
       "    <tr>\n",
       "      <th>636</th>\n",
       "      <td>2016</td>\n",
       "      <td>2</td>\n",
       "      <td>Mendoza</td>\n",
       "      <td>169</td>\n",
       "      <td>2</td>\n",
       "    </tr>\n",
       "    <tr>\n",
       "      <th>660</th>\n",
       "      <td>2016</td>\n",
       "      <td>1</td>\n",
       "      <td>Mendoza</td>\n",
       "      <td>169</td>\n",
       "      <td>2</td>\n",
       "    </tr>\n",
       "    <tr>\n",
       "      <th>684</th>\n",
       "      <td>2015</td>\n",
       "      <td>4</td>\n",
       "      <td>Mendoza</td>\n",
       "      <td>169</td>\n",
       "      <td>2</td>\n",
       "    </tr>\n",
       "    <tr>\n",
       "      <th>708</th>\n",
       "      <td>2015</td>\n",
       "      <td>3</td>\n",
       "      <td>Mendoza</td>\n",
       "      <td>169</td>\n",
       "      <td>2</td>\n",
       "    </tr>\n",
       "    <tr>\n",
       "      <th>732</th>\n",
       "      <td>2015</td>\n",
       "      <td>2</td>\n",
       "      <td>Mendoza</td>\n",
       "      <td>169</td>\n",
       "      <td>2</td>\n",
       "    </tr>\n",
       "    <tr>\n",
       "      <th>756</th>\n",
       "      <td>2015</td>\n",
       "      <td>1</td>\n",
       "      <td>Mendoza</td>\n",
       "      <td>168</td>\n",
       "      <td>2</td>\n",
       "    </tr>\n",
       "    <tr>\n",
       "      <th>780</th>\n",
       "      <td>2014</td>\n",
       "      <td>4</td>\n",
       "      <td>Mendoza</td>\n",
       "      <td>168</td>\n",
       "      <td>2</td>\n",
       "    </tr>\n",
       "    <tr>\n",
       "      <th>804</th>\n",
       "      <td>2014</td>\n",
       "      <td>3</td>\n",
       "      <td>Mendoza</td>\n",
       "      <td>166</td>\n",
       "      <td>2</td>\n",
       "    </tr>\n",
       "    <tr>\n",
       "      <th>828</th>\n",
       "      <td>2014</td>\n",
       "      <td>2</td>\n",
       "      <td>Mendoza</td>\n",
       "      <td>165</td>\n",
       "      <td>2</td>\n",
       "    </tr>\n",
       "    <tr>\n",
       "      <th>852</th>\n",
       "      <td>2014</td>\n",
       "      <td>1</td>\n",
       "      <td>Mendoza</td>\n",
       "      <td>164</td>\n",
       "      <td>2</td>\n",
       "    </tr>\n",
       "  </tbody>\n",
       "</table>\n",
       "</div>"
      ],
      "text/plain": [
       "      Año  Trimestre Provincia  Banda ancha fija  Dial up\n",
       "300  2019          4   Mendoza               185      623\n",
       "324  2019          3   Mendoza               223        1\n",
       "348  2019          2   Mendoza               223        1\n",
       "372  2019          1   Mendoza               205        1\n",
       "396  2018          4   Mendoza               205        1\n",
       "420  2018          3   Mendoza               206        1\n",
       "444  2018          2   Mendoza               199        1\n",
       "468  2018          1   Mendoza               199        1\n",
       "492  2017          4   Mendoza               179        1\n",
       "516  2017          3   Mendoza               191        2\n",
       "540  2017          2   Mendoza               169        1\n",
       "564  2017          1   Mendoza               169        1\n",
       "588  2016          4   Mendoza               169        1\n",
       "612  2016          3   Mendoza               169        1\n",
       "636  2016          2   Mendoza               169        2\n",
       "660  2016          1   Mendoza               169        2\n",
       "684  2015          4   Mendoza               169        2\n",
       "708  2015          3   Mendoza               169        2\n",
       "732  2015          2   Mendoza               169        2\n",
       "756  2015          1   Mendoza               168        2\n",
       "780  2014          4   Mendoza               168        2\n",
       "804  2014          3   Mendoza               166        2\n",
       "828  2014          2   Mendoza               165        2\n",
       "852  2014          1   Mendoza               164        2"
      ]
     },
     "execution_count": 66,
     "metadata": {},
     "output_type": "execute_result"
    }
   ],
   "source": [
    "AccBanAnchAngoXProv[AccBanAnchAngoXProv['Provincia'] == 'Mendoza'].tail(24)"
   ]
  },
  {
   "cell_type": "code",
   "execution_count": 67,
   "metadata": {},
   "outputs": [
    {
     "data": {
      "text/plain": [
       "300    623.0\n",
       "324    633.0\n",
       "348    643.0\n",
       "372    653.0\n",
       "396    663.0\n",
       "420    673.0\n",
       "444    684.0\n",
       "468    695.0\n",
       "492    706.0\n",
       "516    717.0\n",
       "540    728.0\n",
       "564    739.0\n",
       "588    751.0\n",
       "612    763.0\n",
       "636    775.0\n",
       "660    787.0\n",
       "684    799.0\n",
       "708    812.0\n",
       "732    825.0\n",
       "756    838.0\n",
       "780    851.0\n",
       "804    864.0\n",
       "828    878.0\n",
       "852    891.0\n",
       "Name: Dial up, dtype: float64"
      ]
     },
     "execution_count": 67,
     "metadata": {},
     "output_type": "execute_result"
    }
   ],
   "source": [
    "AccBanAnchAngoXProvMendoza = AccBanAnchAngoXProv[AccBanAnchAngoXProv['Provincia'] == 'Mendoza']\n",
    "\n",
    "# Toma los primeros 14 datos de la columna 'Fibra óptica'.\n",
    "primeros_14_datos = AccBanAnchAngoXProvMendoza['Dial up'].tail(24)\n",
    "\n",
    "# Aplicar un incremento porcentual acumulativo\n",
    "for i in range(1, len(primeros_14_datos)):\n",
    "    primeros_14_datos.iloc[i] = round(primeros_14_datos.iloc[i - 1] * 1.0157, 2)\n",
    "\n",
    "primeros_14_datos = round(primeros_14_datos,0)\n",
    "primeros_14_datos"
   ]
  },
  {
   "cell_type": "code",
   "execution_count": 68,
   "metadata": {},
   "outputs": [],
   "source": [
    "# Define los nuevos valores en el orden correspondiente\n",
    "nuevos_valores = [623.0, 633.0, 643.0, 653.0, 663.0, 673.0, 684.0, 695.0, 706.0, 717.0, 728.0, 739.0, 751.0, 763.0, 775.0, 787.0, 799.0, 812.0, 825.0, 838.0, 851.0, 864.0, 878.0, 891.0]\n",
    "\n",
    "# Define las posiciones en las que deseas reemplazar los valores\n",
    "posiciones = [300, 324, 348, 372, 396, 420, 444, 468, 492, 516, 540, 564, 588, 612, 636, 660, 684, 708, 732, 756, 780, 804, 828, 852]\n",
    "\n",
    "# Reemplaza los valores en la columna \"Banda ancha fija\" en las posiciones especificadas\n",
    "for i in range(len(posiciones)):\n",
    "    AccBanAnchAngoXProv.loc[posiciones[i], 'Dial up'] = nuevos_valores[i]"
   ]
  },
  {
   "cell_type": "code",
   "execution_count": 69,
   "metadata": {},
   "outputs": [
    {
     "data": {
      "text/html": [
       "<div>\n",
       "<style scoped>\n",
       "    .dataframe tbody tr th:only-of-type {\n",
       "        vertical-align: middle;\n",
       "    }\n",
       "\n",
       "    .dataframe tbody tr th {\n",
       "        vertical-align: top;\n",
       "    }\n",
       "\n",
       "    .dataframe thead th {\n",
       "        text-align: right;\n",
       "    }\n",
       "</style>\n",
       "<table border=\"1\" class=\"dataframe\">\n",
       "  <thead>\n",
       "    <tr style=\"text-align: right;\">\n",
       "      <th></th>\n",
       "      <th>Año</th>\n",
       "      <th>Trimestre</th>\n",
       "      <th>Provincia</th>\n",
       "      <th>Banda ancha fija</th>\n",
       "      <th>Dial up</th>\n",
       "    </tr>\n",
       "  </thead>\n",
       "  <tbody>\n",
       "    <tr>\n",
       "      <th>0</th>\n",
       "      <td>2022</td>\n",
       "      <td>4</td>\n",
       "      <td>Buenos Aires</td>\n",
       "      <td>5</td>\n",
       "      <td>6</td>\n",
       "    </tr>\n",
       "    <tr>\n",
       "      <th>1</th>\n",
       "      <td>2022</td>\n",
       "      <td>4</td>\n",
       "      <td>Capital Federal</td>\n",
       "      <td>2</td>\n",
       "      <td>2</td>\n",
       "    </tr>\n",
       "    <tr>\n",
       "      <th>2</th>\n",
       "      <td>2022</td>\n",
       "      <td>4</td>\n",
       "      <td>Catamarca</td>\n",
       "      <td>71</td>\n",
       "      <td>4</td>\n",
       "    </tr>\n",
       "    <tr>\n",
       "      <th>3</th>\n",
       "      <td>2022</td>\n",
       "      <td>4</td>\n",
       "      <td>Chaco</td>\n",
       "      <td>144</td>\n",
       "      <td>5</td>\n",
       "    </tr>\n",
       "    <tr>\n",
       "      <th>4</th>\n",
       "      <td>2022</td>\n",
       "      <td>4</td>\n",
       "      <td>Chubut</td>\n",
       "      <td>168</td>\n",
       "      <td>904</td>\n",
       "    </tr>\n",
       "  </tbody>\n",
       "</table>\n",
       "</div>"
      ],
      "text/plain": [
       "    Año  Trimestre        Provincia  Banda ancha fija  Dial up\n",
       "0  2022          4     Buenos Aires                 5        6\n",
       "1  2022          4  Capital Federal                 2        2\n",
       "2  2022          4        Catamarca                71        4\n",
       "3  2022          4            Chaco               144        5\n",
       "4  2022          4           Chubut               168      904"
      ]
     },
     "execution_count": 69,
     "metadata": {},
     "output_type": "execute_result"
    }
   ],
   "source": [
    "AccBanAnchAngoXProv.head()"
   ]
  },
  {
   "cell_type": "code",
   "execution_count": 70,
   "metadata": {},
   "outputs": [
    {
     "name": "stdout",
     "output_type": "stream",
     "text": [
      "Suma de la columna 'Incremento/Decremento': 64.40206095209444\n",
      "Promedio de la columna 'Incremento/Decremento': 8.050257619011806\n"
     ]
    }
   ],
   "source": [
    "AccBanAnchAngoXProvRío_Negro = AccBanAnchAngoXProv[AccBanAnchAngoXProv['Provincia'] == 'Río Negro']\n",
    "AccBanAnchAngoXProvRío_Negro = AccBanAnchAngoXProvRío_Negro[(AccBanAnchAngoXProvRío_Negro['Dial up'] >= 548) & (AccBanAnchAngoXProvRío_Negro['Dial up'] <= 915)]\n",
    "# Filtra solo la columna \"Fibra óptica\".\n",
    "Dial_up = AccBanAnchAngoXProvRío_Negro['Dial up']\n",
    "\n",
    "# Calcula la diferencia entre cada dato y el dato anterior.\n",
    "diferencia = Dial_up.diff()\n",
    "\n",
    "# Calcula el porcentaje de incremento o decremento.\n",
    "porcentaje_incremento_decremento = (diferencia / Dial_up.shift(1)) * 100\n",
    "\n",
    "# Crea una nueva columna \"Incremento/Decremento\" en el DataFrame original.\n",
    "AccBanAnchAngoXProvRío_Negro['Incremento/Decremento'] = porcentaje_incremento_decremento\n",
    "\n",
    "# Elimina la primera fila de la columna 'Incremento/Decremento'.\n",
    "AccBanAnchAngoXProvRío_Negro = AccBanAnchAngoXProvRío_Negro.iloc[1:]\n",
    "\n",
    "# Calcula la suma de la columna 'Incremento/Decremento'.\n",
    "suma = AccBanAnchAngoXProvRío_Negro['Incremento/Decremento'].sum()\n",
    "\n",
    "# Calcula el promedio de la columna 'Incremento/Decremento'.\n",
    "promedio = AccBanAnchAngoXProvRío_Negro['Incremento/Decremento'].mean()\n",
    "\n",
    "# Imprime la suma y el promedio.\n",
    "print(f\"Suma de la columna 'Incremento/Decremento': {suma}\")\n",
    "print(f\"Promedio de la columna 'Incremento/Decremento': {promedio}\")"
   ]
  },
  {
   "cell_type": "code",
   "execution_count": 71,
   "metadata": {},
   "outputs": [],
   "source": [
    "AccBanAnchAngoXProvRío_Negro = AccBanAnchAngoXProv[AccBanAnchAngoXProv['Provincia'] == 'Río Negro'].tail(20)"
   ]
  },
  {
   "cell_type": "code",
   "execution_count": 72,
   "metadata": {},
   "outputs": [
    {
     "data": {
      "text/html": [
       "<div>\n",
       "<style scoped>\n",
       "    .dataframe tbody tr th:only-of-type {\n",
       "        vertical-align: middle;\n",
       "    }\n",
       "\n",
       "    .dataframe tbody tr th {\n",
       "        vertical-align: top;\n",
       "    }\n",
       "\n",
       "    .dataframe thead th {\n",
       "        text-align: right;\n",
       "    }\n",
       "</style>\n",
       "<table border=\"1\" class=\"dataframe\">\n",
       "  <thead>\n",
       "    <tr style=\"text-align: right;\">\n",
       "      <th></th>\n",
       "      <th>Año</th>\n",
       "      <th>Trimestre</th>\n",
       "      <th>Provincia</th>\n",
       "      <th>Banda ancha fija</th>\n",
       "      <th>Dial up</th>\n",
       "    </tr>\n",
       "  </thead>\n",
       "  <tbody>\n",
       "    <tr>\n",
       "      <th>399</th>\n",
       "      <td>2018</td>\n",
       "      <td>4</td>\n",
       "      <td>Río Negro</td>\n",
       "      <td>116</td>\n",
       "      <td>915</td>\n",
       "    </tr>\n",
       "    <tr>\n",
       "      <th>423</th>\n",
       "      <td>2018</td>\n",
       "      <td>3</td>\n",
       "      <td>Río Negro</td>\n",
       "      <td>112</td>\n",
       "      <td>1</td>\n",
       "    </tr>\n",
       "    <tr>\n",
       "      <th>447</th>\n",
       "      <td>2018</td>\n",
       "      <td>2</td>\n",
       "      <td>Río Negro</td>\n",
       "      <td>111</td>\n",
       "      <td>1</td>\n",
       "    </tr>\n",
       "    <tr>\n",
       "      <th>471</th>\n",
       "      <td>2018</td>\n",
       "      <td>1</td>\n",
       "      <td>Río Negro</td>\n",
       "      <td>110</td>\n",
       "      <td>1</td>\n",
       "    </tr>\n",
       "    <tr>\n",
       "      <th>495</th>\n",
       "      <td>2017</td>\n",
       "      <td>4</td>\n",
       "      <td>Río Negro</td>\n",
       "      <td>109</td>\n",
       "      <td>1</td>\n",
       "    </tr>\n",
       "    <tr>\n",
       "      <th>519</th>\n",
       "      <td>2017</td>\n",
       "      <td>3</td>\n",
       "      <td>Río Negro</td>\n",
       "      <td>106</td>\n",
       "      <td>1</td>\n",
       "    </tr>\n",
       "    <tr>\n",
       "      <th>543</th>\n",
       "      <td>2017</td>\n",
       "      <td>2</td>\n",
       "      <td>Río Negro</td>\n",
       "      <td>101</td>\n",
       "      <td>998</td>\n",
       "    </tr>\n",
       "    <tr>\n",
       "      <th>567</th>\n",
       "      <td>2017</td>\n",
       "      <td>1</td>\n",
       "      <td>Río Negro</td>\n",
       "      <td>100</td>\n",
       "      <td>1</td>\n",
       "    </tr>\n",
       "    <tr>\n",
       "      <th>591</th>\n",
       "      <td>2016</td>\n",
       "      <td>4</td>\n",
       "      <td>Río Negro</td>\n",
       "      <td>100</td>\n",
       "      <td>1</td>\n",
       "    </tr>\n",
       "    <tr>\n",
       "      <th>615</th>\n",
       "      <td>2016</td>\n",
       "      <td>3</td>\n",
       "      <td>Río Negro</td>\n",
       "      <td>100</td>\n",
       "      <td>1</td>\n",
       "    </tr>\n",
       "    <tr>\n",
       "      <th>639</th>\n",
       "      <td>2016</td>\n",
       "      <td>2</td>\n",
       "      <td>Río Negro</td>\n",
       "      <td>100</td>\n",
       "      <td>1</td>\n",
       "    </tr>\n",
       "    <tr>\n",
       "      <th>663</th>\n",
       "      <td>2016</td>\n",
       "      <td>1</td>\n",
       "      <td>Río Negro</td>\n",
       "      <td>99</td>\n",
       "      <td>1</td>\n",
       "    </tr>\n",
       "    <tr>\n",
       "      <th>687</th>\n",
       "      <td>2015</td>\n",
       "      <td>4</td>\n",
       "      <td>Río Negro</td>\n",
       "      <td>99</td>\n",
       "      <td>1</td>\n",
       "    </tr>\n",
       "    <tr>\n",
       "      <th>711</th>\n",
       "      <td>2015</td>\n",
       "      <td>3</td>\n",
       "      <td>Río Negro</td>\n",
       "      <td>99</td>\n",
       "      <td>1</td>\n",
       "    </tr>\n",
       "    <tr>\n",
       "      <th>735</th>\n",
       "      <td>2015</td>\n",
       "      <td>2</td>\n",
       "      <td>Río Negro</td>\n",
       "      <td>98</td>\n",
       "      <td>1</td>\n",
       "    </tr>\n",
       "    <tr>\n",
       "      <th>759</th>\n",
       "      <td>2015</td>\n",
       "      <td>1</td>\n",
       "      <td>Río Negro</td>\n",
       "      <td>96</td>\n",
       "      <td>1</td>\n",
       "    </tr>\n",
       "    <tr>\n",
       "      <th>783</th>\n",
       "      <td>2014</td>\n",
       "      <td>4</td>\n",
       "      <td>Río Negro</td>\n",
       "      <td>95</td>\n",
       "      <td>1</td>\n",
       "    </tr>\n",
       "    <tr>\n",
       "      <th>807</th>\n",
       "      <td>2014</td>\n",
       "      <td>3</td>\n",
       "      <td>Río Negro</td>\n",
       "      <td>97</td>\n",
       "      <td>1</td>\n",
       "    </tr>\n",
       "    <tr>\n",
       "      <th>831</th>\n",
       "      <td>2014</td>\n",
       "      <td>2</td>\n",
       "      <td>Río Negro</td>\n",
       "      <td>95</td>\n",
       "      <td>1</td>\n",
       "    </tr>\n",
       "    <tr>\n",
       "      <th>855</th>\n",
       "      <td>2014</td>\n",
       "      <td>1</td>\n",
       "      <td>Río Negro</td>\n",
       "      <td>94</td>\n",
       "      <td>1</td>\n",
       "    </tr>\n",
       "  </tbody>\n",
       "</table>\n",
       "</div>"
      ],
      "text/plain": [
       "      Año  Trimestre  Provincia  Banda ancha fija  Dial up\n",
       "399  2018          4  Río Negro               116      915\n",
       "423  2018          3  Río Negro               112        1\n",
       "447  2018          2  Río Negro               111        1\n",
       "471  2018          1  Río Negro               110        1\n",
       "495  2017          4  Río Negro               109        1\n",
       "519  2017          3  Río Negro               106        1\n",
       "543  2017          2  Río Negro               101      998\n",
       "567  2017          1  Río Negro               100        1\n",
       "591  2016          4  Río Negro               100        1\n",
       "615  2016          3  Río Negro               100        1\n",
       "639  2016          2  Río Negro               100        1\n",
       "663  2016          1  Río Negro                99        1\n",
       "687  2015          4  Río Negro                99        1\n",
       "711  2015          3  Río Negro                99        1\n",
       "735  2015          2  Río Negro                98        1\n",
       "759  2015          1  Río Negro                96        1\n",
       "783  2014          4  Río Negro                95        1\n",
       "807  2014          3  Río Negro                97        1\n",
       "831  2014          2  Río Negro                95        1\n",
       "855  2014          1  Río Negro                94        1"
      ]
     },
     "execution_count": 72,
     "metadata": {},
     "output_type": "execute_result"
    }
   ],
   "source": [
    "AccBanAnchAngoXProvRío_Negro"
   ]
  },
  {
   "cell_type": "code",
   "execution_count": 73,
   "metadata": {},
   "outputs": [
    {
     "data": {
      "text/plain": [
       "399     915.0\n",
       "423     928.0\n",
       "447     942.0\n",
       "471     956.0\n",
       "495     970.0\n",
       "519     984.0\n",
       "543     998.0\n",
       "567    1013.0\n",
       "591    1027.0\n",
       "615    1042.0\n",
       "639    1058.0\n",
       "663    1073.0\n",
       "687    1089.0\n",
       "711    1105.0\n",
       "735    1121.0\n",
       "759    1137.0\n",
       "783    1154.0\n",
       "807    1171.0\n",
       "831    1188.0\n",
       "855    1205.0\n",
       "Name: Dial up, dtype: float64"
      ]
     },
     "execution_count": 73,
     "metadata": {},
     "output_type": "execute_result"
    }
   ],
   "source": [
    "AccBanAnchAngoXRío_Negro = AccBanAnchAngoXProv[AccBanAnchAngoXProv['Provincia'] == 'Río Negro']\n",
    "\n",
    "# Toma los primeros 14 datos de la columna 'Fibra óptica'.\n",
    "primeros_14_datos = AccBanAnchAngoXRío_Negro['Dial up'].tail(20)\n",
    "\n",
    "# Aplicar un incremento porcentual acumulativo\n",
    "for i in range(1, len(primeros_14_datos)):\n",
    "    primeros_14_datos.iloc[i] = round(primeros_14_datos.iloc[i - 1] * 1.0146, 2)\n",
    "\n",
    "primeros_14_datos = round(primeros_14_datos,0)\n",
    "primeros_14_datos"
   ]
  },
  {
   "cell_type": "code",
   "execution_count": 74,
   "metadata": {},
   "outputs": [
    {
     "data": {
      "text/html": [
       "<div>\n",
       "<style scoped>\n",
       "    .dataframe tbody tr th:only-of-type {\n",
       "        vertical-align: middle;\n",
       "    }\n",
       "\n",
       "    .dataframe tbody tr th {\n",
       "        vertical-align: top;\n",
       "    }\n",
       "\n",
       "    .dataframe thead th {\n",
       "        text-align: right;\n",
       "    }\n",
       "</style>\n",
       "<table border=\"1\" class=\"dataframe\">\n",
       "  <thead>\n",
       "    <tr style=\"text-align: right;\">\n",
       "      <th></th>\n",
       "      <th>Año</th>\n",
       "      <th>Trimestre</th>\n",
       "      <th>Provincia</th>\n",
       "      <th>Banda ancha fija</th>\n",
       "      <th>Dial up</th>\n",
       "    </tr>\n",
       "  </thead>\n",
       "  <tbody>\n",
       "    <tr>\n",
       "      <th>0</th>\n",
       "      <td>2022</td>\n",
       "      <td>4</td>\n",
       "      <td>Buenos Aires</td>\n",
       "      <td>5</td>\n",
       "      <td>6</td>\n",
       "    </tr>\n",
       "    <tr>\n",
       "      <th>1</th>\n",
       "      <td>2022</td>\n",
       "      <td>4</td>\n",
       "      <td>Capital Federal</td>\n",
       "      <td>2</td>\n",
       "      <td>2</td>\n",
       "    </tr>\n",
       "    <tr>\n",
       "      <th>2</th>\n",
       "      <td>2022</td>\n",
       "      <td>4</td>\n",
       "      <td>Catamarca</td>\n",
       "      <td>71</td>\n",
       "      <td>4</td>\n",
       "    </tr>\n",
       "    <tr>\n",
       "      <th>3</th>\n",
       "      <td>2022</td>\n",
       "      <td>4</td>\n",
       "      <td>Chaco</td>\n",
       "      <td>144</td>\n",
       "      <td>5</td>\n",
       "    </tr>\n",
       "    <tr>\n",
       "      <th>4</th>\n",
       "      <td>2022</td>\n",
       "      <td>4</td>\n",
       "      <td>Chubut</td>\n",
       "      <td>168</td>\n",
       "      <td>904</td>\n",
       "    </tr>\n",
       "    <tr>\n",
       "      <th>...</th>\n",
       "      <td>...</td>\n",
       "      <td>...</td>\n",
       "      <td>...</td>\n",
       "      <td>...</td>\n",
       "      <td>...</td>\n",
       "    </tr>\n",
       "    <tr>\n",
       "      <th>859</th>\n",
       "      <td>2014</td>\n",
       "      <td>1</td>\n",
       "      <td>Santa Cruz</td>\n",
       "      <td>26</td>\n",
       "      <td>460</td>\n",
       "    </tr>\n",
       "    <tr>\n",
       "      <th>860</th>\n",
       "      <td>2014</td>\n",
       "      <td>1</td>\n",
       "      <td>Santa Fe</td>\n",
       "      <td>506</td>\n",
       "      <td>612</td>\n",
       "    </tr>\n",
       "    <tr>\n",
       "      <th>861</th>\n",
       "      <td>2014</td>\n",
       "      <td>1</td>\n",
       "      <td>Santiago Del Estero</td>\n",
       "      <td>37</td>\n",
       "      <td>9</td>\n",
       "    </tr>\n",
       "    <tr>\n",
       "      <th>862</th>\n",
       "      <td>2014</td>\n",
       "      <td>1</td>\n",
       "      <td>Tierra Del Fuego</td>\n",
       "      <td>27</td>\n",
       "      <td>766</td>\n",
       "    </tr>\n",
       "    <tr>\n",
       "      <th>863</th>\n",
       "      <td>2014</td>\n",
       "      <td>1</td>\n",
       "      <td>Tucumán</td>\n",
       "      <td>130</td>\n",
       "      <td>88</td>\n",
       "    </tr>\n",
       "  </tbody>\n",
       "</table>\n",
       "<p>864 rows × 5 columns</p>\n",
       "</div>"
      ],
      "text/plain": [
       "      Año  Trimestre            Provincia  Banda ancha fija  Dial up\n",
       "0    2022          4         Buenos Aires                 5        6\n",
       "1    2022          4      Capital Federal                 2        2\n",
       "2    2022          4            Catamarca                71        4\n",
       "3    2022          4                Chaco               144        5\n",
       "4    2022          4               Chubut               168      904\n",
       "..    ...        ...                  ...               ...      ...\n",
       "859  2014          1           Santa Cruz                26      460\n",
       "860  2014          1             Santa Fe               506      612\n",
       "861  2014          1  Santiago Del Estero                37        9\n",
       "862  2014          1     Tierra Del Fuego                27      766\n",
       "863  2014          1              Tucumán               130       88\n",
       "\n",
       "[864 rows x 5 columns]"
      ]
     },
     "execution_count": 74,
     "metadata": {},
     "output_type": "execute_result"
    }
   ],
   "source": [
    "AccBanAnchAngoXProv"
   ]
  },
  {
   "cell_type": "code",
   "execution_count": 75,
   "metadata": {},
   "outputs": [
    {
     "name": "stdout",
     "output_type": "stream",
     "text": [
      "Suma de la columna 'Incremento/Decremento': -19.083734474902144\n",
      "Promedio de la columna 'Incremento/Decremento': -1.5903112062418454\n"
     ]
    }
   ],
   "source": [
    "AccBanAnchAngoXProNeuquén = AccBanAnchAngoXProv[AccBanAnchAngoXProv['Provincia'] == 'Neuquén']\n",
    "AccBanAnchAngoXProNeuquén = AccBanAnchAngoXProNeuquén[(AccBanAnchAngoXProNeuquén['Dial up'] >= 3)]\n",
    "# Filtra solo la columna \"Fibra óptica\".\n",
    "Dial_up = AccBanAnchAngoXProNeuquén['Dial up']\n",
    "\n",
    "# Calcula la diferencia entre cada dato y el dato anterior.\n",
    "diferencia = Dial_up.diff()\n",
    "\n",
    "# Calcula el porcentaje de incremento o decremento.\n",
    "porcentaje_incremento_decremento = (diferencia / Dial_up.shift(1)) * 100\n",
    "\n",
    "# Crea una nueva columna \"Incremento/Decremento\" en el DataFrame original.\n",
    "AccBanAnchAngoXProNeuquén['Incremento/Decremento'] = porcentaje_incremento_decremento\n",
    "\n",
    "# Elimina la primera fila de la columna 'Incremento/Decremento'.\n",
    "AccBanAnchAngoXProNeuquén = AccBanAnchAngoXProNeuquén.iloc[1:]\n",
    "\n",
    "# Calcula la suma de la columna 'Incremento/Decremento'.\n",
    "suma = AccBanAnchAngoXProNeuquén['Incremento/Decremento'].sum()\n",
    "\n",
    "# Calcula el promedio de la columna 'Incremento/Decremento'.\n",
    "promedio = AccBanAnchAngoXProNeuquén['Incremento/Decremento'].mean()\n",
    "\n",
    "# Imprime la suma y el promedio.\n",
    "print(f\"Suma de la columna 'Incremento/Decremento': {suma}\")\n",
    "print(f\"Promedio de la columna 'Incremento/Decremento': {promedio}\")"
   ]
  },
  {
   "cell_type": "code",
   "execution_count": 76,
   "metadata": {},
   "outputs": [
    {
     "data": {
      "text/plain": [
       "302    376.0\n",
       "326    370.0\n",
       "350    364.0\n",
       "374    358.0\n",
       "398    353.0\n",
       "422    347.0\n",
       "446    342.0\n",
       "470    336.0\n",
       "494    331.0\n",
       "518    325.0\n",
       "542    320.0\n",
       "566    315.0\n",
       "590    310.0\n",
       "614    305.0\n",
       "638    300.0\n",
       "662    296.0\n",
       "686    291.0\n",
       "710    286.0\n",
       "734    282.0\n",
       "758    277.0\n",
       "782    273.0\n",
       "806    269.0\n",
       "830    264.0\n",
       "854    260.0\n",
       "Name: Dial up, dtype: float64"
      ]
     },
     "execution_count": 76,
     "metadata": {},
     "output_type": "execute_result"
    }
   ],
   "source": [
    "AccBanAnchAngoXProvMendoza = AccBanAnchAngoXProv[AccBanAnchAngoXProv['Provincia'] == 'Neuquén']\n",
    "\n",
    "# Toma los primeros 14 datos de la columna 'Fibra óptica'.\n",
    "primeros_14_datos = AccBanAnchAngoXProvMendoza['Dial up'].tail(24)\n",
    "\n",
    "# Aplicar un incremento porcentual acumulativo\n",
    "for i in range(1, len(primeros_14_datos)):\n",
    "    primeros_14_datos.iloc[i] = round(primeros_14_datos.iloc[i - 1] * (1-0.0159),2)\n",
    "\n",
    "primeros_14_datos = round(primeros_14_datos,0)\n",
    "primeros_14_datos"
   ]
  },
  {
   "cell_type": "code",
   "execution_count": 77,
   "metadata": {},
   "outputs": [],
   "source": [
    "# Define los nuevos valores en el orden correspondiente\n",
    "nuevos_valores = [376.0, 370.0, 364.0, 359.0, 353.0, 347.0, 342.0, 337.0, 331.0, 326.0, 321.0, 316.0, 311.0, 306.0, 301.0, 297.0, 292.0, 287.0, 283.0, 278.0, 274.0, 270.0, 265.0, 261.0]\n",
    "\n",
    "# Define las posiciones en las que deseas reemplazar los valores\n",
    "posiciones = [302, 326, 350, 374, 398, 422, 446, 470, 494, 518, 542, 566, 590, 614, 638, 662, 686, 710, 734, 758, 782, 806, 830, 854]\n",
    "\n",
    "# Reemplaza los valores en la columna \"Banda ancha fija\" en las posiciones especificadas\n",
    "for i in range(len(posiciones)):\n",
    "    AccBanAnchAngoXProv.loc[posiciones[i], 'Dial up'] = nuevos_valores[i]"
   ]
  },
  {
   "cell_type": "code",
   "execution_count": 78,
   "metadata": {},
   "outputs": [
    {
     "data": {
      "text/html": [
       "<div>\n",
       "<style scoped>\n",
       "    .dataframe tbody tr th:only-of-type {\n",
       "        vertical-align: middle;\n",
       "    }\n",
       "\n",
       "    .dataframe tbody tr th {\n",
       "        vertical-align: top;\n",
       "    }\n",
       "\n",
       "    .dataframe thead th {\n",
       "        text-align: right;\n",
       "    }\n",
       "</style>\n",
       "<table border=\"1\" class=\"dataframe\">\n",
       "  <thead>\n",
       "    <tr style=\"text-align: right;\">\n",
       "      <th></th>\n",
       "      <th>Año</th>\n",
       "      <th>Trimestre</th>\n",
       "      <th>Provincia</th>\n",
       "      <th>Banda ancha fija</th>\n",
       "      <th>Dial up</th>\n",
       "    </tr>\n",
       "  </thead>\n",
       "  <tbody>\n",
       "    <tr>\n",
       "      <th>0</th>\n",
       "      <td>2022</td>\n",
       "      <td>4</td>\n",
       "      <td>Buenos Aires</td>\n",
       "      <td>5</td>\n",
       "      <td>6</td>\n",
       "    </tr>\n",
       "    <tr>\n",
       "      <th>1</th>\n",
       "      <td>2022</td>\n",
       "      <td>4</td>\n",
       "      <td>Capital Federal</td>\n",
       "      <td>2</td>\n",
       "      <td>2</td>\n",
       "    </tr>\n",
       "    <tr>\n",
       "      <th>2</th>\n",
       "      <td>2022</td>\n",
       "      <td>4</td>\n",
       "      <td>Catamarca</td>\n",
       "      <td>71</td>\n",
       "      <td>4</td>\n",
       "    </tr>\n",
       "    <tr>\n",
       "      <th>3</th>\n",
       "      <td>2022</td>\n",
       "      <td>4</td>\n",
       "      <td>Chaco</td>\n",
       "      <td>144</td>\n",
       "      <td>5</td>\n",
       "    </tr>\n",
       "    <tr>\n",
       "      <th>4</th>\n",
       "      <td>2022</td>\n",
       "      <td>4</td>\n",
       "      <td>Chubut</td>\n",
       "      <td>168</td>\n",
       "      <td>904</td>\n",
       "    </tr>\n",
       "  </tbody>\n",
       "</table>\n",
       "</div>"
      ],
      "text/plain": [
       "    Año  Trimestre        Provincia  Banda ancha fija  Dial up\n",
       "0  2022          4     Buenos Aires                 5        6\n",
       "1  2022          4  Capital Federal                 2        2\n",
       "2  2022          4        Catamarca                71        4\n",
       "3  2022          4            Chaco               144        5\n",
       "4  2022          4           Chubut               168      904"
      ]
     },
     "execution_count": 78,
     "metadata": {},
     "output_type": "execute_result"
    }
   ],
   "source": [
    "AccBanAnchAngoXProv.head()"
   ]
  },
  {
   "cell_type": "code",
   "execution_count": 79,
   "metadata": {},
   "outputs": [],
   "source": [
    "AccBanAnchAngoXProv.to_csv('AccesosBandaAnchayAngostaxProvinciaListo', index=False)"
   ]
  },
  {
   "cell_type": "code",
   "execution_count": null,
   "metadata": {},
   "outputs": [],
   "source": []
  },
  {
   "cell_type": "code",
   "execution_count": null,
   "metadata": {},
   "outputs": [],
   "source": []
  },
  {
   "cell_type": "code",
   "execution_count": 80,
   "metadata": {},
   "outputs": [
    {
     "name": "stderr",
     "output_type": "stream",
     "text": [
      "c:\\Python\\Python311\\Lib\\site-packages\\openpyxl\\styles\\stylesheet.py:226: UserWarning: Workbook contains no default style, apply openpyxl's default\n",
      "  warn(\"Workbook contains no default style, apply openpyxl's default\")\n"
     ]
    }
   ],
   "source": [
    "AccIntFijxTecyProv = pd.read_excel('AccesoaInternetfijoportecnologiayprovincia_2557961699032982696.xlsx')"
   ]
  },
  {
   "cell_type": "code",
   "execution_count": 81,
   "metadata": {},
   "outputs": [
    {
     "data": {
      "text/html": [
       "<div>\n",
       "<style scoped>\n",
       "    .dataframe tbody tr th:only-of-type {\n",
       "        vertical-align: middle;\n",
       "    }\n",
       "\n",
       "    .dataframe tbody tr th {\n",
       "        vertical-align: top;\n",
       "    }\n",
       "\n",
       "    .dataframe thead th {\n",
       "        text-align: right;\n",
       "    }\n",
       "</style>\n",
       "<table border=\"1\" class=\"dataframe\">\n",
       "  <thead>\n",
       "    <tr style=\"text-align: right;\">\n",
       "      <th></th>\n",
       "      <th>Año</th>\n",
       "      <th>Trimestre</th>\n",
       "      <th>Provincia</th>\n",
       "      <th>ADSL</th>\n",
       "      <th>Cablemodem</th>\n",
       "      <th>Fibra óptica</th>\n",
       "      <th>Wireless</th>\n",
       "      <th>Otros</th>\n",
       "      <th>Total</th>\n",
       "    </tr>\n",
       "  </thead>\n",
       "  <tbody>\n",
       "    <tr>\n",
       "      <th>0</th>\n",
       "      <td>2022</td>\n",
       "      <td>4</td>\n",
       "      <td>Buenos Aires</td>\n",
       "      <td>326.0</td>\n",
       "      <td>3.0</td>\n",
       "      <td>1.0</td>\n",
       "      <td>130.0</td>\n",
       "      <td>72.0</td>\n",
       "      <td>5.0</td>\n",
       "    </tr>\n",
       "    <tr>\n",
       "      <th>1</th>\n",
       "      <td>2022</td>\n",
       "      <td>4</td>\n",
       "      <td>Capital Federal</td>\n",
       "      <td>139.0</td>\n",
       "      <td>1.0</td>\n",
       "      <td>139.0</td>\n",
       "      <td>5.0</td>\n",
       "      <td>32.0</td>\n",
       "      <td>2.0</td>\n",
       "    </tr>\n",
       "    <tr>\n",
       "      <th>2</th>\n",
       "      <td>2022</td>\n",
       "      <td>4</td>\n",
       "      <td>Catamarca</td>\n",
       "      <td>9.0</td>\n",
       "      <td>11.0</td>\n",
       "      <td>47.0</td>\n",
       "      <td>1.0</td>\n",
       "      <td>2.0</td>\n",
       "      <td>71.0</td>\n",
       "    </tr>\n",
       "    <tr>\n",
       "      <th>3</th>\n",
       "      <td>2022</td>\n",
       "      <td>4</td>\n",
       "      <td>Chaco</td>\n",
       "      <td>25.0</td>\n",
       "      <td>61.0</td>\n",
       "      <td>47.0</td>\n",
       "      <td>8.0</td>\n",
       "      <td>3.0</td>\n",
       "      <td>144.0</td>\n",
       "    </tr>\n",
       "    <tr>\n",
       "      <th>4</th>\n",
       "      <td>2022</td>\n",
       "      <td>4</td>\n",
       "      <td>Chubut</td>\n",
       "      <td>45.0</td>\n",
       "      <td>74.0</td>\n",
       "      <td>10.0</td>\n",
       "      <td>31.0</td>\n",
       "      <td>9.0</td>\n",
       "      <td>169.0</td>\n",
       "    </tr>\n",
       "  </tbody>\n",
       "</table>\n",
       "</div>"
      ],
      "text/plain": [
       "    Año Trimestre        Provincia   ADSL  Cablemodem  Fibra óptica  Wireless  \\\n",
       "0  2022         4     Buenos Aires  326.0         3.0           1.0     130.0   \n",
       "1  2022         4  Capital Federal  139.0         1.0         139.0       5.0   \n",
       "2  2022         4        Catamarca    9.0        11.0          47.0       1.0   \n",
       "3  2022         4            Chaco   25.0        61.0          47.0       8.0   \n",
       "4  2022         4           Chubut   45.0        74.0          10.0      31.0   \n",
       "\n",
       "   Otros  Total  \n",
       "0   72.0    5.0  \n",
       "1   32.0    2.0  \n",
       "2    2.0   71.0  \n",
       "3    3.0  144.0  \n",
       "4    9.0  169.0  "
      ]
     },
     "execution_count": 81,
     "metadata": {},
     "output_type": "execute_result"
    }
   ],
   "source": [
    "AccIntFijxTecyProv.head()"
   ]
  },
  {
   "cell_type": "code",
   "execution_count": 82,
   "metadata": {},
   "outputs": [],
   "source": [
    "AccIntFijxTecyProv = AccIntFijxTecyProv.drop(864)"
   ]
  },
  {
   "cell_type": "code",
   "execution_count": 83,
   "metadata": {},
   "outputs": [
    {
     "name": "stdout",
     "output_type": "stream",
     "text": [
      "<class 'pandas.core.frame.DataFrame'>\n",
      "RangeIndex: 864 entries, 0 to 863\n",
      "Data columns (total 9 columns):\n",
      " #   Column        Non-Null Count  Dtype  \n",
      "---  ------        --------------  -----  \n",
      " 0   Año           864 non-null    object \n",
      " 1   Trimestre     864 non-null    object \n",
      " 2   Provincia     864 non-null    object \n",
      " 3   ADSL          864 non-null    float64\n",
      " 4   Cablemodem    864 non-null    float64\n",
      " 5   Fibra óptica  864 non-null    float64\n",
      " 6   Wireless      864 non-null    float64\n",
      " 7   Otros         864 non-null    float64\n",
      " 8   Total         864 non-null    float64\n",
      "dtypes: float64(6), object(3)\n",
      "memory usage: 60.9+ KB\n"
     ]
    }
   ],
   "source": [
    "AccIntFijxTecyProv.info()"
   ]
  },
  {
   "cell_type": "code",
   "execution_count": 84,
   "metadata": {},
   "outputs": [],
   "source": [
    "# Reemplazar los asteriscos en las columnas 'Año' y 'Trimestre'.\n",
    "AccIntFijxTecyProv['Año'] = AccIntFijxTecyProv['Año'].str.replace('*', '', regex=False)\n",
    "AccIntFijxTecyProv['Trimestre'] = AccIntFijxTecyProv['Trimestre'].str.replace('*', '', regex=False)"
   ]
  },
  {
   "cell_type": "code",
   "execution_count": 85,
   "metadata": {},
   "outputs": [
    {
     "name": "stdout",
     "output_type": "stream",
     "text": [
      "       Año Trimestre     Provincia   ADSL  Cablemodem  Fibra óptica  Wireless  \\\n",
      "0     2022         4  Buenos Aires  326.0         3.0           1.0     130.0   \n",
      "24    2022         3  Buenos Aires  340.0         3.0           1.0     127.0   \n",
      "48    2022         2  Buenos Aires  351.0         3.0           1.0     127.0   \n",
      "72    2022         1  Buenos Aires  392.0         3.0           1.0     126.0   \n",
      "96    2021         4  Buenos Aires  426.0         3.0           1.0     127.0   \n",
      "120   2021         3  Buenos Aires  586.0         3.0         886.0     120.0   \n",
      "144   2021         2  Buenos Aires  603.0         3.0         854.0     114.0   \n",
      "168   2021         1  Buenos Aires  630.0         2.0         822.0      99.0   \n",
      "192   2020         4  Buenos Aires  636.0         2.0         805.0      93.0   \n",
      "216   2020         3  Buenos Aires  654.0         2.0         749.0      94.0   \n",
      "240   2020         2  Buenos Aires  661.0         2.0         723.0      92.0   \n",
      "264   2020         1  Buenos Aires  673.0         2.0         721.0      85.0   \n",
      "288   2019         4  Buenos Aires  720.0         2.0         669.0      87.0   \n",
      "312  2019         3   Buenos Aires    1.0         2.0         425.0      86.0   \n",
      "336  2019         2   Buenos Aires    1.0         2.0         383.0      75.0   \n",
      "360  2019         1   Buenos Aires    1.0         2.0         336.0      65.0   \n",
      "384   2018         4  Buenos Aires    1.0         2.0         296.0      65.0   \n",
      "408   2018         3  Buenos Aires    1.0         2.0         156.0      62.0   \n",
      "432   2018         2  Buenos Aires    1.0         2.0         144.0      71.0   \n",
      "456   2018         1  Buenos Aires    1.0         2.0         134.0      64.0   \n",
      "480   2017         4  Buenos Aires    1.0         2.0         131.0      60.0   \n",
      "504   2017         3  Buenos Aires    1.0         2.0         125.0      35.0   \n",
      "528   2017         2  Buenos Aires    1.0         2.0         119.0      22.0   \n",
      "552   2017         1  Buenos Aires    2.0         1.0         119.0      21.0   \n",
      "576   2016         4  Buenos Aires    2.0         1.0         119.0      21.0   \n",
      "600   2016         3  Buenos Aires    2.0         1.0         113.0      19.0   \n",
      "624   2016         2  Buenos Aires    2.0         1.0         113.0      21.0   \n",
      "648   2016         1  Buenos Aires    2.0         1.0         111.0      21.0   \n",
      "672   2015         4  Buenos Aires    2.0         1.0         103.0      20.0   \n",
      "696   2015         3  Buenos Aires    2.0         1.0         114.0      20.0   \n",
      "720   2015         2  Buenos Aires    2.0         1.0         116.0      19.0   \n",
      "744   2015         1  Buenos Aires    2.0         1.0         134.0      19.0   \n",
      "768   2014         4  Buenos Aires    2.0         1.0         121.0      18.0   \n",
      "792   2014         3  Buenos Aires    2.0         1.0         124.0      20.0   \n",
      "816   2014         2  Buenos Aires    2.0         1.0         120.0      17.0   \n",
      "840   2014         1  Buenos Aires    2.0         1.0         121.0      17.0   \n",
      "\n",
      "     Otros  Total  Incremento_Porcentual  \n",
      "0     72.0    5.0              -4.117647  \n",
      "24    70.0    5.0              -3.133903  \n",
      "48    71.0    5.0             -10.459184  \n",
      "72    67.0    5.0              -7.981221  \n",
      "96    73.0    5.0             -27.303754  \n",
      "120   65.0    4.0              -2.819237  \n",
      "144   58.0    4.0              -4.285714  \n",
      "168   58.0    4.0              -0.943396  \n",
      "192   58.0    4.0              -2.752294  \n",
      "216   56.0    4.0              -1.059002  \n",
      "240   57.0    4.0              -1.783061  \n",
      "264   18.0    4.0              -6.527778  \n",
      "288   18.0    4.0               0.000000  \n",
      "312   27.0    4.0               0.000000  \n",
      "336   33.0    4.0               0.000000  \n",
      "360   20.0    4.0               0.000000  \n",
      "384   20.0    4.0               0.000000  \n",
      "408   26.0    4.0               0.000000  \n",
      "432   28.0    4.0               0.000000  \n",
      "456   31.0    3.0               0.000000  \n",
      "480   31.0    3.0               0.000000  \n",
      "504   39.0    3.0               0.000000  \n",
      "528   24.0    3.0             -50.000000  \n",
      "552   24.0    3.0               0.000000  \n",
      "576   24.0    3.0               0.000000  \n",
      "600   24.0    3.0               0.000000  \n",
      "624   26.0    3.0               0.000000  \n",
      "648   26.0    3.0               0.000000  \n",
      "672   26.0    3.0               0.000000  \n",
      "696   26.0    3.0               0.000000  \n",
      "720   26.0    3.0               0.000000  \n",
      "744   29.0    3.0               0.000000  \n",
      "768   32.0    3.0               0.000000  \n",
      "792   32.0    3.0               0.000000  \n",
      "816   33.0    3.0             -99.386503  \n",
      "840   34.0    3.0               0.000000  \n"
     ]
    }
   ],
   "source": [
    "import pandas as pd\n",
    "\n",
    "# Supongamos que 'AccIntFijxTecyProv' es tu DataFrame con los datos.\n",
    "# Filtra los datos solo para la provincia de Buenos Aires.\n",
    "AccIntFijxTecyProv_buenos_aires = AccIntFijxTecyProv[AccIntFijxTecyProv['Provincia'] == 'Buenos Aires']\n",
    "\n",
    "# Ordena los datos por la columna 'ADSL' en orden descendente.\n",
    "AccIntFijxTecyProv_buenos_aires = AccIntFijxTecyProv_buenos_aires.sort_values('ADSL', ascending=False)\n",
    "\n",
    "# Calcula el incremento porcentual y crea una nueva columna 'Incremento_Porcentual'.\n",
    "AccIntFijxTecyProv_buenos_aires['Incremento_Porcentual'] = AccIntFijxTecyProv_buenos_aires['ADSL'].pct_change() * 100\n",
    "\n",
    "# Los valores de la última fila tendrán NaN en 'Incremento_Porcentual', puedes llenar esos NaN con 0.\n",
    "AccIntFijxTecyProv_buenos_aires['Incremento_Porcentual'] = AccIntFijxTecyProv_buenos_aires['Incremento_Porcentual'].fillna(0)\n",
    "\n",
    "# Ordena nuevamente los datos por el índice original para volver al orden original.\n",
    "AccIntFijxTecyProv_buenos_aires = AccIntFijxTecyProv_buenos_aires.sort_index()\n",
    "\n",
    "# El DataFrame resultante contendrá la columna 'Incremento_Porcentual' con los incrementos porcentuales.\n",
    "print(AccIntFijxTecyProv_buenos_aires)"
   ]
  },
  {
   "cell_type": "code",
   "execution_count": 86,
   "metadata": {},
   "outputs": [
    {
     "name": "stdout",
     "output_type": "stream",
     "text": [
      "Suma de los primeros 11 resultados: -66.63841246149848\n",
      "Promedio de los primeros 11 resultados: -6.058037496499861\n"
     ]
    }
   ],
   "source": [
    "# Filtra los primeroAccIntFijxTecyProvs 12 resultados.\n",
    "primeros_12 = AccIntFijxTecyProv_buenos_aires.head(11)\n",
    "\n",
    "# Calcula la suma de la columna 'Incremento_Porcentual' de los primeros 12 resultados.\n",
    "suma = primeros_12['Incremento_Porcentual'].sum()\n",
    "\n",
    "# Calcula el promedio de la columna 'Incremento_Porcentual' de los primeros 12 resultados.\n",
    "promedio = primeros_12['Incremento_Porcentual'].mean()\n",
    "\n",
    "# Imprime la suma y el promedio.\n",
    "print(f\"Suma de los primeros 11 resultados: {suma}\")\n",
    "print(f\"Promedio de los primeros 11 resultados: {promedio}\")"
   ]
  },
  {
   "cell_type": "code",
   "execution_count": 87,
   "metadata": {},
   "outputs": [],
   "source": [
    "# Filtra los datos solo para la provincia de Buenos Aires.\n",
    "AccIntFijxTecyProv_buenos_aires = AccIntFijxTecyProv[AccIntFijxTecyProv['Provincia'] == 'Buenos Aires']\n",
    "\n",
    "# Encuentra el valor desde el cual deseas comenzar (en este caso, el duodécimo resultado).\n",
    "inicio = 12\n",
    "\n",
    "# Itera a través de los resultados a partir del índice 'inicio'.\n",
    "for i in range(inicio, len(AccIntFijxTecyProv_buenos_aires)):\n",
    "    # Realiza la operación multiplicando por 1.0605 y redondeando.\n",
    "    nuevo_valor = round(AccIntFijxTecyProv_buenos_aires.iloc[i - 1]['ADSL'] * 1.0605,2)\n",
    "    nuevo_valor = round(nuevo_valor)\n",
    "    # Actualiza el valor en la columna 'ADSL' del DataFrame 'AccIntFijxTecyProv_buenos_aires'.\n",
    "    AccIntFijxTecyProv_buenos_aires.at[AccIntFijxTecyProv_buenos_aires.index[i], 'ADSL'] = nuevo_valor\n",
    "\n",
    "# Actualiza el DataFrame original 'AccIntFijxTecyProv' con los cambios realizados en 'AccIntFijxTecyProv_buenos_aires'.\n",
    "AccIntFijxTecyProv.update(AccIntFijxTecyProv_buenos_aires)"
   ]
  },
  {
   "cell_type": "code",
   "execution_count": 88,
   "metadata": {},
   "outputs": [
    {
     "data": {
      "text/html": [
       "<div>\n",
       "<style scoped>\n",
       "    .dataframe tbody tr th:only-of-type {\n",
       "        vertical-align: middle;\n",
       "    }\n",
       "\n",
       "    .dataframe tbody tr th {\n",
       "        vertical-align: top;\n",
       "    }\n",
       "\n",
       "    .dataframe thead th {\n",
       "        text-align: right;\n",
       "    }\n",
       "</style>\n",
       "<table border=\"1\" class=\"dataframe\">\n",
       "  <thead>\n",
       "    <tr style=\"text-align: right;\">\n",
       "      <th></th>\n",
       "      <th>Año</th>\n",
       "      <th>Trimestre</th>\n",
       "      <th>Provincia</th>\n",
       "      <th>ADSL</th>\n",
       "      <th>Cablemodem</th>\n",
       "      <th>Fibra óptica</th>\n",
       "      <th>Wireless</th>\n",
       "      <th>Otros</th>\n",
       "      <th>Total</th>\n",
       "    </tr>\n",
       "  </thead>\n",
       "  <tbody>\n",
       "    <tr>\n",
       "      <th>0</th>\n",
       "      <td>2022</td>\n",
       "      <td>4</td>\n",
       "      <td>Buenos Aires</td>\n",
       "      <td>326.0</td>\n",
       "      <td>3.0</td>\n",
       "      <td>1.0</td>\n",
       "      <td>130.0</td>\n",
       "      <td>72.0</td>\n",
       "      <td>5.0</td>\n",
       "    </tr>\n",
       "    <tr>\n",
       "      <th>1</th>\n",
       "      <td>2022</td>\n",
       "      <td>4</td>\n",
       "      <td>Capital Federal</td>\n",
       "      <td>139.0</td>\n",
       "      <td>1.0</td>\n",
       "      <td>139.0</td>\n",
       "      <td>5.0</td>\n",
       "      <td>32.0</td>\n",
       "      <td>2.0</td>\n",
       "    </tr>\n",
       "    <tr>\n",
       "      <th>2</th>\n",
       "      <td>2022</td>\n",
       "      <td>4</td>\n",
       "      <td>Catamarca</td>\n",
       "      <td>9.0</td>\n",
       "      <td>11.0</td>\n",
       "      <td>47.0</td>\n",
       "      <td>1.0</td>\n",
       "      <td>2.0</td>\n",
       "      <td>71.0</td>\n",
       "    </tr>\n",
       "    <tr>\n",
       "      <th>3</th>\n",
       "      <td>2022</td>\n",
       "      <td>4</td>\n",
       "      <td>Chaco</td>\n",
       "      <td>25.0</td>\n",
       "      <td>61.0</td>\n",
       "      <td>47.0</td>\n",
       "      <td>8.0</td>\n",
       "      <td>3.0</td>\n",
       "      <td>144.0</td>\n",
       "    </tr>\n",
       "    <tr>\n",
       "      <th>4</th>\n",
       "      <td>2022</td>\n",
       "      <td>4</td>\n",
       "      <td>Chubut</td>\n",
       "      <td>45.0</td>\n",
       "      <td>74.0</td>\n",
       "      <td>10.0</td>\n",
       "      <td>31.0</td>\n",
       "      <td>9.0</td>\n",
       "      <td>169.0</td>\n",
       "    </tr>\n",
       "  </tbody>\n",
       "</table>\n",
       "</div>"
      ],
      "text/plain": [
       "    Año Trimestre        Provincia   ADSL  Cablemodem  Fibra óptica  Wireless  \\\n",
       "0  2022         4     Buenos Aires  326.0         3.0           1.0     130.0   \n",
       "1  2022         4  Capital Federal  139.0         1.0         139.0       5.0   \n",
       "2  2022         4        Catamarca    9.0        11.0          47.0       1.0   \n",
       "3  2022         4            Chaco   25.0        61.0          47.0       8.0   \n",
       "4  2022         4           Chubut   45.0        74.0          10.0      31.0   \n",
       "\n",
       "   Otros  Total  \n",
       "0   72.0    5.0  \n",
       "1   32.0    2.0  \n",
       "2    2.0   71.0  \n",
       "3    3.0  144.0  \n",
       "4    9.0  169.0  "
      ]
     },
     "execution_count": 88,
     "metadata": {},
     "output_type": "execute_result"
    }
   ],
   "source": [
    "AccIntFijxTecyProv.head()"
   ]
  },
  {
   "cell_type": "code",
   "execution_count": 89,
   "metadata": {},
   "outputs": [],
   "source": [
    "AccIntFijxTecyProv_buenos_aires = AccIntFijxTecyProv[AccIntFijxTecyProv['Provincia'] == 'Buenos Aires']"
   ]
  },
  {
   "cell_type": "code",
   "execution_count": 90,
   "metadata": {},
   "outputs": [],
   "source": [
    "AccIntFijxTecyProv_buenos_aires = AccIntFijxTecyProv_buenos_aires[AccIntFijxTecyProv_buenos_aires['Fibra óptica'] != 1]"
   ]
  },
  {
   "cell_type": "code",
   "execution_count": 91,
   "metadata": {},
   "outputs": [
    {
     "data": {
      "text/html": [
       "<div>\n",
       "<style scoped>\n",
       "    .dataframe tbody tr th:only-of-type {\n",
       "        vertical-align: middle;\n",
       "    }\n",
       "\n",
       "    .dataframe tbody tr th {\n",
       "        vertical-align: top;\n",
       "    }\n",
       "\n",
       "    .dataframe thead th {\n",
       "        text-align: right;\n",
       "    }\n",
       "</style>\n",
       "<table border=\"1\" class=\"dataframe\">\n",
       "  <thead>\n",
       "    <tr style=\"text-align: right;\">\n",
       "      <th></th>\n",
       "      <th>Año</th>\n",
       "      <th>Trimestre</th>\n",
       "      <th>Provincia</th>\n",
       "      <th>ADSL</th>\n",
       "      <th>Cablemodem</th>\n",
       "      <th>Fibra óptica</th>\n",
       "      <th>Wireless</th>\n",
       "      <th>Otros</th>\n",
       "      <th>Total</th>\n",
       "    </tr>\n",
       "  </thead>\n",
       "  <tbody>\n",
       "    <tr>\n",
       "      <th>120</th>\n",
       "      <td>2021</td>\n",
       "      <td>3</td>\n",
       "      <td>Buenos Aires</td>\n",
       "      <td>586.0</td>\n",
       "      <td>3.0</td>\n",
       "      <td>886.0</td>\n",
       "      <td>120.0</td>\n",
       "      <td>65.0</td>\n",
       "      <td>4.0</td>\n",
       "    </tr>\n",
       "    <tr>\n",
       "      <th>144</th>\n",
       "      <td>2021</td>\n",
       "      <td>2</td>\n",
       "      <td>Buenos Aires</td>\n",
       "      <td>603.0</td>\n",
       "      <td>3.0</td>\n",
       "      <td>854.0</td>\n",
       "      <td>114.0</td>\n",
       "      <td>58.0</td>\n",
       "      <td>4.0</td>\n",
       "    </tr>\n",
       "    <tr>\n",
       "      <th>168</th>\n",
       "      <td>2021</td>\n",
       "      <td>1</td>\n",
       "      <td>Buenos Aires</td>\n",
       "      <td>630.0</td>\n",
       "      <td>2.0</td>\n",
       "      <td>822.0</td>\n",
       "      <td>99.0</td>\n",
       "      <td>58.0</td>\n",
       "      <td>4.0</td>\n",
       "    </tr>\n",
       "    <tr>\n",
       "      <th>192</th>\n",
       "      <td>2020</td>\n",
       "      <td>4</td>\n",
       "      <td>Buenos Aires</td>\n",
       "      <td>636.0</td>\n",
       "      <td>2.0</td>\n",
       "      <td>805.0</td>\n",
       "      <td>93.0</td>\n",
       "      <td>58.0</td>\n",
       "      <td>4.0</td>\n",
       "    </tr>\n",
       "    <tr>\n",
       "      <th>216</th>\n",
       "      <td>2020</td>\n",
       "      <td>3</td>\n",
       "      <td>Buenos Aires</td>\n",
       "      <td>654.0</td>\n",
       "      <td>2.0</td>\n",
       "      <td>749.0</td>\n",
       "      <td>94.0</td>\n",
       "      <td>56.0</td>\n",
       "      <td>4.0</td>\n",
       "    </tr>\n",
       "    <tr>\n",
       "      <th>240</th>\n",
       "      <td>2020</td>\n",
       "      <td>2</td>\n",
       "      <td>Buenos Aires</td>\n",
       "      <td>661.0</td>\n",
       "      <td>2.0</td>\n",
       "      <td>723.0</td>\n",
       "      <td>92.0</td>\n",
       "      <td>57.0</td>\n",
       "      <td>4.0</td>\n",
       "    </tr>\n",
       "    <tr>\n",
       "      <th>264</th>\n",
       "      <td>2020</td>\n",
       "      <td>1</td>\n",
       "      <td>Buenos Aires</td>\n",
       "      <td>673.0</td>\n",
       "      <td>2.0</td>\n",
       "      <td>721.0</td>\n",
       "      <td>85.0</td>\n",
       "      <td>18.0</td>\n",
       "      <td>4.0</td>\n",
       "    </tr>\n",
       "    <tr>\n",
       "      <th>288</th>\n",
       "      <td>2019</td>\n",
       "      <td>4</td>\n",
       "      <td>Buenos Aires</td>\n",
       "      <td>714.0</td>\n",
       "      <td>2.0</td>\n",
       "      <td>669.0</td>\n",
       "      <td>87.0</td>\n",
       "      <td>18.0</td>\n",
       "      <td>4.0</td>\n",
       "    </tr>\n",
       "    <tr>\n",
       "      <th>312</th>\n",
       "      <td>2019</td>\n",
       "      <td>3</td>\n",
       "      <td>Buenos Aires</td>\n",
       "      <td>757.0</td>\n",
       "      <td>2.0</td>\n",
       "      <td>425.0</td>\n",
       "      <td>86.0</td>\n",
       "      <td>27.0</td>\n",
       "      <td>4.0</td>\n",
       "    </tr>\n",
       "    <tr>\n",
       "      <th>336</th>\n",
       "      <td>2019</td>\n",
       "      <td>2</td>\n",
       "      <td>Buenos Aires</td>\n",
       "      <td>803.0</td>\n",
       "      <td>2.0</td>\n",
       "      <td>383.0</td>\n",
       "      <td>75.0</td>\n",
       "      <td>33.0</td>\n",
       "      <td>4.0</td>\n",
       "    </tr>\n",
       "    <tr>\n",
       "      <th>360</th>\n",
       "      <td>2019</td>\n",
       "      <td>1</td>\n",
       "      <td>Buenos Aires</td>\n",
       "      <td>852.0</td>\n",
       "      <td>2.0</td>\n",
       "      <td>336.0</td>\n",
       "      <td>65.0</td>\n",
       "      <td>20.0</td>\n",
       "      <td>4.0</td>\n",
       "    </tr>\n",
       "    <tr>\n",
       "      <th>384</th>\n",
       "      <td>2018</td>\n",
       "      <td>4</td>\n",
       "      <td>Buenos Aires</td>\n",
       "      <td>904.0</td>\n",
       "      <td>2.0</td>\n",
       "      <td>296.0</td>\n",
       "      <td>65.0</td>\n",
       "      <td>20.0</td>\n",
       "      <td>4.0</td>\n",
       "    </tr>\n",
       "    <tr>\n",
       "      <th>408</th>\n",
       "      <td>2018</td>\n",
       "      <td>3</td>\n",
       "      <td>Buenos Aires</td>\n",
       "      <td>959.0</td>\n",
       "      <td>2.0</td>\n",
       "      <td>156.0</td>\n",
       "      <td>62.0</td>\n",
       "      <td>26.0</td>\n",
       "      <td>4.0</td>\n",
       "    </tr>\n",
       "    <tr>\n",
       "      <th>432</th>\n",
       "      <td>2018</td>\n",
       "      <td>2</td>\n",
       "      <td>Buenos Aires</td>\n",
       "      <td>1017.0</td>\n",
       "      <td>2.0</td>\n",
       "      <td>144.0</td>\n",
       "      <td>71.0</td>\n",
       "      <td>28.0</td>\n",
       "      <td>4.0</td>\n",
       "    </tr>\n",
       "    <tr>\n",
       "      <th>456</th>\n",
       "      <td>2018</td>\n",
       "      <td>1</td>\n",
       "      <td>Buenos Aires</td>\n",
       "      <td>1079.0</td>\n",
       "      <td>2.0</td>\n",
       "      <td>134.0</td>\n",
       "      <td>64.0</td>\n",
       "      <td>31.0</td>\n",
       "      <td>3.0</td>\n",
       "    </tr>\n",
       "    <tr>\n",
       "      <th>480</th>\n",
       "      <td>2017</td>\n",
       "      <td>4</td>\n",
       "      <td>Buenos Aires</td>\n",
       "      <td>1144.0</td>\n",
       "      <td>2.0</td>\n",
       "      <td>131.0</td>\n",
       "      <td>60.0</td>\n",
       "      <td>31.0</td>\n",
       "      <td>3.0</td>\n",
       "    </tr>\n",
       "    <tr>\n",
       "      <th>504</th>\n",
       "      <td>2017</td>\n",
       "      <td>3</td>\n",
       "      <td>Buenos Aires</td>\n",
       "      <td>1213.0</td>\n",
       "      <td>2.0</td>\n",
       "      <td>125.0</td>\n",
       "      <td>35.0</td>\n",
       "      <td>39.0</td>\n",
       "      <td>3.0</td>\n",
       "    </tr>\n",
       "    <tr>\n",
       "      <th>528</th>\n",
       "      <td>2017</td>\n",
       "      <td>2</td>\n",
       "      <td>Buenos Aires</td>\n",
       "      <td>1286.0</td>\n",
       "      <td>2.0</td>\n",
       "      <td>119.0</td>\n",
       "      <td>22.0</td>\n",
       "      <td>24.0</td>\n",
       "      <td>3.0</td>\n",
       "    </tr>\n",
       "    <tr>\n",
       "      <th>552</th>\n",
       "      <td>2017</td>\n",
       "      <td>1</td>\n",
       "      <td>Buenos Aires</td>\n",
       "      <td>1364.0</td>\n",
       "      <td>1.0</td>\n",
       "      <td>119.0</td>\n",
       "      <td>21.0</td>\n",
       "      <td>24.0</td>\n",
       "      <td>3.0</td>\n",
       "    </tr>\n",
       "    <tr>\n",
       "      <th>576</th>\n",
       "      <td>2016</td>\n",
       "      <td>4</td>\n",
       "      <td>Buenos Aires</td>\n",
       "      <td>1447.0</td>\n",
       "      <td>1.0</td>\n",
       "      <td>119.0</td>\n",
       "      <td>21.0</td>\n",
       "      <td>24.0</td>\n",
       "      <td>3.0</td>\n",
       "    </tr>\n",
       "    <tr>\n",
       "      <th>600</th>\n",
       "      <td>2016</td>\n",
       "      <td>3</td>\n",
       "      <td>Buenos Aires</td>\n",
       "      <td>1535.0</td>\n",
       "      <td>1.0</td>\n",
       "      <td>113.0</td>\n",
       "      <td>19.0</td>\n",
       "      <td>24.0</td>\n",
       "      <td>3.0</td>\n",
       "    </tr>\n",
       "    <tr>\n",
       "      <th>624</th>\n",
       "      <td>2016</td>\n",
       "      <td>2</td>\n",
       "      <td>Buenos Aires</td>\n",
       "      <td>1628.0</td>\n",
       "      <td>1.0</td>\n",
       "      <td>113.0</td>\n",
       "      <td>21.0</td>\n",
       "      <td>26.0</td>\n",
       "      <td>3.0</td>\n",
       "    </tr>\n",
       "    <tr>\n",
       "      <th>648</th>\n",
       "      <td>2016</td>\n",
       "      <td>1</td>\n",
       "      <td>Buenos Aires</td>\n",
       "      <td>1726.0</td>\n",
       "      <td>1.0</td>\n",
       "      <td>111.0</td>\n",
       "      <td>21.0</td>\n",
       "      <td>26.0</td>\n",
       "      <td>3.0</td>\n",
       "    </tr>\n",
       "    <tr>\n",
       "      <th>672</th>\n",
       "      <td>2015</td>\n",
       "      <td>4</td>\n",
       "      <td>Buenos Aires</td>\n",
       "      <td>1830.0</td>\n",
       "      <td>1.0</td>\n",
       "      <td>103.0</td>\n",
       "      <td>20.0</td>\n",
       "      <td>26.0</td>\n",
       "      <td>3.0</td>\n",
       "    </tr>\n",
       "    <tr>\n",
       "      <th>696</th>\n",
       "      <td>2015</td>\n",
       "      <td>3</td>\n",
       "      <td>Buenos Aires</td>\n",
       "      <td>1941.0</td>\n",
       "      <td>1.0</td>\n",
       "      <td>114.0</td>\n",
       "      <td>20.0</td>\n",
       "      <td>26.0</td>\n",
       "      <td>3.0</td>\n",
       "    </tr>\n",
       "    <tr>\n",
       "      <th>720</th>\n",
       "      <td>2015</td>\n",
       "      <td>2</td>\n",
       "      <td>Buenos Aires</td>\n",
       "      <td>2058.0</td>\n",
       "      <td>1.0</td>\n",
       "      <td>116.0</td>\n",
       "      <td>19.0</td>\n",
       "      <td>26.0</td>\n",
       "      <td>3.0</td>\n",
       "    </tr>\n",
       "    <tr>\n",
       "      <th>744</th>\n",
       "      <td>2015</td>\n",
       "      <td>1</td>\n",
       "      <td>Buenos Aires</td>\n",
       "      <td>2183.0</td>\n",
       "      <td>1.0</td>\n",
       "      <td>134.0</td>\n",
       "      <td>19.0</td>\n",
       "      <td>29.0</td>\n",
       "      <td>3.0</td>\n",
       "    </tr>\n",
       "    <tr>\n",
       "      <th>768</th>\n",
       "      <td>2014</td>\n",
       "      <td>4</td>\n",
       "      <td>Buenos Aires</td>\n",
       "      <td>2315.0</td>\n",
       "      <td>1.0</td>\n",
       "      <td>121.0</td>\n",
       "      <td>18.0</td>\n",
       "      <td>32.0</td>\n",
       "      <td>3.0</td>\n",
       "    </tr>\n",
       "    <tr>\n",
       "      <th>792</th>\n",
       "      <td>2014</td>\n",
       "      <td>3</td>\n",
       "      <td>Buenos Aires</td>\n",
       "      <td>2455.0</td>\n",
       "      <td>1.0</td>\n",
       "      <td>124.0</td>\n",
       "      <td>20.0</td>\n",
       "      <td>32.0</td>\n",
       "      <td>3.0</td>\n",
       "    </tr>\n",
       "    <tr>\n",
       "      <th>816</th>\n",
       "      <td>2014</td>\n",
       "      <td>2</td>\n",
       "      <td>Buenos Aires</td>\n",
       "      <td>2604.0</td>\n",
       "      <td>1.0</td>\n",
       "      <td>120.0</td>\n",
       "      <td>17.0</td>\n",
       "      <td>33.0</td>\n",
       "      <td>3.0</td>\n",
       "    </tr>\n",
       "    <tr>\n",
       "      <th>840</th>\n",
       "      <td>2014</td>\n",
       "      <td>1</td>\n",
       "      <td>Buenos Aires</td>\n",
       "      <td>2762.0</td>\n",
       "      <td>1.0</td>\n",
       "      <td>121.0</td>\n",
       "      <td>17.0</td>\n",
       "      <td>34.0</td>\n",
       "      <td>3.0</td>\n",
       "    </tr>\n",
       "  </tbody>\n",
       "</table>\n",
       "</div>"
      ],
      "text/plain": [
       "       Año Trimestre     Provincia    ADSL  Cablemodem  Fibra óptica  \\\n",
       "120   2021         3  Buenos Aires   586.0         3.0         886.0   \n",
       "144   2021         2  Buenos Aires   603.0         3.0         854.0   \n",
       "168   2021         1  Buenos Aires   630.0         2.0         822.0   \n",
       "192   2020         4  Buenos Aires   636.0         2.0         805.0   \n",
       "216   2020         3  Buenos Aires   654.0         2.0         749.0   \n",
       "240   2020         2  Buenos Aires   661.0         2.0         723.0   \n",
       "264   2020         1  Buenos Aires   673.0         2.0         721.0   \n",
       "288   2019         4  Buenos Aires   714.0         2.0         669.0   \n",
       "312  2019         3   Buenos Aires   757.0         2.0         425.0   \n",
       "336  2019         2   Buenos Aires   803.0         2.0         383.0   \n",
       "360  2019         1   Buenos Aires   852.0         2.0         336.0   \n",
       "384   2018         4  Buenos Aires   904.0         2.0         296.0   \n",
       "408   2018         3  Buenos Aires   959.0         2.0         156.0   \n",
       "432   2018         2  Buenos Aires  1017.0         2.0         144.0   \n",
       "456   2018         1  Buenos Aires  1079.0         2.0         134.0   \n",
       "480   2017         4  Buenos Aires  1144.0         2.0         131.0   \n",
       "504   2017         3  Buenos Aires  1213.0         2.0         125.0   \n",
       "528   2017         2  Buenos Aires  1286.0         2.0         119.0   \n",
       "552   2017         1  Buenos Aires  1364.0         1.0         119.0   \n",
       "576   2016         4  Buenos Aires  1447.0         1.0         119.0   \n",
       "600   2016         3  Buenos Aires  1535.0         1.0         113.0   \n",
       "624   2016         2  Buenos Aires  1628.0         1.0         113.0   \n",
       "648   2016         1  Buenos Aires  1726.0         1.0         111.0   \n",
       "672   2015         4  Buenos Aires  1830.0         1.0         103.0   \n",
       "696   2015         3  Buenos Aires  1941.0         1.0         114.0   \n",
       "720   2015         2  Buenos Aires  2058.0         1.0         116.0   \n",
       "744   2015         1  Buenos Aires  2183.0         1.0         134.0   \n",
       "768   2014         4  Buenos Aires  2315.0         1.0         121.0   \n",
       "792   2014         3  Buenos Aires  2455.0         1.0         124.0   \n",
       "816   2014         2  Buenos Aires  2604.0         1.0         120.0   \n",
       "840   2014         1  Buenos Aires  2762.0         1.0         121.0   \n",
       "\n",
       "     Wireless  Otros  Total  \n",
       "120     120.0   65.0    4.0  \n",
       "144     114.0   58.0    4.0  \n",
       "168      99.0   58.0    4.0  \n",
       "192      93.0   58.0    4.0  \n",
       "216      94.0   56.0    4.0  \n",
       "240      92.0   57.0    4.0  \n",
       "264      85.0   18.0    4.0  \n",
       "288      87.0   18.0    4.0  \n",
       "312      86.0   27.0    4.0  \n",
       "336      75.0   33.0    4.0  \n",
       "360      65.0   20.0    4.0  \n",
       "384      65.0   20.0    4.0  \n",
       "408      62.0   26.0    4.0  \n",
       "432      71.0   28.0    4.0  \n",
       "456      64.0   31.0    3.0  \n",
       "480      60.0   31.0    3.0  \n",
       "504      35.0   39.0    3.0  \n",
       "528      22.0   24.0    3.0  \n",
       "552      21.0   24.0    3.0  \n",
       "576      21.0   24.0    3.0  \n",
       "600      19.0   24.0    3.0  \n",
       "624      21.0   26.0    3.0  \n",
       "648      21.0   26.0    3.0  \n",
       "672      20.0   26.0    3.0  \n",
       "696      20.0   26.0    3.0  \n",
       "720      19.0   26.0    3.0  \n",
       "744      19.0   29.0    3.0  \n",
       "768      18.0   32.0    3.0  \n",
       "792      20.0   32.0    3.0  \n",
       "816      17.0   33.0    3.0  \n",
       "840      17.0   34.0    3.0  "
      ]
     },
     "execution_count": 91,
     "metadata": {},
     "output_type": "execute_result"
    }
   ],
   "source": [
    "AccIntFijxTecyProv_buenos_aires"
   ]
  },
  {
   "cell_type": "code",
   "execution_count": 92,
   "metadata": {},
   "outputs": [],
   "source": [
    "# Filtra solo la columna \"Fibra óptica\".\n",
    "fibra_optica = AccIntFijxTecyProv_buenos_aires['Fibra óptica']\n",
    "\n",
    "# Calcula la diferencia entre cada dato y el dato anterior.\n",
    "diferencia = fibra_optica.diff()\n",
    "\n",
    "# Calcula el porcentaje de incremento o decremento.\n",
    "porcentaje_incremento_decremento = (diferencia / fibra_optica.shift(1)) * 100\n",
    "\n",
    "# Crea una nueva columna \"Incremento/Decremento\" en el DataFrame original.\n",
    "AccIntFijxTecyProv_buenos_aires['Incremento/Decremento'] = porcentaje_incremento_decremento"
   ]
  },
  {
   "cell_type": "code",
   "execution_count": 93,
   "metadata": {},
   "outputs": [
    {
     "data": {
      "text/plain": [
       "120          NaN\n",
       "144    -3.611738\n",
       "168    -3.747073\n",
       "192    -2.068127\n",
       "216    -6.956522\n",
       "240    -3.471295\n",
       "264    -0.276625\n",
       "288    -7.212205\n",
       "312   -36.472347\n",
       "336    -9.882353\n",
       "360   -12.271540\n",
       "384   -11.904762\n",
       "408   -47.297297\n",
       "432    -7.692308\n",
       "456    -6.944444\n",
       "480    -2.238806\n",
       "504    -4.580153\n",
       "528    -4.800000\n",
       "552     0.000000\n",
       "576     0.000000\n",
       "600    -5.042017\n",
       "624     0.000000\n",
       "648    -1.769912\n",
       "672    -7.207207\n",
       "696    10.679612\n",
       "720     1.754386\n",
       "744    15.517241\n",
       "768    -9.701493\n",
       "792     2.479339\n",
       "816    -3.225806\n",
       "840     0.833333\n",
       "Name: Incremento/Decremento, dtype: float64"
      ]
     },
     "execution_count": 93,
     "metadata": {},
     "output_type": "execute_result"
    }
   ],
   "source": [
    "AccIntFijxTecyProv_buenos_aires['Incremento/Decremento']"
   ]
  },
  {
   "cell_type": "code",
   "execution_count": 94,
   "metadata": {},
   "outputs": [
    {
     "name": "stdout",
     "output_type": "stream",
     "text": [
      "Suma de la columna 'Incremento/Decremento': -167.11011802613527\n",
      "Promedio de la columna 'Incremento/Decremento': -5.570337267537842\n"
     ]
    }
   ],
   "source": [
    "# Elimina la primera fila de la columna 'Incremento/Decremento'.\n",
    "AccIntFijxTecyProv_buenos_aires = AccIntFijxTecyProv_buenos_aires.iloc[1:]\n",
    "\n",
    "# Calcula la suma de la columna 'Incremento/Decremento'.\n",
    "suma = AccIntFijxTecyProv_buenos_aires['Incremento/Decremento'].sum()\n",
    "\n",
    "# Calcula el promedio de la columna 'Incremento/Decremento'.\n",
    "promedio = AccIntFijxTecyProv_buenos_aires['Incremento/Decremento'].mean()\n",
    "\n",
    "# Imprime la suma y el promedio.\n",
    "print(f\"Suma de la columna 'Incremento/Decremento': {suma}\")\n",
    "print(f\"Promedio de la columna 'Incremento/Decremento': {promedio}\")"
   ]
  },
  {
   "cell_type": "code",
   "execution_count": 95,
   "metadata": {},
   "outputs": [],
   "source": [
    "import pandas as pd\n",
    "\n",
    "# Supongamos que 'AccIntFijxTecyProv' es tu DataFrame con los datos.\n",
    "# Filtra los datos solo para la provincia de Buenos Aires.\n",
    "AccIntFijxTecyProv_buenos_aires = AccIntFijxTecyProv[AccIntFijxTecyProv['Provincia'] == 'Buenos Aires']\n",
    "\n",
    "# Toma los primeros 6 datos de la columna 'Fibra óptica'.\n",
    "primeros_6_datos = AccIntFijxTecyProv_buenos_aires['Fibra óptica'].head(6)\n",
    "\n",
    "# Luego, iteramos desde el penúltimo elemento hacia atrás hasta el primero\n",
    "for i in range(len(primeros_6_datos) - 2, -1, -1):\n",
    "    primeros_6_datos.iloc[i] = round(primeros_6_datos.iloc[i + 1] * 1.0557,2)\n",
    "\n",
    "primeros_6_datos = round(primeros_6_datos)"
   ]
  },
  {
   "cell_type": "code",
   "execution_count": 96,
   "metadata": {},
   "outputs": [
    {
     "data": {
      "text/plain": [
       "0      1162.0\n",
       "24     1101.0\n",
       "48     1042.0\n",
       "72      987.0\n",
       "96      935.0\n",
       "120     886.0\n",
       "Name: Fibra óptica, dtype: float64"
      ]
     },
     "execution_count": 96,
     "metadata": {},
     "output_type": "execute_result"
    }
   ],
   "source": [
    "primeros_6_datos"
   ]
  },
  {
   "cell_type": "code",
   "execution_count": 97,
   "metadata": {},
   "outputs": [],
   "source": [
    "# Define los nuevos valores en el orden correspondiente\n",
    "nuevos_valores = [1161, 1100, 1042, 987, 935, 886]\n",
    "\n",
    "# Define las posiciones en las que deseas reemplazar los valores\n",
    "posiciones = [0, 24, 48, 72, 96, 120]\n",
    "\n",
    "# Reemplaza los valores en la columna \"Banda ancha fija\" en las posiciones especificadas\n",
    "for i in range(len(posiciones)):\n",
    "    AccIntFijxTecyProv.loc[posiciones[i], 'Fibra óptica'] = nuevos_valores[i]"
   ]
  },
  {
   "cell_type": "code",
   "execution_count": 98,
   "metadata": {},
   "outputs": [
    {
     "data": {
      "text/html": [
       "<div>\n",
       "<style scoped>\n",
       "    .dataframe tbody tr th:only-of-type {\n",
       "        vertical-align: middle;\n",
       "    }\n",
       "\n",
       "    .dataframe tbody tr th {\n",
       "        vertical-align: top;\n",
       "    }\n",
       "\n",
       "    .dataframe thead th {\n",
       "        text-align: right;\n",
       "    }\n",
       "</style>\n",
       "<table border=\"1\" class=\"dataframe\">\n",
       "  <thead>\n",
       "    <tr style=\"text-align: right;\">\n",
       "      <th></th>\n",
       "      <th>Año</th>\n",
       "      <th>Trimestre</th>\n",
       "      <th>Provincia</th>\n",
       "      <th>ADSL</th>\n",
       "      <th>Cablemodem</th>\n",
       "      <th>Fibra óptica</th>\n",
       "      <th>Wireless</th>\n",
       "      <th>Otros</th>\n",
       "      <th>Total</th>\n",
       "    </tr>\n",
       "  </thead>\n",
       "  <tbody>\n",
       "    <tr>\n",
       "      <th>0</th>\n",
       "      <td>2022</td>\n",
       "      <td>4</td>\n",
       "      <td>Buenos Aires</td>\n",
       "      <td>326.0</td>\n",
       "      <td>3.0</td>\n",
       "      <td>1161.0</td>\n",
       "      <td>130.0</td>\n",
       "      <td>72.0</td>\n",
       "      <td>5.0</td>\n",
       "    </tr>\n",
       "    <tr>\n",
       "      <th>1</th>\n",
       "      <td>2022</td>\n",
       "      <td>4</td>\n",
       "      <td>Capital Federal</td>\n",
       "      <td>139.0</td>\n",
       "      <td>1.0</td>\n",
       "      <td>139.0</td>\n",
       "      <td>5.0</td>\n",
       "      <td>32.0</td>\n",
       "      <td>2.0</td>\n",
       "    </tr>\n",
       "    <tr>\n",
       "      <th>2</th>\n",
       "      <td>2022</td>\n",
       "      <td>4</td>\n",
       "      <td>Catamarca</td>\n",
       "      <td>9.0</td>\n",
       "      <td>11.0</td>\n",
       "      <td>47.0</td>\n",
       "      <td>1.0</td>\n",
       "      <td>2.0</td>\n",
       "      <td>71.0</td>\n",
       "    </tr>\n",
       "    <tr>\n",
       "      <th>3</th>\n",
       "      <td>2022</td>\n",
       "      <td>4</td>\n",
       "      <td>Chaco</td>\n",
       "      <td>25.0</td>\n",
       "      <td>61.0</td>\n",
       "      <td>47.0</td>\n",
       "      <td>8.0</td>\n",
       "      <td>3.0</td>\n",
       "      <td>144.0</td>\n",
       "    </tr>\n",
       "    <tr>\n",
       "      <th>4</th>\n",
       "      <td>2022</td>\n",
       "      <td>4</td>\n",
       "      <td>Chubut</td>\n",
       "      <td>45.0</td>\n",
       "      <td>74.0</td>\n",
       "      <td>10.0</td>\n",
       "      <td>31.0</td>\n",
       "      <td>9.0</td>\n",
       "      <td>169.0</td>\n",
       "    </tr>\n",
       "  </tbody>\n",
       "</table>\n",
       "</div>"
      ],
      "text/plain": [
       "    Año Trimestre        Provincia   ADSL  Cablemodem  Fibra óptica  Wireless  \\\n",
       "0  2022         4     Buenos Aires  326.0         3.0        1161.0     130.0   \n",
       "1  2022         4  Capital Federal  139.0         1.0         139.0       5.0   \n",
       "2  2022         4        Catamarca    9.0        11.0          47.0       1.0   \n",
       "3  2022         4            Chaco   25.0        61.0          47.0       8.0   \n",
       "4  2022         4           Chubut   45.0        74.0          10.0      31.0   \n",
       "\n",
       "   Otros  Total  \n",
       "0   72.0    5.0  \n",
       "1   32.0    2.0  \n",
       "2    2.0   71.0  \n",
       "3    3.0  144.0  \n",
       "4    9.0  169.0  "
      ]
     },
     "execution_count": 98,
     "metadata": {},
     "output_type": "execute_result"
    }
   ],
   "source": [
    "AccIntFijxTecyProv.head()"
   ]
  },
  {
   "cell_type": "code",
   "execution_count": 99,
   "metadata": {},
   "outputs": [
    {
     "name": "stdout",
     "output_type": "stream",
     "text": [
      "<class 'pandas.core.frame.DataFrame'>\n",
      "RangeIndex: 864 entries, 0 to 863\n",
      "Data columns (total 9 columns):\n",
      " #   Column        Non-Null Count  Dtype  \n",
      "---  ------        --------------  -----  \n",
      " 0   Año           864 non-null    object \n",
      " 1   Trimestre     864 non-null    object \n",
      " 2   Provincia     864 non-null    object \n",
      " 3   ADSL          864 non-null    float64\n",
      " 4   Cablemodem    864 non-null    float64\n",
      " 5   Fibra óptica  864 non-null    float64\n",
      " 6   Wireless      864 non-null    float64\n",
      " 7   Otros         864 non-null    float64\n",
      " 8   Total         864 non-null    float64\n",
      "dtypes: float64(6), object(3)\n",
      "memory usage: 60.9+ KB\n"
     ]
    }
   ],
   "source": [
    "AccIntFijxTecyProv.info()"
   ]
  },
  {
   "cell_type": "code",
   "execution_count": 100,
   "metadata": {},
   "outputs": [],
   "source": [
    "# Supongamos que tienes un DataFrame llamado AccIntFijxTecyProv y deseas eliminar la columna \"Total\"\n",
    "AccIntFijxTecyProv = AccIntFijxTecyProv.drop(columns=['Total'])"
   ]
  },
  {
   "cell_type": "code",
   "execution_count": 101,
   "metadata": {},
   "outputs": [
    {
     "name": "stdout",
     "output_type": "stream",
     "text": [
      "<class 'pandas.core.frame.DataFrame'>\n",
      "RangeIndex: 864 entries, 0 to 863\n",
      "Data columns (total 8 columns):\n",
      " #   Column        Non-Null Count  Dtype  \n",
      "---  ------        --------------  -----  \n",
      " 0   Año           864 non-null    object \n",
      " 1   Trimestre     864 non-null    object \n",
      " 2   Provincia     864 non-null    object \n",
      " 3   ADSL          864 non-null    float64\n",
      " 4   Cablemodem    864 non-null    float64\n",
      " 5   Fibra óptica  864 non-null    float64\n",
      " 6   Wireless      864 non-null    float64\n",
      " 7   Otros         864 non-null    float64\n",
      "dtypes: float64(5), object(3)\n",
      "memory usage: 54.1+ KB\n"
     ]
    }
   ],
   "source": [
    "AccIntFijxTecyProv.info()"
   ]
  },
  {
   "cell_type": "code",
   "execution_count": 102,
   "metadata": {},
   "outputs": [
    {
     "data": {
      "text/html": [
       "<div>\n",
       "<style scoped>\n",
       "    .dataframe tbody tr th:only-of-type {\n",
       "        vertical-align: middle;\n",
       "    }\n",
       "\n",
       "    .dataframe tbody tr th {\n",
       "        vertical-align: top;\n",
       "    }\n",
       "\n",
       "    .dataframe thead th {\n",
       "        text-align: right;\n",
       "    }\n",
       "</style>\n",
       "<table border=\"1\" class=\"dataframe\">\n",
       "  <thead>\n",
       "    <tr style=\"text-align: right;\">\n",
       "      <th></th>\n",
       "      <th>Año</th>\n",
       "      <th>Trimestre</th>\n",
       "      <th>Provincia</th>\n",
       "      <th>ADSL</th>\n",
       "      <th>Cablemodem</th>\n",
       "      <th>Fibra óptica</th>\n",
       "      <th>Wireless</th>\n",
       "      <th>Otros</th>\n",
       "    </tr>\n",
       "  </thead>\n",
       "  <tbody>\n",
       "    <tr>\n",
       "      <th>0</th>\n",
       "      <td>2022</td>\n",
       "      <td>4</td>\n",
       "      <td>Buenos Aires</td>\n",
       "      <td>326.0</td>\n",
       "      <td>3.0</td>\n",
       "      <td>1161.0</td>\n",
       "      <td>130.0</td>\n",
       "      <td>72.0</td>\n",
       "    </tr>\n",
       "    <tr>\n",
       "      <th>1</th>\n",
       "      <td>2022</td>\n",
       "      <td>4</td>\n",
       "      <td>Capital Federal</td>\n",
       "      <td>139.0</td>\n",
       "      <td>1.0</td>\n",
       "      <td>139.0</td>\n",
       "      <td>5.0</td>\n",
       "      <td>32.0</td>\n",
       "    </tr>\n",
       "    <tr>\n",
       "      <th>2</th>\n",
       "      <td>2022</td>\n",
       "      <td>4</td>\n",
       "      <td>Catamarca</td>\n",
       "      <td>9.0</td>\n",
       "      <td>11.0</td>\n",
       "      <td>47.0</td>\n",
       "      <td>1.0</td>\n",
       "      <td>2.0</td>\n",
       "    </tr>\n",
       "    <tr>\n",
       "      <th>3</th>\n",
       "      <td>2022</td>\n",
       "      <td>4</td>\n",
       "      <td>Chaco</td>\n",
       "      <td>25.0</td>\n",
       "      <td>61.0</td>\n",
       "      <td>47.0</td>\n",
       "      <td>8.0</td>\n",
       "      <td>3.0</td>\n",
       "    </tr>\n",
       "    <tr>\n",
       "      <th>4</th>\n",
       "      <td>2022</td>\n",
       "      <td>4</td>\n",
       "      <td>Chubut</td>\n",
       "      <td>45.0</td>\n",
       "      <td>74.0</td>\n",
       "      <td>10.0</td>\n",
       "      <td>31.0</td>\n",
       "      <td>9.0</td>\n",
       "    </tr>\n",
       "  </tbody>\n",
       "</table>\n",
       "</div>"
      ],
      "text/plain": [
       "    Año Trimestre        Provincia   ADSL  Cablemodem  Fibra óptica  Wireless  \\\n",
       "0  2022         4     Buenos Aires  326.0         3.0        1161.0     130.0   \n",
       "1  2022         4  Capital Federal  139.0         1.0         139.0       5.0   \n",
       "2  2022         4        Catamarca    9.0        11.0          47.0       1.0   \n",
       "3  2022         4            Chaco   25.0        61.0          47.0       8.0   \n",
       "4  2022         4           Chubut   45.0        74.0          10.0      31.0   \n",
       "\n",
       "   Otros  \n",
       "0   72.0  \n",
       "1   32.0  \n",
       "2    2.0  \n",
       "3    3.0  \n",
       "4    9.0  "
      ]
     },
     "execution_count": 102,
     "metadata": {},
     "output_type": "execute_result"
    }
   ],
   "source": [
    "AccIntFijxTecyProv.head()"
   ]
  },
  {
   "cell_type": "code",
   "execution_count": 103,
   "metadata": {},
   "outputs": [
    {
     "name": "stdout",
     "output_type": "stream",
     "text": [
      "Suma de la columna 'Incremento/Decremento': -17.11459445964661\n",
      "Promedio de la columna 'Incremento/Decremento': -1.0067408505674478\n"
     ]
    }
   ],
   "source": [
    "AccIntFijxTecyProvCapital_Federal = AccIntFijxTecyProv[AccIntFijxTecyProv['Provincia'] == 'Capital Federal']\n",
    "AccIntFijxTecyProvCapital_Federal = AccIntFijxTecyProvCapital_Federal[(AccIntFijxTecyProvCapital_Federal['Cablemodem'] >= 820)]\n",
    "# Filtra solo la columna \"Fibra óptica\".\n",
    "Dial_up = AccIntFijxTecyProvCapital_Federal['Cablemodem']\n",
    "\n",
    "# Calcula la diferencia entre cada dato y el dato anterior.\n",
    "diferencia = Dial_up.diff()\n",
    "\n",
    "# Calcula el porcentaje de incremento o decremento.\n",
    "porcentaje_incremento_decremento = (diferencia / Dial_up.shift(1)) * 100\n",
    "\n",
    "# Crea una nueva columna \"Incremento/Decremento\" en el DataFrame original.\n",
    "AccIntFijxTecyProvCapital_Federal['Incremento/Decremento'] = porcentaje_incremento_decremento\n",
    "\n",
    "# Elimina la primera fila de la columna 'Incremento/Decremento'.\n",
    "AccIntFijxTecyProvCapital_Federal = AccIntFijxTecyProvCapital_Federal.iloc[1:]\n",
    "\n",
    "# Calcula la suma de la columna 'Incremento/Decremento'.\n",
    "suma = AccIntFijxTecyProvCapital_Federal['Incremento/Decremento'].sum()\n",
    "\n",
    "# Calcula el promedio de la columna 'Incremento/Decremento'.\n",
    "promedio = AccIntFijxTecyProvCapital_Federal['Incremento/Decremento'].mean()\n",
    "\n",
    "# Imprime la suma y el promedio.\n",
    "print(f\"Suma de la columna 'Incremento/Decremento': {suma}\")\n",
    "print(f\"Promedio de la columna 'Incremento/Decremento': {promedio}\")"
   ]
  },
  {
   "cell_type": "code",
   "execution_count": 104,
   "metadata": {},
   "outputs": [
    {
     "data": {
      "text/plain": [
       "1      1172.0\n",
       "25     1160.0\n",
       "49     1149.0\n",
       "73     1137.0\n",
       "97     1126.0\n",
       "121    1114.0\n",
       "145    1103.0\n",
       "169    1092.0\n",
       "193    1081.0\n",
       "217    1071.0\n",
       "241    1060.0\n",
       "265    1049.0\n",
       "289    1039.0\n",
       "313    1028.0\n",
       "337    1018.0\n",
       "361    1008.0\n",
       "385     998.0\n",
       "409     988.0\n",
       "433     978.0\n",
       "Name: Cablemodem, dtype: float64"
      ]
     },
     "execution_count": 104,
     "metadata": {},
     "output_type": "execute_result"
    }
   ],
   "source": [
    "AccIntFijxTecyProvCapital_Federal = AccIntFijxTecyProv[AccIntFijxTecyProv['Provincia'] == 'Capital Federal']\n",
    "\n",
    "# Toma los primeros 19 datos de la columna 'Fibra óptica'.\n",
    "primeros_19_datos = AccIntFijxTecyProvCapital_Federal['Cablemodem'].head(19)\n",
    "\n",
    "# Aplicar un incremento porcentual acumulativo\n",
    "for i in range(len(primeros_19_datos)-2,-1,-1):\n",
    "    primeros_19_datos.iloc[i] = round(primeros_19_datos.iloc[i + 1] * (1.0101),2)\n",
    "\n",
    "primeros_19_datos = round(primeros_19_datos,0)\n",
    "primeros_19_datos"
   ]
  },
  {
   "cell_type": "code",
   "execution_count": 105,
   "metadata": {},
   "outputs": [],
   "source": [
    "# Define los nuevos valores en el orden correspondiente\n",
    "nuevos_valores = [1172.0, 1160.0, 1149.0, 1137.0, 1126.0, 1114.0, 1103.0, 1092.0, 1081.0, 1071.0, 1060.0, 1049.0, 1039.0, 1028.0, 1018.0, 1008.0, 998.0, 988.0, 978.0]\n",
    "\n",
    "# Define las posiciones en las que deseas reemplazar los valores\n",
    "posiciones = [1, 25, 49, 73, 97, 121, 145, 169, 193, 217, 241, 265, 289, 313, 337, 361, 385, 409, 433]\n",
    "\n",
    "# Reemplaza los valores en la columna \"Banda ancha fija\" en las posiciones especificadas\n",
    "for i in range(len(posiciones)):\n",
    "    AccIntFijxTecyProv.loc[posiciones[i], 'Cablemodem'] = nuevos_valores[i]"
   ]
  },
  {
   "cell_type": "code",
   "execution_count": 106,
   "metadata": {},
   "outputs": [],
   "source": [
    "# Filtrar por Provincia igual a \"Catamarca\"\n",
    "catamarca_filter = AccIntFijxTecyProv[AccIntFijxTecyProv['Provincia'] == 'Catamarca']\n",
    "\n",
    "# Reemplazar el valor en la columna \"Cablemodem\" en el índice 842 por 246\n",
    "AccIntFijxTecyProv.loc[842, 'Cablemodem'] = 246"
   ]
  },
  {
   "cell_type": "code",
   "execution_count": 107,
   "metadata": {},
   "outputs": [
    {
     "name": "stdout",
     "output_type": "stream",
     "text": [
      "Suma de la columna 'Incremento/Decremento': -3.519851036851171\n",
      "Promedio de la columna 'Incremento/Decremento': -0.2707577720654747\n"
     ]
    }
   ],
   "source": [
    "AccIntFijxTecyCatamarca = AccIntFijxTecyProv[AccIntFijxTecyProv['Provincia'] == 'Catamarca']\n",
    "AccIntFijxTecyCatamarca = AccIntFijxTecyCatamarca[(AccIntFijxTecyCatamarca['Cablemodem'] >= 240) & (AccIntFijxTecyCatamarca['Cablemodem'] <= 255)]\n",
    "# Filtra solo la columna \"Fibra óptica\".\n",
    "Dial_up = AccIntFijxTecyCatamarca['Cablemodem']\n",
    "\n",
    "# Calcula la diferencia entre cada dato y el dato anterior.\n",
    "diferencia = Dial_up.diff()\n",
    "\n",
    "# Calcula el porcentaje de incremento o decremento.\n",
    "porcentaje_incremento_decremento = (diferencia / Dial_up.shift(1)) * 100\n",
    "\n",
    "# Crea una nueva columna \"Incremento/Decremento\" en el DataFrame original.\n",
    "AccIntFijxTecyCatamarca['Incremento/Decremento'] = porcentaje_incremento_decremento\n",
    "\n",
    "# Elimina la primera fila de la columna 'Incremento/Decremento'.\n",
    "AccIntFijxTecyCatamarca = AccIntFijxTecyCatamarca.iloc[1:]\n",
    "\n",
    "# Calcula la suma de la columna 'Incremento/Decremento'.\n",
    "suma = AccIntFijxTecyCatamarca['Incremento/Decremento'].sum()\n",
    "\n",
    "# Calcula el promedio de la columna 'Incremento/Decremento'.\n",
    "promedio = AccIntFijxTecyCatamarca['Incremento/Decremento'].mean()\n",
    "\n",
    "# Imprime la suma y el promedio.\n",
    "print(f\"Suma de la columna 'Incremento/Decremento': {suma}\")\n",
    "print(f\"Promedio de la columna 'Incremento/Decremento': {promedio}\")"
   ]
  },
  {
   "cell_type": "code",
   "execution_count": 108,
   "metadata": {},
   "outputs": [
    {
     "data": {
      "text/plain": [
       "2      355.0\n",
       "26     349.0\n",
       "50     344.0\n",
       "74     339.0\n",
       "98     334.0\n",
       "122    329.0\n",
       "146    324.0\n",
       "170    319.0\n",
       "194    315.0\n",
       "218    310.0\n",
       "242    305.0\n",
       "266    301.0\n",
       "290    296.0\n",
       "314    292.0\n",
       "338    287.0\n",
       "362    283.0\n",
       "386    279.0\n",
       "410    275.0\n",
       "434    271.0\n",
       "458    267.0\n",
       "482    263.0\n",
       "506    259.0\n",
       "530    255.0\n",
       "Name: Cablemodem, dtype: float64"
      ]
     },
     "execution_count": 108,
     "metadata": {},
     "output_type": "execute_result"
    }
   ],
   "source": [
    "AccIntFijxTecyCatamarca = AccIntFijxTecyProv[AccIntFijxTecyProv['Provincia'] == 'Catamarca']\n",
    "\n",
    "# Toma los primeros 19 datos de la columna 'Fibra óptica'.\n",
    "primeros_19_datos = AccIntFijxTecyCatamarca['Cablemodem'].head(23)\n",
    "\n",
    "# Aplicar un incremento porcentual acumulativo\n",
    "for i in range(len(primeros_19_datos)-2,-1,-1):\n",
    "    primeros_19_datos.iloc[i] = round(primeros_19_datos.iloc[i + 1] * (1.0151),2)\n",
    "\n",
    "primeros_19_datos = round(primeros_19_datos,0)\n",
    "primeros_19_datos"
   ]
  },
  {
   "cell_type": "code",
   "execution_count": 109,
   "metadata": {},
   "outputs": [],
   "source": [
    "# Define los nuevos valores en el orden correspondiente\n",
    "nuevos_valores = [355.0, 349.0, 344.0, 339.0, 334.0, 329.0, 324.0, 319.0, 315.0, 310.0, 305.0, 301.0, 296.0, 292.0, 287.0, 283.0, 279.0, 275.0, 271.0, 267.0, 263.0, 259.0, 255.0]\n",
    "\n",
    "# Define las posiciones en las que deseas reemplazar los valores\n",
    "posiciones = [2, 26, 50, 74, 98, 122, 146, 170, 194, 218, 242, 266, 290, 314, 338, 362, 386, 410, 434, 458, 482, 506, 530]\n",
    "\n",
    "# Reemplaza los valores en la columna \"Banda ancha fija\" en las posiciones especificadas\n",
    "for i in range(len(posiciones)):\n",
    "    AccIntFijxTecyProv.loc[posiciones[i], 'Cablemodem'] = nuevos_valores[i]"
   ]
  },
  {
   "cell_type": "code",
   "execution_count": 110,
   "metadata": {},
   "outputs": [
    {
     "data": {
      "text/html": [
       "<div>\n",
       "<style scoped>\n",
       "    .dataframe tbody tr th:only-of-type {\n",
       "        vertical-align: middle;\n",
       "    }\n",
       "\n",
       "    .dataframe tbody tr th {\n",
       "        vertical-align: top;\n",
       "    }\n",
       "\n",
       "    .dataframe thead th {\n",
       "        text-align: right;\n",
       "    }\n",
       "</style>\n",
       "<table border=\"1\" class=\"dataframe\">\n",
       "  <thead>\n",
       "    <tr style=\"text-align: right;\">\n",
       "      <th></th>\n",
       "      <th>Año</th>\n",
       "      <th>Trimestre</th>\n",
       "      <th>Provincia</th>\n",
       "      <th>ADSL</th>\n",
       "      <th>Cablemodem</th>\n",
       "      <th>Fibra óptica</th>\n",
       "      <th>Wireless</th>\n",
       "      <th>Otros</th>\n",
       "    </tr>\n",
       "  </thead>\n",
       "  <tbody>\n",
       "    <tr>\n",
       "      <th>0</th>\n",
       "      <td>2022</td>\n",
       "      <td>4</td>\n",
       "      <td>Buenos Aires</td>\n",
       "      <td>326.0</td>\n",
       "      <td>3.0</td>\n",
       "      <td>1161.0</td>\n",
       "      <td>130.0</td>\n",
       "      <td>72.0</td>\n",
       "    </tr>\n",
       "    <tr>\n",
       "      <th>1</th>\n",
       "      <td>2022</td>\n",
       "      <td>4</td>\n",
       "      <td>Capital Federal</td>\n",
       "      <td>139.0</td>\n",
       "      <td>1172.0</td>\n",
       "      <td>139.0</td>\n",
       "      <td>5.0</td>\n",
       "      <td>32.0</td>\n",
       "    </tr>\n",
       "    <tr>\n",
       "      <th>2</th>\n",
       "      <td>2022</td>\n",
       "      <td>4</td>\n",
       "      <td>Catamarca</td>\n",
       "      <td>9.0</td>\n",
       "      <td>355.0</td>\n",
       "      <td>47.0</td>\n",
       "      <td>1.0</td>\n",
       "      <td>2.0</td>\n",
       "    </tr>\n",
       "    <tr>\n",
       "      <th>3</th>\n",
       "      <td>2022</td>\n",
       "      <td>4</td>\n",
       "      <td>Chaco</td>\n",
       "      <td>25.0</td>\n",
       "      <td>61.0</td>\n",
       "      <td>47.0</td>\n",
       "      <td>8.0</td>\n",
       "      <td>3.0</td>\n",
       "    </tr>\n",
       "    <tr>\n",
       "      <th>4</th>\n",
       "      <td>2022</td>\n",
       "      <td>4</td>\n",
       "      <td>Chubut</td>\n",
       "      <td>45.0</td>\n",
       "      <td>74.0</td>\n",
       "      <td>10.0</td>\n",
       "      <td>31.0</td>\n",
       "      <td>9.0</td>\n",
       "    </tr>\n",
       "  </tbody>\n",
       "</table>\n",
       "</div>"
      ],
      "text/plain": [
       "    Año Trimestre        Provincia   ADSL  Cablemodem  Fibra óptica  Wireless  \\\n",
       "0  2022         4     Buenos Aires  326.0         3.0        1161.0     130.0   \n",
       "1  2022         4  Capital Federal  139.0      1172.0         139.0       5.0   \n",
       "2  2022         4        Catamarca    9.0       355.0          47.0       1.0   \n",
       "3  2022         4            Chaco   25.0        61.0          47.0       8.0   \n",
       "4  2022         4           Chubut   45.0        74.0          10.0      31.0   \n",
       "\n",
       "   Otros  \n",
       "0   72.0  \n",
       "1   32.0  \n",
       "2    2.0  \n",
       "3    3.0  \n",
       "4    9.0  "
      ]
     },
     "execution_count": 110,
     "metadata": {},
     "output_type": "execute_result"
    }
   ],
   "source": [
    "AccIntFijxTecyProv.head()"
   ]
  },
  {
   "cell_type": "code",
   "execution_count": 111,
   "metadata": {},
   "outputs": [
    {
     "name": "stdout",
     "output_type": "stream",
     "text": [
      "Suma de la columna 'Incremento/Decremento': -65.62144376679731\n",
      "Promedio de la columna 'Incremento/Decremento': -9.37449196668533\n"
     ]
    }
   ],
   "source": [
    "AccIntFijxTecyCatamarca = AccIntFijxTecyProv[AccIntFijxTecyProv['Provincia'] == 'Catamarca']\n",
    "AccIntFijxTecyCatamarca = AccIntFijxTecyCatamarca[(AccIntFijxTecyCatamarca['Wireless'] >= 146) & (AccIntFijxTecyCatamarca['Wireless'] <= 322)]\n",
    "# Filtra solo la columna \"Fibra óptica\".\n",
    "Dial_up = AccIntFijxTecyCatamarca['Wireless']\n",
    "\n",
    "# Calcula la diferencia entre cada dato y el dato anterior.\n",
    "diferencia = Dial_up.diff()\n",
    "\n",
    "# Calcula el porcentaje de incremento o decremento.\n",
    "porcentaje_incremento_decremento = (diferencia / Dial_up.shift(1)) * 100\n",
    "\n",
    "# Crea una nueva columna \"Incremento/Decremento\" en el DataFrame original.\n",
    "AccIntFijxTecyCatamarca['Incremento/Decremento'] = porcentaje_incremento_decremento\n",
    "\n",
    "# Elimina la primera fila de la columna 'Incremento/Decremento'.\n",
    "AccIntFijxTecyCatamarca = AccIntFijxTecyCatamarca.iloc[1:]\n",
    "\n",
    "# Calcula la suma de la columna 'Incremento/Decremento'.\n",
    "suma = AccIntFijxTecyCatamarca['Incremento/Decremento'].sum()\n",
    "\n",
    "# Calcula el promedio de la columna 'Incremento/Decremento'.\n",
    "promedio = AccIntFijxTecyCatamarca['Incremento/Decremento'].mean()\n",
    "\n",
    "# Imprime la suma y el promedio.\n",
    "print(f\"Suma de la columna 'Incremento/Decremento': {suma}\")\n",
    "print(f\"Promedio de la columna 'Incremento/Decremento': {promedio}\")"
   ]
  },
  {
   "cell_type": "code",
   "execution_count": 112,
   "metadata": {},
   "outputs": [
    {
     "data": {
      "text/plain": [
       "2      603.0\n",
       "26     551.0\n",
       "50     504.0\n",
       "74     461.0\n",
       "98     421.0\n",
       "122    385.0\n",
       "146    352.0\n",
       "170    322.0\n",
       "Name: Wireless, dtype: float64"
      ]
     },
     "execution_count": 112,
     "metadata": {},
     "output_type": "execute_result"
    }
   ],
   "source": [
    "AccIntFijxTecyCatamarca = AccIntFijxTecyProv[AccIntFijxTecyProv['Provincia'] == 'Catamarca']\n",
    "\n",
    "# Toma los primeros 19 datos de la columna 'Fibra óptica'.\n",
    "primeros_19_datos = AccIntFijxTecyCatamarca['Wireless'].head(8)\n",
    "\n",
    "# Aplicar un incremento porcentual acumulativo\n",
    "for i in range(len(primeros_19_datos)-2,-1,-1):\n",
    "    primeros_19_datos.iloc[i] = round(primeros_19_datos.iloc[i + 1] * (1.0937),2)\n",
    "\n",
    "primeros_19_datos = round(primeros_19_datos,0)\n",
    "primeros_19_datos"
   ]
  },
  {
   "cell_type": "code",
   "execution_count": 113,
   "metadata": {},
   "outputs": [],
   "source": [
    "# Define los nuevos valores en el orden correspondiente\n",
    "nuevos_valores = [603.0, 551.0, 504.0, 461.0, 421.0, 385.0, 352.0, 322.0]\n",
    "\n",
    "# Define las posiciones en las que deseas reemplazar los valores\n",
    "posiciones = [2, 26, 50, 74, 98, 122, 146, 170]\n",
    "\n",
    "# Reemplaza los valores en la columna \"Banda ancha fija\" en las posiciones especificadas\n",
    "for i in range(len(posiciones)):\n",
    "    AccIntFijxTecyProv.loc[posiciones[i], 'Wireless'] = nuevos_valores[i]"
   ]
  },
  {
   "cell_type": "code",
   "execution_count": 114,
   "metadata": {},
   "outputs": [
    {
     "data": {
      "text/plain": [
       "338    146.0\n",
       "362    132.0\n",
       "386    120.0\n",
       "410    109.0\n",
       "434     98.0\n",
       "458     89.0\n",
       "482     81.0\n",
       "506     73.0\n",
       "530     66.0\n",
       "554     60.0\n",
       "578     55.0\n",
       "602     49.0\n",
       "626     45.0\n",
       "650     41.0\n",
       "674     37.0\n",
       "698     33.0\n",
       "722     30.0\n",
       "746     27.0\n",
       "770     25.0\n",
       "794     23.0\n",
       "818     20.0\n",
       "842     18.0\n",
       "Name: Wireless, dtype: float64"
      ]
     },
     "execution_count": 114,
     "metadata": {},
     "output_type": "execute_result"
    }
   ],
   "source": [
    "AccIntFijxTecyCatamarca = AccIntFijxTecyProv[AccIntFijxTecyProv['Provincia'] == 'Catamarca']\n",
    "\n",
    "# Toma los primeros 22 datos de la columna 'Fibra óptica'.\n",
    "primeros_22_datos = AccIntFijxTecyCatamarca['Wireless'].tail(22)\n",
    "\n",
    "# Aplicar un incremento porcentual acumulativo\n",
    "for i in range(1,len(primeros_22_datos)):\n",
    "    primeros_22_datos.iloc[i] = round(primeros_22_datos.iloc[i - 1] * (1-0.0937),2)\n",
    "\n",
    "primeros_22_datos = round(primeros_22_datos,0)\n",
    "primeros_22_datos"
   ]
  },
  {
   "cell_type": "code",
   "execution_count": 115,
   "metadata": {},
   "outputs": [],
   "source": [
    "# Define los nuevos valores en el orden correspondiente\n",
    "nuevos_valores = [146.0, 132.0, 120.0, 109.0, 98.0, 89.0, 81.0, 73.0, 66.0, 60.0, 55.0, 49.0, 45.0, 41.0, 37.0, 33.0, 30.0, 27.0, 25.0, 23.0, 20.0, 18.0]\n",
    "\n",
    "# Define las posiciones en las que deseas reemplazar los valores\n",
    "posiciones = [338, 362, 386, 410, 434, 458, 482, 506, 530, 554, 578, 602, 626, 650, 674, 698, 722, 746, 770, 794, 818, 842]\n",
    "\n",
    "# Reemplaza los valores en la columna \"Banda ancha fija\" en las posiciones especificadas\n",
    "for i in range(len(posiciones)):\n",
    "    AccIntFijxTecyProv.loc[posiciones[i], 'Wireless'] = nuevos_valores[i]"
   ]
  },
  {
   "cell_type": "code",
   "execution_count": 116,
   "metadata": {},
   "outputs": [],
   "source": [
    "AccIntFijxTecyProv.loc[602, 'Otros'] = 34"
   ]
  },
  {
   "cell_type": "code",
   "execution_count": 117,
   "metadata": {},
   "outputs": [
    {
     "name": "stdout",
     "output_type": "stream",
     "text": [
      "Suma de la columna 'Incremento/Decremento': 26.212851985158828\n",
      "Promedio de la columna 'Incremento/Decremento': 2.016373229627602\n"
     ]
    }
   ],
   "source": [
    "AccIntFijxTecyCatamarca = AccIntFijxTecyProv[AccIntFijxTecyProv['Provincia'] == 'Catamarca']\n",
    "AccIntFijxTecyCatamarca = AccIntFijxTecyCatamarca[(AccIntFijxTecyCatamarca['Otros'] >= 3)]\n",
    "# Filtra solo la columna \"Fibra óptica\".\n",
    "Dial_up = AccIntFijxTecyCatamarca['Otros']\n",
    "\n",
    "# Calcula la diferencia entre cada dato y el dato anterior.\n",
    "diferencia = Dial_up.diff()\n",
    "\n",
    "# Calcula el porcentaje de incremento o decremento.\n",
    "porcentaje_incremento_decremento = (diferencia / Dial_up.shift(1)) * 100\n",
    "\n",
    "# Crea una nueva columna \"Incremento/Decremento\" en el DataFrame original.\n",
    "AccIntFijxTecyCatamarca['Incremento/Decremento'] = porcentaje_incremento_decremento\n",
    "\n",
    "# Elimina la primera fila de la columna 'Incremento/Decremento'.\n",
    "AccIntFijxTecyCatamarca = AccIntFijxTecyCatamarca.iloc[1:]\n",
    "\n",
    "# Calcula la suma de la columna 'Incremento/Decremento'.\n",
    "suma = AccIntFijxTecyCatamarca['Incremento/Decremento'].sum()\n",
    "\n",
    "# Calcula el promedio de la columna 'Incremento/Decremento'.\n",
    "promedio = AccIntFijxTecyCatamarca['Incremento/Decremento'].mean()\n",
    "\n",
    "# Imprime la suma y el promedio.\n",
    "print(f\"Suma de la columna 'Incremento/Decremento': {suma}\")\n",
    "print(f\"Promedio de la columna 'Incremento/Decremento': {promedio}\")"
   ]
  },
  {
   "cell_type": "code",
   "execution_count": 118,
   "metadata": {},
   "outputs": [
    {
     "data": {
      "text/plain": [
       "2      22.0\n",
       "26     22.0\n",
       "50     23.0\n",
       "74     23.0\n",
       "98     24.0\n",
       "122    24.0\n",
       "146    25.0\n",
       "170    25.0\n",
       "194    26.0\n",
       "218    26.0\n",
       "242    27.0\n",
       "266    27.0\n",
       "290    28.0\n",
       "314    28.0\n",
       "338    29.0\n",
       "362    29.0\n",
       "386    30.0\n",
       "410    31.0\n",
       "434    31.0\n",
       "458    32.0\n",
       "482    33.0\n",
       "506    33.0\n",
       "530    34.0\n",
       "Name: Otros, dtype: float64"
      ]
     },
     "execution_count": 118,
     "metadata": {},
     "output_type": "execute_result"
    }
   ],
   "source": [
    "AccIntFijxTecyCatamarca = AccIntFijxTecyProv[AccIntFijxTecyProv['Provincia'] == 'Catamarca']\n",
    "\n",
    "# Toma los primeros 19 datos de la columna 'Fibra óptica'.\n",
    "primeros_19_datos = AccIntFijxTecyCatamarca['Otros'].head(23)\n",
    "\n",
    "# Aplicar un incremento porcentual acumulativo\n",
    "for i in range(len(primeros_19_datos)-2,-1,-1):\n",
    "    primeros_19_datos.iloc[i] = round(primeros_19_datos.iloc[i + 1] * (1-0.02016),2)\n",
    "\n",
    "primeros_19_datos = round(primeros_19_datos,0)\n",
    "primeros_19_datos"
   ]
  },
  {
   "cell_type": "code",
   "execution_count": 119,
   "metadata": {},
   "outputs": [],
   "source": [
    "# Define los nuevos valores en el orden correspondiente\n",
    "nuevos_valores = [22.0, 22.0, 23.0, 23.0, 24.0, 24.0, 25.0, 25.0, 26.0, 26.0, 27.0, 27.0, 28.0, 28.0, 29.0, 29.0, 30.0, 31.0, 31.0, 32.0, 33.0, 33.0, 34.0]\n",
    "\n",
    "# Define las posiciones en las que deseas reemplazar los valores\n",
    "posiciones = [2, 26, 50, 74, 98, 122, 146, 170, 194, 218, 242, 266, 290, 314, 338, 362, 386, 410, 434, 458, 482, 506, 530]\n",
    "\n",
    "# Reemplaza los valores en la columna \"Banda ancha fija\" en las posiciones especificadas\n",
    "for i in range(len(posiciones)):\n",
    "    AccIntFijxTecyProv.loc[posiciones[i], 'Otros'] = nuevos_valores[i]"
   ]
  },
  {
   "cell_type": "code",
   "execution_count": 120,
   "metadata": {},
   "outputs": [
    {
     "name": "stdout",
     "output_type": "stream",
     "text": [
      "Suma de la columna 'Incremento/Decremento': -98.89672427469611\n",
      "Promedio de la columna 'Incremento/Decremento': -7.607440328822777\n"
     ]
    }
   ],
   "source": [
    "AccIntFijxTecyChaco = AccIntFijxTecyProv[AccIntFijxTecyProv['Provincia'] == 'Chaco']\n",
    "AccIntFijxTecyChaco = AccIntFijxTecyChaco[(AccIntFijxTecyChaco['Fibra óptica'] >= 164) & (AccIntFijxTecyChaco['Fibra óptica'] <= 562)]\n",
    "# Filtra solo la columna \"Fibra óptica\".\n",
    "Dial_up = AccIntFijxTecyChaco['Fibra óptica']\n",
    "\n",
    "# Calcula la diferencia entre cada dato y el dato anterior.\n",
    "diferencia = Dial_up.diff()\n",
    "\n",
    "# Calcula el porcentaje de incremento o decremento.\n",
    "porcentaje_incremento_decremento = (diferencia / Dial_up.shift(1)) * 100\n",
    "\n",
    "# Crea una nueva columna \"Incremento/Decremento\" en el DataFrame original.\n",
    "AccIntFijxTecyChaco['Incremento/Decremento'] = porcentaje_incremento_decremento\n",
    "\n",
    "# Elimina la primera fila de la columna 'Incremento/Decremento'.\n",
    "AccIntFijxTecyChaco = AccIntFijxTecyChaco.iloc[1:]\n",
    "\n",
    "# Calcula la suma de la columna 'Incremento/Decremento'.\n",
    "suma = AccIntFijxTecyChaco['Incremento/Decremento'].sum()\n",
    "\n",
    "# Calcula el promedio de la columna 'Incremento/Decremento'.\n",
    "promedio = AccIntFijxTecyChaco['Incremento/Decremento'].mean()\n",
    "\n",
    "# Imprime la suma y el promedio.\n",
    "print(f\"Suma de la columna 'Incremento/Decremento': {suma}\")\n",
    "print(f\"Promedio de la columna 'Incremento/Decremento': {promedio}\")"
   ]
  },
  {
   "cell_type": "code",
   "execution_count": 121,
   "metadata": {},
   "outputs": [
    {
     "data": {
      "text/plain": [
       "3      1263.0\n",
       "27     1207.0\n",
       "51     1154.0\n",
       "75     1103.0\n",
       "99     1055.0\n",
       "123    1008.0\n",
       "147     964.0\n",
       "171     922.0\n",
       "195     881.0\n",
       "219     842.0\n",
       "243     805.0\n",
       "267     770.0\n",
       "291     736.0\n",
       "315     704.0\n",
       "339     673.0\n",
       "363     643.0\n",
       "387     615.0\n",
       "411     588.0\n",
       "435     562.0\n",
       "Name: Fibra óptica, dtype: float64"
      ]
     },
     "execution_count": 121,
     "metadata": {},
     "output_type": "execute_result"
    }
   ],
   "source": [
    "AccIntFijxTecyChaco = AccIntFijxTecyProv[AccIntFijxTecyProv['Provincia'] == 'Chaco']\n",
    "\n",
    "# Toma los primeros 19 datos de la columna 'Fibra óptica'.\n",
    "primeros_19_datos = AccIntFijxTecyChaco['Fibra óptica'].head(19)\n",
    "\n",
    "# Aplicar un incremento porcentual acumulativo\n",
    "for i in range(len(primeros_19_datos)-2,-1,-1):\n",
    "    primeros_19_datos.iloc[i] = round(primeros_19_datos.iloc[i + 1] * (1.046),2)\n",
    "\n",
    "primeros_19_datos = round(primeros_19_datos,0)\n",
    "primeros_19_datos"
   ]
  },
  {
   "cell_type": "code",
   "execution_count": 122,
   "metadata": {},
   "outputs": [],
   "source": [
    "# Define los nuevos valores en el orden correspondiente\n",
    "nuevos_valores = decimales = [1263.0, 1207.0, 1154.0, 1103.0, 1055.0, 1008.0, 964.0, 922.0, 881.0, 842.0, 805.0, 770.0, 736.0, 704.0, 673.0, 643.0, 615.0, 588.0, 562.0]\n",
    "\n",
    "\n",
    "# Define las posiciones en las que deseas reemplazar los valores\n",
    "posiciones = [3, 27, 51, 75, 99, 123, 147, 171, 195, 219, 243, 267, 291, 315, 339, 363, 387, 411, 435]\n",
    "\n",
    "# Reemplaza los valores en la columna \"Banda ancha fija\" en las posiciones especificadas\n",
    "for i in range(len(posiciones)):\n",
    "    AccIntFijxTecyProv.loc[posiciones[i], 'Fibra óptica'] = nuevos_valores[i]"
   ]
  },
  {
   "cell_type": "code",
   "execution_count": 123,
   "metadata": {},
   "outputs": [
    {
     "data": {
      "text/plain": [
       "3      576.0\n",
       "27     564.0\n",
       "51     552.0\n",
       "75     541.0\n",
       "99     530.0\n",
       "123    519.0\n",
       "147    508.0\n",
       "171    498.0\n",
       "195    488.0\n",
       "219    478.0\n",
       "243    468.0\n",
       "267    458.0\n",
       "291    449.0\n",
       "315    440.0\n",
       "339    430.0\n",
       "363    422.0\n",
       "387    413.0\n",
       "411    404.0\n",
       "435    396.0\n",
       "459    388.0\n",
       "Name: Wireless, dtype: float64"
      ]
     },
     "execution_count": 123,
     "metadata": {},
     "output_type": "execute_result"
    }
   ],
   "source": [
    "AccIntFijxTecyChaco = AccIntFijxTecyProv[AccIntFijxTecyProv['Provincia'] == 'Chaco']\n",
    "\n",
    "# Toma los primeros 19 datos de la columna 'Wireless'.\n",
    "primeros_19_datos = AccIntFijxTecyChaco['Wireless'].head(20)\n",
    "\n",
    "# Aplicar un incremento porcentual acumulativo\n",
    "for i in range(len(primeros_19_datos)-2,-1,-1):\n",
    "    primeros_19_datos.iloc[i] = round(primeros_19_datos.iloc[i + 1] * (1.0210),2)\n",
    "\n",
    "primeros_19_datos = round(primeros_19_datos,0)\n",
    "primeros_19_datos"
   ]
  },
  {
   "cell_type": "code",
   "execution_count": 124,
   "metadata": {},
   "outputs": [],
   "source": [
    "# Define los nuevos valores en el orden correspondiente\n",
    "nuevos_valores = [576.0, 564.0, 552.0, 541.0, 530.0, 519.0, 508.0, 498.0, 488.0, 478.0, 468.0, 458.0, 449.0, 440.0, 430.0, 422.0, 413.0, 404.0, 396.0, 388.0]\n",
    "\n",
    "# Define las posiciones en las que deseas reemplazar los valores\n",
    "posiciones = [3, 27, 51, 75, 99, 123, 147, 171, 195, 219, 243, 267, 291, 315, 339, 363, 387, 411, 435, 459]\n",
    "# Reemplaza los valores en la columna \"Banda ancha fija\" en las posiciones especificadas\n",
    "for i in range(len(posiciones)):\n",
    "    AccIntFijxTecyProv.loc[posiciones[i], 'Wireless'] = nuevos_valores[i]"
   ]
  },
  {
   "cell_type": "code",
   "execution_count": 125,
   "metadata": {},
   "outputs": [
    {
     "data": {
      "text/plain": [
       "483    380.0\n",
       "507    372.0\n",
       "531    364.0\n",
       "555    357.0\n",
       "579    349.0\n",
       "603    342.0\n",
       "627    335.0\n",
       "651    328.0\n",
       "675    321.0\n",
       "699    314.0\n",
       "723    307.0\n",
       "747    301.0\n",
       "771    295.0\n",
       "795    288.0\n",
       "819    282.0\n",
       "843    276.0\n",
       "Name: Wireless, dtype: float64"
      ]
     },
     "execution_count": 125,
     "metadata": {},
     "output_type": "execute_result"
    }
   ],
   "source": [
    "AccIntFijxTecyChaco = AccIntFijxTecyProv[AccIntFijxTecyProv['Provincia'] == 'Chaco']\n",
    "\n",
    "# Toma los primeros 19 datos de la columna 'Wireless'.\n",
    "primeros_19_datos = AccIntFijxTecyChaco['Wireless'].tail(16)\n",
    "\n",
    "# Aplicar un incremento porcentual acumulativo\n",
    "for i in range(1,len(primeros_19_datos)):\n",
    "    primeros_19_datos.iloc[i] = round(primeros_19_datos.iloc[i - 1] * (1-0.0210),2)\n",
    "\n",
    "primeros_19_datos = round(primeros_19_datos,0)\n",
    "primeros_19_datos"
   ]
  },
  {
   "cell_type": "code",
   "execution_count": 126,
   "metadata": {},
   "outputs": [],
   "source": [
    "# Define los nuevos valores en el orden correspondiente\n",
    "nuevos_valores = [380.0, 372.0, 364.0, 357.0, 349.0, 342.0, 335.0, 328.0, 321.0, 314.0, 307.0, 301.0, 295.0, 288.0, 282.0, 276.0]\n",
    "\n",
    "# Define las posiciones en las que deseas reemplazar los valores\n",
    "posiciones = [483, 507, 531, 555, 579, 603, 627, 651, 675, 699, 723, 747, 771, 795, 819, 843]\n",
    "# Reemplaza los valores en la columna \"Banda ancha fija\" en las posiciones especificadas\n",
    "for i in range(len(posiciones)):\n",
    "    AccIntFijxTecyProv.loc[posiciones[i], 'Wireless'] = nuevos_valores[i]"
   ]
  },
  {
   "cell_type": "code",
   "execution_count": 127,
   "metadata": {},
   "outputs": [
    {
     "name": "stdout",
     "output_type": "stream",
     "text": [
      "Suma de la columna 'Incremento/Decremento': 152.56089843115942\n",
      "Promedio de la columna 'Incremento/Decremento': 11.735453725473802\n"
     ]
    }
   ],
   "source": [
    "AccIntFijxTecyChaco = AccIntFijxTecyProv[AccIntFijxTecyProv['Provincia'] == 'Chaco']\n",
    "AccIntFijxTecyChaco = AccIntFijxTecyChaco[(AccIntFijxTecyChaco['Otros'] >= 4)]\n",
    "# Filtra solo la columna \"Otros\".\n",
    "Dial_up = AccIntFijxTecyChaco['Otros']\n",
    "\n",
    "# Calcula la diferencia entre cada dato y el dato anterior.\n",
    "diferencia = Dial_up.diff()\n",
    "\n",
    "# Calcula el porcentaje de incremento o decremento.\n",
    "porcentaje_incremento_decremento = (diferencia / Dial_up.shift(1)) * 100\n",
    "\n",
    "# Crea una nueva columna \"Incremento/Decremento\" en el DataFrame original.\n",
    "AccIntFijxTecyChaco['Incremento/Decremento'] = porcentaje_incremento_decremento\n",
    "\n",
    "# Elimina la primera fila de la columna 'Incremento/Decremento'.\n",
    "AccIntFijxTecyChaco = AccIntFijxTecyChaco.iloc[1:]\n",
    "\n",
    "# Calcula la suma de la columna 'Incremento/Decremento'.\n",
    "suma = AccIntFijxTecyChaco['Incremento/Decremento'].sum()\n",
    "\n",
    "# Calcula el promedio de la columna 'Incremento/Decremento'.\n",
    "promedio = AccIntFijxTecyChaco['Incremento/Decremento'].mean()\n",
    "\n",
    "# Imprime la suma y el promedio.\n",
    "print(f\"Suma de la columna 'Incremento/Decremento': {suma}\")\n",
    "print(f\"Promedio de la columna 'Incremento/Decremento': {promedio}\")"
   ]
  },
  {
   "cell_type": "code",
   "execution_count": 128,
   "metadata": {},
   "outputs": [
    {
     "data": {
      "text/plain": [
       "3      24.0\n",
       "27     25.0\n",
       "51     26.0\n",
       "75     26.0\n",
       "99     27.0\n",
       "123    27.0\n",
       "147    28.0\n",
       "171    28.0\n",
       "195    29.0\n",
       "219    30.0\n",
       "243    30.0\n",
       "267    31.0\n",
       "291    32.0\n",
       "315    32.0\n",
       "339    33.0\n",
       "363    34.0\n",
       "387    34.0\n",
       "411    35.0\n",
       "435    36.0\n",
       "459    37.0\n",
       "483    37.0\n",
       "507    38.0\n",
       "531    39.0\n",
       "Name: Otros, dtype: float64"
      ]
     },
     "execution_count": 128,
     "metadata": {},
     "output_type": "execute_result"
    }
   ],
   "source": [
    "AccIntFijxTecyChaco = AccIntFijxTecyProv[AccIntFijxTecyProv['Provincia'] == 'Chaco']\n",
    "\n",
    "# Toma los primeros 19 datos de la columna 'Wireless'.\n",
    "primeros_19_datos = AccIntFijxTecyChaco['Otros'].head(23)\n",
    "\n",
    "# Aplicar un incremento porcentual acumulativo\n",
    "for i in range(len(primeros_19_datos)-2,-1,-1):\n",
    "    primeros_19_datos.iloc[i] = round(primeros_19_datos.iloc[i + 1] * (1-0.0210),2)\n",
    "\n",
    "primeros_19_datos = round(primeros_19_datos,0)\n",
    "primeros_19_datos"
   ]
  },
  {
   "cell_type": "code",
   "execution_count": 129,
   "metadata": {},
   "outputs": [],
   "source": [
    "# Define los nuevos valores en el orden correspondiente\n",
    "nuevos_valores = [24.0, 25.0, 26.0, 26.0, 27.0, 27.0, 28.0, 28.0, 29.0, 30.0, 30.0, 31.0, 32.0, 32.0, 33.0, 34.0, 34.0, 35.0, 36.0, 37.0, 37.0, 38.0, 39.0]\n",
    "\n",
    "# Define las posiciones en las que deseas reemplazar los valores\n",
    "posiciones = [3, 27, 51, 75, 99, 123, 147, 171, 195, 219, 243, 267, 291, 315, 339, 363, 387, 411, 435, 459, 483, 507, 531]\n",
    "# Reemplaza los valores en la columna \"Banda ancha fija\" en las posiciones especificadas\n",
    "for i in range(len(posiciones)):\n",
    "    AccIntFijxTecyProv.loc[posiciones[i], 'Otros'] = nuevos_valores[i]"
   ]
  },
  {
   "cell_type": "code",
   "execution_count": 130,
   "metadata": {},
   "outputs": [
    {
     "name": "stdout",
     "output_type": "stream",
     "text": [
      "Suma de la columna 'Incremento/Decremento': -59.11512479979673\n",
      "Promedio de la columna 'Incremento/Decremento': -4.926260399983061\n"
     ]
    }
   ],
   "source": [
    "AccIntFijxTecyChubut = AccIntFijxTecyProv[AccIntFijxTecyProv['Provincia'] == 'Chubut']\n",
    "AccIntFijxTecyChubut = AccIntFijxTecyChubut[(AccIntFijxTecyChubut['Cablemodem'] >= 539)&(AccIntFijxTecyChubut['Cablemodem'] <= 999)]\n",
    "# Filtra solo la columna \"Cablemodem\".\n",
    "Dial_up = AccIntFijxTecyChubut['Cablemodem']\n",
    "\n",
    "# Calcula la diferencia entre cada dato y el dato anterior.\n",
    "diferencia = Dial_up.diff()\n",
    "\n",
    "# Calcula el porcentaje de incremento o decremento.\n",
    "porcentaje_incremento_decremento = (diferencia / Dial_up.shift(1)) * 100\n",
    "\n",
    "# Crea una nueva columna \"Incremento/Decremento\" en el DataFrame original.\n",
    "AccIntFijxTecyChubut['Incremento/Decremento'] = porcentaje_incremento_decremento\n",
    "\n",
    "# Elimina la primera fila de la columna 'Incremento/Decremento'.\n",
    "AccIntFijxTecyChubut = AccIntFijxTecyChubut.iloc[1:]\n",
    "\n",
    "# Calcula la suma de la columna 'Incremento/Decremento'.\n",
    "suma = AccIntFijxTecyChubut['Incremento/Decremento'].sum()\n",
    "\n",
    "# Calcula el promedio de la columna 'Incremento/Decremento'.\n",
    "promedio = AccIntFijxTecyChubut['Incremento/Decremento'].mean()\n",
    "\n",
    "# Imprime la suma y el promedio.\n",
    "print(f\"Suma de la columna 'Incremento/Decremento': {suma}\")\n",
    "print(f\"Promedio de la columna 'Incremento/Decremento': {promedio}\")"
   ]
  },
  {
   "cell_type": "code",
   "execution_count": 131,
   "metadata": {},
   "outputs": [
    {
     "data": {
      "text/plain": [
       "4      1551.0\n",
       "28     1521.0\n",
       "52     1492.0\n",
       "76     1464.0\n",
       "100    1436.0\n",
       "124    1409.0\n",
       "148    1383.0\n",
       "172    1356.0\n",
       "196    1331.0\n",
       "220    1306.0\n",
       "244    1281.0\n",
       "268    1257.0\n",
       "292    1233.0\n",
       "316    1209.0\n",
       "340    1187.0\n",
       "364    1164.0\n",
       "388    1142.0\n",
       "412    1120.0\n",
       "436    1099.0\n",
       "460    1078.0\n",
       "484    1058.0\n",
       "508    1038.0\n",
       "532    1018.0\n",
       "556     999.0\n",
       "Name: Cablemodem, dtype: float64"
      ]
     },
     "execution_count": 131,
     "metadata": {},
     "output_type": "execute_result"
    }
   ],
   "source": [
    "AccIntFijxTecyChubut = AccIntFijxTecyProv[AccIntFijxTecyProv['Provincia'] == 'Chubut']\n",
    "\n",
    "# Toma los primeros 19 datos de la columna 'Wireless'.\n",
    "primeros_19_datos = AccIntFijxTecyChubut['Cablemodem'].head(24)\n",
    "\n",
    "# Aplicar un incremento porcentual acumulativo\n",
    "for i in range(len(primeros_19_datos)-2,-1,-1):\n",
    "    primeros_19_datos.iloc[i] = round(primeros_19_datos.iloc[i + 1] * (1.01930),2)\n",
    "\n",
    "primeros_19_datos = round(primeros_19_datos,0)\n",
    "primeros_19_datos"
   ]
  },
  {
   "cell_type": "code",
   "execution_count": 132,
   "metadata": {},
   "outputs": [],
   "source": [
    "# Define los nuevos valores en el orden correspondiente\n",
    "nuevos_valores = [1551.0, 1521.0, 1492.0, 1464.0, 1436.0, 1409.0, 1383.0, 1356.0, 1331.0, 1306.0, 1281.0, 1257.0, 1233.0, 1209.0, 1187.0, 1164.0, 1142.0, 1120.0, 1099.0, 1078.0, 1058.0, 1038.0, 1018.0, 999.0]\n",
    "\n",
    "\n",
    "# Define las posiciones en las que deseas reemplazar los valores\n",
    "posiciones = [4, 28, 52, 76, 100, 124, 148, 172, 196, 220, 244, 268, 292, 316, 340, 364, 388, 412, 436, 460, 484, 508, 532, 556]\n",
    "# Reemplaza los valores en la columna \"Banda ancha fija\" en las posiciones especificadas\n",
    "for i in range(len(posiciones)):\n",
    "    AccIntFijxTecyProv.loc[posiciones[i], 'Cablemodem'] = nuevos_valores[i]"
   ]
  },
  {
   "cell_type": "code",
   "execution_count": 133,
   "metadata": {},
   "outputs": [
    {
     "name": "stdout",
     "output_type": "stream",
     "text": [
      "Suma de la columna 'Incremento/Decremento': -5.571492162858517\n",
      "Promedio de la columna 'Incremento/Decremento': -0.4285763202198859\n"
     ]
    }
   ],
   "source": [
    "AccIntFijxTecyChubut = AccIntFijxTecyProv[AccIntFijxTecyProv['Provincia'] == 'Chubut']\n",
    "AccIntFijxTecyChubut = AccIntFijxTecyChubut[(AccIntFijxTecyChubut['Fibra óptica'] >= 866)&(AccIntFijxTecyChubut['Fibra óptica'] <= 916)]\n",
    "# Filtra solo la columna \"Fibra óptica\".\n",
    "Dial_up = AccIntFijxTecyChubut['Fibra óptica']\n",
    "\n",
    "# Calcula la diferencia entre cada dato y el dato anterior.\n",
    "diferencia = Dial_up.diff()\n",
    "\n",
    "# Calcula el porcentaje de incremento o decremento.\n",
    "porcentaje_incremento_decremento = (diferencia / Dial_up.shift(1)) * 100\n",
    "\n",
    "# Crea una nueva columna \"Incremento/Decremento\" en el DataFrame original.\n",
    "AccIntFijxTecyChubut['Incremento/Decremento'] = porcentaje_incremento_decremento\n",
    "\n",
    "# Elimina la primera fila de la columna 'Incremento/Decremento'.\n",
    "AccIntFijxTecyChubut = AccIntFijxTecyChubut.iloc[1:]\n",
    "\n",
    "# Calcula la suma de la columna 'Incremento/Decremento'.\n",
    "suma = AccIntFijxTecyChubut['Incremento/Decremento'].sum()\n",
    "\n",
    "# Calcula el promedio de la columna 'Incremento/Decremento'.\n",
    "promedio = AccIntFijxTecyChubut['Incremento/Decremento'].mean()\n",
    "\n",
    "# Imprime la suma y el promedio.\n",
    "print(f\"Suma de la columna 'Incremento/Decremento': {suma}\")\n",
    "print(f\"Promedio de la columna 'Incremento/Decremento': {promedio}\")"
   ]
  },
  {
   "cell_type": "code",
   "execution_count": 134,
   "metadata": {},
   "outputs": [
    {
     "data": {
      "text/plain": [
       "4      1007.0\n",
       "28     1002.0\n",
       "52      998.0\n",
       "76      994.0\n",
       "100     990.0\n",
       "124     985.0\n",
       "148     981.0\n",
       "172     977.0\n",
       "196     973.0\n",
       "220     969.0\n",
       "244     964.0\n",
       "268     960.0\n",
       "292     956.0\n",
       "316     952.0\n",
       "340     948.0\n",
       "364     944.0\n",
       "388     940.0\n",
       "412     936.0\n",
       "436     932.0\n",
       "460     928.0\n",
       "484     924.0\n",
       "508     920.0\n",
       "532     916.0\n",
       "Name: Fibra óptica, dtype: float64"
      ]
     },
     "execution_count": 134,
     "metadata": {},
     "output_type": "execute_result"
    }
   ],
   "source": [
    "AccIntFijxTecyChubut = AccIntFijxTecyProv[AccIntFijxTecyProv['Provincia'] == 'Chubut']\n",
    "\n",
    "# Toma los primeros 19 datos de la columna 'Wireless'.\n",
    "primeros_19_datos = AccIntFijxTecyChubut['Fibra óptica'].head(23)\n",
    "\n",
    "# Aplicar un incremento porcentual acumulativo\n",
    "for i in range(len(primeros_19_datos)-2,-1,-1):\n",
    "    primeros_19_datos.iloc[i] = round(primeros_19_datos.iloc[i + 1] * (1.0043),2)\n",
    "\n",
    "primeros_19_datos = round(primeros_19_datos,0)\n",
    "primeros_19_datos"
   ]
  },
  {
   "cell_type": "code",
   "execution_count": 135,
   "metadata": {},
   "outputs": [],
   "source": [
    "# Define los nuevos valores en el orden correspondiente\n",
    "nuevos_valores = [1007.0, 1002.0, 998.0, 994.0, 990.0, 985.0, 981.0, 977.0, 973.0, 969.0, 964.0, 960.0, 956.0, 952.0, 948.0, 944.0, 940.0, 936.0, 932.0, 928.0, 924.0, 920.0, 916.0]\n",
    "\n",
    "# Define las posiciones en las que deseas reemplazar los valores\n",
    "posiciones = [4, 28, 52, 76, 100, 124, 148, 172, 196, 220, 244, 268, 292, 316, 340, 364, 388, 412, 436, 460, 484, 508, 532]\n",
    "# Reemplaza los valores en la columna \"Banda ancha fija\" en las posiciones especificadas\n",
    "for i in range(len(posiciones)):\n",
    "    AccIntFijxTecyProv.loc[posiciones[i], 'Fibra óptica'] = nuevos_valores[i]"
   ]
  },
  {
   "cell_type": "code",
   "execution_count": 136,
   "metadata": {},
   "outputs": [
    {
     "name": "stdout",
     "output_type": "stream",
     "text": [
      "Suma de la columna 'Incremento/Decremento': -2.473953458223648\n",
      "Promedio de la columna 'Incremento/Decremento': -0.49479069164472966\n"
     ]
    }
   ],
   "source": [
    "AccIntFijxTecyCórdoba = AccIntFijxTecyProv[AccIntFijxTecyProv['Provincia'] == 'Córdoba']\n",
    "AccIntFijxTecyCórdoba = AccIntFijxTecyCórdoba[(AccIntFijxTecyCórdoba['Fibra óptica'] >= 347)&(AccIntFijxTecyCórdoba['Fibra óptica'] <= 435)]\n",
    "# Filtra solo la columna \"Fibra óptica\".\n",
    "Dial_up = AccIntFijxTecyCórdoba['Fibra óptica']\n",
    "\n",
    "# Calcula la diferencia entre cada dato y el dato anterior.\n",
    "diferencia = Dial_up.diff()\n",
    "\n",
    "# Calcula el porcentaje de incremento o decremento.\n",
    "porcentaje_incremento_decremento = (diferencia / Dial_up.shift(1)) * 100\n",
    "\n",
    "# Crea una nueva columna \"Incremento/Decremento\" en el DataFrame original.\n",
    "AccIntFijxTecyCórdoba['Incremento/Decremento'] = porcentaje_incremento_decremento\n",
    "\n",
    "# Elimina la primera fila de la columna 'Incremento/Decremento'.\n",
    "AccIntFijxTecyCórdoba = AccIntFijxTecyCórdoba.iloc[1:]\n",
    "\n",
    "# Calcula la suma de la columna 'Incremento/Decremento'.\n",
    "suma = AccIntFijxTecyCórdoba['Incremento/Decremento'].sum()\n",
    "\n",
    "# Calcula el promedio de la columna 'Incremento/Decremento'.\n",
    "promedio = AccIntFijxTecyCórdoba['Incremento/Decremento'].mean()\n",
    "\n",
    "# Imprime la suma y el promedio.\n",
    "print(f\"Suma de la columna 'Incremento/Decremento': {suma}\")\n",
    "print(f\"Promedio de la columna 'Incremento/Decremento': {promedio}\")"
   ]
  },
  {
   "cell_type": "code",
   "execution_count": 137,
   "metadata": {},
   "outputs": [
    {
     "data": {
      "text/plain": [
       "5      504.0\n",
       "29     502.0\n",
       "53     499.0\n",
       "77     497.0\n",
       "101    494.0\n",
       "125    492.0\n",
       "149    490.0\n",
       "173    487.0\n",
       "197    485.0\n",
       "221    482.0\n",
       "245    480.0\n",
       "269    478.0\n",
       "293    475.0\n",
       "317    473.0\n",
       "341    471.0\n",
       "365    468.0\n",
       "389    466.0\n",
       "413    464.0\n",
       "437    462.0\n",
       "461    459.0\n",
       "485    457.0\n",
       "509    455.0\n",
       "533    452.0\n",
       "557    450.0\n",
       "581    448.0\n",
       "605    446.0\n",
       "629    444.0\n",
       "653    441.0\n",
       "677    439.0\n",
       "701    437.0\n",
       "725    435.0\n",
       "Name: Fibra óptica, dtype: float64"
      ]
     },
     "execution_count": 137,
     "metadata": {},
     "output_type": "execute_result"
    }
   ],
   "source": [
    "AccIntFijxTecyCórdoba = AccIntFijxTecyProv[AccIntFijxTecyProv['Provincia'] == 'Córdoba']\n",
    "\n",
    "# Toma los primeros 19 datos de la columna 'Wireless'.\n",
    "primeros_19_datos = AccIntFijxTecyCórdoba['Fibra óptica'].head(31)\n",
    "\n",
    "# Aplicar un incremento porcentual acumulativo\n",
    "for i in range(len(primeros_19_datos)-2,-1,-1):\n",
    "    primeros_19_datos.iloc[i] = round(primeros_19_datos.iloc[i + 1] * (1.00494),2)\n",
    "\n",
    "primeros_19_datos = round(primeros_19_datos,0)\n",
    "primeros_19_datos"
   ]
  },
  {
   "cell_type": "code",
   "execution_count": 138,
   "metadata": {},
   "outputs": [],
   "source": [
    "# Define los nuevos valores en el orden correspondiente\n",
    "nuevos_valores = [504.0, 502.0, 499.0, 497.0, 494.0, 492.0, 490.0, 487.0, 485.0, 482.0, 480.0, 478.0, 475.0, 473.0, 471.0, 468.0, 466.0, 464.0, 462.0, 459.0, 457.0, 455.0, 452.0, 450.0, 448.0, 446.0, 444.0, 441.0, 439.0, 437.0, 435.0]\n",
    "\n",
    "# Define las posiciones en las que deseas reemplazar los valores\n",
    "posiciones = [5, 29, 53, 77, 101, 125, 149, 173, 197, 221, 245, 269, 293, 317, 341, 365, 389, 413, 437, 461, 485, 509, 533, 557, 581, 605, 629, 653, 677, 701, 725]\n",
    "# Reemplaza los valores en la columna \"Banda ancha fija\" en las posiciones especificadas\n",
    "for i in range(len(posiciones)):\n",
    "    AccIntFijxTecyProv.loc[posiciones[i], 'Fibra óptica'] = nuevos_valores[i]"
   ]
  },
  {
   "cell_type": "code",
   "execution_count": 139,
   "metadata": {},
   "outputs": [
    {
     "name": "stdout",
     "output_type": "stream",
     "text": [
      "Suma de la columna 'Incremento/Decremento': -4.3117409418604975\n",
      "Promedio de la columna 'Incremento/Decremento': -0.5389676177325622\n"
     ]
    }
   ],
   "source": [
    "AccIntFijxTecyCórdoba = AccIntFijxTecyProv[AccIntFijxTecyProv['Provincia'] == 'Córdoba']\n",
    "AccIntFijxTecyCórdoba = AccIntFijxTecyCórdoba[(AccIntFijxTecyCórdoba['Otros'] >= 368)&(AccIntFijxTecyCórdoba['Otros'] <= 450)]\n",
    "# Filtra solo la columna \"Otros\".\n",
    "Dial_up = AccIntFijxTecyCórdoba['Otros']\n",
    "\n",
    "# Calcula la diferencia entre cada dato y el dato anterior.\n",
    "diferencia = Dial_up.diff()\n",
    "\n",
    "# Calcula el porcentaje de incremento o decremento.\n",
    "porcentaje_incremento_decremento = (diferencia / Dial_up.shift(1)) * 100\n",
    "\n",
    "# Crea una nueva columna \"Incremento/Decremento\" en el DataFrame original.\n",
    "AccIntFijxTecyCórdoba['Incremento/Decremento'] = porcentaje_incremento_decremento\n",
    "\n",
    "# Elimina la primera fila de la columna 'Incremento/Decremento'.\n",
    "AccIntFijxTecyCórdoba = AccIntFijxTecyCórdoba.iloc[1:]\n",
    "\n",
    "# Calcula la suma de la columna 'Incremento/Decremento'.\n",
    "suma = AccIntFijxTecyCórdoba['Incremento/Decremento'].sum()\n",
    "\n",
    "# Calcula el promedio de la columna 'Incremento/Decremento'.\n",
    "promedio = AccIntFijxTecyCórdoba['Incremento/Decremento'].mean()\n",
    "\n",
    "# Imprime la suma y el promedio.\n",
    "print(f\"Suma de la columna 'Incremento/Decremento': {suma}\")\n",
    "print(f\"Promedio de la columna 'Incremento/Decremento': {promedio}\")"
   ]
  },
  {
   "cell_type": "code",
   "execution_count": 140,
   "metadata": {},
   "outputs": [
    {
     "data": {
      "text/plain": [
       "5      446.0\n",
       "29     444.0\n",
       "53     441.0\n",
       "77     439.0\n",
       "101    437.0\n",
       "125    434.0\n",
       "149    432.0\n",
       "173    430.0\n",
       "197    427.0\n",
       "221    425.0\n",
       "245    423.0\n",
       "269    421.0\n",
       "293    418.0\n",
       "317    416.0\n",
       "341    414.0\n",
       "365    412.0\n",
       "389    409.0\n",
       "413    407.0\n",
       "437    405.0\n",
       "461    403.0\n",
       "485    401.0\n",
       "509    399.0\n",
       "533    396.0\n",
       "557    394.0\n",
       "581    392.0\n",
       "605    390.0\n",
       "629    388.0\n",
       "653    386.0\n",
       "Name: Otros, dtype: float64"
      ]
     },
     "execution_count": 140,
     "metadata": {},
     "output_type": "execute_result"
    }
   ],
   "source": [
    "AccIntFijxTecyCórdoba = AccIntFijxTecyProv[AccIntFijxTecyProv['Provincia'] == 'Córdoba']\n",
    "\n",
    "# Toma los primeros 19 datos de la columna 'Wireless'.\n",
    "primeros_19_datos = AccIntFijxTecyCórdoba['Otros'].head(28)\n",
    "\n",
    "# Aplicar un incremento porcentual acumulativo\n",
    "for i in range(len(primeros_19_datos)-2,-1,-1):\n",
    "    primeros_19_datos.iloc[i] = round(primeros_19_datos.iloc[i + 1] * (1.00538),2)\n",
    "\n",
    "primeros_19_datos = round(primeros_19_datos,0)\n",
    "primeros_19_datos"
   ]
  },
  {
   "cell_type": "code",
   "execution_count": 141,
   "metadata": {},
   "outputs": [],
   "source": [
    "# Define los nuevos valores en el orden correspondiente\n",
    "nuevos_valores = [446.0, 444.0, 441.0, 439.0, 437.0, 434.0, 432.0, 430.0, 427.0, 425.0, 423.0, 421.0, 418.0, 416.0, 414.0, 412.0, 409.0, 407.0, 405.0, 403.0, 401.0, 399.0, 396.0, 394.0, 392.0, 390.0, 388.0, 386.0]\n",
    "\n",
    "# Define las posiciones en las que deseas reemplazar los valores\n",
    "posiciones = [5, 29, 53, 77, 101, 125, 149, 173, 197, 221, 245, 269, 293, 317, 341, 365, 389, 413, 437, 461, 485, 509, 533, 557, 581, 605, 629, 653]\n",
    "# Reemplaza los valores en la columna \"Banda ancha fija\" en las posiciones especificadas\n",
    "for i in range(len(posiciones)):\n",
    "    AccIntFijxTecyProv.loc[posiciones[i], 'Otros'] = nuevos_valores[i]"
   ]
  },
  {
   "cell_type": "code",
   "execution_count": 142,
   "metadata": {},
   "outputs": [
    {
     "name": "stdout",
     "output_type": "stream",
     "text": [
      "Suma de la columna 'Incremento/Decremento': -133.86564268177196\n",
      "Promedio de la columna 'Incremento/Decremento': -8.924376178784797\n"
     ]
    }
   ],
   "source": [
    "AccIntFijxTecyCorrientes = AccIntFijxTecyProv[AccIntFijxTecyProv['Provincia'] == 'Corrientes']\n",
    "AccIntFijxTecyCorrientes = AccIntFijxTecyCorrientes[(AccIntFijxTecyCorrientes['Fibra óptica'] >= 31)&(AccIntFijxTecyCorrientes['Fibra óptica'] <= 258)]\n",
    "# Filtra solo la columna \"Fibra óptica\".\n",
    "Dial_up = AccIntFijxTecyCorrientes['Fibra óptica']\n",
    "\n",
    "# Calcula la diferencia entre cada dato y el dato anterior.\n",
    "diferencia = Dial_up.diff()\n",
    "\n",
    "# Calcula el porcentaje de incremento o decremento.\n",
    "porcentaje_incremento_decremento = (diferencia / Dial_up.shift(1)) * 100\n",
    "\n",
    "# Crea una nueva columna \"Incremento/Decremento\" en el DataFrame original.\n",
    "AccIntFijxTecyCorrientes['Incremento/Decremento'] = porcentaje_incremento_decremento\n",
    "\n",
    "# Elimina la primera fila de la columna 'Incremento/Decremento'.\n",
    "AccIntFijxTecyCorrientes = AccIntFijxTecyCorrientes.iloc[1:]\n",
    "\n",
    "# Calcula la suma de la columna 'Incremento/Decremento'.\n",
    "suma = AccIntFijxTecyCorrientes['Incremento/Decremento'].sum()\n",
    "\n",
    "# Calcula el promedio de la columna 'Incremento/Decremento'.\n",
    "promedio = AccIntFijxTecyCorrientes['Incremento/Decremento'].mean()\n",
    "\n",
    "# Imprime la suma y el promedio.\n",
    "print(f\"Suma de la columna 'Incremento/Decremento': {suma}\")\n",
    "print(f\"Promedio de la columna 'Incremento/Decremento': {promedio}\")"
   ]
  },
  {
   "cell_type": "code",
   "execution_count": 143,
   "metadata": {},
   "outputs": [
    {
     "data": {
      "text/plain": [
       "6      1684.0\n",
       "30     1546.0\n",
       "54     1420.0\n",
       "78     1304.0\n",
       "102    1197.0\n",
       "126    1099.0\n",
       "150    1009.0\n",
       "174     927.0\n",
       "198     851.0\n",
       "222     782.0\n",
       "246     718.0\n",
       "270     659.0\n",
       "294     605.0\n",
       "318     556.0\n",
       "342     510.0\n",
       "366     469.0\n",
       "390     430.0\n",
       "414     395.0\n",
       "438     363.0\n",
       "462     333.0\n",
       "486     306.0\n",
       "510     281.0\n",
       "534     258.0\n",
       "Name: Fibra óptica, dtype: float64"
      ]
     },
     "execution_count": 143,
     "metadata": {},
     "output_type": "execute_result"
    }
   ],
   "source": [
    "AccIntFijxTecyCorrientes = AccIntFijxTecyProv[AccIntFijxTecyProv['Provincia'] == 'Corrientes']\n",
    "\n",
    "# Toma los primeros 19 datos de la columna 'Wireless'.\n",
    "primeros_19_datos = AccIntFijxTecyCorrientes['Fibra óptica'].head(23)\n",
    "\n",
    "# Aplicar un incremento porcentual acumulativo\n",
    "for i in range(len(primeros_19_datos)-2,-1,-1):\n",
    "    primeros_19_datos.iloc[i] = round(primeros_19_datos.iloc[i + 1] * (1.089),2)\n",
    "\n",
    "primeros_19_datos = round(primeros_19_datos,0)\n",
    "primeros_19_datos"
   ]
  },
  {
   "cell_type": "code",
   "execution_count": 144,
   "metadata": {},
   "outputs": [],
   "source": [
    "# Define los nuevos valores en el orden correspondiente\n",
    "nuevos_valores =[1684, 1546, 1420, 1304, 1197, 1099, 1009, 927, 851, 782, 718, 659, 605, 556, 510, 469, 430, 395, 363, 333, 306, 281, 258]\n",
    "\n",
    "# Define las posiciones en las que deseas reemplazar los valores\n",
    "posiciones = [6, 30, 54, 78, 102, 126, 150, 174, 198, 222, 246, 270, 294, 318, 342, 366, 390, 414, 438, 462, 486, 510, 534]\n",
    "# Reemplaza los valores en la columna \"Banda ancha fija\" en las posiciones especificadas\n",
    "for i in range(len(posiciones)):\n",
    "    AccIntFijxTecyProv.loc[posiciones[i], 'Fibra óptica'] = nuevos_valores[i]"
   ]
  },
  {
   "cell_type": "code",
   "execution_count": 145,
   "metadata": {},
   "outputs": [
    {
     "name": "stdout",
     "output_type": "stream",
     "text": [
      "Suma de la columna 'Incremento/Decremento': 52.07325383689528\n",
      "Promedio de la columna 'Incremento/Decremento': 3.063132578640899\n"
     ]
    }
   ],
   "source": [
    "AccIntFijxTecyCorrientes = AccIntFijxTecyProv[AccIntFijxTecyProv['Provincia'] == 'Corrientes']\n",
    "AccIntFijxTecyCorrientes = AccIntFijxTecyCorrientes[(AccIntFijxTecyCorrientes['Otros'] >= 22)&(AccIntFijxTecyCorrientes['Otros'] <= 58)]\n",
    "# Filtra solo la columna \"Otros\".\n",
    "Dial_up = AccIntFijxTecyCorrientes['Otros']\n",
    "\n",
    "# Calcula la diferencia entre cada dato y el dato anterior.\n",
    "diferencia = Dial_up.diff()\n",
    "\n",
    "# Calcula el porcentaje de incremento o decremento.\n",
    "porcentaje_incremento_decremento = (diferencia / Dial_up.shift(1)) * 100\n",
    "\n",
    "# Crea una nueva columna \"Incremento/Decremento\" en el DataFrame original.\n",
    "AccIntFijxTecyCorrientes['Incremento/Decremento'] = porcentaje_incremento_decremento\n",
    "\n",
    "# Elimina la primera fila de la columna 'Incremento/Decremento'.\n",
    "AccIntFijxTecyCorrientes = AccIntFijxTecyCorrientes.iloc[1:]\n",
    "\n",
    "# Calcula la suma de la columna 'Incremento/Decremento'.\n",
    "suma = AccIntFijxTecyCorrientes['Incremento/Decremento'].sum()\n",
    "\n",
    "# Calcula el promedio de la columna 'Incremento/Decremento'.\n",
    "promedio = AccIntFijxTecyCorrientes['Incremento/Decremento'].mean()\n",
    "\n",
    "# Imprime la suma y el promedio.\n",
    "print(f\"Suma de la columna 'Incremento/Decremento': {suma}\")\n",
    "print(f\"Promedio de la columna 'Incremento/Decremento': {promedio}\")"
   ]
  },
  {
   "cell_type": "code",
   "execution_count": 146,
   "metadata": {},
   "outputs": [
    {
     "data": {
      "text/plain": [
       "6      52.0\n",
       "30     52.0\n",
       "54     52.0\n",
       "78     52.0\n",
       "102    52.0\n",
       "126    52.0\n",
       "150    52.0\n",
       "174    52.0\n",
       "198    52.0\n",
       "222    52.0\n",
       "246    52.0\n",
       "270    52.0\n",
       "294    52.0\n",
       "318    52.0\n",
       "342    52.0\n",
       "366    58.0\n",
       "Name: Otros, dtype: float64"
      ]
     },
     "execution_count": 146,
     "metadata": {},
     "output_type": "execute_result"
    }
   ],
   "source": [
    "AccIntFijxTecyCorrientes = AccIntFijxTecyProv[AccIntFijxTecyProv['Provincia'] == 'Corrientes']\n",
    "\n",
    "# Toma los primeros 19 datos de la columna 'Wireless'.\n",
    "primeros_19_datos = AccIntFijxTecyCorrientes['Otros'].head(16)\n",
    "\n",
    "# Aplicar un incremento porcentual acumulativo\n",
    "for i in range(len(primeros_19_datos)-2,-1,-1):\n",
    "    primeros_19_datos.iloc[i] = 52\n",
    "\n",
    "primeros_19_datos = round(primeros_19_datos,0)\n",
    "primeros_19_datos"
   ]
  },
  {
   "cell_type": "code",
   "execution_count": 147,
   "metadata": {},
   "outputs": [],
   "source": [
    "# Define los nuevos valores en el orden correspondiente\n",
    "nuevos_valores =[52.0, 52.0, 52.0, 52.0, 52.0, 52.0, 52.0, 52.0, 52.0, 52.0, 52.0, 52.0, 52.0, 52.0, 52.0, 58.0]\n",
    "\n",
    "# Define las posiciones en las que deseas reemplazar los valores\n",
    "posiciones = [6, 30, 54, 78, 102, 126, 150, 174, 198, 222, 246, 270, 294, 318, 342, 366]\n",
    "# Reemplaza los valores en la columna \"Banda ancha fija\" en las posiciones especificadas\n",
    "for i in range(len(posiciones)):\n",
    "    AccIntFijxTecyProv.loc[posiciones[i], 'Otros'] = nuevos_valores[i]"
   ]
  },
  {
   "cell_type": "code",
   "execution_count": 148,
   "metadata": {},
   "outputs": [
    {
     "name": "stdout",
     "output_type": "stream",
     "text": [
      "Suma de la columna 'Incremento/Decremento': -141.00651933704754\n",
      "Promedio de la columna 'Incremento/Decremento': -11.750543278087294\n"
     ]
    }
   ],
   "source": [
    "AccIntFijxTecyEntre_Ríos = AccIntFijxTecyProv[AccIntFijxTecyProv['Provincia'] == 'Entre Ríos']\n",
    "AccIntFijxTecyEntre_Ríos = AccIntFijxTecyEntre_Ríos[(AccIntFijxTecyEntre_Ríos['Fibra óptica'] >= 49)&(AccIntFijxTecyEntre_Ríos['Fibra óptica'] <= 254)]\n",
    "# Filtra solo la columna \"Fibra óptica\".\n",
    "Dial_up = AccIntFijxTecyEntre_Ríos['Fibra óptica']\n",
    "\n",
    "# Calcula la diferencia entre cada dato y el dato anterior.\n",
    "diferencia = Dial_up.diff()\n",
    "\n",
    "# Calcula el porcentaje de incremento o decremento.\n",
    "porcentaje_incremento_decremento = (diferencia / Dial_up.shift(1)) * 100\n",
    "\n",
    "# Crea una nueva columna \"Incremento/Decremento\" en el DataFrame original.\n",
    "AccIntFijxTecyEntre_Ríos['Incremento/Decremento'] = porcentaje_incremento_decremento\n",
    "\n",
    "# Elimina la primera fila de la columna 'Incremento/Decremento'.\n",
    "AccIntFijxTecyEntre_Ríos = AccIntFijxTecyEntre_Ríos.iloc[1:]\n",
    "\n",
    "# Calcula la suma de la columna 'Incremento/Decremento'.\n",
    "suma = AccIntFijxTecyEntre_Ríos['Incremento/Decremento'].sum()\n",
    "\n",
    "# Calcula el promedio de la columna 'Incremento/Decremento'.\n",
    "promedio = AccIntFijxTecyEntre_Ríos['Incremento/Decremento'].mean()\n",
    "\n",
    "# Imprime la suma y el promedio.\n",
    "print(f\"Suma de la columna 'Incremento/Decremento': {suma}\")\n",
    "print(f\"Promedio de la columna 'Incremento/Decremento': {promedio}\")"
   ]
  },
  {
   "cell_type": "code",
   "execution_count": 149,
   "metadata": {},
   "outputs": [
    {
     "data": {
      "text/plain": [
       "7      1125.0\n",
       "31     1052.0\n",
       "55      983.0\n",
       "79      919.0\n",
       "103     859.0\n",
       "127     802.0\n",
       "151     750.0\n",
       "175     701.0\n",
       "199     655.0\n",
       "223     612.0\n",
       "247     572.0\n",
       "271     535.0\n",
       "295     500.0\n",
       "319     467.0\n",
       "343     436.0\n",
       "367     408.0\n",
       "391     381.0\n",
       "415     356.0\n",
       "439     333.0\n",
       "463     311.0\n",
       "487     291.0\n",
       "511     272.0\n",
       "535     254.0\n",
       "Name: Fibra óptica, dtype: float64"
      ]
     },
     "execution_count": 149,
     "metadata": {},
     "output_type": "execute_result"
    }
   ],
   "source": [
    "AccIntFijxTecyEntre_Ríos = AccIntFijxTecyProv[AccIntFijxTecyProv['Provincia'] == 'Entre Ríos']\n",
    "\n",
    "# Toma los primeros 19 datos de la columna 'Wireless'.\n",
    "primeros_19_datos = AccIntFijxTecyEntre_Ríos['Fibra óptica'].head(23)\n",
    "\n",
    "# Aplicar un incremento porcentual acumulativo\n",
    "for i in range(len(primeros_19_datos)-2,-1,-1):\n",
    "    primeros_19_datos.iloc[i] = round(primeros_19_datos.iloc[i + 1] * (1.07),2)\n",
    "\n",
    "primeros_19_datos = round(primeros_19_datos,0)\n",
    "primeros_19_datos"
   ]
  },
  {
   "cell_type": "code",
   "execution_count": 150,
   "metadata": {},
   "outputs": [],
   "source": [
    "# Define los nuevos valores en el orden correspondiente\n",
    "nuevos_valores  = [1125.0, 1052.0, 983.0, 919.0, 859.0, 802.0, 750.0, 701.0, 655.0, 612.0, 572.0, 535.0, 500.0, 467.0, 436.0, 408.0, 381.0, 356.0, 333.0, 311.0, 291.0, 272.0, 254.0]\n",
    "\n",
    "# Define las posiciones en las que deseas reemplazar los valores\n",
    "posiciones = [7, 31, 55, 79, 103, 127, 151, 175, 199, 223, 247, 271, 295, 319, 343, 367, 391, 415, 439, 463, 487, 511, 535]\n",
    "\n",
    "\n",
    "# Reemplaza los valores en la columna \"Banda ancha fija\" en las posiciones especificadas\n",
    "for i in range(len(posiciones)):\n",
    "    AccIntFijxTecyProv.loc[posiciones[i], 'Fibra óptica'] = nuevos_valores[i]"
   ]
  },
  {
   "cell_type": "code",
   "execution_count": 151,
   "metadata": {},
   "outputs": [
    {
     "name": "stdout",
     "output_type": "stream",
     "text": [
      "Suma de la columna 'Incremento/Decremento': -19.949431964049186\n",
      "Promedio de la columna 'Incremento/Decremento': -2.4936789955061482\n"
     ]
    }
   ],
   "source": [
    "AccIntFijxTecyEntre_Ríos = AccIntFijxTecyProv[AccIntFijxTecyProv['Provincia'] == 'Entre Ríos']\n",
    "AccIntFijxTecyEntre_Ríos = AccIntFijxTecyEntre_Ríos[(AccIntFijxTecyEntre_Ríos['Otros'] >= 133)&(AccIntFijxTecyEntre_Ríos['Otros'] <= 245)]\n",
    "# Filtra solo la columna \"Otros\".\n",
    "Dial_up = AccIntFijxTecyEntre_Ríos['Otros']\n",
    "\n",
    "# Calcula la diferencia entre cada dato y el dato anterior.\n",
    "diferencia = Dial_up.diff()\n",
    "\n",
    "# Calcula el porcentaje de incremento o decremento.\n",
    "porcentaje_incremento_decremento = (diferencia / Dial_up.shift(1)) * 100\n",
    "\n",
    "# Crea una nueva columna \"Incremento/Decremento\" en el DataFrame original.\n",
    "AccIntFijxTecyEntre_Ríos['Incremento/Decremento'] = porcentaje_incremento_decremento\n",
    "\n",
    "# Elimina la primera fila de la columna 'Incremento/Decremento'.\n",
    "AccIntFijxTecyEntre_Ríos = AccIntFijxTecyEntre_Ríos.iloc[1:]\n",
    "\n",
    "# Calcula la suma de la columna 'Incremento/Decremento'.\n",
    "suma = AccIntFijxTecyEntre_Ríos['Incremento/Decremento'].sum()\n",
    "\n",
    "# Calcula el promedio de la columna 'Incremento/Decremento'.\n",
    "promedio = AccIntFijxTecyEntre_Ríos['Incremento/Decremento'].mean()\n",
    "\n",
    "# Imprime la suma y el promedio.\n",
    "print(f\"Suma de la columna 'Incremento/Decremento': {suma}\")\n",
    "print(f\"Promedio de la columna 'Incremento/Decremento': {promedio}\")"
   ]
  },
  {
   "cell_type": "code",
   "execution_count": 152,
   "metadata": {},
   "outputs": [
    {
     "data": {
      "text/plain": [
       "7      367.0\n",
       "31     358.0\n",
       "55     349.0\n",
       "79     341.0\n",
       "103    332.0\n",
       "127    324.0\n",
       "151    316.0\n",
       "175    309.0\n",
       "199    301.0\n",
       "223    294.0\n",
       "247    287.0\n",
       "271    280.0\n",
       "295    273.0\n",
       "319    266.0\n",
       "343    260.0\n",
       "367    253.0\n",
       "391    247.0\n",
       "415    241.0\n",
       "439    235.0\n",
       "463    229.0\n",
       "487    224.0\n",
       "511    218.0\n",
       "535    213.0\n",
       "559    208.0\n",
       "583    203.0\n",
       "607    198.0\n",
       "631    193.0\n",
       "Name: Otros, dtype: float64"
      ]
     },
     "execution_count": 152,
     "metadata": {},
     "output_type": "execute_result"
    }
   ],
   "source": [
    "AccIntFijxTecyEntre_Ríos = AccIntFijxTecyProv[AccIntFijxTecyProv['Provincia'] == 'Entre Ríos']\n",
    "\n",
    "# Toma los primeros 19 datos de la columna 'Wireless'.\n",
    "primeros_19_datos = AccIntFijxTecyEntre_Ríos['Otros'].head(27)\n",
    "\n",
    "# Aplicar un incremento porcentual acumulativo\n",
    "for i in range(len(primeros_19_datos)-2,-1,-1):\n",
    "    primeros_19_datos.iloc[i] = round(primeros_19_datos.iloc[i + 1] * (1.025),2)\n",
    "\n",
    "primeros_19_datos = round(primeros_19_datos,0)\n",
    "primeros_19_datos"
   ]
  },
  {
   "cell_type": "code",
   "execution_count": 153,
   "metadata": {},
   "outputs": [],
   "source": [
    "# Define los nuevos valores en el orden correspondiente\n",
    "nuevos_valores = [367.0, 358.0, 349.0, 341.0, 332.0, 324.0, 316.0, 309.0, 301.0, 294.0, 287.0, 280.0, 273.0, 266.0, 260.0, 253.0, 247.0, 241.0, 235.0, 229.0, 224.0, 218.0, 213.0, 208.0, 203.0, 198.0, 193.0]\n",
    "\n",
    "# Define las posiciones en las que deseas reemplazar los valores\n",
    "posiciones = [7, 31, 55, 79, 103, 127, 151, 175, 199, 223, 247, 271, 295, 319, 343, 367, 391, 415, 439, 463, 487, 511, 535, 559, 583, 607, 631]\n",
    "\n",
    "\n",
    "# Reemplaza los valores en la columna \"Banda ancha fija\" en las posiciones especificadas\n",
    "for i in range(len(posiciones)):\n",
    "    AccIntFijxTecyProv.loc[posiciones[i], 'Otros'] = nuevos_valores[i]"
   ]
  },
  {
   "cell_type": "code",
   "execution_count": 154,
   "metadata": {},
   "outputs": [
    {
     "name": "stdout",
     "output_type": "stream",
     "text": [
      "Suma de la columna 'Incremento/Decremento': -13.530067883614382\n",
      "Promedio de la columna 'Incremento/Decremento': -6.765033941807191\n"
     ]
    }
   ],
   "source": [
    "AccIntFijxTecyFormosa = AccIntFijxTecyProv[AccIntFijxTecyProv['Provincia'] == 'Formosa']\n",
    "AccIntFijxTecyFormosa = AccIntFijxTecyFormosa[(AccIntFijxTecyFormosa['Fibra óptica'] >= 817)&(AccIntFijxTecyFormosa['Fibra óptica'] <= 940)]\n",
    "# Filtra solo la columna \"Fibra óptica\".\n",
    "Dial_up = AccIntFijxTecyFormosa['Fibra óptica']\n",
    "\n",
    "# Calcula la diferencia entre cada dato y el dato anterior.\n",
    "diferencia = Dial_up.diff()\n",
    "\n",
    "# Calcula el porcentaje de incremento o decremento.\n",
    "porcentaje_incremento_decremento = (diferencia / Dial_up.shift(1)) * 100\n",
    "\n",
    "# Crea una nueva columna \"Incremento/Decremento\" en el DataFrame original.\n",
    "AccIntFijxTecyFormosa['Incremento/Decremento'] = porcentaje_incremento_decremento\n",
    "\n",
    "# Elimina la primera fila de la columna 'Incremento/Decremento'.\n",
    "AccIntFijxTecyFormosa = AccIntFijxTecyFormosa.iloc[1:]\n",
    "\n",
    "# Calcula la suma de la columna 'Incremento/Decremento'.\n",
    "suma = AccIntFijxTecyFormosa['Incremento/Decremento'].sum()\n",
    "\n",
    "# Calcula el promedio de la columna 'Incremento/Decremento'.\n",
    "promedio = AccIntFijxTecyFormosa['Incremento/Decremento'].mean()\n",
    "\n",
    "# Imprime la suma y el promedio.\n",
    "print(f\"Suma de la columna 'Incremento/Decremento': {suma}\")\n",
    "print(f\"Promedio de la columna 'Incremento/Decremento': {promedio}\")"
   ]
  },
  {
   "cell_type": "code",
   "execution_count": 155,
   "metadata": {},
   "outputs": [
    {
     "data": {
      "text/plain": [
       "8      1888.0\n",
       "32     1802.0\n",
       "56     1721.0\n",
       "80     1642.0\n",
       "104    1568.0\n",
       "128    1497.0\n",
       "152    1429.0\n",
       "176    1364.0\n",
       "200    1302.0\n",
       "224    1242.0\n",
       "248    1186.0\n",
       "272    1132.0\n",
       "296    1081.0\n",
       "320    1032.0\n",
       "344     985.0\n",
       "368     940.0\n",
       "Name: Fibra óptica, dtype: float64"
      ]
     },
     "execution_count": 155,
     "metadata": {},
     "output_type": "execute_result"
    }
   ],
   "source": [
    "AccIntFijxTecyEntre_Ríos = AccIntFijxTecyProv[AccIntFijxTecyProv['Provincia'] == 'Formosa']\n",
    "\n",
    "# Toma los primeros 19 datos de la columna 'Wireless'.\n",
    "primeros_19_datos = AccIntFijxTecyEntre_Ríos['Fibra óptica'].head(16)\n",
    "\n",
    "# Aplicar un incremento porcentual acumulativo\n",
    "for i in range(len(primeros_19_datos)-2,-1,-1):\n",
    "    primeros_19_datos.iloc[i] = round(primeros_19_datos.iloc[i + 1] * (1.0476),2)\n",
    "\n",
    "primeros_19_datos = round(primeros_19_datos,0)\n",
    "primeros_19_datos"
   ]
  },
  {
   "cell_type": "code",
   "execution_count": 156,
   "metadata": {},
   "outputs": [],
   "source": [
    "# Define los nuevos valores en el orden correspondiente\n",
    "nuevos_valores = [1888.0, 1802.0, 1721.0, 1642.0, 1568.0, 1497.0, 1429.0, 1364.0, 1302.0, 1242.0, 1186.0, 1132.0, 1081.0, 1032.0, 985.0, 940.0]\n",
    "\n",
    "# Define las posiciones en las que deseas reemplazar los valores\n",
    "posiciones = [8, 32, 56, 80, 104, 128, 152, 176, 200, 224, 248, 272, 296, 320, 344, 368]\n",
    "\n",
    "\n",
    "# Reemplaza los valores en la columna \"Banda ancha fija\" en las posiciones especificadas\n",
    "for i in range(len(posiciones)):\n",
    "    AccIntFijxTecyProv.loc[posiciones[i], 'Fibra óptica'] = nuevos_valores[i]"
   ]
  },
  {
   "cell_type": "code",
   "execution_count": 157,
   "metadata": {},
   "outputs": [
    {
     "data": {
      "text/plain": [
       "416    817.0\n",
       "440    762.0\n",
       "464    710.0\n",
       "488    662.0\n",
       "512    617.0\n",
       "536    576.0\n",
       "560    537.0\n",
       "584    501.0\n",
       "608    467.0\n",
       "632    435.0\n",
       "656    406.0\n",
       "680    378.0\n",
       "704    353.0\n",
       "728    329.0\n",
       "752    307.0\n",
       "776    286.0\n",
       "800    267.0\n",
       "824    249.0\n",
       "848    232.0\n",
       "Name: Fibra óptica, dtype: float64"
      ]
     },
     "execution_count": 157,
     "metadata": {},
     "output_type": "execute_result"
    }
   ],
   "source": [
    "AccIntFijxTecyEntre_Ríos = AccIntFijxTecyProv[AccIntFijxTecyProv['Provincia'] == 'Formosa']\n",
    "\n",
    "# Toma los primeros 19 datos de la columna 'Wireless'.\n",
    "primeros_19_datos = AccIntFijxTecyEntre_Ríos['Fibra óptica'].tail(19)\n",
    "\n",
    "# Aplicar un incremento porcentual acumulativo\n",
    "for i in range(1,len(primeros_19_datos)):\n",
    "    primeros_19_datos.iloc[i] = round(primeros_19_datos.iloc[i - 1] * (1-0.0676),2)\n",
    "\n",
    "primeros_19_datos = round(primeros_19_datos,0)\n",
    "primeros_19_datos"
   ]
  },
  {
   "cell_type": "code",
   "execution_count": 158,
   "metadata": {},
   "outputs": [],
   "source": [
    "# Define los nuevos valores en el orden correspondiente\n",
    "nuevos_valores = [817.0, 762.0, 710.0, 662.0, 617.0, 576.0, 537.0, 501.0, 467.0, 435.0, 406.0, 378.0, 353.0, 329.0, 307.0, 286.0, 267.0, 249.0, 232.0]\n",
    "\n",
    "# Define las posiciones en las que deseas reemplazar los valores\n",
    "posiciones = [416, 440, 464, 488, 512, 536, 560, 584, 608, 632, 656, 680, 704, 728, 752, 776, 800, 824, 848]\n",
    "\n",
    "\n",
    "# Reemplaza los valores en la columna \"Banda ancha fija\" en las posiciones especificadas\n",
    "for i in range(len(posiciones)):\n",
    "    AccIntFijxTecyProv.loc[posiciones[i], 'Fibra óptica'] = nuevos_valores[i]"
   ]
  },
  {
   "cell_type": "code",
   "execution_count": 159,
   "metadata": {},
   "outputs": [
    {
     "name": "stdout",
     "output_type": "stream",
     "text": [
      "Suma de la columna 'Incremento/Decremento': -27.11093133785014\n",
      "Promedio de la columna 'Incremento/Decremento': -13.55546566892507\n"
     ]
    }
   ],
   "source": [
    "AccIntFijxTecyFormosa = AccIntFijxTecyProv[AccIntFijxTecyProv['Provincia'] == 'Formosa']\n",
    "AccIntFijxTecyFormosa = AccIntFijxTecyFormosa[(AccIntFijxTecyFormosa['Wireless'] >= 670)&(AccIntFijxTecyFormosa['Wireless'] <= 899)]\n",
    "# Filtra solo la columna \"Wireless\".\n",
    "Dial_up = AccIntFijxTecyFormosa['Wireless']\n",
    "\n",
    "# Calcula la diferencia entre cada dato y el dato anterior.\n",
    "diferencia = Dial_up.diff()\n",
    "\n",
    "# Calcula el porcentaje de incremento o decremento.\n",
    "porcentaje_incremento_decremento = (diferencia / Dial_up.shift(1)) * 100\n",
    "\n",
    "# Crea una nueva columna \"Incremento/Decremento\" en el DataFrame original.\n",
    "AccIntFijxTecyFormosa['Incremento/Decremento'] = porcentaje_incremento_decremento\n",
    "\n",
    "# Elimina la primera fila de la columna 'Incremento/Decremento'.\n",
    "AccIntFijxTecyFormosa = AccIntFijxTecyFormosa.iloc[1:]\n",
    "\n",
    "# Calcula la suma de la columna 'Incremento/Decremento'.\n",
    "suma = AccIntFijxTecyFormosa['Incremento/Decremento'].sum()\n",
    "\n",
    "# Calcula el promedio de la columna 'Incremento/Decremento'.\n",
    "promedio = AccIntFijxTecyFormosa['Incremento/Decremento'].mean()\n",
    "\n",
    "# Imprime la suma y el promedio.\n",
    "print(f\"Suma de la columna 'Incremento/Decremento': {suma}\")\n",
    "print(f\"Promedio de la columna 'Incremento/Decremento': {promedio}\")"
   ]
  },
  {
   "cell_type": "code",
   "execution_count": 160,
   "metadata": {},
   "outputs": [
    {
     "data": {
      "text/plain": [
       "8      1466.0\n",
       "32     1441.0\n",
       "56     1417.0\n",
       "80     1393.0\n",
       "104    1370.0\n",
       "128    1347.0\n",
       "152    1325.0\n",
       "176    1303.0\n",
       "200    1281.0\n",
       "224    1259.0\n",
       "248    1238.0\n",
       "272    1218.0\n",
       "296    1197.0\n",
       "320    1177.0\n",
       "344    1158.0\n",
       "368    1138.0\n",
       "392    1119.0\n",
       "416    1101.0\n",
       "440    1082.0\n",
       "464    1064.0\n",
       "488    1046.0\n",
       "512    1029.0\n",
       "536    1012.0\n",
       "560     995.0\n",
       "584     978.0\n",
       "608     962.0\n",
       "632     946.0\n",
       "656     930.0\n",
       "680     914.0\n",
       "704     899.0\n",
       "Name: Wireless, dtype: float64"
      ]
     },
     "execution_count": 160,
     "metadata": {},
     "output_type": "execute_result"
    }
   ],
   "source": [
    "AccIntFijxTecyFormosa = AccIntFijxTecyProv[AccIntFijxTecyProv['Provincia'] == 'Formosa']\n",
    "\n",
    "# Toma los primeros 19 datos de la columna 'Wireless'.\n",
    "primeros_19_datos = AccIntFijxTecyFormosa['Wireless'].head(30)\n",
    "\n",
    "# Aplicar un incremento porcentual acumulativo\n",
    "for i in range(len(primeros_19_datos)-2,-1,-1):\n",
    "    primeros_19_datos.iloc[i] = round(primeros_19_datos.iloc[i + 1] * (1.017),2)\n",
    "\n",
    "primeros_19_datos = round(primeros_19_datos,0)\n",
    "primeros_19_datos"
   ]
  },
  {
   "cell_type": "code",
   "execution_count": 161,
   "metadata": {},
   "outputs": [],
   "source": [
    "# Define los nuevos valores en el orden correspondiente\n",
    "nuevos_valores = [1466.0, 1441.0, 1417.0, 1393.0, 1370.0, 1347.0, 1325.0, 1303.0, 1281.0, 1259.0, 1238.0, 1218.0, 1197.0, 1177.0, 1158.0, 1138.0, 1119.0, 1101.0, 1082.0, 1064.0, 1046.0, 1029.0, 1012.0, 995.0, 978.0, 962.0, 946.0, 930.0, 914.0, 899.0]\n",
    "\n",
    "# Define las posiciones en las que deseas reemplazar los valores\n",
    "posiciones = [8, 32, 56, 80, 104, 128, 152, 176, 200, 224, 248, 272, 296, 320, 344, 368, 392, 416, 440, 464, 488, 512, 536, 560, 584, 608, 632, 656, 680, 704]\n",
    "\n",
    "# Reemplaza los valores en la columna \"Banda ancha fija\" en las posiciones especificadas\n",
    "for i in range(len(posiciones)):\n",
    "    AccIntFijxTecyProv.loc[posiciones[i], 'Wireless'] = nuevos_valores[i]"
   ]
  },
  {
   "cell_type": "code",
   "execution_count": 162,
   "metadata": {},
   "outputs": [
    {
     "data": {
      "text/plain": [
       "752    670.0\n",
       "776    583.0\n",
       "800    507.0\n",
       "824    441.0\n",
       "848    384.0\n",
       "Name: Wireless, dtype: float64"
      ]
     },
     "execution_count": 162,
     "metadata": {},
     "output_type": "execute_result"
    }
   ],
   "source": [
    "AccIntFijxTecyFormosa = AccIntFijxTecyProv[AccIntFijxTecyProv['Provincia'] == 'Formosa']\n",
    "\n",
    "# Toma los primeros 19 datos de la columna 'Wireless'.\n",
    "primeros_19_datos = AccIntFijxTecyFormosa['Wireless'].tail(5)\n",
    "\n",
    "# Aplicar un incremento porcentual acumulativo\n",
    "for i in range(1,len(primeros_19_datos)):\n",
    "    primeros_19_datos.iloc[i] = round(primeros_19_datos.iloc[i - 1] * (1-0.13),2)\n",
    "\n",
    "primeros_19_datos = round(primeros_19_datos,0)\n",
    "primeros_19_datos"
   ]
  },
  {
   "cell_type": "code",
   "execution_count": 163,
   "metadata": {},
   "outputs": [],
   "source": [
    "# Define los nuevos valores en el orden correspondiente\n",
    "nuevos_valores = [670.0, 583.0, 507.0, 441.0, 384.0]\n",
    "\n",
    "# Define las posiciones en las que deseas reemplazar los valores\n",
    "posiciones = [752, 776, 800, 824, 848]\n",
    "\n",
    "\n",
    "# Reemplaza los valores en la columna \"Banda ancha fija\" en las posiciones especificadas\n",
    "for i in range(len(posiciones)):\n",
    "    AccIntFijxTecyProv.loc[posiciones[i], 'Wireless'] = nuevos_valores[i]"
   ]
  },
  {
   "cell_type": "code",
   "execution_count": 164,
   "metadata": {},
   "outputs": [
    {
     "name": "stdout",
     "output_type": "stream",
     "text": [
      "Suma de la columna 'Incremento/Decremento': -44.16058394160584\n",
      "Promedio de la columna 'Incremento/Decremento': -14.720194647201948\n"
     ]
    }
   ],
   "source": [
    "AccIntFijxTecyJujuy = AccIntFijxTecyProv[AccIntFijxTecyProv['Provincia'] == 'Jujuy']\n",
    "AccIntFijxTecyJujuy = AccIntFijxTecyJujuy[(AccIntFijxTecyJujuy['Fibra óptica'] >= 153)&(AccIntFijxTecyJujuy['Fibra óptica'] <= 274)]\n",
    "# Filtra solo la columna \"Fibra óptica\".\n",
    "Dial_up = AccIntFijxTecyJujuy['Fibra óptica']\n",
    "\n",
    "# Calcula la diferencia entre cada dato y el dato anterior.\n",
    "diferencia = Dial_up.diff()\n",
    "\n",
    "# Calcula el porcentaje de incremento o decremento.\n",
    "porcentaje_incremento_decremento = (diferencia / Dial_up.shift(1)) * 100\n",
    "\n",
    "# Crea una nueva columna \"Incremento/Decremento\" en el DataFrame original.\n",
    "AccIntFijxTecyJujuy['Incremento/Decremento'] = porcentaje_incremento_decremento\n",
    "\n",
    "# Elimina la primera fila de la columna 'Incremento/Decremento'.\n",
    "AccIntFijxTecyJujuy = AccIntFijxTecyJujuy.iloc[1:]\n",
    "\n",
    "# Calcula la suma de la columna 'Incremento/Decremento'.\n",
    "suma = AccIntFijxTecyJujuy['Incremento/Decremento'].sum()\n",
    "\n",
    "# Calcula el promedio de la columna 'Incremento/Decremento'.\n",
    "promedio = AccIntFijxTecyJujuy['Incremento/Decremento'].mean()\n",
    "\n",
    "# Imprime la suma y el promedio.\n",
    "print(f\"Suma de la columna 'Incremento/Decremento': {suma}\")\n",
    "print(f\"Promedio de la columna 'Incremento/Decremento': {promedio}\")"
   ]
  },
  {
   "cell_type": "code",
   "execution_count": 165,
   "metadata": {},
   "outputs": [
    {
     "data": {
      "text/plain": [
       "9      745.0\n",
       "33     690.0\n",
       "57     639.0\n",
       "81     592.0\n",
       "105    548.0\n",
       "129    507.0\n",
       "153    470.0\n",
       "177    435.0\n",
       "201    403.0\n",
       "225    373.0\n",
       "249    345.0\n",
       "273    320.0\n",
       "297    296.0\n",
       "321    274.0\n",
       "Name: Fibra óptica, dtype: float64"
      ]
     },
     "execution_count": 165,
     "metadata": {},
     "output_type": "execute_result"
    }
   ],
   "source": [
    "AccIntFijxTecyJujuy = AccIntFijxTecyProv[AccIntFijxTecyProv['Provincia'] == 'Jujuy']\n",
    "\n",
    "# Toma los primeros 19 datos de la columna 'Fibra óptica'.\n",
    "primeros_19_datos = AccIntFijxTecyJujuy['Fibra óptica'].head(14)\n",
    "\n",
    "# Aplicar un incremento porcentual acumulativo\n",
    "for i in range(len(primeros_19_datos)-2,-1,-1):\n",
    "    primeros_19_datos.iloc[i] = round(primeros_19_datos.iloc[i + 1] * (1.08),2)\n",
    "\n",
    "primeros_19_datos = round(primeros_19_datos,0)\n",
    "primeros_19_datos"
   ]
  },
  {
   "cell_type": "code",
   "execution_count": 166,
   "metadata": {},
   "outputs": [],
   "source": [
    "# Define los nuevos valores en el orden correspondiente\n",
    "nuevos_valores = [745.0, 690.0, 639.0, 592.0, 548.0, 507.0, 470.0, 435.0, 403.0, 373.0, 345.0, 320.0, 296.0, 274.0]\n",
    "\n",
    "# Define las posiciones en las que deseas reemplazar los valores\n",
    "posiciones = [9, 33, 57, 81, 105, 129, 153, 177, 201, 225, 249, 273, 297, 321]\n",
    "\n",
    "\n",
    "# Reemplaza los valores en la columna \"Banda ancha fija\" en las posiciones especificadas\n",
    "for i in range(len(posiciones)):\n",
    "    AccIntFijxTecyProv.loc[posiciones[i], 'Fibra óptica'] = nuevos_valores[i]"
   ]
  },
  {
   "cell_type": "code",
   "execution_count": 167,
   "metadata": {},
   "outputs": [
    {
     "data": {
      "text/plain": [
       "393    153.0\n",
       "417    132.0\n",
       "441    113.0\n",
       "465     97.0\n",
       "489     84.0\n",
       "513     72.0\n",
       "537     62.0\n",
       "561     53.0\n",
       "585     46.0\n",
       "609     39.0\n",
       "633     34.0\n",
       "657     29.0\n",
       "681     25.0\n",
       "705     22.0\n",
       "729     19.0\n",
       "753     16.0\n",
       "777     14.0\n",
       "801     12.0\n",
       "825     10.0\n",
       "849      9.0\n",
       "Name: Fibra óptica, dtype: float64"
      ]
     },
     "execution_count": 167,
     "metadata": {},
     "output_type": "execute_result"
    }
   ],
   "source": [
    "AccIntFijxTecyJujuy = AccIntFijxTecyProv[AccIntFijxTecyProv['Provincia'] == 'Jujuy']\n",
    "\n",
    "# Toma los primeros 19 datos de la columna 'Fibra óptica'.\n",
    "primeros_19_datos = AccIntFijxTecyJujuy['Fibra óptica'].tail(20)\n",
    "\n",
    "# Aplicar un incremento porcentual acumulativo\n",
    "for i in range(1,len(primeros_19_datos)):\n",
    "    primeros_19_datos.iloc[i] = round(primeros_19_datos.iloc[i - 1] * (1-0.14),2)\n",
    "\n",
    "primeros_19_datos = round(primeros_19_datos,0)\n",
    "primeros_19_datos"
   ]
  },
  {
   "cell_type": "code",
   "execution_count": 168,
   "metadata": {},
   "outputs": [],
   "source": [
    "# Define los nuevos valores en el orden correspondiente\n",
    "nuevos_valores = [153.0, 132.0, 113.0, 97.0, 84.0, 72.0, 62.0, 53.0, 46.0, 39.0, 34.0, 29.0, 25.0, 22.0, 19.0, 16.0, 14.0, 12.0, 10.0, 9.0]\n",
    "\n",
    "# Define las posiciones en las que deseas reemplazar los valores\n",
    "posiciones = [393, 417, 441, 465, 489, 513, 537, 561, 585, 609, 633, 657, 681, 705, 729, 753, 777, 801, 825, 849]\n",
    "\n",
    "\n",
    "# Reemplaza los valores en la columna \"Banda ancha fija\" en las posiciones especificadas\n",
    "for i in range(len(posiciones)):\n",
    "    AccIntFijxTecyProv.loc[posiciones[i], 'Fibra óptica'] = nuevos_valores[i]"
   ]
  },
  {
   "cell_type": "code",
   "execution_count": 169,
   "metadata": {},
   "outputs": [
    {
     "name": "stdout",
     "output_type": "stream",
     "text": [
      "Suma de la columna 'Incremento/Decremento': -36.06625306726633\n",
      "Promedio de la columna 'Incremento/Decremento': -4.007361451918481\n"
     ]
    }
   ],
   "source": [
    "AccIntFijxTecyJujuy = AccIntFijxTecyProv[AccIntFijxTecyProv['Provincia'] == 'Jujuy']\n",
    "AccIntFijxTecyJujuy = AccIntFijxTecyJujuy[(AccIntFijxTecyJujuy['Wireless'] >= 640)&(AccIntFijxTecyJujuy['Wireless'] <= 952)]\n",
    "# Filtra solo la columna \"Wireless\".\n",
    "Dial_up = AccIntFijxTecyJujuy['Wireless']\n",
    "\n",
    "# Calcula la diferencia entre cada dato y el dato anterior.\n",
    "diferencia = Dial_up.diff()\n",
    "\n",
    "# Calcula el porcentaje de incremento o decremento.\n",
    "porcentaje_incremento_decremento = (diferencia / Dial_up.shift(1)) * 100\n",
    "\n",
    "# Crea una nueva columna \"Incremento/Decremento\" en el DataFrame original.\n",
    "AccIntFijxTecyJujuy['Incremento/Decremento'] = porcentaje_incremento_decremento\n",
    "\n",
    "# Elimina la primera fila de la columna 'Incremento/Decremento'.\n",
    "AccIntFijxTecyJujuy = AccIntFijxTecyJujuy.iloc[1:]\n",
    "\n",
    "# Calcula la suma de la columna 'Incremento/Decremento'.\n",
    "suma = AccIntFijxTecyJujuy['Incremento/Decremento'].sum()\n",
    "\n",
    "# Calcula el promedio de la columna 'Incremento/Decremento'.\n",
    "promedio = AccIntFijxTecyJujuy['Incremento/Decremento'].mean()\n",
    "\n",
    "# Imprime la suma y el promedio.\n",
    "print(f\"Suma de la columna 'Incremento/Decremento': {suma}\")\n",
    "print(f\"Promedio de la columna 'Incremento/Decremento': {promedio}\")"
   ]
  },
  {
   "cell_type": "code",
   "execution_count": 170,
   "metadata": {},
   "outputs": [
    {
     "data": {
      "text/plain": [
       "9      1355.0\n",
       "33     1303.0\n",
       "57     1253.0\n",
       "81     1205.0\n",
       "105    1158.0\n",
       "129    1114.0\n",
       "153    1071.0\n",
       "177    1030.0\n",
       "201     990.0\n",
       "225     952.0\n",
       "Name: Wireless, dtype: float64"
      ]
     },
     "execution_count": 170,
     "metadata": {},
     "output_type": "execute_result"
    }
   ],
   "source": [
    "AccIntFijxTecyJujuy = AccIntFijxTecyProv[AccIntFijxTecyProv['Provincia'] == 'Jujuy']\n",
    "\n",
    "# Toma los primeros 19 datos de la columna 'Fibra óptica'.\n",
    "primeros_19_datos = AccIntFijxTecyJujuy['Wireless'].head(10)\n",
    "\n",
    "# Aplicar un incremento porcentual acumulativo\n",
    "for i in range(len(primeros_19_datos)-2,-1,-1):\n",
    "    primeros_19_datos.iloc[i] = round(primeros_19_datos.iloc[i + 1] * (1.04),2)\n",
    "\n",
    "primeros_19_datos = round(primeros_19_datos,0)\n",
    "primeros_19_datos"
   ]
  },
  {
   "cell_type": "code",
   "execution_count": 171,
   "metadata": {},
   "outputs": [],
   "source": [
    "# Define los nuevos valores en el orden correspondiente\n",
    "nuevos_valores = [1355.0, 1303.0, 1253.0, 1205.0, 1158.0, 1114.0, 1071.0, 1030.0, 990.0, 952.0]\n",
    "\n",
    "# Define las posiciones en las que deseas reemplazar los valores\n",
    "posiciones = [9, 33, 57, 81, 105, 129, 153, 177, 201, 225]\n",
    "\n",
    "\n",
    "# Reemplaza los valores en la columna \"Banda ancha fija\" en las posiciones especificadas\n",
    "for i in range(len(posiciones)):\n",
    "    AccIntFijxTecyProv.loc[posiciones[i], 'Wireless'] = nuevos_valores[i]"
   ]
  },
  {
   "cell_type": "code",
   "execution_count": 172,
   "metadata": {},
   "outputs": [
    {
     "data": {
      "text/plain": [
       "441    640.0\n",
       "465    614.0\n",
       "489    590.0\n",
       "513    566.0\n",
       "537    544.0\n",
       "561    522.0\n",
       "585    501.0\n",
       "609    481.0\n",
       "633    462.0\n",
       "657    443.0\n",
       "681    425.0\n",
       "705    408.0\n",
       "729    392.0\n",
       "753    376.0\n",
       "777    361.0\n",
       "801    347.0\n",
       "825    333.0\n",
       "849    320.0\n",
       "Name: Wireless, dtype: float64"
      ]
     },
     "execution_count": 172,
     "metadata": {},
     "output_type": "execute_result"
    }
   ],
   "source": [
    "AccIntFijxTecyJujuy = AccIntFijxTecyProv[AccIntFijxTecyProv['Provincia'] == 'Jujuy']\n",
    "\n",
    "# Toma los primeros 19 datos de la columna 'Wireless'.\n",
    "primeros_19_datos = AccIntFijxTecyJujuy['Wireless'].tail(18)\n",
    "\n",
    "# Aplicar un incremento porcentual acumulativo\n",
    "for i in range(1,len(primeros_19_datos)):\n",
    "    primeros_19_datos.iloc[i] = round(primeros_19_datos.iloc[i - 1] * (1-0.04),2)\n",
    "\n",
    "primeros_19_datos = round(primeros_19_datos,0)\n",
    "primeros_19_datos"
   ]
  },
  {
   "cell_type": "code",
   "execution_count": 173,
   "metadata": {},
   "outputs": [],
   "source": [
    "# Define los nuevos valores en el orden correspondiente\n",
    "nuevos_valores = [640.0, 614.0, 590.0, 566.0, 544.0, 522.0, 501.0, 481.0, 462.0, 443.0, 425.0, 408.0, 392.0, 376.0, 361.0, 347.0, 333.0, 320.0]\n",
    "\n",
    "# Define las posiciones en las que deseas reemplazar los valores\n",
    "posiciones = [441, 465, 489, 513, 537, 561, 585, 609, 633, 657, 681, 705, 729, 753, 777, 801, 825, 849]\n",
    "\n",
    "\n",
    "# Reemplaza los valores en la columna \"Banda ancha fija\" en las posiciones especificadas\n",
    "for i in range(len(posiciones)):\n",
    "    AccIntFijxTecyProv.loc[posiciones[i], 'Wireless'] = nuevos_valores[i]"
   ]
  },
  {
   "cell_type": "code",
   "execution_count": 174,
   "metadata": {},
   "outputs": [
    {
     "name": "stdout",
     "output_type": "stream",
     "text": [
      "Suma de la columna 'Incremento/Decremento': 4.669260700389105\n",
      "Promedio de la columna 'Incremento/Decremento': 4.669260700389105\n"
     ]
    }
   ],
   "source": [
    "AccIntFijxTecyLa_Pampa = AccIntFijxTecyProv[AccIntFijxTecyProv['Provincia'] == 'La Pampa']\n",
    "AccIntFijxTecyLa_Pampa = AccIntFijxTecyLa_Pampa[(AccIntFijxTecyLa_Pampa['Fibra óptica'] >= 514)&(AccIntFijxTecyLa_Pampa['Fibra óptica'] <= 538)]\n",
    "# Filtra solo la columna \"Fibra óptica\".\n",
    "Dial_up = AccIntFijxTecyLa_Pampa['Fibra óptica']\n",
    "\n",
    "# Calcula la diferencia entre cada dato y el dato anterior.\n",
    "diferencia = Dial_up.diff()\n",
    "\n",
    "# Calcula el porcentaje de incremento o decremento.\n",
    "porcentaje_incremento_decremento = (diferencia / Dial_up.shift(1)) * 100\n",
    "\n",
    "# Crea una nueva columna \"Incremento/Decremento\" en el DataFrame original.\n",
    "AccIntFijxTecyLa_Pampa['Incremento/Decremento'] = porcentaje_incremento_decremento\n",
    "\n",
    "# Elimina la primera fila de la columna 'Incremento/Decremento'.\n",
    "AccIntFijxTecyLa_Pampa = AccIntFijxTecyLa_Pampa.iloc[1:]\n",
    "\n",
    "# Calcula la suma de la columna 'Incremento/Decremento'.\n",
    "suma = AccIntFijxTecyLa_Pampa['Incremento/Decremento'].sum()\n",
    "\n",
    "# Calcula el promedio de la columna 'Incremento/Decremento'.\n",
    "promedio = AccIntFijxTecyLa_Pampa['Incremento/Decremento'].mean()\n",
    "\n",
    "# Imprime la suma y el promedio.\n",
    "print(f\"Suma de la columna 'Incremento/Decremento': {suma}\")\n",
    "print(f\"Promedio de la columna 'Incremento/Decremento': {promedio}\")"
   ]
  },
  {
   "cell_type": "code",
   "execution_count": 175,
   "metadata": {},
   "outputs": [
    {
     "data": {
      "text/plain": [
       "10     1169.0\n",
       "34     1139.0\n",
       "58     1110.0\n",
       "82     1082.0\n",
       "106    1055.0\n",
       "130    1028.0\n",
       "154    1002.0\n",
       "178     976.0\n",
       "202     952.0\n",
       "226     928.0\n",
       "250     904.0\n",
       "274     881.0\n",
       "298     859.0\n",
       "322     837.0\n",
       "346     816.0\n",
       "370     795.0\n",
       "394     775.0\n",
       "418     755.0\n",
       "442     736.0\n",
       "466     718.0\n",
       "490     699.0\n",
       "514     682.0\n",
       "538     664.0\n",
       "562     648.0\n",
       "586     631.0\n",
       "610     615.0\n",
       "634     600.0\n",
       "658     584.0\n",
       "682     570.0\n",
       "706     555.0\n",
       "730     541.0\n",
       "754     527.0\n",
       "778     514.0\n",
       "Name: Fibra óptica, dtype: float64"
      ]
     },
     "execution_count": 175,
     "metadata": {},
     "output_type": "execute_result"
    }
   ],
   "source": [
    "AccIntFijxTecyLa_Pampa = AccIntFijxTecyProv[AccIntFijxTecyProv['Provincia'] == 'La Pampa']\n",
    "\n",
    "# Toma los primeros 19 datos de la columna 'Fibra óptica'.\n",
    "primeros_19_datos = AccIntFijxTecyLa_Pampa['Fibra óptica'].head(33)\n",
    "\n",
    "# Aplicar un incremento porcentual acumulativo\n",
    "for i in range(len(primeros_19_datos)-2,-1,-1):\n",
    "    primeros_19_datos.iloc[i] = round(primeros_19_datos.iloc[i + 1] * (1.026),2)\n",
    "\n",
    "primeros_19_datos = round(primeros_19_datos,0)\n",
    "primeros_19_datos"
   ]
  },
  {
   "cell_type": "code",
   "execution_count": 176,
   "metadata": {},
   "outputs": [],
   "source": [
    "# Define los nuevos valores en el orden correspondiente\n",
    "nuevos_valores = [1169.0, 1139.0, 1110.0, 1082.0, 1055.0, 1028.0, 1002.0, 976.0, 952.0, 928.0, 904.0, 881.0, 859.0, 837.0, 816.0, 795.0, 775.0, 755.0, 736.0, 718.0, 699.0, 682.0, 664.0, 648.0, 631.0, 615.0, 600.0, 584.0, 570.0, 555.0, 541.0, 527.0, 514.0]\n",
    "\n",
    "\n",
    "# Define las posiciones en las que deseas reemplazar los valores\n",
    "posiciones = [10, 34, 58, 82, 106, 130, 154, 178, 202, 226, 250, 274, 298, 322, 346, 370, 394, 418, 442, 466, 490, 514, 538, 562, 586, 610, 634, 658, 682, 706, 730, 754, 778]\n",
    "\n",
    "\n",
    "# Reemplaza los valores en la columna \"Banda ancha fija\" en las posiciones especificadas\n",
    "for i in range(len(posiciones)):\n",
    "    AccIntFijxTecyProv.loc[posiciones[i], 'Fibra óptica'] = nuevos_valores[i]"
   ]
  },
  {
   "cell_type": "code",
   "execution_count": 177,
   "metadata": {},
   "outputs": [
    {
     "name": "stdout",
     "output_type": "stream",
     "text": [
      "Suma de la columna 'Incremento/Decremento': -15.745009439696366\n",
      "Promedio de la columna 'Incremento/Decremento': -1.1246435314068832\n"
     ]
    }
   ],
   "source": [
    "AccIntFijxTecyLa_Pampa = AccIntFijxTecyProv[AccIntFijxTecyProv['Provincia'] == 'La Pampa']\n",
    "AccIntFijxTecyLa_Pampa = AccIntFijxTecyLa_Pampa[(AccIntFijxTecyLa_Pampa['Otros'] >= 511)&(AccIntFijxTecyLa_Pampa['Otros'] <= 987)]\n",
    "# Filtra solo la columna \"Otros\".\n",
    "Dial_up = AccIntFijxTecyLa_Pampa['Otros']\n",
    "\n",
    "# Calcula la diferencia entre cada dato y el dato anterior.\n",
    "diferencia = Dial_up.diff()\n",
    "\n",
    "# Calcula el porcentaje de incremento o decremento.\n",
    "porcentaje_incremento_decremento = (diferencia / Dial_up.shift(1)) * 100\n",
    "\n",
    "# Crea una nueva columna \"Incremento/Decremento\" en el DataFrame original.\n",
    "AccIntFijxTecyLa_Pampa['Incremento/Decremento'] = porcentaje_incremento_decremento\n",
    "\n",
    "# Elimina la primera fila de la columna 'Incremento/Decremento'.\n",
    "AccIntFijxTecyLa_Pampa = AccIntFijxTecyLa_Pampa.iloc[1:]\n",
    "\n",
    "# Calcula la suma de la columna 'Incremento/Decremento'.\n",
    "suma = AccIntFijxTecyLa_Pampa['Incremento/Decremento'].sum()\n",
    "\n",
    "# Calcula el promedio de la columna 'Incremento/Decremento'.\n",
    "promedio = AccIntFijxTecyLa_Pampa['Incremento/Decremento'].mean()\n",
    "\n",
    "# Imprime la suma y el promedio.\n",
    "print(f\"Suma de la columna 'Incremento/Decremento': {suma}\")\n",
    "print(f\"Promedio de la columna 'Incremento/Decremento': {promedio}\")"
   ]
  },
  {
   "cell_type": "code",
   "execution_count": 178,
   "metadata": {},
   "outputs": [
    {
     "data": {
      "text/plain": [
       "10     664.0\n",
       "34     656.0\n",
       "58     649.0\n",
       "82     641.0\n",
       "106    633.0\n",
       "130    626.0\n",
       "154    618.0\n",
       "178    611.0\n",
       "202    604.0\n",
       "226    597.0\n",
       "250    590.0\n",
       "274    583.0\n",
       "298    576.0\n",
       "322    569.0\n",
       "346    562.0\n",
       "370    556.0\n",
       "394    549.0\n",
       "418    542.0\n",
       "442    536.0\n",
       "466    530.0\n",
       "490    523.0\n",
       "514    517.0\n",
       "538    511.0\n",
       "Name: Otros, dtype: float64"
      ]
     },
     "execution_count": 178,
     "metadata": {},
     "output_type": "execute_result"
    }
   ],
   "source": [
    "AccIntFijxTecyLa_Pampa = AccIntFijxTecyProv[AccIntFijxTecyProv['Provincia'] == 'La Pampa']\n",
    "\n",
    "# Toma los primeros 19 datos de la columna 'Otros'.\n",
    "primeros_19_datos = AccIntFijxTecyLa_Pampa['Otros'].head(23)\n",
    "\n",
    "# Aplicar un incremento porcentual acumulativo\n",
    "for i in range(len(primeros_19_datos)-2,-1,-1):\n",
    "    primeros_19_datos.iloc[i] = round(primeros_19_datos.iloc[i + 1] * (1.012),2)\n",
    "\n",
    "primeros_19_datos = round(primeros_19_datos,0)\n",
    "primeros_19_datos"
   ]
  },
  {
   "cell_type": "code",
   "execution_count": 179,
   "metadata": {},
   "outputs": [],
   "source": [
    "# Define los nuevos valores en el orden correspondiente\n",
    "nuevos_valores = [664.0, 656.0, 649.0, 641.0, 633.0, 626.0, 618.0, 611.0, 604.0, 597.0, 590.0, 583.0, 576.0, 569.0, 562.0, 556.0, 549.0, 542.0, 536.0, 530.0, 523.0, 517.0, 511.0]\n",
    "\n",
    "# Define las posiciones en las que deseas reemplazar los valores\n",
    "posiciones = [10, 34, 58, 82, 106, 130, 154, 178, 202, 226, 250, 274, 298, 322, 346, 370, 394, 418, 442, 466, 490, 514, 538]\n",
    "\n",
    "\n",
    "# Reemplaza los valores en la columna \"Banda ancha fija\" en las posiciones especificadas\n",
    "for i in range(len(posiciones)):\n",
    "    AccIntFijxTecyProv.loc[posiciones[i], 'Otros'] = nuevos_valores[i]"
   ]
  },
  {
   "cell_type": "code",
   "execution_count": 180,
   "metadata": {},
   "outputs": [
    {
     "name": "stdout",
     "output_type": "stream",
     "text": [
      "Suma de la columna 'Incremento/Decremento': -6.937359166461334\n",
      "Promedio de la columna 'Incremento/Decremento': -0.23921928160211497\n"
     ]
    }
   ],
   "source": [
    "AccIntFijxTecyLa_Rioja = AccIntFijxTecyProv[AccIntFijxTecyProv['Provincia'] == 'La Rioja']\n",
    "AccIntFijxTecyLa_Rioja = AccIntFijxTecyLa_Rioja[(AccIntFijxTecyLa_Rioja['Fibra óptica'] >= 2)]\n",
    "# Filtra solo la columna \"Fibra óptica\".\n",
    "Dial_up = AccIntFijxTecyLa_Rioja['Fibra óptica']\n",
    "\n",
    "# Calcula la diferencia entre cada dato y el dato anterior.\n",
    "diferencia = Dial_up.diff()\n",
    "\n",
    "# Calcula el porcentaje de incremento o decremento.\n",
    "porcentaje_incremento_decremento = (diferencia / Dial_up.shift(1)) * 100\n",
    "\n",
    "# Crea una nueva columna \"Incremento/Decremento\" en el DataFrame original.\n",
    "AccIntFijxTecyLa_Rioja['Incremento/Decremento'] = porcentaje_incremento_decremento\n",
    "\n",
    "# Elimina la primera fila de la columna 'Incremento/Decremento'.\n",
    "AccIntFijxTecyLa_Rioja = AccIntFijxTecyLa_Rioja.iloc[1:]\n",
    "\n",
    "# Calcula la suma de la columna 'Incremento/Decremento'.\n",
    "suma = AccIntFijxTecyLa_Rioja['Incremento/Decremento'].sum()\n",
    "\n",
    "# Calcula el promedio de la columna 'Incremento/Decremento'.\n",
    "promedio = AccIntFijxTecyLa_Rioja['Incremento/Decremento'].mean()\n",
    "\n",
    "# Imprime la suma y el promedio.\n",
    "print(f\"Suma de la columna 'Incremento/Decremento': {suma}\")\n",
    "print(f\"Promedio de la columna 'Incremento/Decremento': {promedio}\")"
   ]
  },
  {
   "cell_type": "code",
   "execution_count": 181,
   "metadata": {},
   "outputs": [
    {
     "data": {
      "text/plain": [
       "11     19.0\n",
       "35     18.0\n",
       "59     17.0\n",
       "83     17.0\n",
       "107    16.0\n",
       "131    15.0\n",
       "155    15.0\n",
       "179    14.0\n",
       "203    14.0\n",
       "227    13.0\n",
       "251    12.0\n",
       "275    12.0\n",
       "299    11.0\n",
       "323    11.0\n",
       "Name: Fibra óptica, dtype: float64"
      ]
     },
     "execution_count": 181,
     "metadata": {},
     "output_type": "execute_result"
    }
   ],
   "source": [
    "AccIntFijxTecyLa_Rioja = AccIntFijxTecyProv[AccIntFijxTecyProv['Provincia'] == 'La Rioja']\n",
    "\n",
    "# Toma los primeros 19 datos de la columna 'Fibra óptica'.\n",
    "primeros_19_datos = AccIntFijxTecyLa_Rioja['Fibra óptica'].head(14)\n",
    "\n",
    "# Aplicar un incremento porcentual acumulativo\n",
    "for i in range(len(primeros_19_datos)-2,-1,-1):\n",
    "    primeros_19_datos.iloc[i] = round(primeros_19_datos.iloc[i + 1] * (1.043),2)\n",
    "\n",
    "primeros_19_datos = round(primeros_19_datos,0)\n",
    "primeros_19_datos"
   ]
  },
  {
   "cell_type": "code",
   "execution_count": 182,
   "metadata": {},
   "outputs": [],
   "source": [
    "# Define los nuevos valores en el orden correspondiente\n",
    "nuevos_valores = [16.0, 15.0, 15.0, 14.0, 14.0, 13.0, 12.0, 12.0, 11.0, 11.0]\n",
    "\n",
    "# Define las posiciones en las que deseas reemplazar los valores\n",
    "posiciones = [107, 131, 155, 179, 203, 227, 251, 275, 299, 323]\n",
    "\n",
    "\n",
    "# Reemplaza los valores en la columna \"Banda ancha fija\" en las posiciones especificadas\n",
    "for i in range(len(posiciones)):\n",
    "    AccIntFijxTecyProv.loc[posiciones[i], 'Fibra óptica'] = nuevos_valores[i]"
   ]
  },
  {
   "cell_type": "code",
   "execution_count": 183,
   "metadata": {},
   "outputs": [
    {
     "name": "stdout",
     "output_type": "stream",
     "text": [
      "Suma de la columna 'Incremento/Decremento': 0.7999748543313414\n",
      "Promedio de la columna 'Incremento/Decremento': 0.05714106102366724\n"
     ]
    }
   ],
   "source": [
    "AccIntFijxTecyLa_Rioja = AccIntFijxTecyProv[AccIntFijxTecyProv['Provincia'] == 'La Rioja']\n",
    "AccIntFijxTecyLa_Rioja = AccIntFijxTecyLa_Rioja[(AccIntFijxTecyLa_Rioja['Wireless'] >= 250) & (AccIntFijxTecyLa_Rioja['Wireless'] <= 253)]\n",
    "# Filtra solo la columna \"Wireless\".\n",
    "Dial_up = AccIntFijxTecyLa_Rioja['Wireless']\n",
    "\n",
    "# Calcula la diferencia entre cada dato y el dato anterior.\n",
    "diferencia = Dial_up.diff()\n",
    "\n",
    "# Calcula el porcentaje de incremento o decremento.\n",
    "porcentaje_incremento_decremento = (diferencia / Dial_up.shift(1)) * 100\n",
    "\n",
    "# Crea una nueva columna \"Incremento/Decremento\" en el DataFrame original.\n",
    "AccIntFijxTecyLa_Rioja['Incremento/Decremento'] = porcentaje_incremento_decremento\n",
    "\n",
    "# Elimina la primera fila de la columna 'Incremento/Decremento'.\n",
    "AccIntFijxTecyLa_Rioja = AccIntFijxTecyLa_Rioja.iloc[1:]\n",
    "\n",
    "# Calcula la suma de la columna 'Incremento/Decremento'.\n",
    "suma = AccIntFijxTecyLa_Rioja['Incremento/Decremento'].sum()\n",
    "\n",
    "# Calcula el promedio de la columna 'Incremento/Decremento'.\n",
    "promedio = AccIntFijxTecyLa_Rioja['Incremento/Decremento'].mean()\n",
    "\n",
    "# Imprime la suma y el promedio.\n",
    "print(f\"Suma de la columna 'Incremento/Decremento': {suma}\")\n",
    "print(f\"Promedio de la columna 'Incremento/Decremento': {promedio}\")"
   ]
  },
  {
   "cell_type": "code",
   "execution_count": 184,
   "metadata": {},
   "outputs": [
    {
     "data": {
      "text/plain": [
       "11     369.0\n",
       "35     349.0\n",
       "59     330.0\n",
       "83     312.0\n",
       "107    295.0\n",
       "131    279.0\n",
       "155    264.0\n",
       "179    250.0\n",
       "Name: Wireless, dtype: float64"
      ]
     },
     "execution_count": 184,
     "metadata": {},
     "output_type": "execute_result"
    }
   ],
   "source": [
    "AccIntFijxTecyLa_Rioja = AccIntFijxTecyProv[AccIntFijxTecyProv['Provincia'] == 'La Rioja']\n",
    "\n",
    "# Toma los primeros 19 datos de la columna 'Wireless'.\n",
    "primeros_19_datos = AccIntFijxTecyLa_Rioja['Wireless'].head(8)\n",
    "\n",
    "# Aplicar un incremento porcentual acumulativo\n",
    "for i in range(len(primeros_19_datos)-2,-1,-1):\n",
    "    primeros_19_datos.iloc[i] = round(primeros_19_datos.iloc[i + 1] * (1.057),2)\n",
    "\n",
    "primeros_19_datos = round(primeros_19_datos,0)\n",
    "primeros_19_datos"
   ]
  },
  {
   "cell_type": "code",
   "execution_count": 185,
   "metadata": {},
   "outputs": [],
   "source": [
    "# Define los nuevos valores en el orden correspondiente\n",
    "nuevos_valores = [369.0, 349.0, 330.0, 312.0, 295.0, 279.0, 264.0, 250.0]\n",
    "\n",
    "# Define las posiciones en las que deseas reemplazar los valores\n",
    "posiciones = [11, 35, 59, 83, 107, 131, 155, 179]\n",
    "\n",
    "# Reemplaza los valores en la columna \"Banda ancha fija\" en las posiciones especificadas\n",
    "for i in range(len(posiciones)):\n",
    "    AccIntFijxTecyProv.loc[posiciones[i], 'Wireless'] = nuevos_valores[i]"
   ]
  },
  {
   "cell_type": "code",
   "execution_count": 186,
   "metadata": {},
   "outputs": [
    {
     "data": {
      "text/plain": [
       "515    252.0\n",
       "539    238.0\n",
       "563    224.0\n",
       "587    211.0\n",
       "611    199.0\n",
       "635    188.0\n",
       "659    177.0\n",
       "683    167.0\n",
       "707    158.0\n",
       "731    149.0\n",
       "755    140.0\n",
       "779    132.0\n",
       "803    125.0\n",
       "827    118.0\n",
       "851    111.0\n",
       "Name: Wireless, dtype: float64"
      ]
     },
     "execution_count": 186,
     "metadata": {},
     "output_type": "execute_result"
    }
   ],
   "source": [
    "AccIntFijxTecyLa_Rioja = AccIntFijxTecyProv[AccIntFijxTecyProv['Provincia'] == 'La Rioja']\n",
    "\n",
    "# Toma los primeros 19 datos de la columna 'Wireless'.\n",
    "primeros_19_datos = AccIntFijxTecyLa_Rioja['Wireless'].tail(15)\n",
    "\n",
    "# Aplicar un incremento porcentual acumulativo\n",
    "for i in range(1,len(primeros_19_datos)):\n",
    "    primeros_19_datos.iloc[i] = round(primeros_19_datos.iloc[i - 1] * (1-0.057),2)\n",
    "\n",
    "primeros_19_datos = round(primeros_19_datos,0)\n",
    "primeros_19_datos"
   ]
  },
  {
   "cell_type": "code",
   "execution_count": 187,
   "metadata": {},
   "outputs": [],
   "source": [
    "# Define los nuevos valores en el orden correspondiente\n",
    "nuevos_valores = [252.0, 238.0, 224.0, 211.0, 199.0, 188.0, 177.0, 167.0, 158.0, 149.0, 140.0, 132.0, 125.0, 118.0, 111.0]\n",
    "\n",
    "# Define las posiciones en las que deseas reemplazar los valores\n",
    "posiciones = [515, 539, 563, 587, 611, 635, 659, 683, 707, 731, 755, 779, 803, 827, 851]\n",
    "\n",
    "# Reemplaza los valores en la columna \"Banda ancha fija\" en las posiciones especificadas\n",
    "for i in range(len(posiciones)):\n",
    "    AccIntFijxTecyProv.loc[posiciones[i], 'Wireless'] = nuevos_valores[i]"
   ]
  },
  {
   "cell_type": "code",
   "execution_count": 188,
   "metadata": {},
   "outputs": [
    {
     "name": "stdout",
     "output_type": "stream",
     "text": [
      "Suma de la columna 'Incremento/Decremento': 39.24552788545116\n",
      "Promedio de la columna 'Incremento/Decremento': 2.180307104747287\n"
     ]
    }
   ],
   "source": [
    "AccIntFijxTecyMendoza = AccIntFijxTecyProv[AccIntFijxTecyProv['Provincia'] == 'Mendoza']\n",
    "AccIntFijxTecyMendoza = AccIntFijxTecyMendoza[(AccIntFijxTecyMendoza['Wireless'] >= 27) & (AccIntFijxTecyMendoza['Wireless'] <= 42)]\n",
    "# Filtra solo la columna \"Wireless\".\n",
    "Dial_up = AccIntFijxTecyMendoza['Wireless']\n",
    "\n",
    "# Calcula la diferencia entre cada dato y el dato anterior.\n",
    "diferencia = Dial_up.diff()\n",
    "\n",
    "# Calcula el porcentaje de incremento o decremento.\n",
    "porcentaje_incremento_decremento = (diferencia / Dial_up.shift(1)) * 100\n",
    "\n",
    "# Crea una nueva columna \"Incremento/Decremento\" en el DataFrame original.\n",
    "AccIntFijxTecyMendoza['Incremento/Decremento'] = porcentaje_incremento_decremento\n",
    "\n",
    "# Elimina la primera fila de la columna 'Incremento/Decremento'.\n",
    "AccIntFijxTecyMendoza = AccIntFijxTecyMendoza.iloc[1:]\n",
    "\n",
    "# Calcula la suma de la columna 'Incremento/Decremento'.\n",
    "suma = AccIntFijxTecyMendoza['Incremento/Decremento'].sum()\n",
    "\n",
    "# Calcula el promedio de la columna 'Incremento/Decremento'.\n",
    "promedio = AccIntFijxTecyMendoza['Incremento/Decremento'].mean()\n",
    "\n",
    "# Imprime la suma y el promedio.\n",
    "print(f\"Suma de la columna 'Incremento/Decremento': {suma}\")\n",
    "print(f\"Promedio de la columna 'Incremento/Decremento': {promedio}\")"
   ]
  },
  {
   "cell_type": "code",
   "execution_count": 189,
   "metadata": {},
   "outputs": [
    {
     "data": {
      "text/plain": [
       "12     39.0\n",
       "36     39.0\n",
       "60     39.0\n",
       "84     39.0\n",
       "108    39.0\n",
       "132    39.0\n",
       "156    39.0\n",
       "180    39.0\n",
       "204    39.0\n",
       "228    39.0\n",
       "252    39.0\n",
       "276    39.0\n",
       "300    39.0\n",
       "324    39.0\n",
       "348    39.0\n",
       "372    39.0\n",
       "396    39.0\n",
       "420    39.0\n",
       "444    39.0\n",
       "468    39.0\n",
       "492    39.0\n",
       "516    29.0\n",
       "Name: Wireless, dtype: float64"
      ]
     },
     "execution_count": 189,
     "metadata": {},
     "output_type": "execute_result"
    }
   ],
   "source": [
    "AccIntFijxTecyMendoza = AccIntFijxTecyProv[AccIntFijxTecyProv['Provincia'] == 'Mendoza']\n",
    "\n",
    "# Toma los primeros 19 datos de la columna 'Wireless'.\n",
    "primeros_19_datos = AccIntFijxTecyMendoza['Wireless'].head(22)\n",
    "\n",
    "# Aplicar un incremento porcentual acumulativo\n",
    "for i in range(len(primeros_19_datos)-2,-1,-1):\n",
    "    primeros_19_datos.iloc[i] = 39\n",
    "\n",
    "primeros_19_datos = round(primeros_19_datos,0)\n",
    "primeros_19_datos"
   ]
  },
  {
   "cell_type": "code",
   "execution_count": 190,
   "metadata": {},
   "outputs": [],
   "source": [
    "# Define los nuevos valores en el orden correspondiente\n",
    "nuevos_valores = [39.0, 39.0, 39.0, 39.0, 39.0, 39.0, 39.0, 39.0, 39.0, 39.0, 39.0, 39.0, 39.0, 39.0, 39.0, 39.0, 39.0, 29.0]\n",
    "\n",
    "# Define las posiciones en las que deseas reemplazar los valores\n",
    "posiciones = [108, 132, 156, 180, 204, 228, 252, 276, 300, 324, 348, 372, 396, 420, 444, 468, 492, 516]\n",
    "\n",
    "# Reemplaza los valores en la columna \"Banda ancha fija\" en las posiciones especificadas\n",
    "for i in range(len(posiciones)):\n",
    "    AccIntFijxTecyProv.loc[posiciones[i], 'Wireless'] = nuevos_valores[i]"
   ]
  },
  {
   "cell_type": "code",
   "execution_count": 191,
   "metadata": {},
   "outputs": [
    {
     "name": "stdout",
     "output_type": "stream",
     "text": [
      "Suma de la columna 'Incremento/Decremento': -11.664294107994927\n",
      "Promedio de la columna 'Incremento/Decremento': -1.666327729713561\n"
     ]
    }
   ],
   "source": [
    "AccIntFijxTecyMendoza = AccIntFijxTecyProv[AccIntFijxTecyProv['Provincia'] == 'Mendoza']\n",
    "AccIntFijxTecyMendoza = AccIntFijxTecyMendoza[(AccIntFijxTecyMendoza['Otros'] >= 4)]\n",
    "# Filtra solo la columna \"Otros\".\n",
    "Dial_up = AccIntFijxTecyMendoza['Otros']\n",
    "\n",
    "# Calcula la diferencia entre cada dato y el dato anterior.\n",
    "diferencia = Dial_up.diff()\n",
    "\n",
    "# Calcula el porcentaje de incremento o decremento.\n",
    "porcentaje_incremento_decremento = (diferencia / Dial_up.shift(1)) * 100\n",
    "\n",
    "# Crea una nueva columna \"Incremento/Decremento\" en el DataFrame original.\n",
    "AccIntFijxTecyMendoza['Incremento/Decremento'] = porcentaje_incremento_decremento\n",
    "\n",
    "# Elimina la primera fila de la columna 'Incremento/Decremento'.\n",
    "AccIntFijxTecyMendoza = AccIntFijxTecyMendoza.iloc[1:]\n",
    "\n",
    "# Calcula la suma de la columna 'Incremento/Decremento'.\n",
    "suma = AccIntFijxTecyMendoza['Incremento/Decremento'].sum()\n",
    "\n",
    "# Calcula el promedio de la columna 'Incremento/Decremento'.\n",
    "promedio = AccIntFijxTecyMendoza['Incremento/Decremento'].mean()\n",
    "\n",
    "# Imprime la suma y el promedio.\n",
    "print(f\"Suma de la columna 'Incremento/Decremento': {suma}\")\n",
    "print(f\"Promedio de la columna 'Incremento/Decremento': {promedio}\")"
   ]
  },
  {
   "cell_type": "code",
   "execution_count": 192,
   "metadata": {},
   "outputs": [
    {
     "data": {
      "text/plain": [
       "12     910.0\n",
       "36     895.0\n",
       "60     881.0\n",
       "84     867.0\n",
       "108    854.0\n",
       "132    840.0\n",
       "156    827.0\n",
       "Name: Otros, dtype: float64"
      ]
     },
     "execution_count": 192,
     "metadata": {},
     "output_type": "execute_result"
    }
   ],
   "source": [
    "AccIntFijxTecyMendoza = AccIntFijxTecyProv[AccIntFijxTecyProv['Provincia'] == 'Mendoza']\n",
    "\n",
    "# Toma los primeros 19 datos de la columna 'Otros'.\n",
    "primeros_19_datos = AccIntFijxTecyMendoza['Otros'].head(7)\n",
    "\n",
    "# Aplicar un incremento porcentual acumulativo\n",
    "for i in range(len(primeros_19_datos)-2,-1,-1):\n",
    "    primeros_19_datos.iloc[i] = round(primeros_19_datos.iloc[i + 1] * (1.016),2)\n",
    "\n",
    "primeros_19_datos = round(primeros_19_datos,0)\n",
    "primeros_19_datos"
   ]
  },
  {
   "cell_type": "code",
   "execution_count": 193,
   "metadata": {},
   "outputs": [],
   "source": [
    "# Define los nuevos valores en el orden correspondiente\n",
    "nuevos_valores = [910.0, 895.0, 881.0, 867.0, 854.0, 840.0, 827.0]\n",
    "\n",
    "# Define las posiciones en las que deseas reemplazar los valores\n",
    "posiciones = [12, 36, 60, 84, 108, 132, 156]\n",
    "\n",
    "# Reemplaza los valores en la columna \"Banda ancha fija\" en las posiciones especificadas\n",
    "for i in range(len(posiciones)):\n",
    "    AccIntFijxTecyProv.loc[posiciones[i], 'Otros'] = nuevos_valores[i]"
   ]
  },
  {
   "cell_type": "code",
   "execution_count": 194,
   "metadata": {},
   "outputs": [
    {
     "data": {
      "text/plain": [
       "300    730.0\n",
       "324    718.0\n",
       "348    707.0\n",
       "372    696.0\n",
       "396    684.0\n",
       "420    673.0\n",
       "444    663.0\n",
       "468    652.0\n",
       "492    642.0\n",
       "516    631.0\n",
       "540    621.0\n",
       "564    611.0\n",
       "588    602.0\n",
       "612    592.0\n",
       "636    582.0\n",
       "660    573.0\n",
       "684    564.0\n",
       "708    555.0\n",
       "732    546.0\n",
       "756    537.0\n",
       "780    529.0\n",
       "804    520.0\n",
       "828    512.0\n",
       "852    504.0\n",
       "Name: Otros, dtype: float64"
      ]
     },
     "execution_count": 194,
     "metadata": {},
     "output_type": "execute_result"
    }
   ],
   "source": [
    "AccIntFijxTecyMendoza = AccIntFijxTecyProv[AccIntFijxTecyProv['Provincia'] == 'Mendoza']\n",
    "\n",
    "# Toma los primeros 19 datos de la columna 'Otros'.\n",
    "primeros_19_datos = AccIntFijxTecyMendoza['Otros'].tail(24)\n",
    "\n",
    "# Aplicar un incremento porcentual acumulativo\n",
    "for i in range(1,len(primeros_19_datos)):\n",
    "    primeros_19_datos.iloc[i] = round(primeros_19_datos.iloc[i - 1] * (1-0.016),2)\n",
    "\n",
    "primeros_19_datos = round(primeros_19_datos,0)\n",
    "primeros_19_datos"
   ]
  },
  {
   "cell_type": "code",
   "execution_count": 195,
   "metadata": {},
   "outputs": [],
   "source": [
    "# Define los nuevos valores en el orden correspondiente\n",
    "nuevos_valores = [730.0, 718.0, 707.0, 696.0, 684.0, 673.0, 663.0, 652.0, 642.0, 631.0, 621.0, 611.0, 602.0, 592.0, 582.0, 573.0, 564.0, 555.0, 546.0, 537.0, 529.0, 520.0, 512.0, 504.0]\n",
    "\n",
    "# Define las posiciones en las que deseas reemplazar los valores\n",
    "posiciones = [300, 324, 348, 372, 396, 420, 444, 468, 492, 516, 540, 564, 588, 612, 636, 660, 684, 708, 732, 756, 780, 804, 828, 852]\n",
    "\n",
    "# Reemplaza los valores en la columna \"Banda ancha fija\" en las posiciones especificadas\n",
    "for i in range(len(posiciones)):\n",
    "    AccIntFijxTecyProv.loc[posiciones[i], 'Otros'] = nuevos_valores[i]"
   ]
  },
  {
   "cell_type": "code",
   "execution_count": 196,
   "metadata": {},
   "outputs": [
    {
     "name": "stdout",
     "output_type": "stream",
     "text": [
      "Suma de la columna 'Incremento/Decremento': -40.8816584456417\n",
      "Promedio de la columna 'Incremento/Decremento': -6.813609740940283\n"
     ]
    }
   ],
   "source": [
    "AccIntFijxTecyMisiones = AccIntFijxTecyProv[AccIntFijxTecyProv['Provincia'] == 'Misiones']\n",
    "AccIntFijxTecyMisiones = AccIntFijxTecyMisiones[(AccIntFijxTecyMisiones['Fibra óptica'] >= 328)&(AccIntFijxTecyMisiones['Fibra óptica'] >= 465)]\n",
    "# Filtra solo la columna \"Fibra óptica\".\n",
    "Dial_up = AccIntFijxTecyMisiones['Fibra óptica']\n",
    "\n",
    "# Calcula la diferencia entre cada dato y el dato anterior.\n",
    "diferencia = Dial_up.diff()\n",
    "\n",
    "# Calcula el porcentaje de incremento o decremento.\n",
    "porcentaje_incremento_decremento = (diferencia / Dial_up.shift(1)) * 100\n",
    "\n",
    "# Crea una nueva columna \"Incremento/Decremento\" en el DataFrame original.\n",
    "AccIntFijxTecyMisiones['Incremento/Decremento'] = porcentaje_incremento_decremento\n",
    "\n",
    "# Elimina la primera fila de la columna 'Incremento/Decremento'.\n",
    "AccIntFijxTecyMisiones = AccIntFijxTecyMisiones.iloc[1:]\n",
    "\n",
    "# Calcula la suma de la columna 'Incremento/Decremento'.\n",
    "suma = AccIntFijxTecyMisiones['Incremento/Decremento'].sum()\n",
    "\n",
    "# Calcula el promedio de la columna 'Incremento/Decremento'.\n",
    "promedio = AccIntFijxTecyMisiones['Incremento/Decremento'].mean()\n",
    "\n",
    "# Imprime la suma y el promedio.\n",
    "print(f\"Suma de la columna 'Incremento/Decremento': {suma}\")\n",
    "print(f\"Promedio de la columna 'Incremento/Decremento': {promedio}\")"
   ]
  },
  {
   "cell_type": "code",
   "execution_count": 197,
   "metadata": {},
   "outputs": [
    {
     "data": {
      "text/plain": [
       "13     1180.0\n",
       "37     1148.0\n",
       "61     1116.0\n",
       "85     1086.0\n",
       "109    1056.0\n",
       "133    1028.0\n",
       "157    1000.0\n",
       "181     972.0\n",
       "205     946.0\n",
       "229     920.0\n",
       "253     895.0\n",
       "277     871.0\n",
       "301     847.0\n",
       "Name: Fibra óptica, dtype: float64"
      ]
     },
     "execution_count": 197,
     "metadata": {},
     "output_type": "execute_result"
    }
   ],
   "source": [
    "AccIntFijxTecyMisiones = AccIntFijxTecyProv[AccIntFijxTecyProv['Provincia'] == 'Misiones']\n",
    "\n",
    "# Toma los primeros 19 datos de la columna 'Fibra óptica'.\n",
    "primeros_19_datos = AccIntFijxTecyMisiones['Fibra óptica'].head(13)\n",
    "\n",
    "# Aplicar un incremento porcentual acumulativo\n",
    "for i in range(len(primeros_19_datos)-2,-1,-1):\n",
    "    primeros_19_datos.iloc[i] = round(primeros_19_datos.iloc[i + 1] * (1.028),2)\n",
    "\n",
    "primeros_19_datos = round(primeros_19_datos,0)\n",
    "primeros_19_datos"
   ]
  },
  {
   "cell_type": "code",
   "execution_count": 198,
   "metadata": {},
   "outputs": [],
   "source": [
    "# Define los nuevos valores en el orden correspondiente\n",
    "nuevos_valores = [1180.0, 1148.0, 1116.0, 1086.0, 1056.0, 1028.0, 1000.0, 972.0, 946.0, 920.0, 895.0, 871.0, 847.0]\n",
    "\n",
    "# Define las posiciones en las que deseas reemplazar los valores\n",
    "posiciones = [13, 37, 61, 85, 109, 133, 157, 181, 205, 229, 253, 277, 301]\n",
    "\n",
    "# Reemplaza los valores en la columna \"Banda ancha fija\" en las posiciones especificadas\n",
    "for i in range(len(posiciones)):\n",
    "    AccIntFijxTecyProv.loc[posiciones[i], 'Fibra óptica'] = nuevos_valores[i]"
   ]
  },
  {
   "cell_type": "code",
   "execution_count": 199,
   "metadata": {},
   "outputs": [
    {
     "name": "stdout",
     "output_type": "stream",
     "text": [
      "Suma de la columna 'Incremento/Decremento': -77.30691257491304\n",
      "Promedio de la columna 'Incremento/Decremento': -7.730691257491304\n"
     ]
    }
   ],
   "source": [
    "AccIntFijxTecyMisiones = AccIntFijxTecyProv[AccIntFijxTecyProv['Provincia'] == 'Misiones']\n",
    "AccIntFijxTecyMisiones = AccIntFijxTecyMisiones[(AccIntFijxTecyMisiones['Wireless'] >= 150)&(AccIntFijxTecyMisiones['Wireless'] <= 460)]\n",
    "# Filtra solo la columna \"Wireless\".\n",
    "Dial_up = AccIntFijxTecyMisiones['Wireless']\n",
    "\n",
    "# Calcula la diferencia entre cada dato y el dato anterior.\n",
    "diferencia = Dial_up.diff()\n",
    "\n",
    "# Calcula el porcentaje de incremento o decremento.\n",
    "porcentaje_incremento_decremento = (diferencia / Dial_up.shift(1)) * 100\n",
    "\n",
    "# Crea una nueva columna \"Incremento/Decremento\" en el DataFrame original.\n",
    "AccIntFijxTecyMisiones['Incremento/Decremento'] = porcentaje_incremento_decremento\n",
    "\n",
    "# Elimina la primera fila de la columna 'Incremento/Decremento'.\n",
    "AccIntFijxTecyMisiones = AccIntFijxTecyMisiones.iloc[1:]\n",
    "\n",
    "# Calcula la suma de la columna 'Incremento/Decremento'.\n",
    "suma = AccIntFijxTecyMisiones['Incremento/Decremento'].sum()\n",
    "\n",
    "# Calcula el promedio de la columna 'Incremento/Decremento'.\n",
    "promedio = AccIntFijxTecyMisiones['Incremento/Decremento'].mean()\n",
    "\n",
    "# Imprime la suma y el promedio.\n",
    "print(f\"Suma de la columna 'Incremento/Decremento': {suma}\")\n",
    "print(f\"Promedio de la columna 'Incremento/Decremento': {promedio}\")"
   ]
  },
  {
   "cell_type": "code",
   "execution_count": 200,
   "metadata": {},
   "outputs": [
    {
     "data": {
      "text/plain": [
       "13     686.0\n",
       "37     662.0\n",
       "61     638.0\n",
       "85     615.0\n",
       "109    593.0\n",
       "133    572.0\n",
       "157    552.0\n",
       "181    532.0\n",
       "205    513.0\n",
       "229    495.0\n",
       "253    477.0\n",
       "277    460.0\n",
       "Name: Wireless, dtype: float64"
      ]
     },
     "execution_count": 200,
     "metadata": {},
     "output_type": "execute_result"
    }
   ],
   "source": [
    "AccIntFijxTecyMisiones = AccIntFijxTecyProv[AccIntFijxTecyProv['Provincia'] == 'Misiones']\n",
    "\n",
    "# Toma los primeros 19 datos de la columna 'Wireless'.\n",
    "primeros_19_datos = AccIntFijxTecyMisiones['Wireless'].head(12)\n",
    "\n",
    "# Aplicar un incremento porcentual acumulativo\n",
    "for i in range(len(primeros_19_datos)-2,-1,-1):\n",
    "    primeros_19_datos.iloc[i] = round(primeros_19_datos.iloc[i + 1] * (1.037),2)\n",
    "\n",
    "primeros_19_datos = round(primeros_19_datos,0)\n",
    "primeros_19_datos"
   ]
  },
  {
   "cell_type": "code",
   "execution_count": 201,
   "metadata": {},
   "outputs": [],
   "source": [
    "# Define los nuevos valores en el orden correspondiente\n",
    "nuevos_valores = [686.0, 662.0, 638.0, 615.0, 593.0, 572.0, 552.0, 532.0, 513.0, 495.0, 477.0, 460.0]\n",
    "\n",
    "# Define las posiciones en las que deseas reemplazar los valores\n",
    "posiciones = [13, 37, 61, 85, 109, 133, 157, 181, 205, 229, 253, 277]\n",
    "\n",
    "# Reemplaza los valores en la columna \"Banda ancha fija\" en las posiciones especificadas\n",
    "for i in range(len(posiciones)):\n",
    "    AccIntFijxTecyProv.loc[posiciones[i], 'Fibra óptica'] = nuevos_valores[i]"
   ]
  },
  {
   "cell_type": "code",
   "execution_count": 202,
   "metadata": {},
   "outputs": [
    {
     "data": {
      "text/plain": [
       "445    512.0\n",
       "469    473.0\n",
       "493    436.0\n",
       "517    403.0\n",
       "541    372.0\n",
       "565    343.0\n",
       "589    317.0\n",
       "613    292.0\n",
       "637    270.0\n",
       "661    249.0\n",
       "685    230.0\n",
       "709    212.0\n",
       "733    196.0\n",
       "757    181.0\n",
       "781    167.0\n",
       "805    154.0\n",
       "829    142.0\n",
       "853    131.0\n",
       "Name: Fibra óptica, dtype: float64"
      ]
     },
     "execution_count": 202,
     "metadata": {},
     "output_type": "execute_result"
    }
   ],
   "source": [
    "AccIntFijxTecyMisiones = AccIntFijxTecyProv[AccIntFijxTecyProv['Provincia'] == 'Misiones']\n",
    "\n",
    "# Toma los primeros 19 datos de la columna 'Fibra óptica'.\n",
    "primeros_19_datos = AccIntFijxTecyMisiones['Fibra óptica'].tail(18)\n",
    "\n",
    "# Aplicar un incremento porcentual acumulativo\n",
    "for i in range(1,len(primeros_19_datos)):\n",
    "    primeros_19_datos.iloc[i] = round(primeros_19_datos.iloc[i - 1] * (1-0.077),2)\n",
    "\n",
    "primeros_19_datos = round(primeros_19_datos,0)\n",
    "primeros_19_datos"
   ]
  },
  {
   "cell_type": "code",
   "execution_count": 203,
   "metadata": {},
   "outputs": [],
   "source": [
    "# Define los nuevos valores en el orden correspondiente\n",
    "nuevos_valores = [512.0, 473.0, 436.0, 403.0, 372.0, 343.0, 317.0, 292.0, 270.0, 249.0, 230.0, 212.0, 196.0, 181.0, 167.0, 154.0]\n",
    "\n",
    "# Define las posiciones en las que deseas reemplazar los valores\n",
    "posiciones = [445, 469, 493, 517, 541, 565, 589, 613, 637, 661, 685, 709, 733, 757, 781, 805]\n",
    "\n",
    "# Reemplaza los valores en la columna \"Banda ancha fija\" en las posiciones especificadas\n",
    "for i in range(len(posiciones)):\n",
    "    AccIntFijxTecyProv.loc[posiciones[i], 'Fibra óptica'] = nuevos_valores[i]"
   ]
  },
  {
   "cell_type": "code",
   "execution_count": 204,
   "metadata": {},
   "outputs": [
    {
     "data": {
      "text/plain": [
       "14     998.0\n",
       "38     998.0\n",
       "62     998.0\n",
       "86     998.0\n",
       "110    998.0\n",
       "134    998.0\n",
       "158    998.0\n",
       "182    998.0\n",
       "206    998.0\n",
       "230    998.0\n",
       "254    998.0\n",
       "278    998.0\n",
       "302    998.0\n",
       "326    998.0\n",
       "350    998.0\n",
       "374    998.0\n",
       "398    998.0\n",
       "422    998.0\n",
       "446    998.0\n",
       "470    998.0\n",
       "494    998.0\n",
       "518    998.0\n",
       "542    998.0\n",
       "566    998.0\n",
       "590    998.0\n",
       "614    998.0\n",
       "638    998.0\n",
       "662    998.0\n",
       "686    998.0\n",
       "710    998.0\n",
       "734    998.0\n",
       "758    998.0\n",
       "782    998.0\n",
       "806    998.0\n",
       "830    997.0\n",
       "Name: Fibra óptica, dtype: float64"
      ]
     },
     "execution_count": 204,
     "metadata": {},
     "output_type": "execute_result"
    }
   ],
   "source": [
    "AccIntFijxTecyNeuquén = AccIntFijxTecyProv[AccIntFijxTecyProv['Provincia'] == 'Neuquén']\n",
    "\n",
    "# Toma los primeros 19 datos de la columna 'Fibra óptica'.\n",
    "primeros_19_datos = AccIntFijxTecyNeuquén['Fibra óptica'].head(35)\n",
    "\n",
    "# Aplicar un incremento porcentual acumulativo\n",
    "for i in range(len(primeros_19_datos)-2,-1,-1):\n",
    "    primeros_19_datos.iloc[i] = 998\n",
    "\n",
    "primeros_19_datos = round(primeros_19_datos,0)\n",
    "primeros_19_datos"
   ]
  },
  {
   "cell_type": "code",
   "execution_count": 205,
   "metadata": {},
   "outputs": [],
   "source": [
    "# Define los nuevos valores en el orden correspondiente\n",
    "nuevos_valores = [998.0, 998.0, 998.0, 998.0, 998.0, 998.0, 998.0, 998.0, 998.0, 998.0, 998.0, 998.0, 998.0, 998.0, 998.0, 998.0, 998.0, 998.0, 998.0, 998.0, 998.0, 998.0, 998.0, 998.0, 998.0, 998.0, 998.0, 998.0, 998.0, 998.0, 998.0, 998.0, 998.0, 998.0, 998.0]\n",
    "\n",
    "# Define las posiciones en las que deseas reemplazar los valores\n",
    "posiciones = [14, 38, 62, 86, 110, 134, 158, 182, 206, 230, 254, 278, 302, 326, 350, 374, 398, 422, 446, 470, 494, 518, 542, 566, 590, 614, 638, 662, 686, 710, 734, 758, 782, 806]\n",
    "\n",
    "# Reemplaza los valores en la columna \"Banda ancha fija\" en las posiciones especificadas\n",
    "for i in range(len(posiciones)):\n",
    "    AccIntFijxTecyProv.loc[posiciones[i], 'Fibra óptica'] = nuevos_valores[i]"
   ]
  },
  {
   "cell_type": "code",
   "execution_count": 206,
   "metadata": {},
   "outputs": [
    {
     "name": "stdout",
     "output_type": "stream",
     "text": [
      "Suma de la columna 'Incremento/Decremento': 17.350331680590088\n",
      "Promedio de la columna 'Incremento/Decremento': 2.168791460073761\n"
     ]
    }
   ],
   "source": [
    "AccIntFijxTecyNeuquén = AccIntFijxTecyProv[AccIntFijxTecyProv['Provincia'] == 'Neuquén']\n",
    "AccIntFijxTecyNeuquén = AccIntFijxTecyNeuquén[(AccIntFijxTecyNeuquén['Otros'] >= 632)&(AccIntFijxTecyNeuquén['Otros'] <= 854)]\n",
    "# Filtra solo la columna \"Otros\".\n",
    "Dial_up = AccIntFijxTecyNeuquén['Otros']\n",
    "\n",
    "# Calcula la diferencia entre cada dato y el dato anterior.\n",
    "diferencia = Dial_up.diff()\n",
    "\n",
    "# Calcula el porcentaje de incremento o decremento.\n",
    "porcentaje_incremento_decremento = (diferencia / Dial_up.shift(1)) * 100\n",
    "\n",
    "# Crea una nueva columna \"Incremento/Decremento\" en el DataFrame original.\n",
    "AccIntFijxTecyNeuquén['Incremento/Decremento'] = porcentaje_incremento_decremento\n",
    "\n",
    "# Elimina la primera fila de la columna 'Incremento/Decremento'.\n",
    "AccIntFijxTecyNeuquén = AccIntFijxTecyNeuquén.iloc[1:]\n",
    "\n",
    "# Calcula la suma de la columna 'Incremento/Decremento'.\n",
    "suma = AccIntFijxTecyNeuquén['Incremento/Decremento'].sum()\n",
    "\n",
    "# Calcula el promedio de la columna 'Incremento/Decremento'.\n",
    "promedio = AccIntFijxTecyNeuquén['Incremento/Decremento'].mean()\n",
    "\n",
    "# Imprime la suma y el promedio.\n",
    "print(f\"Suma de la columna 'Incremento/Decremento': {suma}\")\n",
    "print(f\"Promedio de la columna 'Incremento/Decremento': {promedio}\")"
   ]
  },
  {
   "cell_type": "code",
   "execution_count": 207,
   "metadata": {},
   "outputs": [
    {
     "data": {
      "text/plain": [
       "14     922.0\n",
       "38     903.0\n",
       "62     884.0\n",
       "86     865.0\n",
       "110    847.0\n",
       "134    829.0\n",
       "158    811.0\n",
       "182    794.0\n",
       "206    777.0\n",
       "230    761.0\n",
       "254    745.0\n",
       "278    729.0\n",
       "Name: Otros, dtype: float64"
      ]
     },
     "execution_count": 207,
     "metadata": {},
     "output_type": "execute_result"
    }
   ],
   "source": [
    "AccIntFijxTecyNeuquén = AccIntFijxTecyProv[AccIntFijxTecyProv['Provincia'] == 'Neuquén']\n",
    "\n",
    "# Toma los primeros 19 datos de la columna 'Otros'.\n",
    "primeros_19_datos = AccIntFijxTecyNeuquén['Otros'].head(12)\n",
    "\n",
    "# Aplicar un incremento porcentual acumulativo\n",
    "for i in range(len(primeros_19_datos)-2,-1,-1):\n",
    "    primeros_19_datos.iloc[i] = round(primeros_19_datos.iloc[i + 1] * (1.0216),2)\n",
    "\n",
    "primeros_19_datos = round(primeros_19_datos,0)\n",
    "primeros_19_datos"
   ]
  },
  {
   "cell_type": "code",
   "execution_count": 208,
   "metadata": {},
   "outputs": [],
   "source": [
    "# Define los nuevos valores en el orden correspondiente\n",
    "nuevos_valores = [794.0, 778.0, 761.0, 745.0, 745.0]\n",
    "\n",
    "# Define las posiciones en las que deseas reemplazar los valores\n",
    "posiciones = [14, 38, 62, 86, 254]\n",
    "\n",
    "# Reemplaza los valores en la columna \"Banda ancha fija\" en las posiciones especificadas\n",
    "for i in range(len(posiciones)):\n",
    "    AccIntFijxTecyProv.loc[posiciones[i], 'Otros'] = nuevos_valores[i]"
   ]
  },
  {
   "cell_type": "code",
   "execution_count": 209,
   "metadata": {},
   "outputs": [
    {
     "data": {
      "text/plain": [
       "278    729.0\n",
       "302    713.0\n",
       "326    698.0\n",
       "350    683.0\n",
       "374    668.0\n",
       "398    654.0\n",
       "422    639.0\n",
       "446    626.0\n",
       "470    612.0\n",
       "494    599.0\n",
       "518    586.0\n",
       "542    573.0\n",
       "566    561.0\n",
       "590    549.0\n",
       "614    537.0\n",
       "638    525.0\n",
       "662    514.0\n",
       "686    503.0\n",
       "710    492.0\n",
       "734    481.0\n",
       "758    471.0\n",
       "782    461.0\n",
       "806    451.0\n",
       "830    441.0\n",
       "854    432.0\n",
       "Name: Otros, dtype: float64"
      ]
     },
     "execution_count": 209,
     "metadata": {},
     "output_type": "execute_result"
    }
   ],
   "source": [
    "AccIntFijxTecyNeuquén = AccIntFijxTecyProv[AccIntFijxTecyProv['Provincia'] == 'Neuquén']\n",
    "\n",
    "# Toma los primeros 19 datos de la columna 'Otros'.\n",
    "primeros_19_datos = AccIntFijxTecyNeuquén['Otros'].tail(25)\n",
    "\n",
    "# Aplicar un incremento porcentual acumulativo\n",
    "for i in range(1,len(primeros_19_datos)):\n",
    "    primeros_19_datos.iloc[i] = round(primeros_19_datos.iloc[i - 1] * (1-0.0216),2)\n",
    "\n",
    "primeros_19_datos = round(primeros_19_datos,0)\n",
    "primeros_19_datos"
   ]
  },
  {
   "cell_type": "code",
   "execution_count": 210,
   "metadata": {},
   "outputs": [],
   "source": [
    "# Define los nuevos valores en el orden correspondiente\n",
    "nuevos_valores = [729.0, 713.0, 698.0, 683.0, 668.0, 654.0, 639.0, 626.0, 612.0, 599.0, 586.0, 573.0, 561.0, 549.0, 537.0, 525.0, 514.0, 503.0, 492.0, 481.0, 471.0, 461.0, 451.0, 441.0, 432.0]\n",
    "\n",
    "# Define las posiciones en las que deseas reemplazar los valores\n",
    "posiciones = [278, 302, 326, 350, 374, 398, 422, 446, 470, 494, 518, 542, 566, 590, 614, 638, 662, 686, 710, 734, 758, 782, 806, 830, 854]\n",
    "\n",
    "# Reemplaza los valores en la columna \"Banda ancha fija\" en las posiciones especificadas\n",
    "for i in range(len(posiciones)):\n",
    "    AccIntFijxTecyProv.loc[posiciones[i], 'Otros'] = nuevos_valores[i]"
   ]
  },
  {
   "cell_type": "code",
   "execution_count": 211,
   "metadata": {},
   "outputs": [
    {
     "name": "stdout",
     "output_type": "stream",
     "text": [
      "Suma de la columna 'Incremento/Decremento': -1.986269543648846\n",
      "Promedio de la columna 'Incremento/Decremento': -0.6620898478829487\n"
     ]
    }
   ],
   "source": [
    "AccIntFijxTecyRío_Negro = AccIntFijxTecyProv[AccIntFijxTecyProv['Provincia'] == 'Río Negro']\n",
    "AccIntFijxTecyRío_Negro = AccIntFijxTecyRío_Negro[(AccIntFijxTecyRío_Negro['Fibra óptica'] >= 942)&(AccIntFijxTecyRío_Negro['Fibra óptica'] <= 961)]\n",
    "# Filtra solo la columna \"Fibra óptica\".\n",
    "Dial_up = AccIntFijxTecyRío_Negro['Fibra óptica']\n",
    "\n",
    "# Calcula la diferencia entre cada dato y el dato anterior.\n",
    "diferencia = Dial_up.diff()\n",
    "\n",
    "# Calcula el porcentaje de incremento o decremento.\n",
    "porcentaje_incremento_decremento = (diferencia / Dial_up.shift(1)) * 100\n",
    "\n",
    "# Crea una nueva columna \"Incremento/Decremento\" en el DataFrame original.\n",
    "AccIntFijxTecyRío_Negro['Incremento/Decremento'] = porcentaje_incremento_decremento\n",
    "\n",
    "# Elimina la primera fila de la columna 'Incremento/Decremento'.\n",
    "AccIntFijxTecyRío_Negro = AccIntFijxTecyRío_Negro.iloc[1:]\n",
    "\n",
    "# Calcula la suma de la columna 'Incremento/Decremento'.\n",
    "suma = AccIntFijxTecyRío_Negro['Incremento/Decremento'].sum()\n",
    "\n",
    "# Calcula el promedio de la columna 'Incremento/Decremento'.\n",
    "promedio = AccIntFijxTecyRío_Negro['Incremento/Decremento'].mean()\n",
    "\n",
    "# Imprime la suma y el promedio.\n",
    "print(f\"Suma de la columna 'Incremento/Decremento': {suma}\")\n",
    "print(f\"Promedio de la columna 'Incremento/Decremento': {promedio}\")"
   ]
  },
  {
   "cell_type": "code",
   "execution_count": 212,
   "metadata": {},
   "outputs": [
    {
     "data": {
      "text/plain": [
       "15     1111.0\n",
       "39     1104.0\n",
       "63     1097.0\n",
       "87     1089.0\n",
       "111    1082.0\n",
       "135    1075.0\n",
       "159    1068.0\n",
       "183    1061.0\n",
       "207    1054.0\n",
       "231    1047.0\n",
       "255    1040.0\n",
       "279    1033.0\n",
       "303    1027.0\n",
       "327    1020.0\n",
       "351    1013.0\n",
       "375    1006.0\n",
       "399    1000.0\n",
       "423     993.0\n",
       "447     987.0\n",
       "471     980.0\n",
       "495     974.0\n",
       "519     967.0\n",
       "543     961.0\n",
       "Name: Fibra óptica, dtype: float64"
      ]
     },
     "execution_count": 212,
     "metadata": {},
     "output_type": "execute_result"
    }
   ],
   "source": [
    "AccIntFijxTecyRío_Negro = AccIntFijxTecyProv[AccIntFijxTecyProv['Provincia'] == 'Río Negro']\n",
    "\n",
    "# Toma los primeros 19 datos de la columna 'Fibra óptica'.\n",
    "primeros_19_datos = AccIntFijxTecyRío_Negro['Fibra óptica'].head(23)\n",
    "\n",
    "# Aplicar un incremento porcentual acumulativo\n",
    "for i in range(len(primeros_19_datos)-2,-1,-1):\n",
    "    primeros_19_datos.iloc[i] = round(primeros_19_datos.iloc[i + 1] * (1.00662),2)\n",
    "\n",
    "primeros_19_datos = round(primeros_19_datos,0)\n",
    "primeros_19_datos"
   ]
  },
  {
   "cell_type": "code",
   "execution_count": 213,
   "metadata": {},
   "outputs": [],
   "source": [
    "# Define los nuevos valores en el orden correspondiente\n",
    "nuevos_valores = [1111.0, 1104.0, 1097.0, 1089.0, 1082.0, 1075.0, 1068.0, 1061.0, 1054.0, 1047.0, 1040.0, 1033.0, 1027.0, 1020.0, 1013.0, 1006.0, 1000.0, 993.0, 987.0, 980.0, 974.0, 967.0, 961.0]\n",
    "\n",
    "# Define las posiciones en las que deseas reemplazar los valores\n",
    "posiciones = [15, 39, 63, 87, 111, 135, 159, 183, 207, 231, 255, 279, 303, 327, 351, 375, 399, 423, 447, 471, 495, 519, 543]\n",
    "\n",
    "# Reemplaza los valores en la columna \"Banda ancha fija\" en las posiciones especificadas\n",
    "for i in range(len(posiciones)):\n",
    "    AccIntFijxTecyProv.loc[posiciones[i], 'Fibra óptica'] = nuevos_valores[i]"
   ]
  },
  {
   "cell_type": "code",
   "execution_count": 214,
   "metadata": {},
   "outputs": [
    {
     "name": "stdout",
     "output_type": "stream",
     "text": [
      "Suma de la columna 'Incremento/Decremento': 270.0834937390332\n",
      "Promedio de la columna 'Incremento/Decremento': 9.313223922035627\n"
     ]
    }
   ],
   "source": [
    "AccIntFijxTecSalta = AccIntFijxTecyProv[AccIntFijxTecyProv['Provincia'] == 'Salta']\n",
    "AccIntFijxTecSalta = AccIntFijxTecSalta[(AccIntFijxTecSalta['Fibra óptica'] <= 127)]\n",
    "# Filtra solo la columna \"Fibra óptica\".\n",
    "Dial_up = AccIntFijxTecSalta['Fibra óptica']\n",
    "\n",
    "# Calcula la diferencia entre cada dato y el dato anterior.\n",
    "diferencia = Dial_up.diff()\n",
    "\n",
    "# Calcula el porcentaje de incremento o decremento.\n",
    "porcentaje_incremento_decremento = (diferencia / Dial_up.shift(1)) * 100\n",
    "\n",
    "# Crea una nueva columna \"Incremento/Decremento\" en el DataFrame original.\n",
    "AccIntFijxTecSalta['Incremento/Decremento'] = porcentaje_incremento_decremento\n",
    "\n",
    "# Elimina la primera fila de la columna 'Incremento/Decremento'.\n",
    "AccIntFijxTecSalta = AccIntFijxTecSalta.iloc[1:]\n",
    "\n",
    "# Calcula la suma de la columna 'Incremento/Decremento'.\n",
    "suma = AccIntFijxTecSalta['Incremento/Decremento'].sum()\n",
    "\n",
    "# Calcula el promedio de la columna 'Incremento/Decremento'.\n",
    "promedio = AccIntFijxTecSalta['Incremento/Decremento'].mean()\n",
    "\n",
    "# Imprime la suma y el promedio.\n",
    "print(f\"Suma de la columna 'Incremento/Decremento': {suma}\")\n",
    "print(f\"Promedio de la columna 'Incremento/Decremento': {promedio}\")"
   ]
  },
  {
   "cell_type": "code",
   "execution_count": 215,
   "metadata": {},
   "outputs": [
    {
     "data": {
      "text/plain": [
       "16     201.0\n",
       "40     196.0\n",
       "64     192.0\n",
       "88     187.0\n",
       "112    183.0\n",
       "136    179.0\n",
       "160    175.0\n",
       "184    171.0\n",
       "208    167.0\n",
       "232    163.0\n",
       "256    160.0\n",
       "280    156.0\n",
       "304    153.0\n",
       "328    149.0\n",
       "352    146.0\n",
       "376    142.0\n",
       "400    139.0\n",
       "424    136.0\n",
       "448    133.0\n",
       "472    130.0\n",
       "496    127.0\n",
       "Name: Fibra óptica, dtype: float64"
      ]
     },
     "execution_count": 215,
     "metadata": {},
     "output_type": "execute_result"
    }
   ],
   "source": [
    "AccIntFijxTecSalta = AccIntFijxTecyProv[AccIntFijxTecyProv['Provincia'] == 'Salta']\n",
    "\n",
    "# Toma los primeros 19 datos de la columna 'Fibra óptica'.\n",
    "primeros_19_datos = AccIntFijxTecSalta['Fibra óptica'].head(21)\n",
    "\n",
    "# Aplicar un incremento porcentual acumulativo\n",
    "for i in range(len(primeros_19_datos)-2,-1,-1):\n",
    "    primeros_19_datos.iloc[i] = round(primeros_19_datos.iloc[i + 1] * (1.02313),2)\n",
    "\n",
    "primeros_19_datos = round(primeros_19_datos,0)\n",
    "primeros_19_datos"
   ]
  },
  {
   "cell_type": "code",
   "execution_count": 216,
   "metadata": {},
   "outputs": [],
   "source": [
    "# Define los nuevos valores en el orden correspondiente\n",
    "nuevos_valores = [201.0, 196.0, 192.0, 187.0, 183.0, 179.0, 175.0, 171.0, 167.0, 163.0, 160.0, 156.0, 153.0, 149.0, 146.0, 142.0, 139.0, 136.0, 133.0, 130.0, 127.0]\n",
    "\n",
    "# Define las posiciones en las que deseas reemplazar los valores\n",
    "posiciones = [16, 40, 64, 88, 112, 136, 160, 184, 208, 232, 256, 280, 304, 328, 352, 376, 400, 424, 448, 472, 496]\n",
    "\n",
    "# Reemplaza los valores en la columna \"Banda ancha fija\" en las posiciones especificadas\n",
    "for i in range(len(posiciones)):\n",
    "    AccIntFijxTecyProv.loc[posiciones[i], 'Fibra óptica'] = nuevos_valores[i]"
   ]
  },
  {
   "cell_type": "code",
   "execution_count": 217,
   "metadata": {},
   "outputs": [
    {
     "name": "stdout",
     "output_type": "stream",
     "text": [
      "Suma de la columna 'Incremento/Decremento': -77.6933659933145\n",
      "Promedio de la columna 'Incremento/Decremento': -4.855835374582156\n"
     ]
    }
   ],
   "source": [
    "AccIntFijxTecSalta = AccIntFijxTecyProv[AccIntFijxTecyProv['Provincia'] == 'Salta']\n",
    "AccIntFijxTecSalta = AccIntFijxTecSalta[(AccIntFijxTecSalta['Wireless'] >= 109)&(AccIntFijxTecSalta['Wireless'] <= 253)]\n",
    "# Filtra solo la columna \"Wireless\".\n",
    "Dial_up = AccIntFijxTecSalta['Wireless']\n",
    "\n",
    "# Calcula la diferencia entre cada dato y el dato anterior.\n",
    "diferencia = Dial_up.diff()\n",
    "\n",
    "# Calcula el porcentaje de incremento o decremento.\n",
    "porcentaje_incremento_decremento = (diferencia / Dial_up.shift(1)) * 100\n",
    "\n",
    "# Crea una nueva columna \"Incremento/Decremento\" en el DataFrame original.\n",
    "AccIntFijxTecSalta['Incremento/Decremento'] = porcentaje_incremento_decremento\n",
    "\n",
    "# Elimina la primera fila de la columna 'Incremento/Decremento'.\n",
    "AccIntFijxTecSalta = AccIntFijxTecSalta.iloc[1:]\n",
    "\n",
    "# Calcula la suma de la columna 'Incremento/Decremento'.\n",
    "suma = AccIntFijxTecSalta['Incremento/Decremento'].sum()\n",
    "\n",
    "# Calcula el promedio de la columna 'Incremento/Decremento'.\n",
    "promedio = AccIntFijxTecSalta['Incremento/Decremento'].mean()\n",
    "\n",
    "# Imprime la suma y el promedio.\n",
    "print(f\"Suma de la columna 'Incremento/Decremento': {suma}\")\n",
    "print(f\"Promedio de la columna 'Incremento/Decremento': {promedio}\")"
   ]
  },
  {
   "cell_type": "code",
   "execution_count": 218,
   "metadata": {},
   "outputs": [
    {
     "data": {
      "text/plain": [
       "16     540.0\n",
       "40     515.0\n",
       "64     491.0\n",
       "88     468.0\n",
       "112    447.0\n",
       "136    426.0\n",
       "160    406.0\n",
       "184    387.0\n",
       "208    370.0\n",
       "232    352.0\n",
       "256    336.0\n",
       "280    321.0\n",
       "304    306.0\n",
       "328    292.0\n",
       "352    278.0\n",
       "376    265.0\n",
       "400    253.0\n",
       "Name: Wireless, dtype: float64"
      ]
     },
     "execution_count": 218,
     "metadata": {},
     "output_type": "execute_result"
    }
   ],
   "source": [
    "AccIntFijxTecSalta = AccIntFijxTecyProv[AccIntFijxTecyProv['Provincia'] == 'Salta']\n",
    "\n",
    "# Toma los primeros 19 datos de la columna 'Wireless'.\n",
    "primeros_19_datos = AccIntFijxTecSalta['Wireless'].head(17)\n",
    "\n",
    "# Aplicar un incremento porcentual acumulativo\n",
    "for i in range(len(primeros_19_datos)-2,-1,-1):\n",
    "    primeros_19_datos.iloc[i] = round(primeros_19_datos.iloc[i + 1] * (1.0485),2)\n",
    "\n",
    "primeros_19_datos = round(primeros_19_datos,0)\n",
    "primeros_19_datos"
   ]
  },
  {
   "cell_type": "code",
   "execution_count": 219,
   "metadata": {},
   "outputs": [],
   "source": [
    "# Define los nuevos valores en el orden correspondiente\n",
    "nuevos_valores = [540.0, 515.0, 491.0, 468.0, 447.0, 426.0, 406.0, 387.0, 370.0, 352.0, 336.0, 321.0, 306.0, 292.0, 278.0, 265.0, 253.0]\n",
    "\n",
    "# Define las posiciones en las que deseas reemplazar los valores\n",
    "posiciones = [16, 40, 64, 88, 112, 136, 160, 184, 208, 232, 256, 280, 304, 328, 352, 376, 400]\n",
    "\n",
    "# Reemplaza los valores en la columna \"Banda ancha fija\" en las posiciones especificadas\n",
    "for i in range(len(posiciones)):\n",
    "    AccIntFijxTecyProv.loc[posiciones[i], 'Wireless'] = nuevos_valores[i]"
   ]
  },
  {
   "cell_type": "code",
   "execution_count": 220,
   "metadata": {},
   "outputs": [
    {
     "data": {
      "text/plain": [
       "760    129.0\n",
       "784    123.0\n",
       "808    117.0\n",
       "832    111.0\n",
       "856    106.0\n",
       "Name: Wireless, dtype: float64"
      ]
     },
     "execution_count": 220,
     "metadata": {},
     "output_type": "execute_result"
    }
   ],
   "source": [
    "AccIntFijxTecSalta = AccIntFijxTecyProv[AccIntFijxTecyProv['Provincia'] == 'Salta']\n",
    "\n",
    "# Toma los primeros 19 datos de la columna 'Wireless'.\n",
    "primeros_19_datos = AccIntFijxTecSalta['Wireless'].tail(5)\n",
    "\n",
    "# Aplicar un incremento porcentual acumulativo\n",
    "for i in range(1,len(primeros_19_datos)):\n",
    "    primeros_19_datos.iloc[i] = round(primeros_19_datos.iloc[i - 1] * (1-0.0485),2)\n",
    "\n",
    "primeros_19_datos = round(primeros_19_datos,0)\n",
    "primeros_19_datos"
   ]
  },
  {
   "cell_type": "code",
   "execution_count": 221,
   "metadata": {},
   "outputs": [],
   "source": [
    "# Define los nuevos valores en el orden correspondiente\n",
    "nuevos_valores = [129.0, 123.0, 117.0, 111.0, 106.0]\n",
    "\n",
    "# Define las posiciones en las que deseas reemplazar los valores\n",
    "posiciones = [760, 784, 808, 832, 856]\n",
    "\n",
    "# Reemplaza los valores en la columna \"Banda ancha fija\" en las posiciones especificadas\n",
    "for i in range(len(posiciones)):\n",
    "    AccIntFijxTecyProv.loc[posiciones[i], 'Wireless'] = nuevos_valores[i]"
   ]
  },
  {
   "cell_type": "code",
   "execution_count": 222,
   "metadata": {},
   "outputs": [
    {
     "name": "stdout",
     "output_type": "stream",
     "text": [
      "Suma de la columna 'Incremento/Decremento': -32.370653545263934\n",
      "Promedio de la columna 'Incremento/Decremento': -3.596739282807104\n"
     ]
    }
   ],
   "source": [
    "AccIntFijxTecSalta = AccIntFijxTecyProv[AccIntFijxTecyProv['Provincia'] == 'Salta']\n",
    "AccIntFijxTecSalta = AccIntFijxTecSalta[(AccIntFijxTecSalta['Otros'] >= 568)&(AccIntFijxTecSalta['Otros'] <= 804)]\n",
    "# Filtra solo la columna \"Otros\".\n",
    "Dial_up = AccIntFijxTecSalta['Otros']\n",
    "\n",
    "# Calcula la diferencia entre cada dato y el dato anterior.\n",
    "diferencia = Dial_up.diff()\n",
    "\n",
    "# Calcula el porcentaje de incremento o decremento.\n",
    "porcentaje_incremento_decremento = (diferencia / Dial_up.shift(1)) * 100\n",
    "\n",
    "# Crea una nueva columna \"Incremento/Decremento\" en el DataFrame original.\n",
    "AccIntFijxTecSalta['Incremento/Decremento'] = porcentaje_incremento_decremento\n",
    "\n",
    "# Elimina la primera fila de la columna 'Incremento/Decremento'.\n",
    "AccIntFijxTecSalta = AccIntFijxTecSalta.iloc[1:]\n",
    "\n",
    "# Calcula la suma de la columna 'Incremento/Decremento'.\n",
    "suma = AccIntFijxTecSalta['Incremento/Decremento'].sum()\n",
    "\n",
    "# Calcula el promedio de la columna 'Incremento/Decremento'.\n",
    "promedio = AccIntFijxTecSalta['Incremento/Decremento'].mean()\n",
    "\n",
    "# Imprime la suma y el promedio.\n",
    "print(f\"Suma de la columna 'Incremento/Decremento': {suma}\")\n",
    "print(f\"Promedio de la columna 'Incremento/Decremento': {promedio}\")"
   ]
  },
  {
   "cell_type": "code",
   "execution_count": 223,
   "metadata": {},
   "outputs": [
    {
     "data": {
      "text/plain": [
       "16     1411.0\n",
       "40     1376.0\n",
       "64     1341.0\n",
       "88     1307.0\n",
       "112    1274.0\n",
       "136    1242.0\n",
       "160    1210.0\n",
       "184    1180.0\n",
       "208    1150.0\n",
       "232    1121.0\n",
       "256    1093.0\n",
       "280    1065.0\n",
       "304    1038.0\n",
       "328    1012.0\n",
       "352     986.0\n",
       "376     962.0\n",
       "400     937.0\n",
       "424     914.0\n",
       "448     891.0\n",
       "472     868.0\n",
       "496     846.0\n",
       "520     825.0\n",
       "544     804.0\n",
       "Name: Otros, dtype: float64"
      ]
     },
     "execution_count": 223,
     "metadata": {},
     "output_type": "execute_result"
    }
   ],
   "source": [
    "AccIntFijxTecSalta = AccIntFijxTecyProv[AccIntFijxTecyProv['Provincia'] == 'Salta']\n",
    "\n",
    "# Toma los primeros 19 datos de la columna 'Otros'.\n",
    "primeros_19_datos = AccIntFijxTecSalta['Otros'].head(23)\n",
    "\n",
    "# Aplicar un incremento porcentual acumulativo\n",
    "for i in range(len(primeros_19_datos)-2,-1,-1):\n",
    "    primeros_19_datos.iloc[i] = round(primeros_19_datos.iloc[i + 1] * (1.0259),2)\n",
    "\n",
    "primeros_19_datos = round(primeros_19_datos,0)\n",
    "primeros_19_datos"
   ]
  },
  {
   "cell_type": "code",
   "execution_count": 224,
   "metadata": {},
   "outputs": [],
   "source": [
    "# Define los nuevos valores en el orden correspondiente\n",
    "nuevos_valores  = [1411.0, 1376.0, 1341.0, 1307.0, 1274.0, 1242.0, 1210.0, 1180.0, 1150.0, 1121.0, 1093.0, 1065.0, 1038.0, 1012.0, 986.0, 962.0, 937.0, 914.0, 891.0, 868.0, 846.0, 825.0, 804.0]\n",
    "\n",
    "\n",
    "# Define las posiciones en las que deseas reemplazar los valores\n",
    "posiciones = [16, 40, 64, 88, 112, 136, 160, 184, 208, 232, 256, 280, 304, 328, 352, 376, 400, 424, 448, 472, 496, 520, 544]\n",
    "\n",
    "# Reemplaza los valores en la columna \"Banda ancha fija\" en las posiciones especificadas\n",
    "for i in range(len(posiciones)):\n",
    "    AccIntFijxTecyProv.loc[posiciones[i], 'Otros'] = nuevos_valores[i]"
   ]
  },
  {
   "cell_type": "code",
   "execution_count": 225,
   "metadata": {},
   "outputs": [
    {
     "name": "stdout",
     "output_type": "stream",
     "text": [
      "Suma de la columna 'Incremento/Decremento': -11.001877093002767\n",
      "Promedio de la columna 'Incremento/Decremento': -0.5500938546501384\n"
     ]
    }
   ],
   "source": [
    "AccIntFijxTecSan_Juan = AccIntFijxTecyProv[AccIntFijxTecyProv['Provincia'] == 'San Juan']\n",
    "AccIntFijxTecSan_Juan = AccIntFijxTecSan_Juan[(AccIntFijxTecSan_Juan['Fibra óptica'] >= 722)&(AccIntFijxTecSan_Juan['Fibra óptica'] <= 826)]\n",
    "# Filtra solo la columna \"Fibra óptica\".\n",
    "Dial_up = AccIntFijxTecSan_Juan['Fibra óptica']\n",
    "\n",
    "# Calcula la diferencia entre cada dato y el dato anterior.\n",
    "diferencia = Dial_up.diff()\n",
    "\n",
    "# Calcula el porcentaje de incremento o decremento.\n",
    "porcentaje_incremento_decremento = (diferencia / Dial_up.shift(1)) * 100\n",
    "\n",
    "# Crea una nueva columna \"Incremento/Decremento\" en el DataFrame original.\n",
    "AccIntFijxTecSan_Juan['Incremento/Decremento'] = porcentaje_incremento_decremento\n",
    "\n",
    "# Elimina la primera fila de la columna 'Incremento/Decremento'.\n",
    "AccIntFijxTecSan_Juan = AccIntFijxTecSan_Juan.iloc[1:]\n",
    "\n",
    "# Calcula la suma de la columna 'Incremento/Decremento'.\n",
    "suma = AccIntFijxTecSan_Juan['Incremento/Decremento'].sum()\n",
    "\n",
    "# Calcula el promedio de la columna 'Incremento/Decremento'.\n",
    "promedio = AccIntFijxTecSan_Juan['Incremento/Decremento'].mean()\n",
    "\n",
    "# Imprime la suma y el promedio.\n",
    "print(f\"Suma de la columna 'Incremento/Decremento': {suma}\")\n",
    "print(f\"Promedio de la columna 'Incremento/Decremento': {promedio}\")"
   ]
  },
  {
   "cell_type": "code",
   "execution_count": 226,
   "metadata": {},
   "outputs": [
    {
     "data": {
      "text/plain": [
       "17     877.0\n",
       "41     872.0\n",
       "65     868.0\n",
       "89     863.0\n",
       "113    858.0\n",
       "137    854.0\n",
       "161    849.0\n",
       "185    844.0\n",
       "209    840.0\n",
       "233    835.0\n",
       "257    830.0\n",
       "281    826.0\n",
       "305    821.0\n",
       "329    817.0\n",
       "353    812.0\n",
       "377    808.0\n",
       "Name: Fibra óptica, dtype: float64"
      ]
     },
     "execution_count": 226,
     "metadata": {},
     "output_type": "execute_result"
    }
   ],
   "source": [
    "AccIntFijxTecSan_Juan = AccIntFijxTecyProv[AccIntFijxTecyProv['Provincia'] == 'San Juan']\n",
    "\n",
    "# Toma los primeros 19 datos de la columna 'Fibra óptica'.\n",
    "primeros_19_datos = AccIntFijxTecSan_Juan['Fibra óptica'].head(16)\n",
    "\n",
    "# Aplicar un incremento porcentual acumulativo\n",
    "for i in range(len(primeros_19_datos)-2,-1,-1):\n",
    "    primeros_19_datos.iloc[i] = round(primeros_19_datos.iloc[i + 1] * (1.0055),2)\n",
    "\n",
    "primeros_19_datos = round(primeros_19_datos,0)\n",
    "primeros_19_datos"
   ]
  },
  {
   "cell_type": "code",
   "execution_count": 227,
   "metadata": {},
   "outputs": [],
   "source": [
    "# Define los nuevos valores en el orden correspondiente\n",
    "nuevos_valores = [877.0, 872.0, 868.0, 863.0, 858.0, 854.0, 849.0, 844.0, 840.0, 835.0, 830.0, 826.0, 821.0, 817.0, 812.0, 808.0]\n",
    "\n",
    "# Define las posiciones en las que deseas reemplazar los valores\n",
    "posiciones = [17, 41, 65, 89, 113, 137, 161, 185, 209, 233, 257, 281, 305, 329, 353, 377]\n",
    "\n",
    "# Reemplaza los valores en la columna \"Banda ancha fija\" en las posiciones especificadas\n",
    "for i in range(len(posiciones)):\n",
    "    AccIntFijxTecyProv.loc[posiciones[i], 'Fibra óptica'] = nuevos_valores[i]"
   ]
  },
  {
   "cell_type": "code",
   "execution_count": 228,
   "metadata": {},
   "outputs": [
    {
     "name": "stdout",
     "output_type": "stream",
     "text": [
      "Suma de la columna 'Incremento/Decremento': -0.7650273224043715\n",
      "Promedio de la columna 'Incremento/Decremento': -0.15300546448087432\n"
     ]
    }
   ],
   "source": [
    "AccIntFijxTecSan_Juan = AccIntFijxTecyProv[AccIntFijxTecyProv['Provincia'] == 'San Juan']\n",
    "AccIntFijxTecSan_Juan = AccIntFijxTecSan_Juan[(AccIntFijxTecSan_Juan['Otros'] >= 908)&(AccIntFijxTecSan_Juan['Otros'] <= 915)]\n",
    "# Filtra solo la columna \"Otros\".\n",
    "Dial_up = AccIntFijxTecSan_Juan['Otros']\n",
    "\n",
    "# Calcula la diferencia entre cada dato y el dato anterior.\n",
    "diferencia = Dial_up.diff()\n",
    "\n",
    "# Calcula el porcentaje de incremento o decremento.\n",
    "porcentaje_incremento_decremento = (diferencia / Dial_up.shift(1)) * 100\n",
    "\n",
    "# Crea una nueva columna \"Incremento/Decremento\" en el DataFrame original.\n",
    "AccIntFijxTecSan_Juan['Incremento/Decremento'] = porcentaje_incremento_decremento\n",
    "\n",
    "# Elimina la primera fila de la columna 'Incremento/Decremento'.\n",
    "AccIntFijxTecSan_Juan = AccIntFijxTecSan_Juan.iloc[1:]\n",
    "\n",
    "# Calcula la suma de la columna 'Incremento/Decremento'.\n",
    "suma = AccIntFijxTecSan_Juan['Incremento/Decremento'].sum()\n",
    "\n",
    "# Calcula el promedio de la columna 'Incremento/Decremento'.\n",
    "promedio = AccIntFijxTecSan_Juan['Incremento/Decremento'].mean()\n",
    "\n",
    "# Imprime la suma y el promedio.\n",
    "print(f\"Suma de la columna 'Incremento/Decremento': {suma}\")\n",
    "print(f\"Promedio de la columna 'Incremento/Decremento': {promedio}\")"
   ]
  },
  {
   "cell_type": "code",
   "execution_count": 229,
   "metadata": {},
   "outputs": [
    {
     "data": {
      "text/plain": [
       "17     946.0\n",
       "41     944.0\n",
       "65     943.0\n",
       "89     941.0\n",
       "113    940.0\n",
       "137    939.0\n",
       "161    937.0\n",
       "185    936.0\n",
       "209    934.0\n",
       "233    933.0\n",
       "257    932.0\n",
       "281    930.0\n",
       "305    929.0\n",
       "329    927.0\n",
       "353    926.0\n",
       "377    925.0\n",
       "401    923.0\n",
       "425    922.0\n",
       "449    920.0\n",
       "473    919.0\n",
       "497    918.0\n",
       "521    916.0\n",
       "545    915.0\n",
       "Name: Otros, dtype: float64"
      ]
     },
     "execution_count": 229,
     "metadata": {},
     "output_type": "execute_result"
    }
   ],
   "source": [
    "AccIntFijxTecSan_Juan = AccIntFijxTecyProv[AccIntFijxTecyProv['Provincia'] == 'San Juan']\n",
    "\n",
    "# Toma los primeros 19 datos de la columna 'Otros'.\n",
    "primeros_19_datos = AccIntFijxTecSan_Juan['Otros'].head(23)\n",
    "\n",
    "# Aplicar un incremento porcentual acumulativo\n",
    "for i in range(len(primeros_19_datos)-2,-1,-1):\n",
    "    primeros_19_datos.iloc[i] = round(primeros_19_datos.iloc[i + 1] * (1.0015),2)\n",
    "\n",
    "primeros_19_datos = round(primeros_19_datos,0)\n",
    "primeros_19_datos"
   ]
  },
  {
   "cell_type": "code",
   "execution_count": 230,
   "metadata": {},
   "outputs": [],
   "source": [
    "# Define los nuevos valores en el orden correspondiente\n",
    "nuevos_valores = [946.0, 944.0, 943.0, 941.0, 940.0, 939.0, 937.0, 936.0, 934.0, 933.0, 932.0, 930.0, 929.0, 927.0, 926.0, 925.0, 923.0, 922.0, 920.0, 919.0, 918.0, 916.0, 915.0]\n",
    "\n",
    "# Define las posiciones en las que deseas reemplazar los valores\n",
    "posiciones = [17, 41, 65, 89, 113, 137, 161, 185, 209, 233, 257, 281, 305, 329, 353, 377, 401, 425, 449, 473, 497, 521, 545]\n",
    "\n",
    "# Reemplaza los valores en la columna \"Banda ancha fija\" en las posiciones especificadas\n",
    "for i in range(len(posiciones)):\n",
    "    AccIntFijxTecyProv.loc[posiciones[i], 'Otros'] = nuevos_valores[i]"
   ]
  },
  {
   "cell_type": "code",
   "execution_count": 231,
   "metadata": {},
   "outputs": [
    {
     "data": {
      "text/plain": [
       "737    908.0\n",
       "761    907.0\n",
       "785    905.0\n",
       "809    904.0\n",
       "833    903.0\n",
       "857    901.0\n",
       "Name: Otros, dtype: float64"
      ]
     },
     "execution_count": 231,
     "metadata": {},
     "output_type": "execute_result"
    }
   ],
   "source": [
    "AccIntFijxTecSan_Juan = AccIntFijxTecyProv[AccIntFijxTecyProv['Provincia'] == 'San Juan']\n",
    "\n",
    "# Toma los primeros 19 datos de la columna 'Otros'.\n",
    "primeros_19_datos = AccIntFijxTecSan_Juan['Otros'].tail(6)\n",
    "\n",
    "# Aplicar un incremento porcentual acumulativo\n",
    "for i in range(1,len(primeros_19_datos)):\n",
    "    primeros_19_datos.iloc[i] = round(primeros_19_datos.iloc[i - 1] * (1-0.0015),2)\n",
    "\n",
    "primeros_19_datos = round(primeros_19_datos,0)\n",
    "primeros_19_datos"
   ]
  },
  {
   "cell_type": "code",
   "execution_count": 232,
   "metadata": {},
   "outputs": [],
   "source": [
    "# Define los nuevos valores en el orden correspondiente\n",
    "nuevos_valores = [908.0, 907.0, 905.0, 904.0, 903.0, 901.0]\n",
    "\n",
    "# Define las posiciones en las que deseas reemplazar los valores\n",
    "posiciones = [737, 761, 785, 809, 833, 857]\n",
    "\n",
    "# Reemplaza los valores en la columna \"Banda ancha fija\" en las posiciones especificadas\n",
    "for i in range(len(posiciones)):\n",
    "    AccIntFijxTecyProv.loc[posiciones[i], 'Otros'] = nuevos_valores[i]"
   ]
  },
  {
   "cell_type": "code",
   "execution_count": 233,
   "metadata": {},
   "outputs": [
    {
     "data": {
      "text/plain": [
       "17     451.0\n",
       "41     451.0\n",
       "65     451.0\n",
       "89     451.0\n",
       "113    451.0\n",
       "137    451.0\n",
       "161    451.0\n",
       "185    451.0\n",
       "209    451.0\n",
       "233    451.0\n",
       "257    451.0\n",
       "281    451.0\n",
       "305    451.0\n",
       "329    451.0\n",
       "353    451.0\n",
       "377    451.0\n",
       "401    451.0\n",
       "425    451.0\n",
       "449    451.0\n",
       "473    451.0\n",
       "497    451.0\n",
       "521    451.0\n",
       "545    451.0\n",
       "Name: Cablemodem, dtype: float64"
      ]
     },
     "execution_count": 233,
     "metadata": {},
     "output_type": "execute_result"
    }
   ],
   "source": [
    "AccIntFijxTecSan_Juan = AccIntFijxTecyProv[AccIntFijxTecyProv['Provincia'] == 'San Juan']\n",
    "\n",
    "# Toma los primeros 19 datos de la columna 'Otros'.\n",
    "primeros_19_datos = AccIntFijxTecSan_Juan['Cablemodem'].head(23)\n",
    "\n",
    "# Aplicar un incremento porcentual acumulativo\n",
    "for i in range(len(primeros_19_datos)-2,-1,-1):\n",
    "    primeros_19_datos.iloc[i] = 451\n",
    "primeros_19_datos = round(primeros_19_datos,0)\n",
    "primeros_19_datos"
   ]
  },
  {
   "cell_type": "code",
   "execution_count": 234,
   "metadata": {},
   "outputs": [],
   "source": [
    "# Define los nuevos valores en el orden correspondiente\n",
    "nuevos_valores = [451.0, 451.0, 451.0, 451.0, 451.0, 451.0, 451.0, 451.0, 451.0, 451.0, 451.0, 451.0, 451.0, 451.0, 451.0, 451.0, 451.0, 451.0, 451.0, 451.0, 451.0, 451.0, 451.0]\n",
    "\n",
    "# Define las posiciones en las que deseas reemplazar los valores\n",
    "posiciones = [17, 41, 65, 89, 113, 137, 161, 185, 209, 233, 257, 281, 305, 329, 353, 377, 401, 425, 449, 473, 497, 521, 545]\n",
    "\n",
    "# Reemplaza los valores en la columna \"Banda ancha fija\" en las posiciones especificadas\n",
    "for i in range(len(posiciones)):\n",
    "    AccIntFijxTecyProv.loc[posiciones[i], 'Cablemodem'] = nuevos_valores[i]"
   ]
  },
  {
   "cell_type": "code",
   "execution_count": 235,
   "metadata": {},
   "outputs": [],
   "source": [
    "AccIntFijxTecyProv.at[857, 'Wireless'] = 1"
   ]
  },
  {
   "cell_type": "code",
   "execution_count": 236,
   "metadata": {},
   "outputs": [
    {
     "name": "stdout",
     "output_type": "stream",
     "text": [
      "Suma de la columna 'Incremento/Decremento': 2.073514762416043\n",
      "Promedio de la columna 'Incremento/Decremento': 0.09425067101891105\n"
     ]
    }
   ],
   "source": [
    "AccIntFijxTecSan_Luis = AccIntFijxTecyProv[AccIntFijxTecyProv['Provincia'] == 'San Luis']\n",
    "AccIntFijxTecSan_Luis = AccIntFijxTecSan_Luis[(AccIntFijxTecSan_Luis['Fibra óptica'] >= 335)&(AccIntFijxTecSan_Luis['Fibra óptica'] <= 378)]\n",
    "# Filtra solo la columna \"Fibra óptica\".\n",
    "Dial_up = AccIntFijxTecSan_Luis['Fibra óptica']\n",
    "\n",
    "# Calcula la diferencia entre cada dato y el dato anterior.\n",
    "diferencia = Dial_up.diff()\n",
    "\n",
    "# Calcula el porcentaje de incremento o decremento.\n",
    "porcentaje_incremento_decremento = (diferencia / Dial_up.shift(1)) * 100\n",
    "\n",
    "# Crea una nueva columna \"Incremento/Decremento\" en el DataFrame original.\n",
    "AccIntFijxTecSan_Luis['Incremento/Decremento'] = porcentaje_incremento_decremento\n",
    "\n",
    "# Elimina la primera fila de la columna 'Incremento/Decremento'.\n",
    "AccIntFijxTecSan_Luis = AccIntFijxTecSan_Luis.iloc[1:]\n",
    "\n",
    "# Calcula la suma de la columna 'Incremento/Decremento'.\n",
    "suma = AccIntFijxTecSan_Luis['Incremento/Decremento'].sum()\n",
    "\n",
    "# Calcula el promedio de la columna 'Incremento/Decremento'.\n",
    "promedio = AccIntFijxTecSan_Luis['Incremento/Decremento'].mean()\n",
    "\n",
    "# Imprime la suma y el promedio.\n",
    "print(f\"Suma de la columna 'Incremento/Decremento': {suma}\")\n",
    "print(f\"Promedio de la columna 'Incremento/Decremento': {promedio}\")"
   ]
  },
  {
   "cell_type": "code",
   "execution_count": 237,
   "metadata": {},
   "outputs": [
    {
     "data": {
      "text/plain": [
       "18     395.0\n",
       "42     392.0\n",
       "66     388.0\n",
       "90     384.0\n",
       "114    381.0\n",
       "138    377.0\n",
       "162    374.0\n",
       "186    370.0\n",
       "210    367.0\n",
       "234    363.0\n",
       "258    360.0\n",
       "282    357.0\n",
       "306    353.0\n",
       "330    350.0\n",
       "Name: Fibra óptica, dtype: float64"
      ]
     },
     "execution_count": 237,
     "metadata": {},
     "output_type": "execute_result"
    }
   ],
   "source": [
    "AccIntFijxTecSan_Luis = AccIntFijxTecyProv[AccIntFijxTecyProv['Provincia'] == 'San Luis']\n",
    "\n",
    "# Toma los primeros 19 datos de la columna 'Fibra óptica'.\n",
    "primeros_19_datos = AccIntFijxTecSan_Luis['Fibra óptica'].head(14)\n",
    "\n",
    "# Aplicar un incremento porcentual acumulativo\n",
    "for i in range(len(primeros_19_datos)-2,-1,-1):\n",
    "    primeros_19_datos.iloc[i] = round(primeros_19_datos.iloc[i + 1] * (1.00942),2)\n",
    "\n",
    "primeros_19_datos = round(primeros_19_datos,0)\n",
    "primeros_19_datos"
   ]
  },
  {
   "cell_type": "code",
   "execution_count": 238,
   "metadata": {},
   "outputs": [],
   "source": [
    "# Define los nuevos valores en el orden correspondiente\n",
    "nuevos_valores = [395.0, 392.0, 388.0, 384.0, 381.0, 377.0, 374.0, 370.0, 367.0, 363.0, 360.0, 357.0, 353.0, 350.0]\n",
    "\n",
    "\n",
    "# Define las posiciones en las que deseas reemplazar los valores\n",
    "posiciones = [18, 42, 66, 90, 114, 138, 162, 186, 210, 234, 258, 282, 306, 330]\n",
    "\n",
    "\n",
    "# Reemplaza los valores en la columna \"Banda ancha fija\" en las posiciones especificadas\n",
    "for i in range(len(posiciones)):\n",
    "    AccIntFijxTecyProv.loc[posiciones[i], 'Fibra óptica'] = nuevos_valores[i]"
   ]
  },
  {
   "cell_type": "code",
   "execution_count": 239,
   "metadata": {},
   "outputs": [
    {
     "name": "stdout",
     "output_type": "stream",
     "text": [
      "Suma de la columna 'Incremento/Decremento': 18.33351086206755\n",
      "Promedio de la columna 'Incremento/Decremento': 1.4102700663128884\n"
     ]
    }
   ],
   "source": [
    "AccIntFijxTecSan_Luis = AccIntFijxTecyProv[AccIntFijxTecyProv['Provincia'] == 'San Luis']\n",
    "AccIntFijxTecSan_Luis = AccIntFijxTecSan_Luis[(AccIntFijxTecSan_Luis['Otros'] >= 371)&(AccIntFijxTecSan_Luis['Otros'] <= 448)]\n",
    "# Filtra solo la columna \"Otros\".\n",
    "Dial_up = AccIntFijxTecSan_Luis['Otros']\n",
    "\n",
    "# Calcula la diferencia entre cada dato y el dato anterior.\n",
    "diferencia = Dial_up.diff()\n",
    "\n",
    "# Calcula el porcentaje de incremento o decremento.\n",
    "porcentaje_incremento_decremento = (diferencia / Dial_up.shift(1)) * 100\n",
    "\n",
    "# Crea una nueva columna \"Incremento/Decremento\" en el DataFrame original.\n",
    "AccIntFijxTecSan_Luis['Incremento/Decremento'] = porcentaje_incremento_decremento\n",
    "\n",
    "# Elimina la primera fila de la columna 'Incremento/Decremento'.\n",
    "AccIntFijxTecSan_Luis = AccIntFijxTecSan_Luis.iloc[1:]\n",
    "\n",
    "# Calcula la suma de la columna 'Incremento/Decremento'.\n",
    "suma = AccIntFijxTecSan_Luis['Incremento/Decremento'].sum()\n",
    "\n",
    "# Calcula el promedio de la columna 'Incremento/Decremento'.\n",
    "promedio = AccIntFijxTecSan_Luis['Incremento/Decremento'].mean()\n",
    "\n",
    "# Imprime la suma y el promedio.\n",
    "print(f\"Suma de la columna 'Incremento/Decremento': {suma}\")\n",
    "print(f\"Promedio de la columna 'Incremento/Decremento': {promedio}\")"
   ]
  },
  {
   "cell_type": "code",
   "execution_count": 240,
   "metadata": {},
   "outputs": [
    {
     "data": {
      "text/plain": [
       "18     510.0\n",
       "42     503.0\n",
       "66     496.0\n",
       "90     489.0\n",
       "114    482.0\n",
       "138    476.0\n",
       "162    469.0\n",
       "186    463.0\n",
       "210    456.0\n",
       "234    450.0\n",
       "258    444.0\n",
       "282    437.0\n",
       "306    431.0\n",
       "330    425.0\n",
       "354    419.0\n",
       "378    414.0\n",
       "402    408.0\n",
       "426    402.0\n",
       "450    397.0\n",
       "474    391.0\n",
       "498    386.0\n",
       "522    380.0\n",
       "546    375.0\n",
       "Name: Otros, dtype: float64"
      ]
     },
     "execution_count": 240,
     "metadata": {},
     "output_type": "execute_result"
    }
   ],
   "source": [
    "AccIntFijxTecSan_Luis = AccIntFijxTecyProv[AccIntFijxTecyProv['Provincia'] == 'San Luis']\n",
    "\n",
    "# Toma los primeros 19 datos de la columna 'Otros'.\n",
    "primeros_19_datos = AccIntFijxTecSan_Luis['Otros'].head(23)\n",
    "\n",
    "# Aplicar un incremento porcentual acumulativo\n",
    "for i in range(len(primeros_19_datos)-2,-1,-1):\n",
    "    primeros_19_datos.iloc[i] = round(primeros_19_datos.iloc[i + 1] * (1.0141),2)\n",
    "\n",
    "primeros_19_datos = round(primeros_19_datos,0)\n",
    "primeros_19_datos"
   ]
  },
  {
   "cell_type": "code",
   "execution_count": 241,
   "metadata": {},
   "outputs": [],
   "source": [
    "# Define los nuevos valores en el orden correspondiente\n",
    "nuevos_valores = [503.0, 496.0, 489.0, 482.0, 476.0, 469.0, 463.0, 456.0, 450.0, 444.0, 437.0, 431.0, 425.0, 419.0, 414.0, 408.0, 402.0, 397.0, 391.0, 386.0, 380.0, 375.0]\n",
    "\n",
    "# Define las posiciones en las que deseas reemplazar los valores\n",
    "posiciones = [42, 66, 90, 114, 138, 162, 186, 210, 234, 258, 282, 306, 330, 354, 378, 402, 426, 450, 474, 498, 522, 546]\n",
    "\n",
    "# Reemplaza los valores en la columna \"Banda ancha fija\" en las posiciones especificadas\n",
    "for i in range(len(posiciones)):\n",
    "    AccIntFijxTecyProv.loc[posiciones[i], 'Otros'] = nuevos_valores[i]"
   ]
  },
  {
   "cell_type": "code",
   "execution_count": 242,
   "metadata": {},
   "outputs": [],
   "source": [
    "indices = [786, 810, 834, 858]\n",
    "AccIntFijxTecyProv.loc[indices, 'Cablemodem'] = 1"
   ]
  },
  {
   "cell_type": "code",
   "execution_count": 243,
   "metadata": {},
   "outputs": [
    {
     "name": "stdout",
     "output_type": "stream",
     "text": [
      "Suma de la columna 'Incremento/Decremento': -22.46206240380232\n",
      "Promedio de la columna 'Incremento/Decremento': -1.32129778845896\n"
     ]
    }
   ],
   "source": [
    "AccIntFijxTecSanta_Cruz = AccIntFijxTecyProv[AccIntFijxTecyProv['Provincia'] == 'Santa Cruz']\n",
    "AccIntFijxTecSanta_Cruz = AccIntFijxTecSanta_Cruz[(AccIntFijxTecSanta_Cruz['Fibra óptica'] >= 13)]\n",
    "# Filtra solo la columna \"Fibra óptica\".\n",
    "Dial_up = AccIntFijxTecSanta_Cruz['Fibra óptica']\n",
    "\n",
    "# Calcula la diferencia entre cada dato y el dato anterior.\n",
    "diferencia = Dial_up.diff()\n",
    "\n",
    "# Calcula el porcentaje de incremento o decremento.\n",
    "porcentaje_incremento_decremento = (diferencia / Dial_up.shift(1)) * 100\n",
    "\n",
    "# Crea una nueva columna \"Incremento/Decremento\" en el DataFrame original.\n",
    "AccIntFijxTecSanta_Cruz['Incremento/Decremento'] = porcentaje_incremento_decremento\n",
    "\n",
    "# Elimina la primera fila de la columna 'Incremento/Decremento'.\n",
    "AccIntFijxTecSanta_Cruz = AccIntFijxTecSanta_Cruz.iloc[1:]\n",
    "\n",
    "# Calcula la suma de la columna 'Incremento/Decremento'.\n",
    "suma = AccIntFijxTecSanta_Cruz['Incremento/Decremento'].sum()\n",
    "\n",
    "# Calcula el promedio de la columna 'Incremento/Decremento'.\n",
    "promedio = AccIntFijxTecSanta_Cruz['Incremento/Decremento'].mean()\n",
    "\n",
    "# Imprime la suma y el promedio.\n",
    "print(f\"Suma de la columna 'Incremento/Decremento': {suma}\")\n",
    "print(f\"Promedio de la columna 'Incremento/Decremento': {promedio}\")"
   ]
  },
  {
   "cell_type": "code",
   "execution_count": 244,
   "metadata": {},
   "outputs": [
    {
     "data": {
      "text/plain": [
       "19     607.0\n",
       "43     599.0\n",
       "67     591.0\n",
       "91     582.0\n",
       "115    574.0\n",
       "139    566.0\n",
       "163    558.0\n",
       "187    551.0\n",
       "211    543.0\n",
       "235    535.0\n",
       "259    528.0\n",
       "283    521.0\n",
       "307    513.0\n",
       "331    506.0\n",
       "355    499.0\n",
       "379    492.0\n",
       "403    485.0\n",
       "427    479.0\n",
       "451    472.0\n",
       "475    465.0\n",
       "499    459.0\n",
       "523    453.0\n",
       "547    446.0\n",
       "571    440.0\n",
       "595    434.0\n",
       "619    428.0\n",
       "643    422.0\n",
       "667    416.0\n",
       "691    410.0\n",
       "715    405.0\n",
       "739    399.0\n",
       "763    393.0\n",
       "787    388.0\n",
       "Name: Fibra óptica, dtype: float64"
      ]
     },
     "execution_count": 244,
     "metadata": {},
     "output_type": "execute_result"
    }
   ],
   "source": [
    "AccIntFijxTecSanta_Cruz = AccIntFijxTecyProv[AccIntFijxTecyProv['Provincia'] == 'Santa Cruz']\n",
    "\n",
    "# Toma los primeros 19 datos de la columna 'Otros'.\n",
    "primeros_19_datos = AccIntFijxTecSanta_Cruz['Fibra óptica'].head(33)\n",
    "\n",
    "# Aplicar un incremento porcentual acumulativo\n",
    "for i in range(len(primeros_19_datos)-2,-1,-1):\n",
    "    primeros_19_datos.iloc[i] = round(primeros_19_datos.iloc[i + 1] * (1.0141),2)\n",
    "\n",
    "primeros_19_datos = round(primeros_19_datos,0)\n",
    "primeros_19_datos"
   ]
  },
  {
   "cell_type": "code",
   "execution_count": 245,
   "metadata": {},
   "outputs": [],
   "source": [
    "# Define los nuevos valores en el orden correspondiente\n",
    "nuevos_valores = [607.0, 599.0, 591.0, 582.0, 574.0, 566.0, 558.0, 551.0, 543.0, 535.0, 528.0, 521.0, 513.0, 506.0, 499.0, 492.0, 485.0, 479.0, 472.0, 465.0, 459.0, 453.0, 446.0, 440.0, 434.0, 428.0, 422.0, 416.0, 410.0, 405.0, 399.0, 393.0, 388.0]\n",
    "\n",
    "\n",
    "# Define las posiciones en las que deseas reemplazar los valores\n",
    "posiciones = [19, 43, 67, 91, 115, 139, 163, 187, 211, 235, 259, 283, 307, 331, 355, 379, 403, 427, 451, 475, 499, 523, 547, 571, 595, 619, 643, 667, 691, 715, 739, 763, 787]\n",
    "\n",
    "\n",
    "# Reemplaza los valores en la columna \"Banda ancha fija\" en las posiciones especificadas\n",
    "for i in range(len(posiciones)):\n",
    "    AccIntFijxTecyProv.loc[posiciones[i], 'Fibra óptica'] = nuevos_valores[i]"
   ]
  },
  {
   "cell_type": "code",
   "execution_count": 246,
   "metadata": {},
   "outputs": [],
   "source": [
    "AccIntFijxTecyProv.loc[AccIntFijxTecyProv['Provincia'] == 'Santa Cruz', 'Cablemodem'] = AccIntFijxTecyProv.loc[AccIntFijxTecyProv['Provincia'] == 'Santa Cruz', 'Cablemodem'].apply(lambda x: 25 if x > 26 else x)"
   ]
  },
  {
   "cell_type": "code",
   "execution_count": 247,
   "metadata": {},
   "outputs": [],
   "source": [
    "AccIntFijxTecyProv.loc[AccIntFijxTecyProv['Provincia'] == 'Santa Cruz', 'Otros'] = AccIntFijxTecyProv.loc[AccIntFijxTecyProv['Provincia'] == 'Santa Cruz', 'Otros'].apply(lambda x: 4 if x > 5 else x)"
   ]
  },
  {
   "cell_type": "code",
   "execution_count": 248,
   "metadata": {},
   "outputs": [],
   "source": [
    "indices = [812, 836, 860]\n",
    "AccIntFijxTecyProv.loc[indices, 'Otros'] = 1"
   ]
  },
  {
   "cell_type": "code",
   "execution_count": 249,
   "metadata": {},
   "outputs": [
    {
     "name": "stdout",
     "output_type": "stream",
     "text": [
      "Suma de la columna 'Incremento/Decremento': -75.96134435634175\n",
      "Promedio de la columna 'Incremento/Decremento': -15.19226887126835\n"
     ]
    }
   ],
   "source": [
    "AccIntFijxTeSantiago_Del_Estero = AccIntFijxTecyProv[AccIntFijxTecyProv['Provincia'] == 'Santiago Del Estero']\n",
    "AccIntFijxTeSantiago_Del_Estero = AccIntFijxTeSantiago_Del_Estero[(AccIntFijxTeSantiago_Del_Estero['Fibra óptica'] >= 355)&(AccIntFijxTeSantiago_Del_Estero['Fibra óptica'] <= 909)]\n",
    "# Filtra solo la columna \"Fibra óptica\".\n",
    "Dial_up = AccIntFijxTeSantiago_Del_Estero['Fibra óptica']\n",
    "\n",
    "# Calcula la diferencia entre cada dato y el dato anterior.\n",
    "diferencia = Dial_up.diff()\n",
    "\n",
    "# Calcula el porcentaje de incremento o decremento.\n",
    "porcentaje_incremento_decremento = (diferencia / Dial_up.shift(1)) * 100\n",
    "\n",
    "# Crea una nueva columna \"Incremento/Decremento\" en el DataFrame original.\n",
    "AccIntFijxTeSantiago_Del_Estero['Incremento/Decremento'] = porcentaje_incremento_decremento\n",
    "\n",
    "# Elimina la primera fila de la columna 'Incremento/Decremento'.\n",
    "AccIntFijxTeSantiago_Del_Estero = AccIntFijxTeSantiago_Del_Estero.iloc[1:]\n",
    "\n",
    "# Calcula la suma de la columna 'Incremento/Decremento'.\n",
    "suma = AccIntFijxTeSantiago_Del_Estero['Incremento/Decremento'].sum()\n",
    "\n",
    "# Calcula el promedio de la columna 'Incremento/Decremento'.\n",
    "promedio = AccIntFijxTeSantiago_Del_Estero['Incremento/Decremento'].mean()\n",
    "\n",
    "# Imprime la suma y el promedio.\n",
    "print(f\"Suma de la columna 'Incremento/Decremento': {suma}\")\n",
    "print(f\"Promedio de la columna 'Incremento/Decremento': {promedio}\")"
   ]
  },
  {
   "cell_type": "code",
   "execution_count": 250,
   "metadata": {},
   "outputs": [
    {
     "data": {
      "text/plain": [
       "21     1464.0\n",
       "45     1331.0\n",
       "69     1210.0\n",
       "93     1100.0\n",
       "117    1000.0\n",
       "141     909.0\n",
       "Name: Fibra óptica, dtype: float64"
      ]
     },
     "execution_count": 250,
     "metadata": {},
     "output_type": "execute_result"
    }
   ],
   "source": [
    "AccIntFijxTecSantiago_Del_Estero = AccIntFijxTecyProv[AccIntFijxTecyProv['Provincia'] == 'Santiago Del Estero']\n",
    "\n",
    "# Toma los primeros 19 datos de la columna 'Otros'.\n",
    "primeros_19_datos = AccIntFijxTecSantiago_Del_Estero['Fibra óptica'].head(6)\n",
    "\n",
    "# Aplicar un incremento porcentual acumulativo\n",
    "for i in range(len(primeros_19_datos)-2,-1,-1):\n",
    "    primeros_19_datos.iloc[i] = round(primeros_19_datos.iloc[i + 1] * (1.10),2)\n",
    "\n",
    "primeros_19_datos = round(primeros_19_datos,0)\n",
    "primeros_19_datos"
   ]
  },
  {
   "cell_type": "code",
   "execution_count": 251,
   "metadata": {},
   "outputs": [],
   "source": [
    "# Define los nuevos valores en el orden correspondiente\n",
    "nuevos_valores = [1464.0, 1331.0, 1210.0, 1100.0, 1000.0, 909.0]\n",
    "\n",
    "\n",
    "# Define las posiciones en las que deseas reemplazar los valores\n",
    "posiciones = [21, 45, 69, 93, 117, 141]\n",
    "\n",
    "\n",
    "# Reemplaza los valores en la columna \"Banda ancha fija\" en las posiciones especificadas\n",
    "for i in range(len(posiciones)):\n",
    "    AccIntFijxTecyProv.loc[posiciones[i], 'Fibra óptica'] = nuevos_valores[i]"
   ]
  },
  {
   "cell_type": "code",
   "execution_count": 252,
   "metadata": {},
   "outputs": [
    {
     "data": {
      "text/plain": [
       "357    219.0\n",
       "381    186.0\n",
       "405    158.0\n",
       "429    134.0\n",
       "453    114.0\n",
       "477     97.0\n",
       "501     83.0\n",
       "525     70.0\n",
       "549     60.0\n",
       "573     51.0\n",
       "597     43.0\n",
       "621     37.0\n",
       "645     31.0\n",
       "669     26.0\n",
       "693     22.0\n",
       "717     19.0\n",
       "741     16.0\n",
       "765     14.0\n",
       "789     12.0\n",
       "813     10.0\n",
       "837      8.0\n",
       "861      7.0\n",
       "Name: Fibra óptica, dtype: float64"
      ]
     },
     "execution_count": 252,
     "metadata": {},
     "output_type": "execute_result"
    }
   ],
   "source": [
    "AccIntFijxTecSantiago_Del_Estero = AccIntFijxTecyProv[AccIntFijxTecyProv['Provincia'] == 'Santiago Del Estero']\n",
    "\n",
    "# Toma los primeros 19 datos de la columna 'Otros'.\n",
    "primeros_19_datos = AccIntFijxTecSantiago_Del_Estero['Fibra óptica'].tail(22)\n",
    "\n",
    "# Aplicar un incremento porcentual acumulativo\n",
    "for i in range(1,len(primeros_19_datos)):\n",
    "    primeros_19_datos.iloc[i] = round(primeros_19_datos.iloc[i - 1] * (1-0.15),2)\n",
    "\n",
    "primeros_19_datos = round(primeros_19_datos,0)\n",
    "primeros_19_datos"
   ]
  },
  {
   "cell_type": "code",
   "execution_count": 253,
   "metadata": {},
   "outputs": [],
   "source": [
    "# Define los nuevos valores en el orden correspondiente\n",
    "nuevos_valores = [219.0, 186.0, 158.0, 134.0, 114.0, 97.0, 83.0, 70.0, 60.0, 51.0, 43.0, 37.0, 31.0, 26.0, 22.0, 19.0, 16.0, 14.0, 12.0, 10.0, 8.0, 7.0]\n",
    "\n",
    "# Define las posiciones en las que deseas reemplazar los valores\n",
    "posiciones = [357, 381, 405, 429, 453, 477, 501, 525, 549, 573, 597, 621, 645, 669, 693, 717, 741, 765, 789, 813, 837, 861]\n",
    "\n",
    "# Reemplaza los valores en la columna \"Banda ancha fija\" en las posiciones especificadas\n",
    "for i in range(len(posiciones)):\n",
    "    AccIntFijxTecyProv.loc[posiciones[i], 'Fibra óptica'] = nuevos_valores[i]"
   ]
  },
  {
   "cell_type": "code",
   "execution_count": 254,
   "metadata": {},
   "outputs": [],
   "source": [
    "AccIntFijxTecyProv.loc[AccIntFijxTecyProv['Provincia'] == 'Santiago Del Estero', 'Wireless'] = AccIntFijxTecyProv.loc[AccIntFijxTecyProv['Provincia'] == 'Santiago Del Estero', 'Wireless'].apply(lambda x: 1 if x > 9 else x)"
   ]
  },
  {
   "cell_type": "code",
   "execution_count": 255,
   "metadata": {},
   "outputs": [
    {
     "name": "stdout",
     "output_type": "stream",
     "text": [
      "Suma de la columna 'Incremento/Decremento': -54.02242758823508\n",
      "Promedio de la columna 'Incremento/Decremento': -4.911129780748644\n"
     ]
    }
   ],
   "source": [
    "AccIntFijxTecTierra_Del_Fuego = AccIntFijxTecyProv[AccIntFijxTecyProv['Provincia'] == 'Tierra Del Fuego']\n",
    "AccIntFijxTecTierra_Del_Fuego = AccIntFijxTecTierra_Del_Fuego[(AccIntFijxTecTierra_Del_Fuego['Otros'] >= 310)&(AccIntFijxTecTierra_Del_Fuego['Otros'] <= 651)]\n",
    "# Filtra solo la columna \"Otros\".\n",
    "Dial_up = AccIntFijxTecTierra_Del_Fuego['Otros']\n",
    "\n",
    "# Calcula la diferencia entre cada dato y el dato anterior.\n",
    "diferencia = Dial_up.diff()\n",
    "\n",
    "# Calcula el porcentaje de incremento o decremento.\n",
    "porcentaje_incremento_decremento = (diferencia / Dial_up.shift(1)) * 100\n",
    "\n",
    "# Crea una nueva columna \"Incremento/Decremento\" en el DataFrame original.\n",
    "AccIntFijxTecTierra_Del_Fuego['Incremento/Decremento'] = porcentaje_incremento_decremento\n",
    "\n",
    "# Elimina la primera fila de la columna 'Incremento/Decremento'.\n",
    "AccIntFijxTecTierra_Del_Fuego = AccIntFijxTecTierra_Del_Fuego.iloc[1:]\n",
    "\n",
    "# Calcula la suma de la columna 'Incremento/Decremento'.\n",
    "suma = AccIntFijxTecTierra_Del_Fuego['Incremento/Decremento'].sum()\n",
    "\n",
    "# Calcula el promedio de la columna 'Incremento/Decremento'.\n",
    "promedio = AccIntFijxTecTierra_Del_Fuego['Incremento/Decremento'].mean()\n",
    "\n",
    "# Imprime la suma y el promedio.\n",
    "print(f\"Suma de la columna 'Incremento/Decremento': {suma}\")\n",
    "print(f\"Promedio de la columna 'Incremento/Decremento': {promedio}\")"
   ]
  },
  {
   "cell_type": "code",
   "execution_count": 256,
   "metadata": {},
   "outputs": [
    {
     "data": {
      "text/plain": [
       "310    310.0\n",
       "334    295.0\n",
       "358    280.0\n",
       "382    267.0\n",
       "406    254.0\n",
       "430    241.0\n",
       "454    229.0\n",
       "478    218.0\n",
       "502    207.0\n",
       "526    197.0\n",
       "550    188.0\n",
       "574    178.0\n",
       "598    170.0\n",
       "622    161.0\n",
       "646    153.0\n",
       "670    146.0\n",
       "694    139.0\n",
       "718    132.0\n",
       "742    125.0\n",
       "766    119.0\n",
       "790    113.0\n",
       "814    108.0\n",
       "838    103.0\n",
       "862     98.0\n",
       "Name: Otros, dtype: float64"
      ]
     },
     "execution_count": 256,
     "metadata": {},
     "output_type": "execute_result"
    }
   ],
   "source": [
    "AccIntFijxTecSantiago_Del_Estero = AccIntFijxTecyProv[AccIntFijxTecyProv['Provincia'] == 'Tierra Del Fuego']\n",
    "\n",
    "# Toma los primeros 19 datos de la columna 'Otros'.\n",
    "primeros_19_datos = AccIntFijxTecSantiago_Del_Estero['Otros'].tail(24)\n",
    "\n",
    "# Aplicar un incremento porcentual acumulativo\n",
    "for i in range(1,len(primeros_19_datos)):\n",
    "    primeros_19_datos.iloc[i] = round(primeros_19_datos.iloc[i - 1] * (1-0.049),2)\n",
    "\n",
    "primeros_19_datos = round(primeros_19_datos,0)\n",
    "primeros_19_datos"
   ]
  },
  {
   "cell_type": "code",
   "execution_count": 257,
   "metadata": {},
   "outputs": [],
   "source": [
    "# Define los nuevos valores en el orden correspondiente\n",
    "nuevos_valores = [310.0, 295.0, 280.0, 267.0, 254.0, 241.0, 229.0, 218.0, 207.0, 197.0, 188.0, 178.0, 170.0, 161.0, 153.0, 146.0, 139.0, 132.0, 125.0, 119.0, 113.0, 108.0, 103.0, 98.0]\n",
    "\n",
    "\n",
    "# Define las posiciones en las que deseas reemplazar los valores\n",
    "posiciones = [310, 334, 358, 382, 406, 430, 454, 478, 502, 526, 550, 574, 598, 622, 646, 670, 694, 718, 742, 766, 790, 814, 838, 862]\n",
    "\n",
    "\n",
    "# Reemplaza los valores en la columna \"Banda ancha fija\" en las posiciones especificadas\n",
    "for i in range(len(posiciones)):\n",
    "    AccIntFijxTecyProv.loc[posiciones[i], 'Otros'] = nuevos_valores[i]"
   ]
  },
  {
   "cell_type": "code",
   "execution_count": 258,
   "metadata": {},
   "outputs": [
    {
     "name": "stdout",
     "output_type": "stream",
     "text": [
      "Suma de la columna 'Incremento/Decremento': 21.317540768192032\n",
      "Promedio de la columna 'Incremento/Decremento': 5.329385192048008\n"
     ]
    }
   ],
   "source": [
    "AccIntFijxTecTierra_Del_Fuego = AccIntFijxTecyProv[AccIntFijxTecyProv['Provincia'] == 'Tierra Del Fuego']\n",
    "AccIntFijxTecTierra_Del_Fuego = AccIntFijxTecTierra_Del_Fuego[(AccIntFijxTecTierra_Del_Fuego['Fibra óptica'] >= 531)&(AccIntFijxTecTierra_Del_Fuego['Fibra óptica'] <= 648)]\n",
    "# Filtra solo la columna \"Fibra óptica\".\n",
    "Dial_up = AccIntFijxTecTierra_Del_Fuego['Fibra óptica']\n",
    "\n",
    "# Calcula la diferencia entre cada dato y el dato anterior.\n",
    "diferencia = Dial_up.diff()\n",
    "\n",
    "# Calcula el porcentaje de incremento o decremento.\n",
    "porcentaje_incremento_decremento = (diferencia / Dial_up.shift(1)) * 100\n",
    "\n",
    "# Crea una nueva columna \"Incremento/Decremento\" en el DataFrame original.\n",
    "AccIntFijxTecTierra_Del_Fuego['Incremento/Decremento'] = porcentaje_incremento_decremento\n",
    "\n",
    "# Elimina la primera fila de la columna 'Incremento/Decremento'.\n",
    "AccIntFijxTecTierra_Del_Fuego = AccIntFijxTecTierra_Del_Fuego.iloc[1:]\n",
    "\n",
    "# Calcula la suma de la columna 'Incremento/Decremento'.\n",
    "suma = AccIntFijxTecTierra_Del_Fuego['Incremento/Decremento'].sum()\n",
    "\n",
    "# Calcula el promedio de la columna 'Incremento/Decremento'.\n",
    "promedio = AccIntFijxTecTierra_Del_Fuego['Incremento/Decremento'].mean()\n",
    "\n",
    "# Imprime la suma y el promedio.\n",
    "print(f\"Suma de la columna 'Incremento/Decremento': {suma}\")\n",
    "print(f\"Promedio de la columna 'Incremento/Decremento': {promedio}\")"
   ]
  },
  {
   "cell_type": "code",
   "execution_count": 259,
   "metadata": {},
   "outputs": [
    {
     "data": {
      "text/plain": [
       "22     404.0\n",
       "46     419.0\n",
       "70     435.0\n",
       "94     451.0\n",
       "118    468.0\n",
       "142    486.0\n",
       "166    504.0\n",
       "190    522.0\n",
       "214    542.0\n",
       "238    562.0\n",
       "262    583.0\n",
       "286    605.0\n",
       "310    628.0\n",
       "334    651.0\n",
       "Name: Fibra óptica, dtype: float64"
      ]
     },
     "execution_count": 259,
     "metadata": {},
     "output_type": "execute_result"
    }
   ],
   "source": [
    "AccIntFijxTecSantiago_Del_Estero = AccIntFijxTecyProv[AccIntFijxTecyProv['Provincia'] == 'Tierra Del Fuego']\n",
    "\n",
    "# Toma los primeros 19 datos de la columna 'Fibra óptica'.\n",
    "primeros_19_datos = AccIntFijxTecSantiago_Del_Estero['Fibra óptica'].head(14)\n",
    "\n",
    "# Aplicar un incremento porcentual acumulativo\n",
    "for i in range(len(primeros_19_datos)-2,-1,-1):\n",
    "    primeros_19_datos.iloc[i] = round(primeros_19_datos.iloc[i + 1] * (1-0.036),2)\n",
    "\n",
    "primeros_19_datos = round(primeros_19_datos,0)\n",
    "primeros_19_datos"
   ]
  },
  {
   "cell_type": "code",
   "execution_count": 260,
   "metadata": {},
   "outputs": [],
   "source": [
    "# Define los nuevos valores en el orden correspondiente\n",
    "nuevos_valores =decimales = [404.0, 419.0, 435.0, 451.0, 468.0, 486.0, 504.0, 522.0, 542.0, 562.0, 583.0, 605.0, 628.0, 651.0]\n",
    "\n",
    "# Define las posiciones en las que deseas reemplazar los valores\n",
    "posiciones = enteros = [22, 46, 70, 94, 118, 142, 166, 190, 214, 238, 262, 286, 310, 334]\n",
    "\n",
    "# Reemplaza los valores en la columna \"Banda ancha fija\" en las posiciones especificadas\n",
    "for i in range(len(posiciones)):\n",
    "    AccIntFijxTecyProv.loc[posiciones[i], 'Fibra óptica'] = nuevos_valores[i]"
   ]
  },
  {
   "cell_type": "code",
   "execution_count": 261,
   "metadata": {},
   "outputs": [
    {
     "data": {
      "text/plain": [
       "22     288.0\n",
       "46     299.0\n",
       "70     310.0\n",
       "94     322.0\n",
       "118    334.0\n",
       "142    346.0\n",
       "166    359.0\n",
       "190    372.0\n",
       "214    386.0\n",
       "238    401.0\n",
       "262    416.0\n",
       "286    431.0\n",
       "310    447.0\n",
       "334    464.0\n",
       "358    481.0\n",
       "382    499.0\n",
       "406    518.0\n",
       "430    537.0\n",
       "454    557.0\n",
       "478    578.0\n",
       "502    600.0\n",
       "526    622.0\n",
       "Name: Fibra óptica, dtype: float64"
      ]
     },
     "execution_count": 261,
     "metadata": {},
     "output_type": "execute_result"
    }
   ],
   "source": [
    "AccIntFijxTecSantiago_Del_Estero = AccIntFijxTecyProv[AccIntFijxTecyProv['Provincia'] == 'Tierra Del Fuego']\n",
    "\n",
    "# Toma los primeros 19 datos de la columna 'Fibra óptica'.\n",
    "primeros_19_datos = AccIntFijxTecSantiago_Del_Estero['Fibra óptica'].head(22)\n",
    "\n",
    "# Aplicar un incremento porcentual acumulativo\n",
    "for i in range(len(primeros_19_datos)-2,-1,-1):\n",
    "    primeros_19_datos.iloc[i] = round(primeros_19_datos.iloc[i + 1] * (1-0.036),2)\n",
    "\n",
    "primeros_19_datos = round(primeros_19_datos,0)\n",
    "primeros_19_datos"
   ]
  },
  {
   "cell_type": "code",
   "execution_count": 262,
   "metadata": {},
   "outputs": [],
   "source": [
    "# Define los nuevos valores en el orden correspondiente\n",
    "nuevos_valores = [499.0, 518.0, 537.0, 557.0, 578.0, 600.0, 622.0]\n",
    "\n",
    "# Define las posiciones en las que deseas reemplazar los valores\n",
    "posiciones = [382, 406, 430, 454, 478, 502, 526]\n",
    "\n",
    "# Reemplaza los valores en la columna \"Banda ancha fija\" en las posiciones especificadas\n",
    "for i in range(len(posiciones)):\n",
    "    AccIntFijxTecyProv.loc[posiciones[i], 'Fibra óptica'] = nuevos_valores[i]"
   ]
  },
  {
   "cell_type": "code",
   "execution_count": 263,
   "metadata": {},
   "outputs": [],
   "source": [
    "AccIntFijxTecyProv.loc[AccIntFijxTecyProv['Provincia'] == 'Tierra Del Fuego', 'Wireless'] = AccIntFijxTecyProv.loc[AccIntFijxTecyProv['Provincia'] == 'Tierra Del Fuego', 'Wireless'].apply(lambda x: 124 if x < 124 else x)"
   ]
  },
  {
   "cell_type": "code",
   "execution_count": 264,
   "metadata": {},
   "outputs": [
    {
     "name": "stdout",
     "output_type": "stream",
     "text": [
      "Suma de la columna 'Incremento/Decremento': -29.234999855911383\n",
      "Promedio de la columna 'Incremento/Decremento': -1.1693999942364552\n"
     ]
    }
   ],
   "source": [
    "AccIntFijxTecTucumán = AccIntFijxTecyProv[AccIntFijxTecyProv['Provincia'] == 'Tucumán']\n",
    "AccIntFijxTecTucumán = AccIntFijxTecTucumán[(AccIntFijxTecTucumán['Fibra óptica'] >= 105)&(AccIntFijxTecTucumán['Fibra óptica'] <= 169)]\n",
    "# Filtra solo la columna \"Fibra óptica\".\n",
    "Dial_up = AccIntFijxTecTucumán['Fibra óptica']\n",
    "\n",
    "# Calcula la diferencia entre cada dato y el dato anterior.\n",
    "diferencia = Dial_up.diff()\n",
    "\n",
    "# Calcula el porcentaje de incremento o decremento.\n",
    "porcentaje_incremento_decremento = (diferencia / Dial_up.shift(1)) * 100\n",
    "\n",
    "# Crea una nueva columna \"Incremento/Decremento\" en el DataFrame original.\n",
    "AccIntFijxTecTucumán['Incremento/Decremento'] = porcentaje_incremento_decremento\n",
    "\n",
    "# Elimina la primera fila de la columna 'Incremento/Decremento'.\n",
    "AccIntFijxTecTucumán = AccIntFijxTecTucumán.iloc[1:]\n",
    "\n",
    "# Calcula la suma de la columna 'Incremento/Decremento'.\n",
    "suma = AccIntFijxTecTucumán['Incremento/Decremento'].sum()\n",
    "\n",
    "# Calcula el promedio de la columna 'Incremento/Decremento'.\n",
    "promedio = AccIntFijxTecTucumán['Incremento/Decremento'].mean()\n",
    "\n",
    "# Imprime la suma y el promedio.\n",
    "print(f\"Suma de la columna 'Incremento/Decremento': {suma}\")\n",
    "print(f\"Promedio de la columna 'Incremento/Decremento': {promedio}\")"
   ]
  },
  {
   "cell_type": "code",
   "execution_count": 265,
   "metadata": {},
   "outputs": [
    {
     "data": {
      "text/plain": [
       "23     165.0\n",
       "47     161.0\n",
       "71     157.0\n",
       "95     152.0\n",
       "119    148.0\n",
       "143    144.0\n",
       "167    140.0\n",
       "191    137.0\n",
       "215    133.0\n",
       "239    129.0\n",
       "263    126.0\n",
       "287    123.0\n",
       "311    119.0\n",
       "335    116.0\n",
       "Name: Fibra óptica, dtype: float64"
      ]
     },
     "execution_count": 265,
     "metadata": {},
     "output_type": "execute_result"
    }
   ],
   "source": [
    "AccIntFijxTecTucumán = AccIntFijxTecyProv[AccIntFijxTecyProv['Provincia'] == 'Tucumán']\n",
    "\n",
    "# Toma los primeros 19 datos de la columna 'Fibra óptica'.\n",
    "primeros_19_datos = AccIntFijxTecTucumán['Fibra óptica'].head(14)\n",
    "\n",
    "# Aplicar un incremento porcentual acumulativo\n",
    "for i in range(len(primeros_19_datos)-2,-1,-1):\n",
    "    primeros_19_datos.iloc[i] = round(primeros_19_datos.iloc[i + 1] * (1.02769),2)\n",
    "\n",
    "primeros_19_datos = round(primeros_19_datos,0)\n",
    "primeros_19_datos"
   ]
  },
  {
   "cell_type": "code",
   "execution_count": 266,
   "metadata": {},
   "outputs": [],
   "source": [
    "# Define los nuevos valores en el orden correspondiente\n",
    "nuevos_valores = [165.0, 161.0, 157.0, 152.0, 148.0, 144.0, 140.0, 137.0, 133.0, 129.0, 126.0, 123.0, 119.0, 116.0]\n",
    "\n",
    "# Define las posiciones en las que deseas reemplazar los valores\n",
    "posiciones = [23, 47, 71, 95, 119, 143, 167, 191, 215, 239, 263, 287, 311, 335]\n",
    "\n",
    "# Reemplaza los valores en la columna \"Banda ancha fija\" en las posiciones especificadas\n",
    "for i in range(len(posiciones)):\n",
    "    AccIntFijxTecyProv.loc[posiciones[i], 'Fibra óptica'] = nuevos_valores[i]"
   ]
  },
  {
   "cell_type": "code",
   "execution_count": 267,
   "metadata": {},
   "outputs": [
    {
     "name": "stdout",
     "output_type": "stream",
     "text": [
      "Suma de la columna 'Incremento/Decremento': 123.4989301982872\n",
      "Promedio de la columna 'Incremento/Decremento': 8.233262013219147\n"
     ]
    }
   ],
   "source": [
    "AccIntFijxTecTucumán = AccIntFijxTecyProv[AccIntFijxTecyProv['Provincia'] == 'Tucumán']\n",
    "AccIntFijxTecTucumán = AccIntFijxTecTucumán[(AccIntFijxTecTucumán['Wireless'] >= 13)&(AccIntFijxTecTucumán['Wireless'] <= 102)]\n",
    "# Filtra solo la columna \"Wireless\".\n",
    "Dial_up = AccIntFijxTecTucumán['Wireless']\n",
    "\n",
    "# Calcula la diferencia entre cada dato y el dato anterior.\n",
    "diferencia = Dial_up.diff()\n",
    "\n",
    "# Calcula el porcentaje de incremento o decremento.\n",
    "porcentaje_incremento_decremento = (diferencia / Dial_up.shift(1)) * 100\n",
    "\n",
    "# Crea una nueva columna \"Incremento/Decremento\" en el DataFrame original.\n",
    "AccIntFijxTecTucumán['Incremento/Decremento'] = porcentaje_incremento_decremento\n",
    "\n",
    "# Elimina la primera fila de la columna 'Incremento/Decremento'.\n",
    "AccIntFijxTecTucumán = AccIntFijxTecTucumán.iloc[1:]\n",
    "\n",
    "# Calcula la suma de la columna 'Incremento/Decremento'.\n",
    "suma = AccIntFijxTecTucumán['Incremento/Decremento'].sum()\n",
    "\n",
    "# Calcula el promedio de la columna 'Incremento/Decremento'.\n",
    "promedio = AccIntFijxTecTucumán['Incremento/Decremento'].mean()\n",
    "\n",
    "# Imprime la suma y el promedio.\n",
    "print(f\"Suma de la columna 'Incremento/Decremento': {suma}\")\n",
    "print(f\"Promedio de la columna 'Incremento/Decremento': {promedio}\")"
   ]
  },
  {
   "cell_type": "code",
   "execution_count": 268,
   "metadata": {},
   "outputs": [
    {
     "data": {
      "text/plain": [
       "23     496.0\n",
       "47     458.0\n",
       "71     423.0\n",
       "95     391.0\n",
       "119    362.0\n",
       "143    334.0\n",
       "167    309.0\n",
       "191    285.0\n",
       "215    263.0\n",
       "239    243.0\n",
       "263    225.0\n",
       "287    208.0\n",
       "311    192.0\n",
       "335    177.0\n",
       "359    164.0\n",
       "383    151.0\n",
       "407    140.0\n",
       "431    129.0\n",
       "455    119.0\n",
       "479    110.0\n",
       "503    102.0\n",
       "Name: Wireless, dtype: float64"
      ]
     },
     "execution_count": 268,
     "metadata": {},
     "output_type": "execute_result"
    }
   ],
   "source": [
    "AccIntFijxTecTucumán = AccIntFijxTecyProv[AccIntFijxTecyProv['Provincia'] == 'Tucumán']\n",
    "\n",
    "# Toma los primeros 19 datos de la columna 'Wireless'.\n",
    "primeros_19_datos = AccIntFijxTecTucumán['Wireless'].head(21)\n",
    "\n",
    "# Aplicar un incremento porcentual acumulativo\n",
    "for i in range(len(primeros_19_datos)-2,-1,-1):\n",
    "    primeros_19_datos.iloc[i] = round(primeros_19_datos.iloc[i + 1] * (1.0823),2)\n",
    "\n",
    "primeros_19_datos = round(primeros_19_datos,0)\n",
    "primeros_19_datos"
   ]
  },
  {
   "cell_type": "code",
   "execution_count": 269,
   "metadata": {},
   "outputs": [],
   "source": [
    "# Define los nuevos valores en el orden correspondiente\n",
    "nuevos_valores = [496.0, 458.0, 423.0, 391.0, 362.0, 334.0, 309.0, 285.0, 263.0, 243.0, 225.0, 208.0, 192.0, 177.0, 164.0, 151.0, 140.0, 129.0, 119.0, 110.0, 102.0]\n",
    "\n",
    "\n",
    "# Define las posiciones en las que deseas reemplazar los valores\n",
    "posiciones = [23, 47, 71, 95, 119, 143, 167, 191, 215, 239, 263, 287, 311, 335, 359, 383, 407, 431, 455, 479, 503]\n",
    "\n",
    "\n",
    "# Reemplaza los valores en la columna \"Banda ancha fija\" en las posiciones especificadas\n",
    "for i in range(len(posiciones)):\n",
    "    AccIntFijxTecyProv.loc[posiciones[i], 'Wireless'] = nuevos_valores[i]"
   ]
  },
  {
   "cell_type": "code",
   "execution_count": 270,
   "metadata": {},
   "outputs": [
    {
     "data": {
      "text/plain": [
       "503    102.0\n",
       "527     94.0\n",
       "551     86.0\n",
       "575     79.0\n",
       "599     72.0\n",
       "623     66.0\n",
       "647     61.0\n",
       "671     56.0\n",
       "695     51.0\n",
       "719     47.0\n",
       "743     43.0\n",
       "767     40.0\n",
       "791     36.0\n",
       "815     33.0\n",
       "839     31.0\n",
       "863     28.0\n",
       "Name: Wireless, dtype: float64"
      ]
     },
     "execution_count": 270,
     "metadata": {},
     "output_type": "execute_result"
    }
   ],
   "source": [
    "AccIntFijxTecTucumán = AccIntFijxTecyProv[AccIntFijxTecyProv['Provincia'] == 'Tucumán']\n",
    "\n",
    "# Toma los primeros 19 datos de la columna 'Wireless'.\n",
    "primeros_19_datos = AccIntFijxTecTucumán['Wireless'].tail(16)\n",
    "\n",
    "# Aplicar un incremento porcentual acumulativo\n",
    "for i in range(1,len(primeros_19_datos)):\n",
    "    primeros_19_datos.iloc[i] = round(primeros_19_datos.iloc[i - 1] * (1-.0823),2)\n",
    "\n",
    "primeros_19_datos = round(primeros_19_datos,0)\n",
    "primeros_19_datos"
   ]
  },
  {
   "cell_type": "code",
   "execution_count": 271,
   "metadata": {},
   "outputs": [],
   "source": [
    "# Define los nuevos valores en el orden correspondiente\n",
    "nuevos_valores = [102.0, 94.0, 86.0, 79.0, 72.0, 66.0, 61.0, 56.0, 51.0, 47.0, 43.0, 40.0, 36.0, 33.0, 31.0, 28.0]\n",
    "\n",
    "# Define las posiciones en las que deseas reemplazar los valores\n",
    "posiciones = [503, 527, 551, 575, 599, 623, 647, 671, 695, 719, 743, 767, 791, 815, 839, 863]\n",
    "\n",
    "# Reemplaza los valores en la columna \"Banda ancha fija\" en las posiciones especificadas\n",
    "for i in range(len(posiciones)):\n",
    "    AccIntFijxTecyProv.loc[posiciones[i], 'Wireless'] = nuevos_valores[i]"
   ]
  },
  {
   "cell_type": "code",
   "execution_count": 272,
   "metadata": {},
   "outputs": [
    {
     "name": "stdout",
     "output_type": "stream",
     "text": [
      "Suma de la columna 'Incremento/Decremento': -43.10547595051917\n",
      "Promedio de la columna 'Incremento/Decremento': -3.918679631865379\n"
     ]
    }
   ],
   "source": [
    "AccIntFijxTecTucumán = AccIntFijxTecyProv[AccIntFijxTecyProv['Provincia'] == 'Tucumán']\n",
    "AccIntFijxTecTucumán = AccIntFijxTecTucumán[(AccIntFijxTecTucumán['Otros'] >= 315)&(AccIntFijxTecTucumán['Otros'] <= 525)]\n",
    "# Filtra solo la columna \"Otros\".\n",
    "Dial_up = AccIntFijxTecTucumán['Otros']\n",
    "\n",
    "# Calcula la diferencia entre cada dato y el dato anterior.\n",
    "diferencia = Dial_up.diff()\n",
    "\n",
    "# Calcula el porcentaje de incremento o decremento.\n",
    "porcentaje_incremento_decremento = (diferencia / Dial_up.shift(1)) * 100\n",
    "\n",
    "# Crea una nueva columna \"Incremento/Decremento\" en el DataFrame original.\n",
    "AccIntFijxTecTucumán['Incremento/Decremento'] = porcentaje_incremento_decremento\n",
    "\n",
    "# Elimina la primera fila de la columna 'Incremento/Decremento'.\n",
    "AccIntFijxTecTucumán = AccIntFijxTecTucumán.iloc[1:]\n",
    "\n",
    "# Calcula la suma de la columna 'Incremento/Decremento'.\n",
    "suma = AccIntFijxTecTucumán['Incremento/Decremento'].sum()\n",
    "\n",
    "# Calcula el promedio de la columna 'Incremento/Decremento'.\n",
    "promedio = AccIntFijxTecTucumán['Incremento/Decremento'].mean()\n",
    "\n",
    "# Imprime la suma y el promedio.\n",
    "print(f\"Suma de la columna 'Incremento/Decremento': {suma}\")\n",
    "print(f\"Promedio de la columna 'Incremento/Decremento': {promedio}\")"
   ]
  },
  {
   "cell_type": "code",
   "execution_count": 273,
   "metadata": {},
   "outputs": [
    {
     "data": {
      "text/plain": [
       "455    315.0\n",
       "479    303.0\n",
       "503    291.0\n",
       "527    279.0\n",
       "551    269.0\n",
       "575    258.0\n",
       "599    248.0\n",
       "623    238.0\n",
       "647    229.0\n",
       "671    220.0\n",
       "695    211.0\n",
       "719    203.0\n",
       "743    195.0\n",
       "767    188.0\n",
       "791    180.0\n",
       "815    173.0\n",
       "839    166.0\n",
       "863    160.0\n",
       "Name: Otros, dtype: float64"
      ]
     },
     "execution_count": 273,
     "metadata": {},
     "output_type": "execute_result"
    }
   ],
   "source": [
    "AccIntFijxTecTucumán = AccIntFijxTecyProv[AccIntFijxTecyProv['Provincia'] == 'Tucumán']\n",
    "\n",
    "# Toma los primeros 19 datos de la columna 'Otros'.\n",
    "primeros_19_datos = AccIntFijxTecTucumán['Otros'].tail(18)\n",
    "\n",
    "# Aplicar un incremento porcentual acumulativo\n",
    "for i in range(1,len(primeros_19_datos)):\n",
    "    primeros_19_datos.iloc[i] = round(primeros_19_datos.iloc[i - 1] * (1-0.0391),2)\n",
    "\n",
    "primeros_19_datos = round(primeros_19_datos,0)\n",
    "primeros_19_datos"
   ]
  },
  {
   "cell_type": "code",
   "execution_count": 274,
   "metadata": {},
   "outputs": [],
   "source": [
    "# Define los nuevos valores en el orden correspondiente\n",
    "nuevos_valores = [315.0, 303.0, 291.0, 279.0, 269.0, 258.0, 248.0, 238.0, 229.0, 220.0, 211.0, 203.0, 195.0, 188.0, 180.0, 173.0, 166.0, 160.0]\n",
    "\n",
    "# Define las posiciones en las que deseas reemplazar los valores\n",
    "posiciones = [455, 479, 503, 527, 551, 575, 599, 623, 647, 671, 695, 719, 743, 767, 791, 815, 839, 863]\n",
    "\n",
    "# Reemplaza los valores en la columna \"Banda ancha fija\" en las posiciones especificadas\n",
    "for i in range(len(posiciones)):\n",
    "    AccIntFijxTecyProv.loc[posiciones[i], 'Otros'] = nuevos_valores[i]"
   ]
  },
  {
   "cell_type": "code",
   "execution_count": 275,
   "metadata": {},
   "outputs": [],
   "source": [
    "indices = [743, 767, 791, 815, 839, 863]\n",
    "AccIntFijxTecyProv.loc[indices, 'Cablemodem'] = 1"
   ]
  },
  {
   "cell_type": "code",
   "execution_count": 276,
   "metadata": {},
   "outputs": [
    {
     "data": {
      "text/html": [
       "<div>\n",
       "<style scoped>\n",
       "    .dataframe tbody tr th:only-of-type {\n",
       "        vertical-align: middle;\n",
       "    }\n",
       "\n",
       "    .dataframe tbody tr th {\n",
       "        vertical-align: top;\n",
       "    }\n",
       "\n",
       "    .dataframe thead th {\n",
       "        text-align: right;\n",
       "    }\n",
       "</style>\n",
       "<table border=\"1\" class=\"dataframe\">\n",
       "  <thead>\n",
       "    <tr style=\"text-align: right;\">\n",
       "      <th></th>\n",
       "      <th>Año</th>\n",
       "      <th>Trimestre</th>\n",
       "      <th>Provincia</th>\n",
       "      <th>ADSL</th>\n",
       "      <th>Cablemodem</th>\n",
       "      <th>Fibra óptica</th>\n",
       "      <th>Wireless</th>\n",
       "      <th>Otros</th>\n",
       "    </tr>\n",
       "  </thead>\n",
       "  <tbody>\n",
       "    <tr>\n",
       "      <th>0</th>\n",
       "      <td>2022</td>\n",
       "      <td>4</td>\n",
       "      <td>Buenos Aires</td>\n",
       "      <td>326.0</td>\n",
       "      <td>3.0</td>\n",
       "      <td>1161.0</td>\n",
       "      <td>130.0</td>\n",
       "      <td>72.0</td>\n",
       "    </tr>\n",
       "    <tr>\n",
       "      <th>1</th>\n",
       "      <td>2022</td>\n",
       "      <td>4</td>\n",
       "      <td>Capital Federal</td>\n",
       "      <td>139.0</td>\n",
       "      <td>1172.0</td>\n",
       "      <td>139.0</td>\n",
       "      <td>5.0</td>\n",
       "      <td>32.0</td>\n",
       "    </tr>\n",
       "    <tr>\n",
       "      <th>2</th>\n",
       "      <td>2022</td>\n",
       "      <td>4</td>\n",
       "      <td>Catamarca</td>\n",
       "      <td>9.0</td>\n",
       "      <td>355.0</td>\n",
       "      <td>47.0</td>\n",
       "      <td>603.0</td>\n",
       "      <td>22.0</td>\n",
       "    </tr>\n",
       "    <tr>\n",
       "      <th>3</th>\n",
       "      <td>2022</td>\n",
       "      <td>4</td>\n",
       "      <td>Chaco</td>\n",
       "      <td>25.0</td>\n",
       "      <td>61.0</td>\n",
       "      <td>1263.0</td>\n",
       "      <td>576.0</td>\n",
       "      <td>24.0</td>\n",
       "    </tr>\n",
       "    <tr>\n",
       "      <th>4</th>\n",
       "      <td>2022</td>\n",
       "      <td>4</td>\n",
       "      <td>Chubut</td>\n",
       "      <td>45.0</td>\n",
       "      <td>1551.0</td>\n",
       "      <td>1007.0</td>\n",
       "      <td>31.0</td>\n",
       "      <td>9.0</td>\n",
       "    </tr>\n",
       "  </tbody>\n",
       "</table>\n",
       "</div>"
      ],
      "text/plain": [
       "    Año Trimestre        Provincia   ADSL  Cablemodem  Fibra óptica  Wireless  \\\n",
       "0  2022         4     Buenos Aires  326.0         3.0        1161.0     130.0   \n",
       "1  2022         4  Capital Federal  139.0      1172.0         139.0       5.0   \n",
       "2  2022         4        Catamarca    9.0       355.0          47.0     603.0   \n",
       "3  2022         4            Chaco   25.0        61.0        1263.0     576.0   \n",
       "4  2022         4           Chubut   45.0      1551.0        1007.0      31.0   \n",
       "\n",
       "   Otros  \n",
       "0   72.0  \n",
       "1   32.0  \n",
       "2   22.0  \n",
       "3   24.0  \n",
       "4    9.0  "
      ]
     },
     "execution_count": 276,
     "metadata": {},
     "output_type": "execute_result"
    }
   ],
   "source": [
    "AccIntFijxTecyProv.head()"
   ]
  },
  {
   "cell_type": "code",
   "execution_count": 277,
   "metadata": {},
   "outputs": [],
   "source": [
    "# Selecciona las columnas que deseas convertir a entero\n",
    "columnas_a_convertir = ['ADSL', 'Cablemodem', 'Fibra óptica', 'Wireless', 'Otros']\n",
    "\n",
    "# Utiliza la función astype para convertir las columnas a tipo int64\n",
    "AccIntFijxTecyProv[columnas_a_convertir] = AccIntFijxTecyProv[columnas_a_convertir].astype('Int64')"
   ]
  },
  {
   "cell_type": "code",
   "execution_count": 278,
   "metadata": {},
   "outputs": [],
   "source": [
    "AccIntFijxTecyProv.to_csv('AccesosInternetFijoxTecnologiayProvinciaListo', index=False)"
   ]
  },
  {
   "cell_type": "code",
   "execution_count": null,
   "metadata": {},
   "outputs": [],
   "source": []
  },
  {
   "cell_type": "code",
   "execution_count": null,
   "metadata": {},
   "outputs": [],
   "source": []
  },
  {
   "cell_type": "code",
   "execution_count": 279,
   "metadata": {},
   "outputs": [
    {
     "name": "stderr",
     "output_type": "stream",
     "text": [
      "c:\\Python\\Python311\\Lib\\site-packages\\openpyxl\\styles\\stylesheet.py:226: UserWarning: Workbook contains no default style, apply openpyxl's default\n",
      "  warn(\"Workbook contains no default style, apply openpyxl's default\")\n"
     ]
    }
   ],
   "source": [
    "VelMedBajIntFijXProv = pd.read_excel('VelocidadmediadebajadadeInternetfijoporprovincia_2912641699033002444.xlsx')"
   ]
  },
  {
   "cell_type": "code",
   "execution_count": 280,
   "metadata": {},
   "outputs": [
    {
     "name": "stdout",
     "output_type": "stream",
     "text": [
      "Suma de la columna 'Incremento/Decremento': 596.5830870446534\n",
      "Promedio de la columna 'Incremento/Decremento': 18.078275364989498\n"
     ]
    }
   ],
   "source": [
    "VelMedBajIntFijXProvBuenos_Aires = VelMedBajIntFijXProv[VelMedBajIntFijXProv['Provincia'] == 'Buenos Aires']\n",
    "VelMedBajIntFijXProvBuenos_Aires = VelMedBajIntFijXProvBuenos_Aires[(VelMedBajIntFijXProvBuenos_Aires['Mbps (Media de bajada)'] >= 373)&(VelMedBajIntFijXProvBuenos_Aires['Mbps (Media de bajada)'] <= 6251)]\n",
    "# Filtra solo la columna \"Mbps (Media de bajada)\".\n",
    "Dial_up = VelMedBajIntFijXProvBuenos_Aires['Mbps (Media de bajada)']\n",
    "\n",
    "# Calcula la diferencia entre cada dato y el dato anterior.\n",
    "diferencia = Dial_up.diff()\n",
    "\n",
    "# Calcula el porcentaje de incremento o decremento.\n",
    "porcentaje_incremento_decremento = (diferencia / Dial_up.shift(1)) * 100\n",
    "\n",
    "# Crea una nueva columna \"Incremento/Decremento\" en el DataFrame original.\n",
    "VelMedBajIntFijXProvBuenos_Aires['Incremento/Decremento'] = porcentaje_incremento_decremento\n",
    "\n",
    "# Elimina la primera fila de la columna 'Incremento/Decremento'.\n",
    "VelMedBajIntFijXProvBuenos_Aires = VelMedBajIntFijXProvBuenos_Aires.iloc[1:]\n",
    "\n",
    "# Calcula la suma de la columna 'Incremento/Decremento'.\n",
    "suma = VelMedBajIntFijXProvBuenos_Aires['Incremento/Decremento'].sum()\n",
    "\n",
    "# Calcula el promedio de la columna 'Incremento/Decremento'.\n",
    "promedio = VelMedBajIntFijXProvBuenos_Aires['Incremento/Decremento'].mean()\n",
    "\n",
    "# Imprime la suma y el promedio.\n",
    "print(f\"Suma de la columna 'Incremento/Decremento': {suma}\")\n",
    "print(f\"Promedio de la columna 'Incremento/Decremento': {promedio}\")"
   ]
  },
  {
   "cell_type": "code",
   "execution_count": 281,
   "metadata": {},
   "outputs": [
    {
     "data": {
      "text/plain": [
       "0     7438.0\n",
       "24    7019.0\n",
       "48    6624.0\n",
       "72    6251.0\n",
       "Name: Mbps (Media de bajada), dtype: float64"
      ]
     },
     "execution_count": 281,
     "metadata": {},
     "output_type": "execute_result"
    }
   ],
   "source": [
    "VelMedBajIntFijXProvBuenos_Aires = VelMedBajIntFijXProv[VelMedBajIntFijXProv['Provincia'] == 'Buenos Aires']\n",
    "\n",
    "# Toma los primeros 19 datos de la columna 'Mbps (Media de bajada)'.\n",
    "primeros_19_datos = VelMedBajIntFijXProvBuenos_Aires['Mbps (Media de bajada)'].head(4)\n",
    "\n",
    "# Aplicar un incremento porcentual acumulativo\n",
    "for i in range(len(primeros_19_datos)-2,-1,-1):\n",
    "    primeros_19_datos.iloc[i] = round(primeros_19_datos.iloc[i + 1] * (1.05965),2)\n",
    "\n",
    "primeros_19_datos = round(primeros_19_datos,0)\n",
    "primeros_19_datos"
   ]
  },
  {
   "cell_type": "code",
   "execution_count": 282,
   "metadata": {},
   "outputs": [],
   "source": [
    "# Define los nuevos valores en el orden correspondiente\n",
    "nuevos_valores = decimales = [7438.0, 7019.0, 6624.0, 6251.0]\n",
    "\n",
    "# Define las posiciones en las que deseas reemplazar los valores\n",
    "posiciones = enteros = [0, 24, 48, 72]\n",
    "\n",
    "# Reemplaza los valores en la columna \"Banda ancha fija\" en las posiciones especificadas\n",
    "for i in range(len(posiciones)):\n",
    "    VelMedBajIntFijXProv.loc[posiciones[i], 'Mbps (Media de bajada)'] = nuevos_valores[i]"
   ]
  },
  {
   "cell_type": "code",
   "execution_count": 283,
   "metadata": {},
   "outputs": [],
   "source": [
    "# Filtrar las filas donde Provincia es 'Buenos Aires' y dividir la columna por 100\n",
    "VelMedBajIntFijXProv.loc[VelMedBajIntFijXProv['Provincia'] == 'Buenos Aires', 'Mbps (Media de bajada)'] /= 100\n",
    "\n",
    "# Redondear los valores en la columna\n",
    "VelMedBajIntFijXProv['Mbps (Media de bajada)'] = VelMedBajIntFijXProv['Mbps (Media de bajada)']"
   ]
  },
  {
   "cell_type": "code",
   "execution_count": 284,
   "metadata": {},
   "outputs": [
    {
     "name": "stdout",
     "output_type": "stream",
     "text": [
      "Suma de la columna 'Incremento/Decremento': -299.05893808946706\n",
      "Promedio de la columna 'Incremento/Decremento': -8.795851120278442\n"
     ]
    }
   ],
   "source": [
    "VelMedBajIntFijXProvCapital_Federal = VelMedBajIntFijXProv[VelMedBajIntFijXProv['Provincia'] == 'Capital Federal']\n",
    "VelMedBajIntFijXProvCapital_Federal = VelMedBajIntFijXProvCapital_Federal[(VelMedBajIntFijXProvCapital_Federal['Mbps (Media de bajada)'] >= 402)&(VelMedBajIntFijXProvCapital_Federal['Mbps (Media de bajada)'] <= 10105)]\n",
    "# Filtra solo la columna \"Mbps (Media de bajada)\".\n",
    "Dial_up = VelMedBajIntFijXProvCapital_Federal['Mbps (Media de bajada)']\n",
    "\n",
    "# Calcula la diferencia entre cada dato y el dato anterior.\n",
    "diferencia = Dial_up.diff()\n",
    "\n",
    "# Calcula el porcentaje de incremento o decremento.\n",
    "porcentaje_incremento_decremento = (diferencia / Dial_up.shift(1)) * 100\n",
    "\n",
    "# Crea una nueva columna \"Incremento/Decremento\" en el DataFrame original.\n",
    "VelMedBajIntFijXProvCapital_Federal['Incremento/Decremento'] = porcentaje_incremento_decremento\n",
    "\n",
    "# Elimina la primera fila de la columna 'Incremento/Decremento'.\n",
    "VelMedBajIntFijXProvCapital_Federal = VelMedBajIntFijXProvCapital_Federal.iloc[1:]\n",
    "\n",
    "# Calcula la suma de la columna 'Incremento/Decremento'.\n",
    "suma = VelMedBajIntFijXProvCapital_Federal['Incremento/Decremento'].sum()\n",
    "\n",
    "# Calcula el promedio de la columna 'Incremento/Decremento'.\n",
    "promedio = VelMedBajIntFijXProvCapital_Federal['Incremento/Decremento'].mean()\n",
    "\n",
    "# Imprime la suma y el promedio.\n",
    "print(f\"Suma de la columna 'Incremento/Decremento': {suma}\")\n",
    "print(f\"Promedio de la columna 'Incremento/Decremento': {promedio}\")"
   ]
  },
  {
   "cell_type": "code",
   "execution_count": 285,
   "metadata": {},
   "outputs": [
    {
     "data": {
      "text/plain": [
       "1     10993.0\n",
       "25    10105.0\n",
       "Name: Mbps (Media de bajada), dtype: float64"
      ]
     },
     "execution_count": 285,
     "metadata": {},
     "output_type": "execute_result"
    }
   ],
   "source": [
    "VelMedBajIntFijXProvCapital_Federal = VelMedBajIntFijXProv[VelMedBajIntFijXProv['Provincia'] == 'Capital Federal']\n",
    "\n",
    "# Toma los primeros 19 datos de la columna 'Mbps (Media de bajada)'.\n",
    "primeros_19_datos = VelMedBajIntFijXProvCapital_Federal['Mbps (Media de bajada)'].head(2)\n",
    "\n",
    "# Aplicar un incremento porcentual acumulativo\n",
    "for i in range(len(primeros_19_datos)-2,-1,-1):\n",
    "    primeros_19_datos.iloc[i] = round(primeros_19_datos.iloc[i + 1] * (1.0879),2)\n",
    "\n",
    "primeros_19_datos = round(primeros_19_datos,0)\n",
    "primeros_19_datos"
   ]
  },
  {
   "cell_type": "code",
   "execution_count": 286,
   "metadata": {},
   "outputs": [],
   "source": [
    "# Define los nuevos valores en el orden correspondiente\n",
    "nuevos_valores = [10993.0, 10105.0]\n",
    "\n",
    "# Define las posiciones en las que deseas reemplazar los valores\n",
    "posiciones = [1, 25]\n",
    "\n",
    "# Reemplaza los valores en la columna \"Banda ancha fija\" en las posiciones especificadas\n",
    "for i in range(len(posiciones)):\n",
    "    VelMedBajIntFijXProv.loc[posiciones[i], 'Mbps (Media de bajada)'] = nuevos_valores[i]"
   ]
  },
  {
   "cell_type": "code",
   "execution_count": 287,
   "metadata": {},
   "outputs": [],
   "source": [
    "# Filtrar las filas donde Provincia es 'Capital Federal' y dividir la columna por 1000\n",
    "VelMedBajIntFijXProv.loc[VelMedBajIntFijXProv['Provincia'] == 'Capital Federal', 'Mbps (Media de bajada)'] /= 100\n",
    "\n",
    "# Redondear los valores en la columna\n",
    "VelMedBajIntFijXProv['Mbps (Media de bajada)'] = VelMedBajIntFijXProv['Mbps (Media de bajada)']"
   ]
  },
  {
   "cell_type": "code",
   "execution_count": 288,
   "metadata": {},
   "outputs": [],
   "source": [
    "# Filtrar las filas donde Provincia es 'Catamarca' y dividir la columna por 1000\n",
    "VelMedBajIntFijXProv.loc[VelMedBajIntFijXProv['Provincia'] == 'Catamarca', 'Mbps (Media de bajada)'] /= 100\n",
    "\n",
    "# Redondear los valores en la columna\n",
    "VelMedBajIntFijXProv['Mbps (Media de bajada)'] = VelMedBajIntFijXProv['Mbps (Media de bajada)']"
   ]
  },
  {
   "cell_type": "code",
   "execution_count": 289,
   "metadata": {},
   "outputs": [
    {
     "name": "stdout",
     "output_type": "stream",
     "text": [
      "Suma de la columna 'Incremento/Decremento': -261.3372057020804\n",
      "Promedio de la columna 'Incremento/Decremento': -7.686388403002364\n"
     ]
    }
   ],
   "source": [
    "VelMedBajIntFijXProvChaco = VelMedBajIntFijXProv[VelMedBajIntFijXProv['Provincia'] == 'Chaco']\n",
    "VelMedBajIntFijXProvChaco = VelMedBajIntFijXProvChaco[(VelMedBajIntFijXProvChaco['Mbps (Media de bajada)'] >= 326)&(VelMedBajIntFijXProvChaco['Mbps (Media de bajada)'] <= 5321)]\n",
    "# Filtra solo la columna \"Mbps (Media de bajada)\".\n",
    "Dial_up = VelMedBajIntFijXProvChaco['Mbps (Media de bajada)']\n",
    "\n",
    "# Calcula la diferencia entre cada dato y el dato anterior.\n",
    "diferencia = Dial_up.diff()\n",
    "\n",
    "# Calcula el porcentaje de incremento o decremento.\n",
    "porcentaje_incremento_decremento = (diferencia / Dial_up.shift(1)) * 100\n",
    "\n",
    "# Crea una nueva columna \"Incremento/Decremento\" en el DataFrame original.\n",
    "VelMedBajIntFijXProvChaco['Incremento/Decremento'] = porcentaje_incremento_decremento\n",
    "\n",
    "# Elimina la primera fila de la columna 'Incremento/Decremento'.\n",
    "VelMedBajIntFijXProvChaco = VelMedBajIntFijXProvChaco.iloc[1:]\n",
    "\n",
    "# Calcula la suma de la columna 'Incremento/Decremento'.\n",
    "suma = VelMedBajIntFijXProvChaco['Incremento/Decremento'].sum()\n",
    "\n",
    "# Calcula el promedio de la columna 'Incremento/Decremento'.\n",
    "promedio = VelMedBajIntFijXProvChaco['Incremento/Decremento'].mean()\n",
    "\n",
    "# Imprime la suma y el promedio.\n",
    "print(f\"Suma de la columna 'Incremento/Decremento': {suma}\")\n",
    "print(f\"Promedio de la columna 'Incremento/Decremento': {promedio}\")"
   ]
  },
  {
   "cell_type": "code",
   "execution_count": 290,
   "metadata": {},
   "outputs": [
    {
     "data": {
      "text/plain": [
       "3     5730.0\n",
       "27    5321.0\n",
       "Name: Mbps (Media de bajada), dtype: float64"
      ]
     },
     "execution_count": 290,
     "metadata": {},
     "output_type": "execute_result"
    }
   ],
   "source": [
    "VelMedBajIntFijXProvChaco = VelMedBajIntFijXProv[VelMedBajIntFijXProv['Provincia'] == 'Chaco']\n",
    "\n",
    "# Toma los primeros 19 datos de la columna 'Mbps (Media de bajada)'.\n",
    "primeros_19_datos = VelMedBajIntFijXProvChaco['Mbps (Media de bajada)'].head(2)\n",
    "\n",
    "# Aplicar un incremento porcentual acumulativo\n",
    "for i in range(len(primeros_19_datos)-2,-1,-1):\n",
    "    primeros_19_datos.iloc[i] = round(primeros_19_datos.iloc[i + 1] * (1.0768),2)\n",
    "\n",
    "primeros_19_datos = round(primeros_19_datos,0)\n",
    "primeros_19_datos"
   ]
  },
  {
   "cell_type": "code",
   "execution_count": 291,
   "metadata": {},
   "outputs": [],
   "source": [
    "# Define los nuevos valores en el orden correspondiente\n",
    "nuevos_valores = [5730.0]\n",
    "\n",
    "# Define las posiciones en las que deseas reemplazar los valores\n",
    "posiciones = [3]\n",
    "\n",
    "# Reemplaza los valores en la columna \"Banda ancha fija\" en las posiciones especificadas\n",
    "for i in range(len(posiciones)):\n",
    "    VelMedBajIntFijXProv.loc[posiciones[i], 'Mbps (Media de bajada)'] = nuevos_valores[i]"
   ]
  },
  {
   "cell_type": "code",
   "execution_count": 292,
   "metadata": {},
   "outputs": [],
   "source": [
    "# Filtrar las filas donde Provincia es 'Chaco' y dividir la columna por 1000\n",
    "VelMedBajIntFijXProv.loc[VelMedBajIntFijXProv['Provincia'] == 'Chaco', 'Mbps (Media de bajada)'] /= 100\n",
    "\n",
    "# Redondear los valores en la columna\n",
    "VelMedBajIntFijXProv['Mbps (Media de bajada)'] = VelMedBajIntFijXProv['Mbps (Media de bajada)']"
   ]
  },
  {
   "cell_type": "code",
   "execution_count": 293,
   "metadata": {},
   "outputs": [],
   "source": [
    "# Filtrar las filas donde Provincia es 'Chubut' y dividir la columna por 1000\n",
    "VelMedBajIntFijXProv.loc[VelMedBajIntFijXProv['Provincia'] == 'Chubut', 'Mbps (Media de bajada)'] /= 100\n",
    "\n",
    "# Redondear los valores en la columna\n",
    "VelMedBajIntFijXProv['Mbps (Media de bajada)'] = VelMedBajIntFijXProv['Mbps (Media de bajada)']"
   ]
  },
  {
   "cell_type": "code",
   "execution_count": 294,
   "metadata": {},
   "outputs": [
    {
     "name": "stdout",
     "output_type": "stream",
     "text": [
      "Suma de la columna 'Incremento/Decremento': -265.1597649278713\n",
      "Promedio de la columna 'Incremento/Decremento': -7.798816615525627\n"
     ]
    }
   ],
   "source": [
    "VelMedBajIntFijXProvCórdoba = VelMedBajIntFijXProv[VelMedBajIntFijXProv['Provincia'] == 'Córdoba']\n",
    "VelMedBajIntFijXProvCórdoba = VelMedBajIntFijXProvCórdoba[(VelMedBajIntFijXProvCórdoba['Mbps (Media de bajada)'] >= 339)&(VelMedBajIntFijXProvCórdoba['Mbps (Media de bajada)'] <= 5632)]\n",
    "# Filtra solo la columna \"Mbps (Media de bajada)\".\n",
    "Dial_up = VelMedBajIntFijXProvCórdoba['Mbps (Media de bajada)']\n",
    "\n",
    "# Calcula la diferencia entre cada dato y el dato anterior.\n",
    "diferencia = Dial_up.diff()\n",
    "\n",
    "# Calcula el porcentaje de incremento o decremento.\n",
    "porcentaje_incremento_decremento = (diferencia / Dial_up.shift(1)) * 100\n",
    "\n",
    "# Crea una nueva columna \"Incremento/Decremento\" en el DataFrame original.\n",
    "VelMedBajIntFijXProvCórdoba['Incremento/Decremento'] = porcentaje_incremento_decremento\n",
    "\n",
    "# Elimina la primera fila de la columna 'Incremento/Decremento'.\n",
    "VelMedBajIntFijXProvCórdoba = VelMedBajIntFijXProvCórdoba.iloc[1:]\n",
    "\n",
    "# Calcula la suma de la columna 'Incremento/Decremento'.\n",
    "suma = VelMedBajIntFijXProvCórdoba['Incremento/Decremento'].sum()\n",
    "\n",
    "# Calcula el promedio de la columna 'Incremento/Decremento'.\n",
    "promedio = VelMedBajIntFijXProvCórdoba['Incremento/Decremento'].mean()\n",
    "\n",
    "# Imprime la suma y el promedio.\n",
    "print(f\"Suma de la columna 'Incremento/Decremento': {suma}\")\n",
    "print(f\"Promedio de la columna 'Incremento/Decremento': {promedio}\")"
   ]
  },
  {
   "cell_type": "code",
   "execution_count": 295,
   "metadata": {},
   "outputs": [
    {
     "data": {
      "text/plain": [
       "5     6071.0\n",
       "29    5632.0\n",
       "Name: Mbps (Media de bajada), dtype: float64"
      ]
     },
     "execution_count": 295,
     "metadata": {},
     "output_type": "execute_result"
    }
   ],
   "source": [
    "VelMedBajIntFijXProvCórdoba = VelMedBajIntFijXProv[VelMedBajIntFijXProv['Provincia'] == 'Córdoba']\n",
    "\n",
    "# Toma los primeros 19 datos de la columna 'Mbps (Media de bajada)'.\n",
    "primeros_19_datos = VelMedBajIntFijXProvCórdoba['Mbps (Media de bajada)'].head(2)\n",
    "\n",
    "# Aplicar un incremento porcentual acumulativo\n",
    "for i in range(len(primeros_19_datos)-2,-1,-1):\n",
    "    primeros_19_datos.iloc[i] = round(primeros_19_datos.iloc[i + 1] * (1.0779),2)\n",
    "\n",
    "primeros_19_datos = round(primeros_19_datos,0)\n",
    "primeros_19_datos"
   ]
  },
  {
   "cell_type": "code",
   "execution_count": 296,
   "metadata": {},
   "outputs": [],
   "source": [
    "# Define los nuevos valores en el orden correspondiente\n",
    "nuevos_valores = [6071.0]\n",
    "\n",
    "# Define las posiciones en las que deseas reemplazar los valores\n",
    "posiciones = [5]\n",
    "\n",
    "# Reemplaza los valores en la columna \"Banda ancha fija\" en las posiciones especificadas\n",
    "for i in range(len(posiciones)):\n",
    "    VelMedBajIntFijXProv.loc[posiciones[i], 'Mbps (Media de bajada)'] = nuevos_valores[i]"
   ]
  },
  {
   "cell_type": "code",
   "execution_count": 297,
   "metadata": {},
   "outputs": [],
   "source": [
    "# Filtrar las filas donde Provincia es 'Córdoba' y dividir la columna por 1000\n",
    "VelMedBajIntFijXProv.loc[VelMedBajIntFijXProv['Provincia'] == 'Córdoba', 'Mbps (Media de bajada)'] /= 100\n",
    "\n",
    "# Redondear los valores en la columna\n",
    "VelMedBajIntFijXProv['Mbps (Media de bajada)'] = VelMedBajIntFijXProv['Mbps (Media de bajada)']"
   ]
  },
  {
   "cell_type": "code",
   "execution_count": 298,
   "metadata": {},
   "outputs": [
    {
     "name": "stdout",
     "output_type": "stream",
     "text": [
      "Suma de la columna 'Incremento/Decremento': -247.1873331325165\n",
      "Promedio de la columna 'Incremento/Decremento': -7.270215680368132\n"
     ]
    }
   ],
   "source": [
    "VelMedBajIntFijXProvCorrientes = VelMedBajIntFijXProv[VelMedBajIntFijXProv['Provincia'] == 'Corrientes']\n",
    "VelMedBajIntFijXProvCorrientes = VelMedBajIntFijXProvCorrientes[(VelMedBajIntFijXProvCorrientes['Mbps (Media de bajada)'] >= 322)&(VelMedBajIntFijXProvCorrientes['Mbps (Media de bajada)'] <= 4507)]\n",
    "# Filtra solo la columna \"Mbps (Media de bajada)\".\n",
    "Dial_up = VelMedBajIntFijXProvCorrientes['Mbps (Media de bajada)']\n",
    "\n",
    "# Calcula la diferencia entre cada dato y el dato anterior.\n",
    "diferencia = Dial_up.diff()\n",
    "\n",
    "# Calcula el porcentaje de incremento o decremento.\n",
    "porcentaje_incremento_decremento = (diferencia / Dial_up.shift(1)) * 100\n",
    "\n",
    "# Crea una nueva columna \"Incremento/Decremento\" en el DataFrame original.\n",
    "VelMedBajIntFijXProvCorrientes['Incremento/Decremento'] = porcentaje_incremento_decremento\n",
    "\n",
    "# Elimina la primera fila de la columna 'Incremento/Decremento'.\n",
    "VelMedBajIntFijXProvCorrientes = VelMedBajIntFijXProvCorrientes.iloc[1:]\n",
    "\n",
    "# Calcula la suma de la columna 'Incremento/Decremento'.\n",
    "suma = VelMedBajIntFijXProvCorrientes['Incremento/Decremento'].sum()\n",
    "\n",
    "# Calcula el promedio de la columna 'Incremento/Decremento'.\n",
    "promedio = VelMedBajIntFijXProvCorrientes['Incremento/Decremento'].mean()\n",
    "\n",
    "# Imprime la suma y el promedio.\n",
    "print(f\"Suma de la columna 'Incremento/Decremento': {suma}\")\n",
    "print(f\"Promedio de la columna 'Incremento/Decremento': {promedio}\")"
   ]
  },
  {
   "cell_type": "code",
   "execution_count": 299,
   "metadata": {},
   "outputs": [
    {
     "data": {
      "text/plain": [
       "6     4835.0\n",
       "30    4507.0\n",
       "Name: Mbps (Media de bajada), dtype: float64"
      ]
     },
     "execution_count": 299,
     "metadata": {},
     "output_type": "execute_result"
    }
   ],
   "source": [
    "VelMedBajIntFijXProvCorrientes = VelMedBajIntFijXProv[VelMedBajIntFijXProv['Provincia'] == 'Corrientes']\n",
    "\n",
    "# Toma los primeros 19 datos de la columna 'Mbps (Media de bajada)'.\n",
    "primeros_19_datos = VelMedBajIntFijXProvCorrientes['Mbps (Media de bajada)'].head(2)\n",
    "\n",
    "# Aplicar un incremento porcentual acumulativo\n",
    "for i in range(len(primeros_19_datos)-2,-1,-1):\n",
    "    primeros_19_datos.iloc[i] = round(primeros_19_datos.iloc[i + 1] * (1.0727),2)\n",
    "\n",
    "primeros_19_datos = round(primeros_19_datos,0)\n",
    "primeros_19_datos"
   ]
  },
  {
   "cell_type": "code",
   "execution_count": 300,
   "metadata": {},
   "outputs": [],
   "source": [
    "# Define los nuevos valores en el orden correspondiente\n",
    "nuevos_valores = [4835.0]\n",
    "\n",
    "# Define las posiciones en las que deseas reemplazar los valores\n",
    "posiciones = [6]\n",
    "\n",
    "# Reemplaza los valores en la columna \"Banda ancha fija\" en las posiciones especificadas\n",
    "for i in range(len(posiciones)):\n",
    "    VelMedBajIntFijXProv.loc[posiciones[i], 'Mbps (Media de bajada)'] = nuevos_valores[i]"
   ]
  },
  {
   "cell_type": "code",
   "execution_count": 301,
   "metadata": {},
   "outputs": [],
   "source": [
    "# Filtrar las filas donde Provincia es 'Corrientes' y dividir la columna por 1000\n",
    "VelMedBajIntFijXProv.loc[VelMedBajIntFijXProv['Provincia'] == 'Corrientes', 'Mbps (Media de bajada)'] /= 100\n",
    "\n",
    "# Redondear los valores en la columna\n",
    "VelMedBajIntFijXProv['Mbps (Media de bajada)'] = VelMedBajIntFijXProv['Mbps (Media de bajada)']"
   ]
  },
  {
   "cell_type": "code",
   "execution_count": 302,
   "metadata": {},
   "outputs": [
    {
     "name": "stdout",
     "output_type": "stream",
     "text": [
      "Suma de la columna 'Incremento/Decremento': -244.29851785246382\n",
      "Promedio de la columna 'Incremento/Decremento': -7.185250525072465\n"
     ]
    }
   ],
   "source": [
    "VelMedBajIntFijXProvEntre_Ríos = VelMedBajIntFijXProv[VelMedBajIntFijXProv['Provincia'] == 'Entre Ríos']\n",
    "VelMedBajIntFijXProvEntre_Ríos = VelMedBajIntFijXProvEntre_Ríos[(VelMedBajIntFijXProvEntre_Ríos['Mbps (Media de bajada)'] >= 317)&(VelMedBajIntFijXProvEntre_Ríos['Mbps (Media de bajada)'] <= 4249)]\n",
    "# Filtra solo la columna \"Mbps (Media de bajada)\".\n",
    "Dial_up = VelMedBajIntFijXProvEntre_Ríos['Mbps (Media de bajada)']\n",
    "\n",
    "# Calcula la diferencia entre cada dato y el dato anterior.\n",
    "diferencia = Dial_up.diff()\n",
    "\n",
    "# Calcula el porcentaje de incremento o decremento.\n",
    "porcentaje_incremento_decremento = (diferencia / Dial_up.shift(1)) * 100\n",
    "\n",
    "# Crea una nueva columna \"Incremento/Decremento\" en el DataFrame original.\n",
    "VelMedBajIntFijXProvEntre_Ríos['Incremento/Decremento'] = porcentaje_incremento_decremento\n",
    "\n",
    "# Elimina la primera fila de la columna 'Incremento/Decremento'.\n",
    "VelMedBajIntFijXProvEntre_Ríos = VelMedBajIntFijXProvEntre_Ríos.iloc[1:]\n",
    "\n",
    "# Calcula la suma de la columna 'Incremento/Decremento'.\n",
    "suma = VelMedBajIntFijXProvEntre_Ríos['Incremento/Decremento'].sum()\n",
    "\n",
    "# Calcula el promedio de la columna 'Incremento/Decremento'.\n",
    "promedio = VelMedBajIntFijXProvEntre_Ríos['Incremento/Decremento'].mean()\n",
    "\n",
    "# Imprime la suma y el promedio.\n",
    "print(f\"Suma de la columna 'Incremento/Decremento': {suma}\")\n",
    "print(f\"Promedio de la columna 'Incremento/Decremento': {promedio}\")"
   ]
  },
  {
   "cell_type": "code",
   "execution_count": 303,
   "metadata": {},
   "outputs": [
    {
     "data": {
      "text/plain": [
       "7     4554.0\n",
       "31    4249.0\n",
       "Name: Mbps (Media de bajada), dtype: float64"
      ]
     },
     "execution_count": 303,
     "metadata": {},
     "output_type": "execute_result"
    }
   ],
   "source": [
    "VelMedBajIntFijXProvEntre_Ríos = VelMedBajIntFijXProv[VelMedBajIntFijXProv['Provincia'] == 'Entre Ríos']\n",
    "\n",
    "# Toma los primeros 19 datos de la columna 'Mbps (Media de bajada)'.\n",
    "primeros_19_datos = VelMedBajIntFijXProvEntre_Ríos['Mbps (Media de bajada)'].head(2)\n",
    "\n",
    "# Aplicar un incremento porcentual acumulativo\n",
    "for i in range(len(primeros_19_datos)-2,-1,-1):\n",
    "    primeros_19_datos.iloc[i] = round(primeros_19_datos.iloc[i + 1] * (1.0718),2)\n",
    "\n",
    "primeros_19_datos = round(primeros_19_datos,0)\n",
    "primeros_19_datos"
   ]
  },
  {
   "cell_type": "code",
   "execution_count": 304,
   "metadata": {},
   "outputs": [],
   "source": [
    "# Define los nuevos valores en el orden correspondiente\n",
    "nuevos_valores = [4554.0]\n",
    "\n",
    "# Define las posiciones en las que deseas reemplazar los valores\n",
    "posiciones = [7]\n",
    "\n",
    "# Reemplaza los valores en la columna \"Banda ancha fija\" en las posiciones especificadas\n",
    "for i in range(len(posiciones)):\n",
    "    VelMedBajIntFijXProv.loc[posiciones[i], 'Mbps (Media de bajada)'] = nuevos_valores[i]"
   ]
  },
  {
   "cell_type": "code",
   "execution_count": 305,
   "metadata": {},
   "outputs": [],
   "source": [
    "# Filtrar las filas donde Provincia es 'Entre Ríos' y dividir la columna por 1000\n",
    "VelMedBajIntFijXProv.loc[VelMedBajIntFijXProv['Provincia'] == 'Entre Ríos', 'Mbps (Media de bajada)'] /= 100\n",
    "\n",
    "# Redondear los valores en la columna\n",
    "VelMedBajIntFijXProv['Mbps (Media de bajada)'] = VelMedBajIntFijXProv['Mbps (Media de bajada)']"
   ]
  },
  {
   "cell_type": "code",
   "execution_count": 306,
   "metadata": {},
   "outputs": [
    {
     "name": "stdout",
     "output_type": "stream",
     "text": [
      "Suma de la columna 'Incremento/Decremento': -96.50027869809604\n",
      "Promedio de la columna 'Incremento/Decremento': -6.892877049864003\n"
     ]
    }
   ],
   "source": [
    "VelMedBajIntFijXProvFormosa = VelMedBajIntFijXProv[VelMedBajIntFijXProv['Provincia'] == 'Formosa']\n",
    "VelMedBajIntFijXProvFormosa = VelMedBajIntFijXProvFormosa[(VelMedBajIntFijXProvFormosa['Mbps (Media de bajada)'] >= 257)&(VelMedBajIntFijXProvFormosa['Mbps (Media de bajada)'] <= 707)]\n",
    "# Filtra solo la columna \"Mbps (Media de bajada)\".\n",
    "Dial_up = VelMedBajIntFijXProvFormosa['Mbps (Media de bajada)']\n",
    "\n",
    "# Calcula la diferencia entre cada dato y el dato anterior.\n",
    "diferencia = Dial_up.diff()\n",
    "\n",
    "# Calcula el porcentaje de incremento o decremento.\n",
    "porcentaje_incremento_decremento = (diferencia / Dial_up.shift(1)) * 100\n",
    "\n",
    "# Crea una nueva columna \"Incremento/Decremento\" en el DataFrame original.\n",
    "VelMedBajIntFijXProvFormosa['Incremento/Decremento'] = porcentaje_incremento_decremento\n",
    "\n",
    "# Elimina la primera fila de la columna 'Incremento/Decremento'.\n",
    "VelMedBajIntFijXProvFormosa = VelMedBajIntFijXProvFormosa.iloc[1:]\n",
    "\n",
    "# Calcula la suma de la columna 'Incremento/Decremento'.\n",
    "suma = VelMedBajIntFijXProvFormosa['Incremento/Decremento'].sum()\n",
    "\n",
    "# Calcula el promedio de la columna 'Incremento/Decremento'.\n",
    "promedio = VelMedBajIntFijXProvFormosa['Incremento/Decremento'].mean()\n",
    "\n",
    "# Imprime la suma y el promedio.\n",
    "print(f\"Suma de la columna 'Incremento/Decremento': {suma}\")\n",
    "print(f\"Promedio de la columna 'Incremento/Decremento': {promedio}\")"
   ]
  },
  {
   "cell_type": "code",
   "execution_count": 307,
   "metadata": {},
   "outputs": [
    {
     "data": {
      "text/plain": [
       "8      3265.0\n",
       "32     3035.0\n",
       "56     2822.0\n",
       "80     2624.0\n",
       "104    2439.0\n",
       "128    2268.0\n",
       "152    2109.0\n",
       "176    1960.0\n",
       "200    1823.0\n",
       "224    1695.0\n",
       "248    1576.0\n",
       "272    1465.0\n",
       "296    1362.0\n",
       "320    1266.0\n",
       "344    1177.0\n",
       "368    1095.0\n",
       "392    1018.0\n",
       "416     946.0\n",
       "440     880.0\n",
       "464     818.0\n",
       "488     760.0\n",
       "512     707.0\n",
       "Name: Mbps (Media de bajada), dtype: float64"
      ]
     },
     "execution_count": 307,
     "metadata": {},
     "output_type": "execute_result"
    }
   ],
   "source": [
    "VelMedBajIntFijXProvFormosa = VelMedBajIntFijXProv[VelMedBajIntFijXProv['Provincia'] == 'Formosa']\n",
    "\n",
    "# Toma los primeros 19 datos de la columna 'Mbps (Media de bajada)'.\n",
    "primeros_19_datos = VelMedBajIntFijXProvFormosa['Mbps (Media de bajada)'].head(22)\n",
    "\n",
    "# Aplicar un incremento porcentual acumulativo\n",
    "for i in range(len(primeros_19_datos)-2,-1,-1):\n",
    "    primeros_19_datos.iloc[i] = round(primeros_19_datos.iloc[i + 1] * (1.07557),2)\n",
    "\n",
    "primeros_19_datos = round(primeros_19_datos,0)\n",
    "primeros_19_datos"
   ]
  },
  {
   "cell_type": "code",
   "execution_count": 308,
   "metadata": {},
   "outputs": [],
   "source": [
    "# Define los nuevos valores en el orden correspondiente\n",
    "nuevos_valores = [3265.0, 3035.0, 2822.0, 2624.0, 2439.0, 2268.0, 2109.0, 1960.0, 1823.0, 1695.0, 1576.0, 1465.0, 1362.0, 1266.0, 1177.0, 1095.0, 1018.0, 946.0, 880.0, 818.0, 760.0, 707.0]\n",
    "\n",
    "# Define las posiciones en las que deseas reemplazar los valores\n",
    "posiciones = [8, 32, 56, 80, 104, 128, 152, 176, 200, 224, 248, 272, 296, 320, 344, 368, 392, 416, 440, 464, 488, 512]\n",
    "\n",
    "# Reemplaza los valores en la columna \"Banda ancha fija\" en las posiciones especificadas\n",
    "for i in range(len(posiciones)):\n",
    "    VelMedBajIntFijXProv.loc[posiciones[i], 'Mbps (Media de bajada)'] = nuevos_valores[i]"
   ]
  },
  {
   "cell_type": "code",
   "execution_count": 309,
   "metadata": {},
   "outputs": [],
   "source": [
    "# Filtrar las filas donde Provincia es 'Formosa' y dividir la columna por 1000\n",
    "VelMedBajIntFijXProv.loc[VelMedBajIntFijXProv['Provincia'] == 'Formosa', 'Mbps (Media de bajada)'] /= 100\n",
    "\n",
    "# Redondear los valores en la columna\n",
    "VelMedBajIntFijXProv['Mbps (Media de bajada)'] = VelMedBajIntFijXProv['Mbps (Media de bajada)']"
   ]
  },
  {
   "cell_type": "code",
   "execution_count": 310,
   "metadata": {},
   "outputs": [],
   "source": [
    "# Filtrar las filas donde Provincia es 'Jujuy' y dividir la columna por 1000\n",
    "VelMedBajIntFijXProv.loc[VelMedBajIntFijXProv['Provincia'] == 'Jujuy', 'Mbps (Media de bajada)'] /= 100\n",
    "\n",
    "# Redondear los valores en la columna\n",
    "VelMedBajIntFijXProv['Mbps (Media de bajada)'] = VelMedBajIntFijXProv['Mbps (Media de bajada)']"
   ]
  },
  {
   "cell_type": "code",
   "execution_count": 311,
   "metadata": {},
   "outputs": [
    {
     "name": "stdout",
     "output_type": "stream",
     "text": [
      "Suma de la columna 'Incremento/Decremento': -168.97421647501824\n",
      "Promedio de la columna 'Incremento/Decremento': -5.12043080227328\n"
     ]
    }
   ],
   "source": [
    "VelMedBajIntFijXProvLa_Pampa = VelMedBajIntFijXProv[VelMedBajIntFijXProv['Provincia'] == 'La Pampa']\n",
    "VelMedBajIntFijXProvLa_Pampa = VelMedBajIntFijXProvLa_Pampa[(VelMedBajIntFijXProvLa_Pampa['Mbps (Media de bajada)'] >= 265)&(VelMedBajIntFijXProvLa_Pampa['Mbps (Media de bajada)'] <= 1801)]\n",
    "# Filtra solo la columna \"Mbps (Media de bajada)\".\n",
    "Dial_up = VelMedBajIntFijXProvLa_Pampa['Mbps (Media de bajada)']\n",
    "\n",
    "# Calcula la diferencia entre cada dato y el dato anterior.\n",
    "diferencia = Dial_up.diff()\n",
    "\n",
    "# Calcula el porcentaje de incremento o decremento.\n",
    "porcentaje_incremento_decremento = (diferencia / Dial_up.shift(1)) * 100\n",
    "\n",
    "# Crea una nueva columna \"Incremento/Decremento\" en el DataFrame original.\n",
    "VelMedBajIntFijXProvLa_Pampa['Incremento/Decremento'] = porcentaje_incremento_decremento\n",
    "\n",
    "# Elimina la primera fila de la columna 'Incremento/Decremento'.\n",
    "VelMedBajIntFijXProvLa_Pampa = VelMedBajIntFijXProvLa_Pampa.iloc[1:]\n",
    "\n",
    "# Calcula la suma de la columna 'Incremento/Decremento'.\n",
    "suma = VelMedBajIntFijXProvLa_Pampa['Incremento/Decremento'].sum()\n",
    "\n",
    "# Calcula el promedio de la columna 'Incremento/Decremento'.\n",
    "promedio = VelMedBajIntFijXProvLa_Pampa['Incremento/Decremento'].mean()\n",
    "\n",
    "# Imprime la suma y el promedio.\n",
    "print(f\"Suma de la columna 'Incremento/Decremento': {suma}\")\n",
    "print(f\"Promedio de la columna 'Incremento/Decremento': {promedio}\")"
   ]
  },
  {
   "cell_type": "code",
   "execution_count": 312,
   "metadata": {},
   "outputs": [
    {
     "data": {
      "text/plain": [
       "10    1903.0\n",
       "34    1810.0\n",
       "Name: Mbps (Media de bajada), dtype: float64"
      ]
     },
     "execution_count": 312,
     "metadata": {},
     "output_type": "execute_result"
    }
   ],
   "source": [
    "VelMedBajIntFijXProvLa_Pampa = VelMedBajIntFijXProv[VelMedBajIntFijXProv['Provincia'] == 'La Pampa']\n",
    "\n",
    "# Toma los primeros 19 datos de la columna 'Mbps (Media de bajada)'.\n",
    "primeros_19_datos = VelMedBajIntFijXProvLa_Pampa['Mbps (Media de bajada)'].head(2)\n",
    "\n",
    "# Aplicar un incremento porcentual acumulativo\n",
    "for i in range(len(primeros_19_datos)-2,-1,-1):\n",
    "    primeros_19_datos.iloc[i] = round(primeros_19_datos.iloc[i + 1] * (1.0512),2)\n",
    "\n",
    "primeros_19_datos = round(primeros_19_datos,0)\n",
    "primeros_19_datos"
   ]
  },
  {
   "cell_type": "code",
   "execution_count": 313,
   "metadata": {},
   "outputs": [],
   "source": [
    "# Define los nuevos valores en el orden correspondiente\n",
    "nuevos_valores = [1903.0]\n",
    "\n",
    "# Define las posiciones en las que deseas reemplazar los valores\n",
    "posiciones = [10]\n",
    "\n",
    "# Reemplaza los valores en la columna \"Banda ancha fija\" en las posiciones especificadas\n",
    "for i in range(len(posiciones)):\n",
    "    VelMedBajIntFijXProv.loc[posiciones[i], 'Mbps (Media de bajada)'] = nuevos_valores[i]"
   ]
  },
  {
   "cell_type": "code",
   "execution_count": 314,
   "metadata": {},
   "outputs": [],
   "source": [
    "# Filtrar las filas donde Provincia es 'La Pampa' y dividir la columna por 1000\n",
    "VelMedBajIntFijXProv.loc[VelMedBajIntFijXProv['Provincia'] == 'La Pampa', 'Mbps (Media de bajada)'] /= 100\n",
    "\n",
    "# Redondear los valores en la columna\n",
    "VelMedBajIntFijXProv['Mbps (Media de bajada)'] = VelMedBajIntFijXProv['Mbps (Media de bajada)']"
   ]
  },
  {
   "cell_type": "code",
   "execution_count": 315,
   "metadata": {},
   "outputs": [
    {
     "name": "stdout",
     "output_type": "stream",
     "text": [
      "Suma de la columna 'Incremento/Decremento': -213.78410544320644\n",
      "Promedio de la columna 'Incremento/Decremento': -6.287767807153131\n"
     ]
    }
   ],
   "source": [
    "VelMedBajIntFijXProvLa_Rioja = VelMedBajIntFijXProv[VelMedBajIntFijXProv['Provincia'] == 'La Rioja']\n",
    "VelMedBajIntFijXProvLa_Rioja = VelMedBajIntFijXProvLa_Rioja[(VelMedBajIntFijXProvLa_Rioja['Mbps (Media de bajada)'] >= 296)&(VelMedBajIntFijXProvLa_Rioja['Mbps (Media de bajada)'] <= 4430)]\n",
    "# Filtra solo la columna \"Mbps (Media de bajada)\".\n",
    "Dial_up = VelMedBajIntFijXProvLa_Rioja['Mbps (Media de bajada)']\n",
    "\n",
    "# Calcula la diferencia entre cada dato y el dato anterior.\n",
    "diferencia = Dial_up.diff()\n",
    "\n",
    "# Calcula el porcentaje de incremento o decremento.\n",
    "porcentaje_incremento_decremento = (diferencia / Dial_up.shift(1)) * 100\n",
    "\n",
    "# Crea una nueva columna \"Incremento/Decremento\" en el DataFrame original.\n",
    "VelMedBajIntFijXProvLa_Rioja['Incremento/Decremento'] = porcentaje_incremento_decremento\n",
    "\n",
    "# Elimina la primera fila de la columna 'Incremento/Decremento'.\n",
    "VelMedBajIntFijXProvLa_Rioja = VelMedBajIntFijXProvLa_Rioja.iloc[1:]\n",
    "\n",
    "# Calcula la suma de la columna 'Incremento/Decremento'.\n",
    "suma = VelMedBajIntFijXProvLa_Rioja['Incremento/Decremento'].sum()\n",
    "\n",
    "# Calcula el promedio de la columna 'Incremento/Decremento'.\n",
    "promedio = VelMedBajIntFijXProvLa_Rioja['Incremento/Decremento'].mean()\n",
    "\n",
    "# Imprime la suma y el promedio.\n",
    "print(f\"Suma de la columna 'Incremento/Decremento': {suma}\")\n",
    "print(f\"Promedio de la columna 'Incremento/Decremento': {promedio}\")"
   ]
  },
  {
   "cell_type": "code",
   "execution_count": 316,
   "metadata": {},
   "outputs": [
    {
     "data": {
      "text/plain": [
       "11    4709.0\n",
       "35    4430.0\n",
       "Name: Mbps (Media de bajada), dtype: float64"
      ]
     },
     "execution_count": 316,
     "metadata": {},
     "output_type": "execute_result"
    }
   ],
   "source": [
    "VelMedBajIntFijXProvLa_Rioja = VelMedBajIntFijXProv[VelMedBajIntFijXProv['Provincia'] == 'La Rioja']\n",
    "\n",
    "# Toma los primeros 19 datos de la columna 'Mbps (Media de bajada)'.\n",
    "primeros_19_datos = VelMedBajIntFijXProvLa_Rioja['Mbps (Media de bajada)'].head(2)\n",
    "\n",
    "# Aplicar un incremento porcentual acumulativo\n",
    "for i in range(len(primeros_19_datos)-2,-1,-1):\n",
    "    primeros_19_datos.iloc[i] = round(primeros_19_datos.iloc[i + 1] * (1.06287),2)\n",
    "\n",
    "primeros_19_datos = round(primeros_19_datos,0)\n",
    "primeros_19_datos"
   ]
  },
  {
   "cell_type": "code",
   "execution_count": 317,
   "metadata": {},
   "outputs": [],
   "source": [
    "# Define los nuevos valores en el orden correspondiente\n",
    "nuevos_valores = [4709.0]\n",
    "\n",
    "# Define las posiciones en las que deseas reemplazar los valores\n",
    "posiciones = [11]\n",
    "\n",
    "# Reemplaza los valores en la columna \"Banda ancha fija\" en las posiciones especificadas\n",
    "for i in range(len(posiciones)):\n",
    "    VelMedBajIntFijXProv.loc[posiciones[i], 'Mbps (Media de bajada)'] = nuevos_valores[i]"
   ]
  },
  {
   "cell_type": "code",
   "execution_count": 318,
   "metadata": {},
   "outputs": [],
   "source": [
    "# Filtrar las filas donde Provincia es 'La Rioja' y dividir la columna por 1000\n",
    "VelMedBajIntFijXProv.loc[VelMedBajIntFijXProv['Provincia'] == 'La Rioja', 'Mbps (Media de bajada)'] /= 100\n",
    "\n",
    "# Redondear los valores en la columna\n",
    "VelMedBajIntFijXProv['Mbps (Media de bajada)'] = VelMedBajIntFijXProv['Mbps (Media de bajada)']"
   ]
  },
  {
   "cell_type": "code",
   "execution_count": 319,
   "metadata": {},
   "outputs": [],
   "source": [
    "# Filtrar las filas donde Provincia es 'Mendoza' y dividir la columna por 1000\n",
    "VelMedBajIntFijXProv.loc[VelMedBajIntFijXProv['Provincia'] == 'Mendoza', 'Mbps (Media de bajada)'] /= 100\n",
    "\n",
    "# Redondear los valores en la columna\n",
    "VelMedBajIntFijXProv['Mbps (Media de bajada)'] = VelMedBajIntFijXProv['Mbps (Media de bajada)']"
   ]
  },
  {
   "cell_type": "code",
   "execution_count": 320,
   "metadata": {},
   "outputs": [
    {
     "name": "stdout",
     "output_type": "stream",
     "text": [
      "Suma de la columna 'Incremento/Decremento': -233.25635488248554\n",
      "Promedio de la columna 'Incremento/Decremento': -7.524398544596307\n"
     ]
    }
   ],
   "source": [
    "VelMedBajIntFijXProvMisiones = VelMedBajIntFijXProv[VelMedBajIntFijXProv['Provincia'] == 'Misiones']\n",
    "VelMedBajIntFijXProvMisiones = VelMedBajIntFijXProvMisiones[(VelMedBajIntFijXProvMisiones['Mbps (Media de bajada)'] >= 390)&(VelMedBajIntFijXProvMisiones['Mbps (Media de bajada)'] <= 4930)]\n",
    "# Filtra solo la columna \"Mbps (Media de bajada)\".\n",
    "Dial_up = VelMedBajIntFijXProvMisiones['Mbps (Media de bajada)']\n",
    "\n",
    "# Calcula la diferencia entre cada dato y el dato anterior.\n",
    "diferencia = Dial_up.diff()\n",
    "\n",
    "# Calcula el porcentaje de incremento o decremento.\n",
    "porcentaje_incremento_decremento = (diferencia / Dial_up.shift(1)) * 100\n",
    "\n",
    "# Crea una nueva columna \"Incremento/Decremento\" en el DataFrame original.\n",
    "VelMedBajIntFijXProvMisiones['Incremento/Decremento'] = porcentaje_incremento_decremento\n",
    "\n",
    "# Elimina la primera fila de la columna 'Incremento/Decremento'.\n",
    "VelMedBajIntFijXProvMisiones = VelMedBajIntFijXProvMisiones.iloc[1:]\n",
    "\n",
    "# Calcula la suma de la columna 'Incremento/Decremento'.\n",
    "suma = VelMedBajIntFijXProvMisiones['Incremento/Decremento'].sum()\n",
    "\n",
    "# Calcula el promedio de la columna 'Incremento/Decremento'.\n",
    "promedio = VelMedBajIntFijXProvMisiones['Incremento/Decremento'].mean()\n",
    "\n",
    "# Imprime la suma y el promedio.\n",
    "print(f\"Suma de la columna 'Incremento/Decremento': {suma}\")\n",
    "print(f\"Promedio de la columna 'Incremento/Decremento': {promedio}\")"
   ]
  },
  {
   "cell_type": "code",
   "execution_count": 321,
   "metadata": {},
   "outputs": [
    {
     "data": {
      "text/plain": [
       "13    5301.0\n",
       "37    4930.0\n",
       "Name: Mbps (Media de bajada), dtype: float64"
      ]
     },
     "execution_count": 321,
     "metadata": {},
     "output_type": "execute_result"
    }
   ],
   "source": [
    "VelMedBajIntFijXProvMisiones = VelMedBajIntFijXProv[VelMedBajIntFijXProv['Provincia'] == 'Misiones']\n",
    "\n",
    "# Toma los primeros 19 datos de la columna 'Mbps (Media de bajada)'.\n",
    "primeros_19_datos = VelMedBajIntFijXProvMisiones['Mbps (Media de bajada)'].head(2)\n",
    "\n",
    "# Aplicar un incremento porcentual acumulativo\n",
    "for i in range(len(primeros_19_datos)-2,-1,-1):\n",
    "    primeros_19_datos.iloc[i] = round(primeros_19_datos.iloc[i + 1] * (1.07524),2)\n",
    "\n",
    "primeros_19_datos = round(primeros_19_datos,0)\n",
    "primeros_19_datos"
   ]
  },
  {
   "cell_type": "code",
   "execution_count": 322,
   "metadata": {},
   "outputs": [],
   "source": [
    "# Define los nuevos valores en el orden correspondiente\n",
    "nuevos_valores = [5301.0]\n",
    "\n",
    "# Define las posiciones en las que deseas reemplazar los valores\n",
    "posiciones = [13]\n",
    "\n",
    "# Reemplaza los valores en la columna \"Banda ancha fija\" en las posiciones especificadas\n",
    "for i in range(len(posiciones)):\n",
    "    VelMedBajIntFijXProv.loc[posiciones[i], 'Mbps (Media de bajada)'] = nuevos_valores[i]"
   ]
  },
  {
   "cell_type": "code",
   "execution_count": 323,
   "metadata": {},
   "outputs": [],
   "source": [
    "# Filtrar las filas donde Provincia es 'Misiones' y dividir la columna por 1000\n",
    "VelMedBajIntFijXProv.loc[VelMedBajIntFijXProv['Provincia'] == 'Misiones', 'Mbps (Media de bajada)'] /= 100\n",
    "\n",
    "# Redondear los valores en la columna\n",
    "VelMedBajIntFijXProv['Mbps (Media de bajada)'] = VelMedBajIntFijXProv['Mbps (Media de bajada)']"
   ]
  },
  {
   "cell_type": "code",
   "execution_count": 324,
   "metadata": {},
   "outputs": [
    {
     "name": "stdout",
     "output_type": "stream",
     "text": [
      "Suma de la columna 'Incremento/Decremento': -243.58736618332094\n",
      "Promedio de la columna 'Incremento/Decremento': -7.16433429950944\n"
     ]
    }
   ],
   "source": [
    "VelMedBajIntFijXProvNeuquén = VelMedBajIntFijXProv[VelMedBajIntFijXProv['Provincia'] == 'Neuquén']\n",
    "VelMedBajIntFijXProvNeuquén = VelMedBajIntFijXProvNeuquén[(VelMedBajIntFijXProvNeuquén['Mbps (Media de bajada)'] >= 355)&(VelMedBajIntFijXProvNeuquén['Mbps (Media de bajada)'] <= 4781)]\n",
    "# Filtra solo la columna \"Mbps (Media de bajada)\".\n",
    "Dial_up = VelMedBajIntFijXProvNeuquén['Mbps (Media de bajada)']\n",
    "\n",
    "# Calcula la diferencia entre cada dato y el dato anterior.\n",
    "diferencia = Dial_up.diff()\n",
    "\n",
    "# Calcula el porcentaje de incremento o decremento.\n",
    "porcentaje_incremento_decremento = (diferencia / Dial_up.shift(1)) * 100\n",
    "\n",
    "# Crea una nueva columna \"Incremento/Decremento\" en el DataFrame original.\n",
    "VelMedBajIntFijXProvNeuquén['Incremento/Decremento'] = porcentaje_incremento_decremento\n",
    "\n",
    "# Elimina la primera fila de la columna 'Incremento/Decremento'.\n",
    "VelMedBajIntFijXProvNeuquén = VelMedBajIntFijXProvNeuquén.iloc[1:]\n",
    "\n",
    "# Calcula la suma de la columna 'Incremento/Decremento'.\n",
    "suma = VelMedBajIntFijXProvNeuquén['Incremento/Decremento'].sum()\n",
    "\n",
    "# Calcula el promedio de la columna 'Incremento/Decremento'.\n",
    "promedio = VelMedBajIntFijXProvNeuquén['Incremento/Decremento'].mean()\n",
    "\n",
    "# Imprime la suma y el promedio.\n",
    "print(f\"Suma de la columna 'Incremento/Decremento': {suma}\")\n",
    "print(f\"Promedio de la columna 'Incremento/Decremento': {promedio}\")"
   ]
  },
  {
   "cell_type": "code",
   "execution_count": 325,
   "metadata": {},
   "outputs": [
    {
     "data": {
      "text/plain": [
       "14    5124.0\n",
       "38    4781.0\n",
       "Name: Mbps (Media de bajada), dtype: float64"
      ]
     },
     "execution_count": 325,
     "metadata": {},
     "output_type": "execute_result"
    }
   ],
   "source": [
    "VelMedBajIntFijXProvNeuquén = VelMedBajIntFijXProv[VelMedBajIntFijXProv['Provincia'] == 'Neuquén']\n",
    "\n",
    "# Toma los primeros 19 datos de la columna 'Mbps (Media de bajada)'.\n",
    "primeros_19_datos = VelMedBajIntFijXProvNeuquén['Mbps (Media de bajada)'].head(2)\n",
    "\n",
    "# Aplicar un incremento porcentual acumulativo\n",
    "for i in range(len(primeros_19_datos)-2,-1,-1):\n",
    "    primeros_19_datos.iloc[i] = round(primeros_19_datos.iloc[i + 1] * (1.07164),2)\n",
    "\n",
    "primeros_19_datos = round(primeros_19_datos,0)\n",
    "primeros_19_datos"
   ]
  },
  {
   "cell_type": "code",
   "execution_count": 326,
   "metadata": {},
   "outputs": [],
   "source": [
    "# Define los nuevos valores en el orden correspondiente\n",
    "nuevos_valores = [5124.0]\n",
    "\n",
    "# Define las posiciones en las que deseas reemplazar los valores\n",
    "posiciones = [14]\n",
    "\n",
    "# Reemplaza los valores en la columna \"Banda ancha fija\" en las posiciones especificadas\n",
    "for i in range(len(posiciones)):\n",
    "    VelMedBajIntFijXProv.loc[posiciones[i], 'Mbps (Media de bajada)'] = nuevos_valores[i]"
   ]
  },
  {
   "cell_type": "code",
   "execution_count": 327,
   "metadata": {},
   "outputs": [],
   "source": [
    "# Filtrar las filas donde Provincia es 'Neuquén' y dividir la columna por 1000\n",
    "VelMedBajIntFijXProv.loc[VelMedBajIntFijXProv['Provincia'] == 'Neuquén', 'Mbps (Media de bajada)'] /= 100\n",
    "\n",
    "# Redondear los valores en la columna\n",
    "VelMedBajIntFijXProv['Mbps (Media de bajada)'] = VelMedBajIntFijXProv['Mbps (Media de bajada)']"
   ]
  },
  {
   "cell_type": "code",
   "execution_count": 328,
   "metadata": {},
   "outputs": [
    {
     "name": "stdout",
     "output_type": "stream",
     "text": [
      "Suma de la columna 'Incremento/Decremento': -214.97964141205853\n",
      "Promedio de la columna 'Incremento/Decremento': -6.322930629766427\n"
     ]
    }
   ],
   "source": [
    "VelMedBajIntFijXProvRío_Negro = VelMedBajIntFijXProv[VelMedBajIntFijXProv['Provincia'] == 'Río Negro']\n",
    "VelMedBajIntFijXProvRío_Negro = VelMedBajIntFijXProvRío_Negro[(VelMedBajIntFijXProvRío_Negro['Mbps (Media de bajada)'] >= 335)&(VelMedBajIntFijXProvRío_Negro['Mbps (Media de bajada)'] <= 3413)]\n",
    "# Filtra solo la columna \"Mbps (Media de bajada)\".\n",
    "Dial_up = VelMedBajIntFijXProvRío_Negro['Mbps (Media de bajada)']\n",
    "\n",
    "# Calcula la diferencia entre cada dato y el dato anterior.\n",
    "diferencia = Dial_up.diff()\n",
    "\n",
    "# Calcula el porcentaje de incremento o decremento.\n",
    "porcentaje_incremento_decremento = (diferencia / Dial_up.shift(1)) * 100\n",
    "\n",
    "# Crea una nueva columna \"Incremento/Decremento\" en el DataFrame original.\n",
    "VelMedBajIntFijXProvRío_Negro['Incremento/Decremento'] = porcentaje_incremento_decremento\n",
    "\n",
    "# Elimina la primera fila de la columna 'Incremento/Decremento'.\n",
    "VelMedBajIntFijXProvRío_Negro = VelMedBajIntFijXProvRío_Negro.iloc[1:]\n",
    "\n",
    "# Calcula la suma de la columna 'Incremento/Decremento'.\n",
    "suma = VelMedBajIntFijXProvRío_Negro['Incremento/Decremento'].sum()\n",
    "\n",
    "# Calcula el promedio de la columna 'Incremento/Decremento'.\n",
    "promedio = VelMedBajIntFijXProvRío_Negro['Incremento/Decremento'].mean()\n",
    "\n",
    "# Imprime la suma y el promedio.\n",
    "print(f\"Suma de la columna 'Incremento/Decremento': {suma}\")\n",
    "print(f\"Promedio de la columna 'Incremento/Decremento': {promedio}\")"
   ]
  },
  {
   "cell_type": "code",
   "execution_count": 329,
   "metadata": {},
   "outputs": [
    {
     "data": {
      "text/plain": [
       "15    3629.0\n",
       "39    3413.0\n",
       "Name: Mbps (Media de bajada), dtype: float64"
      ]
     },
     "execution_count": 329,
     "metadata": {},
     "output_type": "execute_result"
    }
   ],
   "source": [
    "VelMedBajIntFijXProvRío_Negro = VelMedBajIntFijXProv[VelMedBajIntFijXProv['Provincia'] == 'Río Negro']\n",
    "\n",
    "# Toma los primeros 19 datos de la columna 'Mbps (Media de bajada)'.\n",
    "primeros_19_datos = VelMedBajIntFijXProvRío_Negro['Mbps (Media de bajada)'].head(2)\n",
    "\n",
    "# Aplicar un incremento porcentual acumulativo\n",
    "for i in range(len(primeros_19_datos)-2,-1,-1):\n",
    "    primeros_19_datos.iloc[i] = round(primeros_19_datos.iloc[i + 1] * (1.06323),2)\n",
    "\n",
    "primeros_19_datos = round(primeros_19_datos,0)\n",
    "primeros_19_datos"
   ]
  },
  {
   "cell_type": "code",
   "execution_count": 330,
   "metadata": {},
   "outputs": [],
   "source": [
    "# Define los nuevos valores en el orden correspondiente\n",
    "nuevos_valores = [3629.0]\n",
    "\n",
    "# Define las posiciones en las que deseas reemplazar los valores\n",
    "posiciones = [15]\n",
    "\n",
    "# Reemplaza los valores en la columna \"Banda ancha fija\" en las posiciones especificadas\n",
    "for i in range(len(posiciones)):\n",
    "    VelMedBajIntFijXProv.loc[posiciones[i], 'Mbps (Media de bajada)'] = nuevos_valores[i]"
   ]
  },
  {
   "cell_type": "code",
   "execution_count": 331,
   "metadata": {},
   "outputs": [],
   "source": [
    "# Filtrar las filas donde Provincia es 'Río Negro' y dividir la columna por 1000\n",
    "VelMedBajIntFijXProv.loc[VelMedBajIntFijXProv['Provincia'] == 'Río Negro', 'Mbps (Media de bajada)'] /= 100\n",
    "\n",
    "# Redondear los valores en la columna\n",
    "VelMedBajIntFijXProv['Mbps (Media de bajada)'] = VelMedBajIntFijXProv['Mbps (Media de bajada)']"
   ]
  },
  {
   "cell_type": "code",
   "execution_count": 332,
   "metadata": {},
   "outputs": [
    {
     "name": "stdout",
     "output_type": "stream",
     "text": [
      "Suma de la columna 'Incremento/Decremento': -235.92279423162898\n",
      "Promedio de la columna 'Incremento/Decremento': -6.93890571269497\n"
     ]
    }
   ],
   "source": [
    "VelMedBajIntFijXProvSalta = VelMedBajIntFijXProv[VelMedBajIntFijXProv['Provincia'] == 'Salta']\n",
    "VelMedBajIntFijXProvSalta = VelMedBajIntFijXProvSalta[(VelMedBajIntFijXProvSalta['Mbps (Media de bajada)'] >= 330)&(VelMedBajIntFijXProvSalta['Mbps (Media de bajada)'] <= 4133)]\n",
    "# Filtra solo la columna \"Mbps (Media de bajada)\".\n",
    "Dial_up = VelMedBajIntFijXProvSalta['Mbps (Media de bajada)']\n",
    "\n",
    "# Calcula la diferencia entre cada dato y el dato anterior.\n",
    "diferencia = Dial_up.diff()\n",
    "\n",
    "# Calcula el porcentaje de incremento o decremento.\n",
    "porcentaje_incremento_decremento = (diferencia / Dial_up.shift(1)) * 100\n",
    "\n",
    "# Crea una nueva columna \"Incremento/Decremento\" en el DataFrame original.\n",
    "VelMedBajIntFijXProvSalta['Incremento/Decremento'] = porcentaje_incremento_decremento\n",
    "\n",
    "# Elimina la primera fila de la columna 'Incremento/Decremento'.\n",
    "VelMedBajIntFijXProvSalta = VelMedBajIntFijXProvSalta.iloc[1:]\n",
    "\n",
    "# Calcula la suma de la columna 'Incremento/Decremento'.\n",
    "suma = VelMedBajIntFijXProvSalta['Incremento/Decremento'].sum()\n",
    "\n",
    "# Calcula el promedio de la columna 'Incremento/Decremento'.\n",
    "promedio = VelMedBajIntFijXProvSalta['Incremento/Decremento'].mean()\n",
    "\n",
    "# Imprime la suma y el promedio.\n",
    "print(f\"Suma de la columna 'Incremento/Decremento': {suma}\")\n",
    "print(f\"Promedio de la columna 'Incremento/Decremento': {promedio}\")"
   ]
  },
  {
   "cell_type": "code",
   "execution_count": 333,
   "metadata": {},
   "outputs": [
    {
     "data": {
      "text/plain": [
       "16    4420.0\n",
       "40    4133.0\n",
       "Name: Mbps (Media de bajada), dtype: float64"
      ]
     },
     "execution_count": 333,
     "metadata": {},
     "output_type": "execute_result"
    }
   ],
   "source": [
    "VelMedBajIntFijXProvSalta = VelMedBajIntFijXProv[VelMedBajIntFijXProv['Provincia'] == 'Salta']\n",
    "\n",
    "# Toma los primeros 19 datos de la columna 'Mbps (Media de bajada)'.\n",
    "primeros_19_datos = VelMedBajIntFijXProvSalta['Mbps (Media de bajada)'].head(2)\n",
    "\n",
    "# Aplicar un incremento porcentual acumulativo\n",
    "for i in range(len(primeros_19_datos)-2,-1,-1):\n",
    "    primeros_19_datos.iloc[i] = round(primeros_19_datos.iloc[i + 1] * (1.0694),2)\n",
    "\n",
    "primeros_19_datos = round(primeros_19_datos,0)\n",
    "primeros_19_datos"
   ]
  },
  {
   "cell_type": "code",
   "execution_count": 334,
   "metadata": {},
   "outputs": [],
   "source": [
    "# Define los nuevos valores en el orden correspondiente\n",
    "nuevos_valores = [4420.0]\n",
    "\n",
    "# Define las posiciones en las que deseas reemplazar los valores\n",
    "posiciones = [16]\n",
    "\n",
    "# Reemplaza los valores en la columna \"Banda ancha fija\" en las posiciones especificadas\n",
    "for i in range(len(posiciones)):\n",
    "    VelMedBajIntFijXProv.loc[posiciones[i], 'Mbps (Media de bajada)'] = nuevos_valores[i]"
   ]
  },
  {
   "cell_type": "code",
   "execution_count": 335,
   "metadata": {},
   "outputs": [],
   "source": [
    "# Filtrar las filas donde Provincia es 'Salta' y dividir la columna por 1000\n",
    "VelMedBajIntFijXProv.loc[VelMedBajIntFijXProv['Provincia'] == 'Salta', 'Mbps (Media de bajada)'] /= 100\n",
    "\n",
    "# Redondear los valores en la columna\n",
    "VelMedBajIntFijXProv['Mbps (Media de bajada)'] = VelMedBajIntFijXProv['Mbps (Media de bajada)']"
   ]
  },
  {
   "cell_type": "code",
   "execution_count": 336,
   "metadata": {},
   "outputs": [],
   "source": [
    "# Filtrar las filas donde Provincia es 'San Juan' y dividir la columna por 1000\n",
    "VelMedBajIntFijXProv.loc[VelMedBajIntFijXProv['Provincia'] == 'San Juan', 'Mbps (Media de bajada)'] /= 100\n",
    "\n",
    "# Redondear los valores en la columna\n",
    "VelMedBajIntFijXProv['Mbps (Media de bajada)'] = VelMedBajIntFijXProv['Mbps (Media de bajada)']"
   ]
  },
  {
   "cell_type": "code",
   "execution_count": 337,
   "metadata": {},
   "outputs": [
    {
     "name": "stdout",
     "output_type": "stream",
     "text": [
      "Suma de la columna 'Incremento/Decremento': -126.61467917042606\n",
      "Promedio de la columna 'Incremento/Decremento': -4.521952827515216\n"
     ]
    }
   ],
   "source": [
    "VelMedBajIntFijXProvSan_Luis = VelMedBajIntFijXProv[VelMedBajIntFijXProv['Provincia'] == 'San Luis']\n",
    "VelMedBajIntFijXProvSan_Luis = VelMedBajIntFijXProvSan_Luis[(VelMedBajIntFijXProvSan_Luis['Mbps (Media de bajada)'] >= 350)&(VelMedBajIntFijXProvSan_Luis['Mbps (Media de bajada)'] <= 2095)]\n",
    "# Filtra solo la columna \"Mbps (Media de bajada)\".\n",
    "Dial_up = VelMedBajIntFijXProvSan_Luis['Mbps (Media de bajada)']\n",
    "\n",
    "# Calcula la diferencia entre cada dato y el dato anterior.\n",
    "diferencia = Dial_up.diff()\n",
    "\n",
    "# Calcula el porcentaje de incremento o decremento.\n",
    "porcentaje_incremento_decremento = (diferencia / Dial_up.shift(1)) * 100\n",
    "\n",
    "# Crea una nueva columna \"Incremento/Decremento\" en el DataFrame original.\n",
    "VelMedBajIntFijXProvSan_Luis['Incremento/Decremento'] = porcentaje_incremento_decremento\n",
    "\n",
    "# Elimina la primera fila de la columna 'Incremento/Decremento'.\n",
    "VelMedBajIntFijXProvSan_Luis = VelMedBajIntFijXProvSan_Luis.iloc[1:]\n",
    "\n",
    "# Calcula la suma de la columna 'Incremento/Decremento'.\n",
    "suma = VelMedBajIntFijXProvSan_Luis['Incremento/Decremento'].sum()\n",
    "\n",
    "# Calcula el promedio de la columna 'Incremento/Decremento'.\n",
    "promedio = VelMedBajIntFijXProvSan_Luis['Incremento/Decremento'].mean()\n",
    "\n",
    "# Imprime la suma y el promedio.\n",
    "print(f\"Suma de la columna 'Incremento/Decremento': {suma}\")\n",
    "print(f\"Promedio de la columna 'Incremento/Decremento': {promedio}\")"
   ]
  },
  {
   "cell_type": "code",
   "execution_count": 338,
   "metadata": {},
   "outputs": [
    {
     "data": {
      "text/plain": [
       "18    3067.0\n",
       "42    2701.0\n",
       "66    2379.0\n",
       "90    2095.0\n",
       "Name: Mbps (Media de bajada), dtype: float64"
      ]
     },
     "execution_count": 338,
     "metadata": {},
     "output_type": "execute_result"
    }
   ],
   "source": [
    "VelMedBajIntFijXProvSan_Luis = VelMedBajIntFijXProv[VelMedBajIntFijXProv['Provincia'] == 'San Luis']\n",
    "\n",
    "# Toma los primeros 19 datos de la columna 'Mbps (Media de bajada)'.\n",
    "primeros_19_datos = VelMedBajIntFijXProvSan_Luis['Mbps (Media de bajada)'].head(4)\n",
    "\n",
    "# Aplicar un incremento porcentual acumulativo\n",
    "for i in range(len(primeros_19_datos)-2,-1,-1):\n",
    "    primeros_19_datos.iloc[i] = round(primeros_19_datos.iloc[i + 1] * (1.1355),2)\n",
    "\n",
    "primeros_19_datos = round(primeros_19_datos,0)\n",
    "primeros_19_datos"
   ]
  },
  {
   "cell_type": "code",
   "execution_count": 339,
   "metadata": {},
   "outputs": [],
   "source": [
    "# Define los nuevos valores en el orden correspondiente\n",
    "nuevos_valores = [3067.0, 2701.0, 2379.0, 2095.0]\n",
    "\n",
    "# Define las posiciones en las que deseas reemplazar los valores\n",
    "posiciones = [18, 42, 66, 90]\n",
    "\n",
    "# Reemplaza los valores en la columna \"Banda ancha fija\" en las posiciones especificadas\n",
    "for i in range(len(posiciones)):\n",
    "    VelMedBajIntFijXProv.loc[posiciones[i], 'Mbps (Media de bajada)'] = nuevos_valores[i]"
   ]
  },
  {
   "cell_type": "code",
   "execution_count": 340,
   "metadata": {},
   "outputs": [],
   "source": [
    "# Filtrar las filas donde Provincia es 'San Luis' y dividir la columna por 1000\n",
    "VelMedBajIntFijXProv.loc[VelMedBajIntFijXProv['Provincia'] == 'San Luis', 'Mbps (Media de bajada)'] /= 100\n",
    "\n",
    "# Redondear los valores en la columna\n",
    "VelMedBajIntFijXProv['Mbps (Media de bajada)'] = VelMedBajIntFijXProv['Mbps (Media de bajada)']"
   ]
  },
  {
   "cell_type": "code",
   "execution_count": 341,
   "metadata": {},
   "outputs": [],
   "source": [
    "# Filtrar las filas donde Provincia es 'Santa Cruz' y dividir la columna por 1000\n",
    "VelMedBajIntFijXProv.loc[VelMedBajIntFijXProv['Provincia'] == 'Santa Cruz', 'Mbps (Media de bajada)'] /= 100\n",
    "\n",
    "# Redondear los valores en la columna\n",
    "VelMedBajIntFijXProv['Mbps (Media de bajada)'] = VelMedBajIntFijXProv['Mbps (Media de bajada)']"
   ]
  },
  {
   "cell_type": "code",
   "execution_count": 342,
   "metadata": {},
   "outputs": [
    {
     "name": "stdout",
     "output_type": "stream",
     "text": [
      "Suma de la columna 'Incremento/Decremento': 147.8844611233054\n",
      "Promedio de la columna 'Incremento/Decremento': 4.225270317808726\n"
     ]
    }
   ],
   "source": [
    "VelMedBajIntFijXProvSanta_Fe = VelMedBajIntFijXProv[VelMedBajIntFijXProv['Provincia'] == 'Santa Fe']\n",
    "VelMedBajIntFijXProvSanta_Fe = VelMedBajIntFijXProvSanta_Fe[(VelMedBajIntFijXProvSanta_Fe['Mbps (Media de bajada)'] >= 315)&(VelMedBajIntFijXProvSanta_Fe['Mbps (Media de bajada)'] <= 4515)]\n",
    "# Filtra solo la columna \"Mbps (Media de bajada)\".\n",
    "Dial_up = VelMedBajIntFijXProvSanta_Fe['Mbps (Media de bajada)']\n",
    "\n",
    "# Calcula la diferencia entre cada dato y el dato anterior.\n",
    "diferencia = Dial_up.diff()\n",
    "\n",
    "# Calcula el porcentaje de incremento o decremento.\n",
    "porcentaje_incremento_decremento = (diferencia / Dial_up.shift(1)) * 100\n",
    "\n",
    "# Crea una nueva columna \"Incremento/Decremento\" en el DataFrame original.\n",
    "VelMedBajIntFijXProvSanta_Fe['Incremento/Decremento'] = porcentaje_incremento_decremento\n",
    "\n",
    "# Elimina la primera fila de la columna 'Incremento/Decremento'.\n",
    "VelMedBajIntFijXProvSanta_Fe = VelMedBajIntFijXProvSanta_Fe.iloc[1:]\n",
    "\n",
    "# Calcula la suma de la columna 'Incremento/Decremento'.\n",
    "suma = VelMedBajIntFijXProvSanta_Fe['Incremento/Decremento'].sum()\n",
    "\n",
    "# Calcula el promedio de la columna 'Incremento/Decremento'.\n",
    "promedio = VelMedBajIntFijXProvSanta_Fe['Incremento/Decremento'].mean()\n",
    "\n",
    "# Imprime la suma y el promedio.\n",
    "print(f\"Suma de la columna 'Incremento/Decremento': {suma}\")\n",
    "print(f\"Promedio de la columna 'Incremento/Decremento': {promedio}\")"
   ]
  },
  {
   "cell_type": "code",
   "execution_count": 343,
   "metadata": {},
   "outputs": [
    {
     "data": {
      "text/plain": [
       "20    4706.0\n",
       "44    4515.0\n",
       "Name: Mbps (Media de bajada), dtype: float64"
      ]
     },
     "execution_count": 343,
     "metadata": {},
     "output_type": "execute_result"
    }
   ],
   "source": [
    "VelMedBajIntFijXProvSanta_Fe = VelMedBajIntFijXProv[VelMedBajIntFijXProv['Provincia'] == 'Santa Fe']\n",
    "\n",
    "# Toma los primeros 19 datos de la columna 'Mbps (Media de bajada)'.\n",
    "primeros_19_datos = VelMedBajIntFijXProvSanta_Fe['Mbps (Media de bajada)'].head(2)\n",
    "\n",
    "# Aplicar un incremento porcentual acumulativo\n",
    "for i in range(len(primeros_19_datos)-2,-1,-1):\n",
    "    primeros_19_datos.iloc[i] = round(primeros_19_datos.iloc[i + 1] * (1.04225),2)\n",
    "\n",
    "primeros_19_datos = round(primeros_19_datos,0)\n",
    "primeros_19_datos"
   ]
  },
  {
   "cell_type": "code",
   "execution_count": 344,
   "metadata": {},
   "outputs": [],
   "source": [
    "# Define los nuevos valores en el orden correspondiente\n",
    "nuevos_valores = [4706]\n",
    "\n",
    "# Define las posiciones en las que deseas reemplazar los valores\n",
    "posiciones = [20]\n",
    "\n",
    "# Reemplaza los valores en la columna \"Banda ancha fija\" en las posiciones especificadas\n",
    "for i in range(len(posiciones)):\n",
    "    VelMedBajIntFijXProv.loc[posiciones[i], 'Mbps (Media de bajada)'] = nuevos_valores[i]"
   ]
  },
  {
   "cell_type": "code",
   "execution_count": 345,
   "metadata": {},
   "outputs": [],
   "source": [
    "# Filtrar las filas donde Provincia es 'Santa Fe' y dividir la columna por 1000\n",
    "VelMedBajIntFijXProv.loc[VelMedBajIntFijXProv['Provincia'] == 'Santa Fe', 'Mbps (Media de bajada)'] /= 100\n",
    "\n",
    "# Redondear los valores en la columna\n",
    "VelMedBajIntFijXProv['Mbps (Media de bajada)'] = VelMedBajIntFijXProv['Mbps (Media de bajada)']"
   ]
  },
  {
   "cell_type": "code",
   "execution_count": 346,
   "metadata": {},
   "outputs": [
    {
     "name": "stdout",
     "output_type": "stream",
     "text": [
      "Suma de la columna 'Incremento/Decremento': 244.85093404029587\n",
      "Promedio de la columna 'Incremento/Decremento': 6.995740972579882\n"
     ]
    }
   ],
   "source": [
    "VelMedBajIntFijXProSantiagoDelEstero = VelMedBajIntFijXProv[VelMedBajIntFijXProv['Provincia'] == 'Santiago Del Estero']\n",
    "VelMedBajIntFijXProSantiagoDelEstero = VelMedBajIntFijXProSantiagoDelEstero[(VelMedBajIntFijXProSantiagoDelEstero['Mbps (Media de bajada)'] >= 295)&(VelMedBajIntFijXProSantiagoDelEstero['Mbps (Media de bajada)'] <= 1769)]\n",
    "# Filtra solo la columna \"Mbps (Media de bajada)\".\n",
    "Dial_up = VelMedBajIntFijXProSantiagoDelEstero['Mbps (Media de bajada)']\n",
    "\n",
    "# Calcula la diferencia entre cada dato y el dato anterior.\n",
    "diferencia = Dial_up.diff()\n",
    "\n",
    "# Calcula el porcentaje de incremento o decremento.\n",
    "porcentaje_incremento_decremento = (diferencia / Dial_up.shift(1)) * 100\n",
    "\n",
    "# Crea una nueva columna \"Incremento/Decremento\" en el DataFrame original.\n",
    "VelMedBajIntFijXProSantiagoDelEstero['Incremento/Decremento'] = porcentaje_incremento_decremento\n",
    "\n",
    "# Elimina la primera fila de la columna 'Incremento/Decremento'.\n",
    "VelMedBajIntFijXProSantiagoDelEstero = VelMedBajIntFijXProSantiagoDelEstero.iloc[1:]\n",
    "\n",
    "# Calcula la suma de la columna 'Incremento/Decremento'.\n",
    "suma = VelMedBajIntFijXProSantiagoDelEstero['Incremento/Decremento'].sum()\n",
    "\n",
    "# Calcula el promedio de la columna 'Incremento/Decremento'.\n",
    "promedio = VelMedBajIntFijXProSantiagoDelEstero['Incremento/Decremento'].mean()\n",
    "\n",
    "# Imprime la suma y el promedio.\n",
    "print(f\"Suma de la columna 'Incremento/Decremento': {suma}\")\n",
    "print(f\"Promedio de la columna 'Incremento/Decremento': {promedio}\")"
   ]
  },
  {
   "cell_type": "code",
   "execution_count": 347,
   "metadata": {},
   "outputs": [
    {
     "data": {
      "text/plain": [
       "21    1893.0\n",
       "45    1769.0\n",
       "Name: Mbps (Media de bajada), dtype: float64"
      ]
     },
     "execution_count": 347,
     "metadata": {},
     "output_type": "execute_result"
    }
   ],
   "source": [
    "VelMedBajIntFijXProSantiagoDelEstero = VelMedBajIntFijXProv[VelMedBajIntFijXProv['Provincia'] == 'Santiago Del Estero']\n",
    "\n",
    "# Toma los primeros 19 datos de la columna 'Mbps (Media de bajada)'.\n",
    "primeros_19_datos = VelMedBajIntFijXProSantiagoDelEstero['Mbps (Media de bajada)'].head(2)\n",
    "\n",
    "# Aplicar un incremento porcentual acumulativo\n",
    "for i in range(len(primeros_19_datos)-2,-1,-1):\n",
    "    primeros_19_datos.iloc[i] = round(primeros_19_datos.iloc[i + 1] * (1.0699),2)\n",
    "\n",
    "primeros_19_datos = round(primeros_19_datos,0)\n",
    "primeros_19_datos"
   ]
  },
  {
   "cell_type": "code",
   "execution_count": 348,
   "metadata": {},
   "outputs": [],
   "source": [
    "# Define los nuevos valores en el orden correspondiente\n",
    "nuevos_valores = [1893.0]\n",
    "\n",
    "# Define las posiciones en las que deseas reemplazar los valores\n",
    "posiciones = [21]\n",
    "\n",
    "# Reemplaza los valores en la columna \"Banda ancha fija\" en las posiciones especificadas\n",
    "for i in range(len(posiciones)):\n",
    "    VelMedBajIntFijXProv.loc[posiciones[i], 'Mbps (Media de bajada)'] = nuevos_valores[i]"
   ]
  },
  {
   "cell_type": "code",
   "execution_count": 349,
   "metadata": {},
   "outputs": [],
   "source": [
    "# Filtrar las filas donde Provincia es 'Santiago Del Estero' y dividir la columna por 1000\n",
    "VelMedBajIntFijXProv.loc[VelMedBajIntFijXProv['Provincia'] == 'Santiago Del Estero', 'Mbps (Media de bajada)'] /= 100\n",
    "\n",
    "# Redondear los valores en la columna\n",
    "VelMedBajIntFijXProv['Mbps (Media de bajada)'] = VelMedBajIntFijXProv['Mbps (Media de bajada)']"
   ]
  },
  {
   "cell_type": "code",
   "execution_count": 350,
   "metadata": {},
   "outputs": [],
   "source": [
    "# Filtrar las filas donde Provincia es 'Tierra Del Fuego' y dividir la columna por 1000\n",
    "VelMedBajIntFijXProv.loc[VelMedBajIntFijXProv['Provincia'] == 'Tierra Del Fuego', 'Mbps (Media de bajada)'] /= 100\n",
    "\n",
    "# Redondear los valores en la columna\n",
    "VelMedBajIntFijXProv['Mbps (Media de bajada)'] = VelMedBajIntFijXProv['Mbps (Media de bajada)']"
   ]
  },
  {
   "cell_type": "code",
   "execution_count": 351,
   "metadata": {},
   "outputs": [
    {
     "name": "stdout",
     "output_type": "stream",
     "text": [
      "Suma de la columna 'Incremento/Decremento': -255.52943998021902\n",
      "Promedio de la columna 'Incremento/Decremento': -7.515571764124089\n"
     ]
    }
   ],
   "source": [
    "VelMedBajIntFijXProTucumán = VelMedBajIntFijXProv[VelMedBajIntFijXProv['Provincia'] == 'Tucumán']\n",
    "VelMedBajIntFijXProTucumán = VelMedBajIntFijXProTucumán[(VelMedBajIntFijXProTucumán['Mbps (Media de bajada)'] >= 321)&(VelMedBajIntFijXProTucumán['Mbps (Media de bajada)'] <= 5336)]\n",
    "# Filtra solo la columna \"Mbps (Media de bajada)\".\n",
    "Dial_up = VelMedBajIntFijXProTucumán['Mbps (Media de bajada)']\n",
    "\n",
    "# Calcula la diferencia entre cada dato y el dato anterior.\n",
    "diferencia = Dial_up.diff()\n",
    "\n",
    "# Calcula el porcentaje de incremento o decremento.\n",
    "porcentaje_incremento_decremento = (diferencia / Dial_up.shift(1)) * 100\n",
    "\n",
    "# Crea una nueva columna \"Incremento/Decremento\" en el DataFrame original.\n",
    "VelMedBajIntFijXProTucumán['Incremento/Decremento'] = porcentaje_incremento_decremento\n",
    "\n",
    "# Elimina la primera fila de la columna 'Incremento/Decremento'.\n",
    "VelMedBajIntFijXProTucumán = VelMedBajIntFijXProTucumán.iloc[1:]\n",
    "\n",
    "# Calcula la suma de la columna 'Incremento/Decremento'.\n",
    "suma = VelMedBajIntFijXProTucumán['Incremento/Decremento'].sum()\n",
    "\n",
    "# Calcula el promedio de la columna 'Incremento/Decremento'.\n",
    "promedio = VelMedBajIntFijXProTucumán['Incremento/Decremento'].mean()\n",
    "\n",
    "# Imprime la suma y el promedio.\n",
    "print(f\"Suma de la columna 'Incremento/Decremento': {suma}\")\n",
    "print(f\"Promedio de la columna 'Incremento/Decremento': {promedio}\")"
   ]
  },
  {
   "cell_type": "code",
   "execution_count": 352,
   "metadata": {},
   "outputs": [
    {
     "data": {
      "text/plain": [
       "23    5718.0\n",
       "47    5336.0\n",
       "Name: Mbps (Media de bajada), dtype: float64"
      ]
     },
     "execution_count": 352,
     "metadata": {},
     "output_type": "execute_result"
    }
   ],
   "source": [
    "VelMedBajIntFijXProTucumán = VelMedBajIntFijXProv[VelMedBajIntFijXProv['Provincia'] == 'Tucumán']\n",
    "\n",
    "# Toma los primeros 19 datos de la columna 'Mbps (Media de bajada)'.\n",
    "primeros_19_datos = VelMedBajIntFijXProTucumán['Mbps (Media de bajada)'].head(2)\n",
    "\n",
    "# Aplicar un incremento porcentual acumulativo\n",
    "for i in range(len(primeros_19_datos)-2,-1,-1):\n",
    "    primeros_19_datos.iloc[i] = round(primeros_19_datos.iloc[i + 1] * (1.0715),2)\n",
    "\n",
    "primeros_19_datos = round(primeros_19_datos,0)\n",
    "primeros_19_datos"
   ]
  },
  {
   "cell_type": "code",
   "execution_count": 353,
   "metadata": {},
   "outputs": [],
   "source": [
    "# Define los nuevos valores en el orden correspondiente\n",
    "nuevos_valores = [5718.0]\n",
    "\n",
    "# Define las posiciones en las que deseas reemplazar los valores\n",
    "posiciones = [23]\n",
    "\n",
    "# Reemplaza los valores en la columna \"Banda ancha fija\" en las posiciones especificadas\n",
    "for i in range(len(posiciones)):\n",
    "    VelMedBajIntFijXProv.loc[posiciones[i], 'Mbps (Media de bajada)'] = nuevos_valores[i]"
   ]
  },
  {
   "cell_type": "code",
   "execution_count": 354,
   "metadata": {},
   "outputs": [],
   "source": [
    "# Filtrar las filas donde Provincia es 'Tucumán' y dividir la columna por 1000\n",
    "VelMedBajIntFijXProv.loc[VelMedBajIntFijXProv['Provincia'] == 'Tucumán', 'Mbps (Media de bajada)'] /= 100\n",
    "\n",
    "# Redondear los valores en la columna\n",
    "VelMedBajIntFijXProv['Mbps (Media de bajada)'] = VelMedBajIntFijXProv['Mbps (Media de bajada)']"
   ]
  },
  {
   "cell_type": "code",
   "execution_count": 355,
   "metadata": {},
   "outputs": [
    {
     "data": {
      "text/html": [
       "<div>\n",
       "<style scoped>\n",
       "    .dataframe tbody tr th:only-of-type {\n",
       "        vertical-align: middle;\n",
       "    }\n",
       "\n",
       "    .dataframe tbody tr th {\n",
       "        vertical-align: top;\n",
       "    }\n",
       "\n",
       "    .dataframe thead th {\n",
       "        text-align: right;\n",
       "    }\n",
       "</style>\n",
       "<table border=\"1\" class=\"dataframe\">\n",
       "  <thead>\n",
       "    <tr style=\"text-align: right;\">\n",
       "      <th></th>\n",
       "      <th>Año</th>\n",
       "      <th>Trimestre</th>\n",
       "      <th>Provincia</th>\n",
       "      <th>Mbps (Media de bajada)</th>\n",
       "    </tr>\n",
       "  </thead>\n",
       "  <tbody>\n",
       "    <tr>\n",
       "      <th>0</th>\n",
       "      <td>2022</td>\n",
       "      <td>4</td>\n",
       "      <td>Buenos Aires</td>\n",
       "      <td>74.38</td>\n",
       "    </tr>\n",
       "    <tr>\n",
       "      <th>1</th>\n",
       "      <td>2022</td>\n",
       "      <td>4</td>\n",
       "      <td>Capital Federal</td>\n",
       "      <td>109.93</td>\n",
       "    </tr>\n",
       "    <tr>\n",
       "      <th>2</th>\n",
       "      <td>2022</td>\n",
       "      <td>4</td>\n",
       "      <td>Catamarca</td>\n",
       "      <td>83.33</td>\n",
       "    </tr>\n",
       "    <tr>\n",
       "      <th>3</th>\n",
       "      <td>2022</td>\n",
       "      <td>4</td>\n",
       "      <td>Chaco</td>\n",
       "      <td>57.30</td>\n",
       "    </tr>\n",
       "    <tr>\n",
       "      <th>4</th>\n",
       "      <td>2022</td>\n",
       "      <td>4</td>\n",
       "      <td>Chubut</td>\n",
       "      <td>15.92</td>\n",
       "    </tr>\n",
       "    <tr>\n",
       "      <th>5</th>\n",
       "      <td>2022</td>\n",
       "      <td>4</td>\n",
       "      <td>Córdoba</td>\n",
       "      <td>60.71</td>\n",
       "    </tr>\n",
       "    <tr>\n",
       "      <th>6</th>\n",
       "      <td>2022</td>\n",
       "      <td>4</td>\n",
       "      <td>Corrientes</td>\n",
       "      <td>48.35</td>\n",
       "    </tr>\n",
       "    <tr>\n",
       "      <th>7</th>\n",
       "      <td>2022</td>\n",
       "      <td>4</td>\n",
       "      <td>Entre Ríos</td>\n",
       "      <td>45.54</td>\n",
       "    </tr>\n",
       "    <tr>\n",
       "      <th>8</th>\n",
       "      <td>2022</td>\n",
       "      <td>4</td>\n",
       "      <td>Formosa</td>\n",
       "      <td>32.65</td>\n",
       "    </tr>\n",
       "    <tr>\n",
       "      <th>9</th>\n",
       "      <td>2022</td>\n",
       "      <td>4</td>\n",
       "      <td>Jujuy</td>\n",
       "      <td>39.32</td>\n",
       "    </tr>\n",
       "    <tr>\n",
       "      <th>10</th>\n",
       "      <td>2022</td>\n",
       "      <td>4</td>\n",
       "      <td>La Pampa</td>\n",
       "      <td>19.03</td>\n",
       "    </tr>\n",
       "    <tr>\n",
       "      <th>11</th>\n",
       "      <td>2022</td>\n",
       "      <td>4</td>\n",
       "      <td>La Rioja</td>\n",
       "      <td>47.09</td>\n",
       "    </tr>\n",
       "    <tr>\n",
       "      <th>12</th>\n",
       "      <td>2022</td>\n",
       "      <td>4</td>\n",
       "      <td>Mendoza</td>\n",
       "      <td>38.76</td>\n",
       "    </tr>\n",
       "    <tr>\n",
       "      <th>13</th>\n",
       "      <td>2022</td>\n",
       "      <td>4</td>\n",
       "      <td>Misiones</td>\n",
       "      <td>53.01</td>\n",
       "    </tr>\n",
       "    <tr>\n",
       "      <th>14</th>\n",
       "      <td>2022</td>\n",
       "      <td>4</td>\n",
       "      <td>Neuquén</td>\n",
       "      <td>51.24</td>\n",
       "    </tr>\n",
       "    <tr>\n",
       "      <th>15</th>\n",
       "      <td>2022</td>\n",
       "      <td>4</td>\n",
       "      <td>Río Negro</td>\n",
       "      <td>36.29</td>\n",
       "    </tr>\n",
       "    <tr>\n",
       "      <th>16</th>\n",
       "      <td>2022</td>\n",
       "      <td>4</td>\n",
       "      <td>Salta</td>\n",
       "      <td>44.20</td>\n",
       "    </tr>\n",
       "    <tr>\n",
       "      <th>17</th>\n",
       "      <td>2022</td>\n",
       "      <td>4</td>\n",
       "      <td>San Juan</td>\n",
       "      <td>16.39</td>\n",
       "    </tr>\n",
       "    <tr>\n",
       "      <th>18</th>\n",
       "      <td>2022</td>\n",
       "      <td>4</td>\n",
       "      <td>San Luis</td>\n",
       "      <td>30.67</td>\n",
       "    </tr>\n",
       "    <tr>\n",
       "      <th>19</th>\n",
       "      <td>2022</td>\n",
       "      <td>4</td>\n",
       "      <td>Santa Cruz</td>\n",
       "      <td>14.33</td>\n",
       "    </tr>\n",
       "    <tr>\n",
       "      <th>20</th>\n",
       "      <td>2022</td>\n",
       "      <td>4</td>\n",
       "      <td>Santa Fe</td>\n",
       "      <td>47.06</td>\n",
       "    </tr>\n",
       "    <tr>\n",
       "      <th>21</th>\n",
       "      <td>2022</td>\n",
       "      <td>4</td>\n",
       "      <td>Santiago Del Estero</td>\n",
       "      <td>18.93</td>\n",
       "    </tr>\n",
       "    <tr>\n",
       "      <th>22</th>\n",
       "      <td>2022</td>\n",
       "      <td>4</td>\n",
       "      <td>Tierra Del Fuego</td>\n",
       "      <td>13.48</td>\n",
       "    </tr>\n",
       "    <tr>\n",
       "      <th>23</th>\n",
       "      <td>2022</td>\n",
       "      <td>4</td>\n",
       "      <td>Tucumán</td>\n",
       "      <td>57.18</td>\n",
       "    </tr>\n",
       "  </tbody>\n",
       "</table>\n",
       "</div>"
      ],
      "text/plain": [
       "     Año  Trimestre            Provincia  Mbps (Media de bajada)\n",
       "0   2022          4         Buenos Aires                   74.38\n",
       "1   2022          4      Capital Federal                  109.93\n",
       "2   2022          4            Catamarca                   83.33\n",
       "3   2022          4                Chaco                   57.30\n",
       "4   2022          4               Chubut                   15.92\n",
       "5   2022          4              Córdoba                   60.71\n",
       "6   2022          4           Corrientes                   48.35\n",
       "7   2022          4           Entre Ríos                   45.54\n",
       "8   2022          4              Formosa                   32.65\n",
       "9   2022          4                Jujuy                   39.32\n",
       "10  2022          4             La Pampa                   19.03\n",
       "11  2022          4             La Rioja                   47.09\n",
       "12  2022          4              Mendoza                   38.76\n",
       "13  2022          4             Misiones                   53.01\n",
       "14  2022          4              Neuquén                   51.24\n",
       "15  2022          4            Río Negro                   36.29\n",
       "16  2022          4                Salta                   44.20\n",
       "17  2022          4             San Juan                   16.39\n",
       "18  2022          4             San Luis                   30.67\n",
       "19  2022          4           Santa Cruz                   14.33\n",
       "20  2022          4             Santa Fe                   47.06\n",
       "21  2022          4  Santiago Del Estero                   18.93\n",
       "22  2022          4     Tierra Del Fuego                   13.48\n",
       "23  2022          4              Tucumán                   57.18"
      ]
     },
     "execution_count": 355,
     "metadata": {},
     "output_type": "execute_result"
    }
   ],
   "source": [
    "VelMedBajIntFijXProv.head(24)"
   ]
  },
  {
   "cell_type": "code",
   "execution_count": 356,
   "metadata": {},
   "outputs": [
    {
     "name": "stdout",
     "output_type": "stream",
     "text": [
      "<class 'pandas.core.frame.DataFrame'>\n",
      "RangeIndex: 864 entries, 0 to 863\n",
      "Data columns (total 4 columns):\n",
      " #   Column                  Non-Null Count  Dtype  \n",
      "---  ------                  --------------  -----  \n",
      " 0   Año                     864 non-null    int64  \n",
      " 1   Trimestre               864 non-null    int64  \n",
      " 2   Provincia               864 non-null    object \n",
      " 3   Mbps (Media de bajada)  864 non-null    float64\n",
      "dtypes: float64(1), int64(2), object(1)\n",
      "memory usage: 27.1+ KB\n"
     ]
    }
   ],
   "source": [
    "VelMedBajIntFijXProv.info()"
   ]
  },
  {
   "cell_type": "code",
   "execution_count": 357,
   "metadata": {},
   "outputs": [],
   "source": [
    "VelMedBajIntFijXProv.to_csv('VelocidadMediaBjadaInternetFijoxProvinciaListo', index=False)"
   ]
  },
  {
   "cell_type": "code",
   "execution_count": null,
   "metadata": {},
   "outputs": [],
   "source": []
  }
 ],
 "metadata": {
  "kernelspec": {
   "display_name": "Python 3",
   "language": "python",
   "name": "python3"
  },
  "language_info": {
   "codemirror_mode": {
    "name": "ipython",
    "version": 3
   },
   "file_extension": ".py",
   "mimetype": "text/x-python",
   "name": "python",
   "nbconvert_exporter": "python",
   "pygments_lexer": "ipython3",
   "version": "3.11.1"
  }
 },
 "nbformat": 4,
 "nbformat_minor": 2
}
